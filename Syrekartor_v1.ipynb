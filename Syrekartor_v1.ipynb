{
 "cells": [
  {
   "cell_type": "markdown",
   "metadata": {},
   "source": [
    "### Oxygen maps\n",
    "### 2023\n",
    "### Lena Viktorsson & Martin Hansson\n",
    "### Copy from Karin Wesslander"
   ]
  },
  {
   "cell_type": "markdown",
   "metadata": {},
   "source": [
    "#### Add necessary packages"
   ]
  },
  {
   "cell_type": "code",
   "execution_count": 1,
   "metadata": {},
   "outputs": [],
   "source": [
    "#import Pkg\n",
    "#Pkg.add(\"Pkg\")\n",
    "#Pkg.update(\"NCDatasets\")\n",
    "#import Pkg; \n",
    "#Pkg.add(\"DataStructures\")\n",
    "#Pkg.add(\"Missings\")\n",
    "#@show NCDatasets(\"version\")"
   ]
  },
  {
   "cell_type": "code",
   "execution_count": 2,
   "metadata": {},
   "outputs": [],
   "source": [
    "using DIVAnd\n",
    "using PyPlot\n",
    "using NCDatasets\n",
    "using Dates\n",
    "using Statistics\n",
    "using DelimitedFiles\n",
    "using DataStructures\n",
    "using Printf\n",
    "using Missings"
   ]
  },
  {
   "cell_type": "markdown",
   "metadata": {
    "slideshow": {
     "slide_type": "subslide"
    }
   },
   "source": [
    "## Configuration\n",
    "* Define the horizontal, vertical and temporal resolutions.\n",
    "* Select the variable"
   ]
  },
  {
   "cell_type": "code",
   "execution_count": 3,
   "metadata": {},
   "outputs": [],
   "source": [
    "### Oxygen ###\n",
    "\n",
    "#varname = \"Water body dissolved oxygen concentration\"\n",
    "varname_odv = \"Water body dissolved oxygen concentration\"\n",
    "varname_ns = \"Water body dissolved oxygen concentration\"\n",
    "savevar = \"O2\"\n",
    "sdnp35 = \"SDN:P35::EPC00002\"\n",
    "sdnp02 = \"SDN:P02::DOXY\"\n",
    "doi = \"10.6092/B5BB9EA1-4BDA-48A1-92B6-03645AC12FAE\"\n",
    "vmin_ = 200.;\n",
    "vmax_ = 500.;\n",
    "unit = \"umol/l\";\n",
    "res = 800.;\n",
    "#data_profiles = \"C:/offline_kw/EK5/DIVAnd_EK5_offline/onlyoxy_data_from_BALTIC_eutrophication_profiles_20230207.txt\" \n",
    "#yearlist = [y:y+5 for y in 1960:2016] #1960:2016];\n",
    "#yearlist_back = [y:y+5 for y in 1950:2021];\n",
    "#datafile_ns = \"C:/offline_kw/EK5/DIVAnd_EK5_offline/data_from_1deg_North Sea_non-nutrient_data_from_profiles.txt\"; \n",
    " \n"
   ]
  },
  {
   "cell_type": "code",
   "execution_count": 4,
   "metadata": {},
   "outputs": [],
   "source": [
    "#Vår kod\n",
    "dx, dy = 0.125, 0.125  #Karin dx, dy = 0.1, 0.1\n",
    "lonr = 10:dx:30\n",
    "latr = 54:dy:61\n",
    "#timerange = [Date(2010,1,1),Date(2017,12,31)];\n",
    "\n",
    "depthr = [0., 50., 55., 60., 65., 70.,75., 80., 85., 90., 95., 100., 125., 150.];\n",
    "#depthr = [0.,10.,20.];"
   ]
  },
  {
   "cell_type": "code",
   "execution_count": 5,
   "metadata": {
    "slideshow": {
     "slide_type": "subslide"
    }
   },
   "outputs": [],
   "source": [
    "varname = \"Oxygen\"\n",
    "yearlist = [2010,2011,2012,2013,2014,2015,2016,2017];\n",
    "#monthlist = [[7],[8],[9]];\n",
    "# [1,2],[3,4],[5,6,7],[8,9,10],[11,12]\n",
    "# [1,2,3,4],[5,6,7],[8,9,10],[11,12]\n",
    "# [1,2,3,4],[5,6,7],[8,9,10],[11,12]\n",
    "# [1,2,3],[4,5,6],[7,8,9],[10,11,12]"
   ]
  },
  {
   "cell_type": "code",
   "execution_count": 6,
   "metadata": {},
   "outputs": [],
   "source": [
    "seasons=[\"Winter\",\"Spring\",\"Summer\",\"Autumn\"]\n",
    "months=[\"(Dec-Feb)\",\"(Mar-May)\",\"(June-Aug)\",\"(Sep-Nov)\"];"
   ]
  },
  {
   "cell_type": "code",
   "execution_count": 7,
   "metadata": {},
   "outputs": [],
   "source": [
    "monthlist = [ [12,1,2], [3,4,5], [6,7,8], [9,10,11] ];"
   ]
  },
  {
   "cell_type": "code",
   "execution_count": 8,
   "metadata": {},
   "outputs": [],
   "source": [
    "# Time origin for the NetCDF file\n",
    "timeorigin = DateTime(1900,1,1,0,0,0);"
   ]
  },
  {
   "cell_type": "code",
   "execution_count": 9,
   "metadata": {},
   "outputs": [],
   "source": [
    "aspect_ratio = 1/cos(mean(latr) * pi/180);"
   ]
  },
  {
   "cell_type": "code",
   "execution_count": 10,
   "metadata": {},
   "outputs": [
    {
     "name": "stdout",
     "output_type": "stream",
     "text": [
      "TS = TimeSelectorYearListMonthList{Vector{Int64}, Vector{Vector{Int64}}}([2010, 2011, 2012, 2013, 2014, 2015, 2016, 2017], [[12, 1, 2], [3, 4, 5], [6, 7, 8], [9, 10, 11]])\n"
     ]
    }
   ],
   "source": [
    "TS = DIVAnd.TimeSelectorYearListMonthList(yearlist,monthlist);\n",
    "@show TS;"
   ]
  },
  {
   "cell_type": "markdown",
   "metadata": {
    "slideshow": {
     "slide_type": "slide"
    }
   },
   "source": [
    "## Metadata and attributes\n",
    "Uppdatera framöver\n",
    "\n",
    "Edit the different fields according to the project, the authors etc.     \n",
    "This is used for the netCDF file but also for the XML needed for the Sextant catalog."
   ]
  },
  {
   "cell_type": "code",
   "execution_count": 11,
   "metadata": {
    "slideshow": {
     "slide_type": "subslide"
    }
   },
   "outputs": [],
   "source": [
    "# One metadata set up per season\n",
    "metadata=Array{DataStructures.OrderedDict{String,Any}}(undef,4) ;\n",
    "\n",
    "for i in 1:4    \n",
    "    metadatai = OrderedDict(\n",
    "        # Name of the project (SeaDataCloud, SeaDataNet, EMODNET-chemistry, ...)\n",
    "        \"project\" => \"EMODNET-chemistry\",\n",
    "\n",
    "        # URN code for the institution EDMO registry,\n",
    "        # e.g. SDN:EDMO::1579\n",
    "        \"institution_urn\" => \"SDN:EDMO::545\",\n",
    "\n",
    "        # Production group\n",
    "        #\"production\" => \"Diva group\",\n",
    "\n",
    "        # Name and emails from authors\n",
    "        \"Author_e-mail\" => [\"Martin Hansson <martin.hansson@smhi.se>\"],\n",
    "\n",
    "        # Source of the observation\n",
    "        \"source\" => \"observational data from SeaDataNet/EMODnet Chemistry Data Network\",\n",
    "\n",
    "        # Additional comment\n",
    "        \"comment\" => \"Every year of the time dimension corresponds to a 6-year centred average for the $(seasons[i]) season $(months[i]). Horizontal resolution 0.1°.\",\n",
    "\n",
    "        # SeaDataNet Vocabulary P35 URN\n",
    "        # http://seadatanet.maris2.nl/v_bodc_vocab_v2/search.asp?lib=p35\n",
    "        # example: SDN:P35::WATERTEMP\n",
    "        \"parameter_keyword_urn\" => \"$sdnp35\", # Water body phosphate\n",
    "        \n",
    "\n",
    "        # List of SeaDataNet Parameter Discovery Vocabulary P02 URNs\n",
    "        # http://seadatanet.maris2.nl/v_bodc_vocab_v2/search.asp?lib=p02\n",
    "        # example: [\"SDN:P02::TEMP\"]\n",
    "        \"search_keywords_urn\" => [\"$sdnp02\"], # Water body phosphate\n",
    "\n",
    "        # List of SeaDataNet Vocabulary C19 area URNs\n",
    "        # SeaVoX salt and fresh water body gazetteer (C19)\n",
    "        # http://seadatanet.maris2.nl/v_bodc_vocab_v2/search.asp?lib=C19\n",
    "        # example: [\"SDN:C19::3_1\"]\n",
    "        \"area_keywords_urn\" => [\"SDN:C19::2\"],\n",
    "\n",
    "        \"product_version\" => \"2.0\",\n",
    "\n",
    "        \"product_code\" => \"SMHI-Baltic Sea-$(replace(varname,' '=>'_'))-v2023-ANA\",\n",
    "\n",
    "        # bathymetry source acknowledgement\n",
    "        # see, e.g.\n",
    "        # * EMODnet Bathymetry Consortium (2016): EMODnet Digital Bathymetry (DTM).\n",
    "        # https://doi.org/10.12770/c7b53704-999d-4721-b1a3-04ec60c87238\n",
    "        # \n",
    "        # taken from\n",
    "        # http://www.emodnet-bathymetry.eu/data-products/acknowledgement-in-publications\n",
    "        #\n",
    "        # * The GEBCO Digital Atlas published by the British Oceanographic Data Centre on behalf of IOC and IHO, 2003\n",
    "        #\n",
    "        # taken from\n",
    "        # https://www.bodc.ac.uk/projects/data_management/international/gebco/gebco_digital_atlas/copyright_and_attribution/\n",
    "\n",
    "        \"bathymetry_source\" => \"The GEBCO 30sec Digital Atlas published by the British Oceanographic Data Centre on behalf of IOC and IHO, 2003\",\n",
    "\n",
    "        # NetCDF CF standard name\n",
    "        # http://cfconventions.org/Data/cf-standard-names/current/build/cf-standard-name-table.html\n",
    "        # example \"standard_name\" = \"sea_water_temperature\",\n",
    "        \"netcdf_standard_name\" => \"$(replace(varname,' '=>'_'))\",\n",
    "\n",
    "        \"netcdf_long_name\" => \"$varname\",\n",
    "\n",
    "        \"netcdf_units\" => \"$unit\",\n",
    "\n",
    "        # Abstract for the product\n",
    "        #\"abstract\" => \"...\",\n",
    "\n",
    "        # This option provides a place to acknowledge various types of support for the\n",
    "        # project that produced the data\n",
    "        \"acknowledgement\" => \"Aggregated data products are generated by EMODnet Chemistry under the support of DG MARE Call for Tenders EASME/EMFF/2016/006-lot4, EASME/2019/OP/0003-lot4.\",\n",
    "\n",
    "        \"documentation\" => \"https://doi.org/10.6092/A8CFB472-10DB-4225-9737-5A60DA9AF523\",\n",
    "\n",
    "        # Digital Object Identifier of the data product\n",
    "        \"doi\" => \"$doi\",\n",
    "    \n",
    "        \"DIVAnd_source\" => \"https://github.com/gher-ulg/DIVAnd.jl\",\n",
    "        \"DIVAnd_version\" => \"2.7.5\",\n",
    "        \"DIVA_code_doi\" => \"10.5281/zenodo.4715361\",\n",
    "        \"DIVA_references\" => \"Barth, A.; Beckers, J.-M.; Troupin, C.; Alvera-Azcárate, A. & Vandenbulcke, L.\n",
    "divand-1.0: n-dimensional variational data analysis for ocean observations\n",
    "Geoscientific Model Development, 2014, 7, 225-241. DOI: :10.5194/gmd-7-225-2014\"); \n",
    " \n",
    "            \n",
    "        metadata[i]=metadatai\n",
    "end\n",
    "\n",
    "# Infomation needed for generating XML files \n",
    "project = \"EMODNET-chemistry\";\n"
   ]
  },
  {
   "cell_type": "markdown",
   "metadata": {},
   "source": [
    "# Read Bigfile"
   ]
  },
  {
   "cell_type": "markdown",
   "metadata": {},
   "source": [
    "# Load data from the same file that is used for the old oxygen maps"
   ]
  },
  {
   "cell_type": "code",
   "execution_count": 12,
   "metadata": {},
   "outputs": [
    {
     "name": "stderr",
     "output_type": "stream",
     "text": [
      "┌ Info: Loading data from 'big file' C:/Work/DIVAnd/bot_no_header.txt\n",
      "└ @ DIVAnd C:\\Users\\a001109\\.julia\\packages\\DIVAnd\\Iwjb1\\src\\load_obs.jl:10\n"
     ]
    },
    {
     "name": "stdout",
     "output_type": "stream",
     "text": [
      "length(obsval) = 1684629\n",
      "length(obsval[sel]) = 7168\n"
     ]
    }
   ],
   "source": [
    "fname = \"C:/Work/DIVAnd/bot_no_header.txt\"\n",
    "obsval,obslon,obslat,obsdepth,obstime,obsid = loadbigfile(fname);\n",
    "@show(length(obsval));\n",
    "#plot(obsdepth, obsval, \"ko\", markersize=0.5);\n",
    "sel = (Dates.year.(obstime) .== 2015) .& (Dates.month.(obstime) .>= 7) .& (Dates.month.(obstime) .<= 8)\n",
    "@show(length(obsval[sel]))\n",
    "#plot(obsdepth[sel], obsval[sel], \"ro\", markersize=0.5);"
   ]
  },
  {
   "cell_type": "code",
   "execution_count": 13,
   "metadata": {},
   "outputs": [],
   "source": [
    "#Så här kan man lägga ihop olika dataset\n",
    "#obsval   = [obsval; obsvalns; obsval2];\n",
    "#obslon   = [obslon; obslonns; obslon2];\n",
    "#obslat   = [obslat; obslatns; obslat2];\n",
    "#obsdepth = [obsdepth; obsdepthns; obsdepth2];\n",
    "#obstime  = [obstime; obstimens; obstime2];\n",
    "#obsid    = [obsid; obsidns; obsid2];"
   ]
  },
  {
   "cell_type": "code",
   "execution_count": 14,
   "metadata": {},
   "outputs": [
    {
     "data": {
      "image/png": "[encoded data removed]",
      "text/plain": [
       "Figure(PyObject <Figure size 640x480 with 1 Axes>)"
      ]
     },
     "metadata": {},
     "output_type": "display_data"
    }
   ],
   "source": [
    "figure(\"Data\")\n",
    "ax = subplot(1,1,1)\n",
    "plot(obslon[sel], obslat[sel], \"ko\", markersize=.1)\n",
    "aspectratio = 1/cos(mean(latr) * pi/180)\n",
    "#ax.tick_params(\"both\",labelsize=6)\n",
    "gca().set_aspect(aspectratio)"
   ]
  },
  {
   "cell_type": "markdown",
   "metadata": {},
   "source": [
    "#### Set negativ oxygen to 0"
   ]
  },
  {
   "cell_type": "code",
   "execution_count": 15,
   "metadata": {},
   "outputs": [
    {
     "name": "stdout",
     "output_type": "stream",
     "text": [
      "              minimum and maximum of obs. dimension 1: (9.0, 30.263)\n",
      "              minimum and maximum of obs. dimension 2: (53.45, 61.016)\n",
      "              minimum and maximum of obs. dimension 3: "
     ]
    },
    {
     "name": "stderr",
     "output_type": "stream",
     "text": [
      "┌ Info: Checking ranges for dimensions and observations\n",
      "└ @ DIVAnd C:\\Users\\a001109\\.julia\\packages\\DIVAnd\\Iwjb1\\src\\obsstat.jl:78\n"
     ]
    },
    {
     "name": "stdout",
     "output_type": "stream",
     "text": [
      "(0.0, 695.5)\n",
      "              minimum and maximum of obs. dimension 4: (DateTime(\"1960-01-11T17:00:00\"), DateTime(\"2018-12-21T09:00:00\"))\n",
      "                          minimum and maximum of data: (0.0, 753.43)\n"
     ]
    }
   ],
   "source": [
    "if varname == \"Oxygen\"\n",
    "    sel = (obsval .< 0.);\n",
    "    obsval[sel] .= 0.;\n",
    "end\n",
    "checkobs((obslon,obslat,obsdepth,obstime),obsval,obsid)    "
   ]
  },
  {
   "cell_type": "markdown",
   "metadata": {},
   "source": [
    "#### Plot selected data"
   ]
  },
  {
   "cell_type": "markdown",
   "metadata": {
    "slideshow": {
     "slide_type": "slide"
    }
   },
   "source": [
    "## Extract the bathymetry\n",
    "It is used to delimit the domain where the interpolation is performed.\n",
    "\n",
    "### Choice of bathymetry\n",
    "Modify bathname according to the resolution required."
   ]
  },
  {
   "cell_type": "code",
   "execution_count": 16,
   "metadata": {},
   "outputs": [],
   "source": [
    "bathname = \"./bathymetry/gebco_30sec_8.nc\"\n",
    "bathisglobal = true;\n",
    "bx,by,b = DIVAnd.extract_bath(bathname,bathisglobal,lonr,latr);\n",
    "#hx,hy,h = DIVAnd.load_bath(bathname,bathisglobal,lonr,latr);\n",
    "#mask_h = h .< 0;"
   ]
  },
  {
   "cell_type": "markdown",
   "metadata": {},
   "source": [
    "## MASK"
   ]
  },
  {
   "cell_type": "markdown",
   "metadata": {},
   "source": [
    "#### 1) Do a mask"
   ]
  },
  {
   "cell_type": "code",
   "execution_count": 17,
   "metadata": {},
   "outputs": [],
   "source": [
    "xmask,ymask,mmask = load_mask(bathname,true,lonr,latr,depthr);"
   ]
  },
  {
   "cell_type": "markdown",
   "metadata": {},
   "source": [
    "#### 2) apply floodfill.\n",
    "Karin: Varför depthr? borde gå med 0?\n",
    "\n",
    "It gives you an array which has the same size has the mask, and contains values equal to 0, 1, 2... \n",
    "1 corresponds to the largest area, label 2 the 2nd largest and so on... fråga karin"
   ]
  },
  {
   "cell_type": "code",
   "execution_count": 18,
   "metadata": {},
   "outputs": [],
   "source": [
    "label = DIVAnd.floodfill(mmask);"
   ]
  },
  {
   "cell_type": "markdown",
   "metadata": {},
   "source": [
    "#### Plot\n",
    "Maybe it is not so clear, so you can just plot label:\n",
    "\n",
    "pcolor(xmask, ymask, label[:,:,1]');  # the 1 means the 1st depth level\n",
    "\n",
    "and you will obtain something like the attached figure. The colored pixels are the \"sea\" pixels not connected with the main sea area.\n"
   ]
  },
  {
   "cell_type": "code",
   "execution_count": 19,
   "metadata": {},
   "outputs": [
    {
     "data": {
      "image/png": "[encoded data removed]",
      "text/plain": [
       "Figure(PyObject <Figure size 640x480 with 2 Axes>)"
      ]
     },
     "metadata": {},
     "output_type": "display_data"
    }
   ],
   "source": [
    "pcolor(xmask, ymask, label[:,:,1]'); \n",
    "#pcolor(xmask, ymask, new_mask[:,:,2]'); \n",
    "#pcolor(xmask, ymask,(new_mask[:,:,1].*rl)'); \n",
    "colorbar(orientation=\"horizontal\")\n",
    "gca().set_aspect(1/cos(mean([ylim()...]) * pi/180)) # fixes the aspect ratio"
   ]
  },
  {
   "cell_type": "markdown",
   "metadata": {},
   "source": [
    "#### 3) Create a new mask\n",
    "new_mask = (label .== 1)\n",
    "\n",
    "which means it will have the value true only in the main sea area, not on land or in the small isolated pixels.\n",
    "I also attach a plot with the 2 masks (before and after the floodfill). You can see that your problem with the pixel in the middle of the island has disappeared. Note also that the northwesternmost part of the domain has also been masked, as this area was the 2nd largest sea area.\n"
   ]
  },
  {
   "cell_type": "code",
   "execution_count": 20,
   "metadata": {},
   "outputs": [],
   "source": [
    "new_mask = (label .== 1);"
   ]
  },
  {
   "cell_type": "markdown",
   "metadata": {
    "slideshow": {
     "slide_type": "slide"
    }
   },
   "source": [
    "## Analysis parameters"
   ]
  },
  {
   "cell_type": "markdown",
   "metadata": {},
   "source": [
    "## Horizontal correlation length"
   ]
  },
  {
   "cell_type": "markdown",
   "metadata": {},
   "source": [
    "From https://github.com/gher-uliege/DIVAnd.jl/issues/121 \n",
    "\n",
    "Here is a piece of code (from Emodnet Chemistry), which could be used to create a correlation length lenfilled decreasing to a fifth of the normal value lenf when approaching a cost.\n",
    "The distance at which the change happens is defined by slen (here in meters, so metrics pmn are in /m). sz is size(mask)\n",
    "\n",
    "The mask is 2D.\n",
    "\n",
    "Ökas slen så minskas avståndet från kusten där len är mindre."
   ]
  },
  {
   "cell_type": "code",
   "execution_count": 21,
   "metadata": {},
   "outputs": [],
   "source": [
    "mask,pmn = DIVAnd.domain(bathname,bathisglobal,lonr,latr);"
   ]
  },
  {
   "cell_type": "code",
   "execution_count": 22,
   "metadata": {},
   "outputs": [
    {
     "name": "stdout",
     "output_type": "stream",
     "text": [
      "  1.375466 seconds (2.68 M allocations: 149.681 MiB, 99.41% compilation time)\n"
     ]
    }
   ],
   "source": [
    "sz_mask = size(mask)\n",
    "lenf = 50_000.\n",
    "\n",
    "nearcoast = 1.0 * (1. .- new_mask[:,:,1])\n",
    "nearcoastf = copy(nearcoast)\n",
    "\n",
    "slen = (25e3,25e3)\n",
    "nearcoastf = @time DIVAnd.diffusion(\n",
    "    trues(sz_mask),pmn,slen,nearcoast;\n",
    "    boundary_condition! = x -> x[.!new_mask[:,:,1]] .= 1\n",
    ")\n",
    "\n",
    "\n",
    "lenf2 = (1 .- nearcoastf) .* lenf + nearcoastf .* lenf/3 #5\n",
    "\n",
    "#@code_warntype DIVAnd.diffusion(mask,pmn,slen,len)\n",
    "lenf2[.!new_mask[:,:,1]] .= NaN\n",
    "\n",
    "lenfilled = DIVAnd.ufill(lenf2,isfinite.(lenf2));"
   ]
  },
  {
   "cell_type": "code",
   "execution_count": 23,
   "metadata": {},
   "outputs": [],
   "source": [
    "rl = lenfilled ./ lenf;"
   ]
  },
  {
   "cell_type": "code",
   "execution_count": 24,
   "metadata": {},
   "outputs": [],
   "source": [
    "sz = (length(lonr),length(latr),length(depthr));"
   ]
  },
  {
   "cell_type": "markdown",
   "metadata": {},
   "source": [
    "#### lx?, ly? rl? sz?"
   ]
  },
  {
   "cell_type": "code",
   "execution_count": 25,
   "metadata": {},
   "outputs": [],
   "source": [
    "lx = 78_000. #50_000.\n",
    "ly = 78_000. \n",
    "lenx = repeat(rl.*lx,inner=(1,1,sz[3]));\n",
    "leny = repeat(rl.*ly,inner=(1,1,sz[3]));\n",
    "#leny = copy(lenx);\n",
    "#maximum(lenx)"
   ]
  },
  {
   "cell_type": "markdown",
   "metadata": {},
   "source": [
    "sz = (length(lonr),length(latr),length(depthr));\n",
    "lx = 80_000. # 80 km\n",
    "ly = 80_000. # 80 km\n",
    "lenx = fill(lx,sz)   \n",
    "leny = fill(ly,sz)  \n",
    "                       \n",
    "for k = 1:sz[3]\n",
    "    for j = 1:sz[2]\n",
    "        for i = 1:sz[1]\n",
    "            lenx[i,j,k] = lenx[i,j,k] * RL[i,j]\n",
    "            leny[i,j,k] = leny[i,j,k] * RL[i,j]\n",
    "        end\n",
    "    end\n",
    "end\n",
    "#lenx = leny = fill(1,sz);\n",
    "#lenx=leny=RL3D"
   ]
  },
  {
   "cell_type": "markdown",
   "metadata": {},
   "source": [
    "## Vertical correlation length"
   ]
  },
  {
   "cell_type": "code",
   "execution_count": 26,
   "metadata": {
    "slideshow": {
     "slide_type": "subslide"
    }
   },
   "outputs": [],
   "source": [
    "#lenz (twice the resolution)\n",
    "lenz_ = [50., 10., 10.,10.,10.,10.,\n",
    "        10.,10.,10.,10.,10.,10.,50.,50.];\n",
    "\n",
    "#depthr = [50, 55, 60, 65, 70,75, 80, 85, 90, 95, 100, 125, 150];\n",
    "\n",
    "lenz =  [lenz_[k] for i = 1:sz[1], j = 1:sz[2], k = 1:sz[3]];\n",
    "\n",
    "\n",
    "#lenz = fill(0,sz);      # scaling factor of one when vertical correlation length is estimated \n",
    "#lenz = [10+depthr[k]/15 for i = 1:sz[1], j = 1:sz[2], k = 1:sz[3]]"
   ]
  },
  {
   "cell_type": "markdown",
   "metadata": {
    "slideshow": {
     "slide_type": "slide"
    }
   },
   "source": [
    "## Analysis"
   ]
  },
  {
   "cell_type": "markdown",
   "metadata": {
    "slideshow": {
     "slide_type": "subslide"
    }
   },
   "source": [
    "Remove the result file before running the analysis, otherwise you'll get the message     \n",
    "```julia\n",
    "NCDatasets.NetCDFError(13, \"Permission denied\")\n",
    "```"
   ]
  },
  {
   "cell_type": "markdown",
   "metadata": {
    "slideshow": {
     "slide_type": "subslide"
    }
   },
   "source": [
    "### Plotting function\n",
    "Define a plotting function that will be applied for each time index and depth level.     \n",
    "All the figures will be saved in a selected directory."
   ]
  },
  {
   "cell_type": "markdown",
   "metadata": {},
   "source": [
    "If you do not want to generate plots but print the time index at every time slice\n",
    "you can use the function `plotres_timeindex`."
   ]
  },
  {
   "cell_type": "raw",
   "metadata": {},
   "source": [
    "function plotres_timeindex(timeindex,sel,fit,erri)\n",
    "    @show timeindex\n",
    "end"
   ]
  },
  {
   "cell_type": "code",
   "execution_count": 27,
   "metadata": {},
   "outputs": [],
   "source": [
    "#sel = (obsdepth .> 225) .& ((Dates.month.(obstime) .== 12) .| (Dates.month.(obstime) .< 2))\n",
    "\n",
    "#value = obsval[sel]\n",
    "#lon = obslon[sel]\n",
    "#lat = obslat[sel]\n",
    "#depth = obsdepth[sel]\n",
    "#time = obstime[sel]\n",
    "#ids = obsid[sel];\n",
    "#@show (size(value))\n",
    "#checkobs((lon,lat,depth,time),value,ids)"
   ]
  },
  {
   "cell_type": "markdown",
   "metadata": {},
   "source": [
    "## Where to save the result..."
   ]
  },
  {
   "cell_type": "code",
   "execution_count": 28,
   "metadata": {
    "slideshow": {
     "slide_type": "fragment"
    }
   },
   "outputs": [],
   "source": [
    "# File name based on the variable (but all spaces are replaced by _) _varlenz\n",
    "outputdir = \"./resultat/nc/$(savevar)/\" ;\n",
    "if !isdir(outputdir)\n",
    "    mkpath(outputdir)\n",
    "end\n",
    "\n",
    "figdir = \"./resultat/figures/$(savevar)/\";\n",
    "if !isdir(figdir)\n",
    "    mkpath(figdir)\n",
    "end"
   ]
  },
  {
   "cell_type": "markdown",
   "metadata": {},
   "source": [
    "# Run DIVA3d\n",
    "### Background field is calculated in notebook: "
   ]
  },
  {
   "cell_type": "code",
   "execution_count": 29,
   "metadata": {},
   "outputs": [],
   "source": [
    "#filename_background = \"Background_file_6y_20230203_$(savevar).nc\"\n",
    "\n",
    "#TS_back = DIVAnd.TimeSelectorYearListMonthList(yearlist_back, monthlist)\n",
    "#background = DIVAnd.backgroundfile(filename_background,varname,TS_back)"
   ]
  },
  {
   "cell_type": "code",
   "execution_count": 30,
   "metadata": {},
   "outputs": [],
   "source": [
    "# To include December from previous year in the analyse\n",
    "obstime_shifted = copy(obstime)\n",
    "obstime_shifted[Dates.month.(obstime) .== 12] .+= Dates.Year(1)\n",
    "\n",
    "# When cutting\n",
    "#polygon_lon = [9.4, 11., 31., 31., 14., 14., 9.4]\n",
    "#polygon_lat = [54., 53., 53., 66., 66., 55.5, 55.5]\n",
    "\n",
    "# Settings for DIVAnd\n",
    "epsilon=0.001\n",
    "error_thresholds = [(\"L1\", 0.3), (\"L2\", 0.5)];\n",
    "solver = :direct\n",
    "epsilon2 = 1.;"
   ]
  },
  {
   "cell_type": "markdown",
   "metadata": {},
   "source": [
    "#### Loop each season"
   ]
  },
  {
   "cell_type": "code",
   "execution_count": 31,
   "metadata": {},
   "outputs": [
    {
     "data": {
      "text/plain": [
       "1.0"
      ]
     },
     "execution_count": 31,
     "metadata": {},
     "output_type": "execute_result"
    }
   ],
   "source": [
    "epsilon2"
   ]
  },
  {
   "cell_type": "code",
   "execution_count": 32,
   "metadata": {
    "scrolled": true
   },
   "outputs": [
    {
     "name": "stderr",
     "output_type": "stream",
     "text": [
      "┌ Info: starting DIVAnd computations for Winter\n",
      "└ @ Main In[32]:3\n",
      "┌ Info: 2023-04-17T10:02:31.840\n",
      "└ @ Main In[32]:4\n",
      "┌ Info: Will write results in ./resultat/nc/O2/Oxygen_Winter_2010_0.4Danl.nc\n",
      "└ @ Main In[32]:55\n",
      "┌ Info: Creating netCDF file ./resultat/nc/O2/Oxygen_Winter_2010_0.4Danl.nc\n",
      "└ @ DIVAnd C:\\Users\\a001109\\.julia\\packages\\DIVAnd\\Iwjb1\\src\\diva.jl:374\n",
      "┌ Info: Time step 1 / 8\n",
      "└ @ DIVAnd C:\\Users\\a001109\\.julia\\packages\\DIVAnd\\Iwjb1\\src\\diva.jl:427\n",
      "┌ Warning: Observations equal to NaN: 121\n",
      "└ @ DIVAnd C:\\Users\\a001109\\.julia\\packages\\DIVAnd\\Iwjb1\\src\\DIVAnd_obs.jl:45\n",
      "┌ Info: scaled correlation length (min,max) in dimension 1: (26007.848779537788, 77999.9918075985)\n",
      "└ @ DIVAnd C:\\Users\\a001109\\.julia\\packages\\DIVAnd\\Iwjb1\\src\\diva.jl:612\n",
      "┌ Info: scaled correlation length (min,max) in dimension 2: (26007.848779537788, 77999.9918075985)\n",
      "└ @ DIVAnd C:\\Users\\a001109\\.julia\\packages\\DIVAnd\\Iwjb1\\src\\diva.jl:612\n",
      "┌ Info: scaled correlation length (min,max) in dimension 3: (10.0, 50.0)\n",
      "└ @ DIVAnd C:\\Users\\a001109\\.julia\\packages\\DIVAnd\\Iwjb1\\src\\diva.jl:612\n",
      "┌ Warning: resolution (13899.385465521233) is too coarse for correlation length 27344.109094788164 in dimension 2 at indices CartesianIndex(28, 3, 1) (skipping further tests). It is recommended that the resolution is at least 2 times finer than the correlation length.\n",
      "└ @ DIVAnd C:\\Users\\a001109\\.julia\\packages\\DIVAnd\\Iwjb1\\src\\utils.jl:18\n",
      "┌ Warning: resolution (50.0) is too coarse for correlation length 50.0 in dimension 3 at indices CartesianIndex(8, 1, 1) (skipping further tests). It is recommended that the resolution is at least 2 times finer than the correlation length.\n",
      "└ @ DIVAnd C:\\Users\\a001109\\.julia\\packages\\DIVAnd\\Iwjb1\\src\\utils.jl:18\n",
      "┌ Info: number of windows: 1\n",
      "└ @ DIVAnd C:\\Users\\a001109\\.julia\\packages\\DIVAnd\\Iwjb1\\src\\DIVAndgo.jl:110\n"
     ]
    },
    {
     "name": "stdout",
     "output_type": "stream",
     "text": [
      "timeindex = 1\n"
     ]
    },
    {
     "name": "stderr",
     "output_type": "stream",
     "text": [
      "┌ Info: Time step 2 / 8\n",
      "└ @ DIVAnd C:\\Users\\a001109\\.julia\\packages\\DIVAnd\\Iwjb1\\src\\diva.jl:427\n",
      "┌ Warning: Observations equal to NaN: 61\n",
      "└ @ DIVAnd C:\\Users\\a001109\\.julia\\packages\\DIVAnd\\Iwjb1\\src\\DIVAnd_obs.jl:45\n",
      "┌ Info: scaled correlation length (min,max) in dimension 1: (26007.848779537788, 77999.9918075985)\n",
      "└ @ DIVAnd C:\\Users\\a001109\\.julia\\packages\\DIVAnd\\Iwjb1\\src\\diva.jl:612\n",
      "┌ Info: scaled correlation length (min,max) in dimension 2: (26007.848779537788, 77999.9918075985)\n",
      "└ @ DIVAnd C:\\Users\\a001109\\.julia\\packages\\DIVAnd\\Iwjb1\\src\\diva.jl:612\n",
      "┌ Info: scaled correlation length (min,max) in dimension 3: (10.0, 50.0)\n",
      "└ @ DIVAnd C:\\Users\\a001109\\.julia\\packages\\DIVAnd\\Iwjb1\\src\\diva.jl:612\n",
      "┌ Warning: resolution (13899.385465521233) is too coarse for correlation length 27344.109094788164 in dimension 2 at indices CartesianIndex(28, 3, 1) (skipping further tests). It is recommended that the resolution is at least 2 times finer than the correlation length.\n",
      "└ @ DIVAnd C:\\Users\\a001109\\.julia\\packages\\DIVAnd\\Iwjb1\\src\\utils.jl:18\n",
      "┌ Warning: resolution (50.0) is too coarse for correlation length 50.0 in dimension 3 at indices CartesianIndex(8, 1, 1) (skipping further tests). It is recommended that the resolution is at least 2 times finer than the correlation length.\n",
      "└ @ DIVAnd C:\\Users\\a001109\\.julia\\packages\\DIVAnd\\Iwjb1\\src\\utils.jl:18\n",
      "┌ Info: number of windows: 1\n",
      "└ @ DIVAnd C:\\Users\\a001109\\.julia\\packages\\DIVAnd\\Iwjb1\\src\\DIVAndgo.jl:110\n"
     ]
    },
    {
     "name": "stdout",
     "output_type": "stream",
     "text": [
      "timeindex = 2\n"
     ]
    },
    {
     "name": "stderr",
     "output_type": "stream",
     "text": [
      "┌ Info: Time step 3 / 8\n",
      "└ @ DIVAnd C:\\Users\\a001109\\.julia\\packages\\DIVAnd\\Iwjb1\\src\\diva.jl:427\n",
      "┌ Warning: Observations equal to NaN: 50\n",
      "└ @ DIVAnd C:\\Users\\a001109\\.julia\\packages\\DIVAnd\\Iwjb1\\src\\DIVAnd_obs.jl:45\n",
      "┌ Info: scaled correlation length (min,max) in dimension 1: (26007.848779537788, 77999.9918075985)\n",
      "└ @ DIVAnd C:\\Users\\a001109\\.julia\\packages\\DIVAnd\\Iwjb1\\src\\diva.jl:612\n",
      "┌ Info: scaled correlation length (min,max) in dimension 2: (26007.848779537788, 77999.9918075985)\n",
      "└ @ DIVAnd C:\\Users\\a001109\\.julia\\packages\\DIVAnd\\Iwjb1\\src\\diva.jl:612\n",
      "┌ Info: scaled correlation length (min,max) in dimension 3: (10.0, 50.0)\n",
      "└ @ DIVAnd C:\\Users\\a001109\\.julia\\packages\\DIVAnd\\Iwjb1\\src\\diva.jl:612\n",
      "┌ Warning: resolution (13899.385465521233) is too coarse for correlation length 27344.109094788164 in dimension 2 at indices CartesianIndex(28, 3, 1) (skipping further tests). It is recommended that the resolution is at least 2 times finer than the correlation length.\n",
      "└ @ DIVAnd C:\\Users\\a001109\\.julia\\packages\\DIVAnd\\Iwjb1\\src\\utils.jl:18\n",
      "┌ Warning: resolution (50.0) is too coarse for correlation length 50.0 in dimension 3 at indices CartesianIndex(8, 1, 1) (skipping further tests). It is recommended that the resolution is at least 2 times finer than the correlation length.\n",
      "└ @ DIVAnd C:\\Users\\a001109\\.julia\\packages\\DIVAnd\\Iwjb1\\src\\utils.jl:18\n",
      "┌ Info: number of windows: 1\n",
      "└ @ DIVAnd C:\\Users\\a001109\\.julia\\packages\\DIVAnd\\Iwjb1\\src\\DIVAndgo.jl:110\n"
     ]
    },
    {
     "name": "stdout",
     "output_type": "stream",
     "text": [
      "timeindex = 3\n"
     ]
    },
    {
     "name": "stderr",
     "output_type": "stream",
     "text": [
      "┌ Info: Time step 4 / 8\n",
      "└ @ DIVAnd C:\\Users\\a001109\\.julia\\packages\\DIVAnd\\Iwjb1\\src\\diva.jl:427\n",
      "┌ Warning: Observations equal to NaN: 111\n",
      "└ @ DIVAnd C:\\Users\\a001109\\.julia\\packages\\DIVAnd\\Iwjb1\\src\\DIVAnd_obs.jl:45\n",
      "┌ Info: scaled correlation length (min,max) in dimension 1: (26007.848779537788, 77999.9918075985)\n",
      "└ @ DIVAnd C:\\Users\\a001109\\.julia\\packages\\DIVAnd\\Iwjb1\\src\\diva.jl:612\n",
      "┌ Info: scaled correlation length (min,max) in dimension 2: (26007.848779537788, 77999.9918075985)\n",
      "└ @ DIVAnd C:\\Users\\a001109\\.julia\\packages\\DIVAnd\\Iwjb1\\src\\diva.jl:612\n",
      "┌ Info: scaled correlation length (min,max) in dimension 3: (10.0, 50.0)\n",
      "└ @ DIVAnd C:\\Users\\a001109\\.julia\\packages\\DIVAnd\\Iwjb1\\src\\diva.jl:612\n",
      "┌ Warning: resolution (13899.385465521233) is too coarse for correlation length 27344.109094788164 in dimension 2 at indices CartesianIndex(28, 3, 1) (skipping further tests). It is recommended that the resolution is at least 2 times finer than the correlation length.\n",
      "└ @ DIVAnd C:\\Users\\a001109\\.julia\\packages\\DIVAnd\\Iwjb1\\src\\utils.jl:18\n",
      "┌ Warning: resolution (50.0) is too coarse for correlation length 50.0 in dimension 3 at indices CartesianIndex(8, 1, 1) (skipping further tests). It is recommended that the resolution is at least 2 times finer than the correlation length.\n",
      "└ @ DIVAnd C:\\Users\\a001109\\.julia\\packages\\DIVAnd\\Iwjb1\\src\\utils.jl:18\n",
      "┌ Info: number of windows: 1\n",
      "└ @ DIVAnd C:\\Users\\a001109\\.julia\\packages\\DIVAnd\\Iwjb1\\src\\DIVAndgo.jl:110\n"
     ]
    },
    {
     "name": "stdout",
     "output_type": "stream",
     "text": [
      "timeindex = 4\n"
     ]
    },
    {
     "name": "stderr",
     "output_type": "stream",
     "text": [
      "┌ Info: Time step 5 / 8\n",
      "└ @ DIVAnd C:\\Users\\a001109\\.julia\\packages\\DIVAnd\\Iwjb1\\src\\diva.jl:427\n",
      "┌ Warning: Observations equal to NaN: 30\n",
      "└ @ DIVAnd C:\\Users\\a001109\\.julia\\packages\\DIVAnd\\Iwjb1\\src\\DIVAnd_obs.jl:45\n",
      "┌ Info: scaled correlation length (min,max) in dimension 1: (26007.848779537788, 77999.9918075985)\n",
      "└ @ DIVAnd C:\\Users\\a001109\\.julia\\packages\\DIVAnd\\Iwjb1\\src\\diva.jl:612\n",
      "┌ Info: scaled correlation length (min,max) in dimension 2: (26007.848779537788, 77999.9918075985)\n",
      "└ @ DIVAnd C:\\Users\\a001109\\.julia\\packages\\DIVAnd\\Iwjb1\\src\\diva.jl:612\n",
      "┌ Info: scaled correlation length (min,max) in dimension 3: (10.0, 50.0)\n",
      "└ @ DIVAnd C:\\Users\\a001109\\.julia\\packages\\DIVAnd\\Iwjb1\\src\\diva.jl:612\n",
      "┌ Warning: resolution (13899.385465521233) is too coarse for correlation length 27344.109094788164 in dimension 2 at indices CartesianIndex(28, 3, 1) (skipping further tests). It is recommended that the resolution is at least 2 times finer than the correlation length.\n",
      "└ @ DIVAnd C:\\Users\\a001109\\.julia\\packages\\DIVAnd\\Iwjb1\\src\\utils.jl:18\n",
      "┌ Warning: resolution (50.0) is too coarse for correlation length 50.0 in dimension 3 at indices CartesianIndex(8, 1, 1) (skipping further tests). It is recommended that the resolution is at least 2 times finer than the correlation length.\n",
      "└ @ DIVAnd C:\\Users\\a001109\\.julia\\packages\\DIVAnd\\Iwjb1\\src\\utils.jl:18\n",
      "┌ Info: number of windows: 1\n",
      "└ @ DIVAnd C:\\Users\\a001109\\.julia\\packages\\DIVAnd\\Iwjb1\\src\\DIVAndgo.jl:110\n"
     ]
    },
    {
     "name": "stdout",
     "output_type": "stream",
     "text": [
      "timeindex = 5\n"
     ]
    },
    {
     "name": "stderr",
     "output_type": "stream",
     "text": [
      "┌ Info: Time step 6 / 8\n",
      "└ @ DIVAnd C:\\Users\\a001109\\.julia\\packages\\DIVAnd\\Iwjb1\\src\\diva.jl:427\n",
      "┌ Warning: Observations equal to NaN: 41\n",
      "└ @ DIVAnd C:\\Users\\a001109\\.julia\\packages\\DIVAnd\\Iwjb1\\src\\DIVAnd_obs.jl:45\n",
      "┌ Info: scaled correlation length (min,max) in dimension 1: (26007.848779537788, 77999.9918075985)\n",
      "└ @ DIVAnd C:\\Users\\a001109\\.julia\\packages\\DIVAnd\\Iwjb1\\src\\diva.jl:612\n",
      "┌ Info: scaled correlation length (min,max) in dimension 2: (26007.848779537788, 77999.9918075985)\n",
      "└ @ DIVAnd C:\\Users\\a001109\\.julia\\packages\\DIVAnd\\Iwjb1\\src\\diva.jl:612\n",
      "┌ Info: scaled correlation length (min,max) in dimension 3: (10.0, 50.0)\n",
      "└ @ DIVAnd C:\\Users\\a001109\\.julia\\packages\\DIVAnd\\Iwjb1\\src\\diva.jl:612\n",
      "┌ Warning: resolution (13899.385465521233) is too coarse for correlation length 27344.109094788164 in dimension 2 at indices CartesianIndex(28, 3, 1) (skipping further tests). It is recommended that the resolution is at least 2 times finer than the correlation length.\n",
      "└ @ DIVAnd C:\\Users\\a001109\\.julia\\packages\\DIVAnd\\Iwjb1\\src\\utils.jl:18\n",
      "┌ Warning: resolution (50.0) is too coarse for correlation length 50.0 in dimension 3 at indices CartesianIndex(8, 1, 1) (skipping further tests). It is recommended that the resolution is at least 2 times finer than the correlation length.\n",
      "└ @ DIVAnd C:\\Users\\a001109\\.julia\\packages\\DIVAnd\\Iwjb1\\src\\utils.jl:18\n"
     ]
    },
    {
     "name": "stdout",
     "output_type": "stream",
     "text": [
      "timeindex = 6\n"
     ]
    },
    {
     "name": "stderr",
     "output_type": "stream",
     "text": [
      "┌ Info: number of windows: 1\n",
      "└ @ DIVAnd C:\\Users\\a001109\\.julia\\packages\\DIVAnd\\Iwjb1\\src\\DIVAndgo.jl:110\n",
      "┌ Info: Time step 7 / 8\n",
      "└ @ DIVAnd C:\\Users\\a001109\\.julia\\packages\\DIVAnd\\Iwjb1\\src\\diva.jl:427\n",
      "┌ Warning: Observations equal to NaN: 17\n",
      "└ @ DIVAnd C:\\Users\\a001109\\.julia\\packages\\DIVAnd\\Iwjb1\\src\\DIVAnd_obs.jl:45\n",
      "┌ Info: scaled correlation length (min,max) in dimension 1: (26007.848779537788, 77999.9918075985)\n",
      "└ @ DIVAnd C:\\Users\\a001109\\.julia\\packages\\DIVAnd\\Iwjb1\\src\\diva.jl:612\n",
      "┌ Info: scaled correlation length (min,max) in dimension 2: (26007.848779537788, 77999.9918075985)\n",
      "└ @ DIVAnd C:\\Users\\a001109\\.julia\\packages\\DIVAnd\\Iwjb1\\src\\diva.jl:612\n",
      "┌ Info: scaled correlation length (min,max) in dimension 3: (10.0, 50.0)\n",
      "└ @ DIVAnd C:\\Users\\a001109\\.julia\\packages\\DIVAnd\\Iwjb1\\src\\diva.jl:612\n",
      "┌ Warning: resolution (13899.385465521233) is too coarse for correlation length 27344.109094788164 in dimension 2 at indices CartesianIndex(28, 3, 1) (skipping further tests). It is recommended that the resolution is at least 2 times finer than the correlation length.\n",
      "└ @ DIVAnd C:\\Users\\a001109\\.julia\\packages\\DIVAnd\\Iwjb1\\src\\utils.jl:18\n",
      "┌ Warning: resolution (50.0) is too coarse for correlation length 50.0 in dimension 3 at indices CartesianIndex(8, 1, 1) (skipping further tests). It is recommended that the resolution is at least 2 times finer than the correlation length.\n",
      "└ @ DIVAnd C:\\Users\\a001109\\.julia\\packages\\DIVAnd\\Iwjb1\\src\\utils.jl:18\n",
      "┌ Info: number of windows: 1\n",
      "└ @ DIVAnd C:\\Users\\a001109\\.julia\\packages\\DIVAnd\\Iwjb1\\src\\DIVAndgo.jl:110\n"
     ]
    },
    {
     "name": "stdout",
     "output_type": "stream",
     "text": [
      "timeindex = 7\n"
     ]
    },
    {
     "name": "stderr",
     "output_type": "stream",
     "text": [
      "┌ Info: Time step 8 / 8\n",
      "└ @ DIVAnd C:\\Users\\a001109\\.julia\\packages\\DIVAnd\\Iwjb1\\src\\diva.jl:427\n",
      "┌ Warning: Observations equal to NaN: 28\n",
      "└ @ DIVAnd C:\\Users\\a001109\\.julia\\packages\\DIVAnd\\Iwjb1\\src\\DIVAnd_obs.jl:45\n",
      "┌ Info: scaled correlation length (min,max) in dimension 1: (26007.848779537788, 77999.9918075985)\n",
      "└ @ DIVAnd C:\\Users\\a001109\\.julia\\packages\\DIVAnd\\Iwjb1\\src\\diva.jl:612\n",
      "┌ Info: scaled correlation length (min,max) in dimension 2: (26007.848779537788, 77999.9918075985)\n",
      "└ @ DIVAnd C:\\Users\\a001109\\.julia\\packages\\DIVAnd\\Iwjb1\\src\\diva.jl:612\n",
      "┌ Info: scaled correlation length (min,max) in dimension 3: (10.0, 50.0)\n",
      "└ @ DIVAnd C:\\Users\\a001109\\.julia\\packages\\DIVAnd\\Iwjb1\\src\\diva.jl:612\n",
      "┌ Warning: resolution (13899.385465521233) is too coarse for correlation length 27344.109094788164 in dimension 2 at indices CartesianIndex(28, 3, 1) (skipping further tests). It is recommended that the resolution is at least 2 times finer than the correlation length.\n",
      "└ @ DIVAnd C:\\Users\\a001109\\.julia\\packages\\DIVAnd\\Iwjb1\\src\\utils.jl:18\n",
      "┌ Warning: resolution (50.0) is too coarse for correlation length 50.0 in dimension 3 at indices CartesianIndex(8, 1, 1) (skipping further tests). It is recommended that the resolution is at least 2 times finer than the correlation length.\n",
      "└ @ DIVAnd C:\\Users\\a001109\\.julia\\packages\\DIVAnd\\Iwjb1\\src\\utils.jl:18\n",
      "┌ Info: number of windows: 1\n",
      "└ @ DIVAnd C:\\Users\\a001109\\.julia\\packages\\DIVAnd\\Iwjb1\\src\\DIVAndgo.jl:110\n"
     ]
    },
    {
     "name": "stdout",
     "output_type": "stream",
     "text": [
      "timeindex = 8\n",
      "108.625058 seconds (159.59 M allocations: 28.011 GiB, 7.02% gc time, 0.01% compilation time)\n"
     ]
    },
    {
     "name": "stderr",
     "output_type": "stream",
     "text": [
      "┌ Info: Creating new variable Oxygen_deepest\n",
      "└ @ DIVAnd C:\\Users\\a001109\\.julia\\packages\\DIVAnd\\Iwjb1\\src\\derived.jl:40\n",
      "┌ Info: Working on 14 depth layers\n",
      "└ @ DIVAnd C:\\Users\\a001109\\.julia\\packages\\DIVAnd\\Iwjb1\\src\\derived.jl:120\n",
      "┌ Info: size = (161, 57, 14)\n",
      "└ @ DIVAnd C:\\Users\\a001109\\.julia\\packages\\DIVAnd\\Iwjb1\\src\\derived.jl:125\n",
      "┌ Info: Creating new variable Oxygen_deepest_depth\n",
      "└ @ DIVAnd C:\\Users\\a001109\\.julia\\packages\\DIVAnd\\Iwjb1\\src\\derived.jl:131\n",
      "┌ Info: Depth index: 1\n",
      "└ @ DIVAnd C:\\Users\\a001109\\.julia\\packages\\DIVAnd\\Iwjb1\\src\\derived.jl:143\n",
      "┌ Info: Found 3248 non missing values for depth 0.0\n",
      "└ @ DIVAnd C:\\Users\\a001109\\.julia\\packages\\DIVAnd\\Iwjb1\\src\\derived.jl:146\n",
      "┌ Info: Depth index: 2\n",
      "└ @ DIVAnd C:\\Users\\a001109\\.julia\\packages\\DIVAnd\\Iwjb1\\src\\derived.jl:143\n",
      "┌ Info: Found 1281 non missing values for depth 50.0\n",
      "└ @ DIVAnd C:\\Users\\a001109\\.julia\\packages\\DIVAnd\\Iwjb1\\src\\derived.jl:146\n",
      "┌ Info: Depth index: 3\n",
      "└ @ DIVAnd C:\\Users\\a001109\\.julia\\packages\\DIVAnd\\Iwjb1\\src\\derived.jl:143\n",
      "┌ Info: Found 1182 non missing values for depth 55.0\n",
      "└ @ DIVAnd C:\\Users\\a001109\\.julia\\packages\\DIVAnd\\Iwjb1\\src\\derived.jl:146\n",
      "┌ Info: Depth index: 4\n",
      "└ @ DIVAnd C:\\Users\\a001109\\.julia\\packages\\DIVAnd\\Iwjb1\\src\\derived.jl:143\n",
      "┌ Info: Found 1082 non missing values for depth 60.0\n",
      "└ @ DIVAnd C:\\Users\\a001109\\.julia\\packages\\DIVAnd\\Iwjb1\\src\\derived.jl:146\n",
      "┌ Info: Depth index: 5\n",
      "└ @ DIVAnd C:\\Users\\a001109\\.julia\\packages\\DIVAnd\\Iwjb1\\src\\derived.jl:143\n",
      "┌ Info: Found 997 non missing values for depth 65.0\n",
      "└ @ DIVAnd C:\\Users\\a001109\\.julia\\packages\\DIVAnd\\Iwjb1\\src\\derived.jl:146\n",
      "┌ Info: Depth index: 6\n",
      "└ @ DIVAnd C:\\Users\\a001109\\.julia\\packages\\DIVAnd\\Iwjb1\\src\\derived.jl:143\n",
      "┌ Info: Found 910 non missing values for depth 70.0\n",
      "└ @ DIVAnd C:\\Users\\a001109\\.julia\\packages\\DIVAnd\\Iwjb1\\src\\derived.jl:146\n",
      "┌ Info: Depth index: 7\n",
      "└ @ DIVAnd C:\\Users\\a001109\\.julia\\packages\\DIVAnd\\Iwjb1\\src\\derived.jl:143\n",
      "┌ Info: Found 831 non missing values for depth 75.0\n",
      "└ @ DIVAnd C:\\Users\\a001109\\.julia\\packages\\DIVAnd\\Iwjb1\\src\\derived.jl:146\n",
      "┌ Info: Depth index: 8\n",
      "└ @ DIVAnd C:\\Users\\a001109\\.julia\\packages\\DIVAnd\\Iwjb1\\src\\derived.jl:143\n",
      "┌ Info: Found 747 non missing values for depth 80.0\n",
      "└ @ DIVAnd C:\\Users\\a001109\\.julia\\packages\\DIVAnd\\Iwjb1\\src\\derived.jl:146\n",
      "┌ Info: Depth index: 9\n",
      "└ @ DIVAnd C:\\Users\\a001109\\.julia\\packages\\DIVAnd\\Iwjb1\\src\\derived.jl:143\n",
      "┌ Info: Found 644 non missing values for depth 85.0\n",
      "└ @ DIVAnd C:\\Users\\a001109\\.julia\\packages\\DIVAnd\\Iwjb1\\src\\derived.jl:146\n",
      "┌ Info: Depth index: 10\n",
      "└ @ DIVAnd C:\\Users\\a001109\\.julia\\packages\\DIVAnd\\Iwjb1\\src\\derived.jl:143\n",
      "┌ Info: Found 565 non missing values for depth 90.0\n",
      "└ @ DIVAnd C:\\Users\\a001109\\.julia\\packages\\DIVAnd\\Iwjb1\\src\\derived.jl:146\n",
      "┌ Info: Depth index: 11\n",
      "└ @ DIVAnd C:\\Users\\a001109\\.julia\\packages\\DIVAnd\\Iwjb1\\src\\derived.jl:143\n",
      "┌ Info: Found 490 non missing values for depth 95.0\n",
      "└ @ DIVAnd C:\\Users\\a001109\\.julia\\packages\\DIVAnd\\Iwjb1\\src\\derived.jl:146\n",
      "┌ Info: Depth index: 12\n",
      "└ @ DIVAnd C:\\Users\\a001109\\.julia\\packages\\DIVAnd\\Iwjb1\\src\\derived.jl:143\n",
      "┌ Info: Found 423 non missing values for depth 100.0\n",
      "└ @ DIVAnd C:\\Users\\a001109\\.julia\\packages\\DIVAnd\\Iwjb1\\src\\derived.jl:146\n",
      "┌ Info: Depth index: 13\n",
      "└ @ DIVAnd C:\\Users\\a001109\\.julia\\packages\\DIVAnd\\Iwjb1\\src\\derived.jl:143\n",
      "┌ Info: Found 228 non missing values for depth 125.0\n",
      "└ @ DIVAnd C:\\Users\\a001109\\.julia\\packages\\DIVAnd\\Iwjb1\\src\\derived.jl:146\n",
      "┌ Info: Depth index: 14\n",
      "└ @ DIVAnd C:\\Users\\a001109\\.julia\\packages\\DIVAnd\\Iwjb1\\src\\derived.jl:143\n",
      "┌ Info: Found 121 non missing values for depth 150.0\n",
      "└ @ DIVAnd C:\\Users\\a001109\\.julia\\packages\\DIVAnd\\Iwjb1\\src\\derived.jl:146\n",
      "┌ Info: Written new variable deepest depth\n",
      "└ @ DIVAnd C:\\Users\\a001109\\.julia\\packages\\DIVAnd\\Iwjb1\\src\\derived.jl:152\n",
      "┌ Info: starting DIVAnd computations for Spring\n",
      "└ @ Main In[32]:3\n",
      "┌ Info: 2023-04-17T10:04:34.843\n",
      "└ @ Main In[32]:4\n",
      "┌ Info: Will write results in ./resultat/nc/O2/Oxygen_Spring_2011_0.4Danl.nc\n",
      "└ @ Main In[32]:55\n",
      "┌ Info: Creating netCDF file ./resultat/nc/O2/Oxygen_Spring_2011_0.4Danl.nc\n",
      "└ @ DIVAnd C:\\Users\\a001109\\.julia\\packages\\DIVAnd\\Iwjb1\\src\\diva.jl:374\n",
      "┌ Info: Time step 1 / 8\n",
      "└ @ DIVAnd C:\\Users\\a001109\\.julia\\packages\\DIVAnd\\Iwjb1\\src\\diva.jl:427\n",
      "┌ Warning: Observations equal to NaN: 176\n",
      "└ @ DIVAnd C:\\Users\\a001109\\.julia\\packages\\DIVAnd\\Iwjb1\\src\\DIVAnd_obs.jl:45\n",
      "┌ Info: scaled correlation length (min,max) in dimension 1: (26007.848779537788, 77999.9918075985)\n",
      "└ @ DIVAnd C:\\Users\\a001109\\.julia\\packages\\DIVAnd\\Iwjb1\\src\\diva.jl:612\n",
      "┌ Info: scaled correlation length (min,max) in dimension 2: (26007.848779537788, 77999.9918075985)\n",
      "└ @ DIVAnd C:\\Users\\a001109\\.julia\\packages\\DIVAnd\\Iwjb1\\src\\diva.jl:612\n",
      "┌ Info: scaled correlation length (min,max) in dimension 3: (10.0, 50.0)\n",
      "└ @ DIVAnd C:\\Users\\a001109\\.julia\\packages\\DIVAnd\\Iwjb1\\src\\diva.jl:612\n",
      "┌ Warning: resolution (13899.385465521233) is too coarse for correlation length 27344.109094788164 in dimension 2 at indices CartesianIndex(28, 3, 1) (skipping further tests). It is recommended that the resolution is at least 2 times finer than the correlation length.\n",
      "└ @ DIVAnd C:\\Users\\a001109\\.julia\\packages\\DIVAnd\\Iwjb1\\src\\utils.jl:18\n",
      "┌ Warning: resolution (50.0) is too coarse for correlation length 50.0 in dimension 3 at indices CartesianIndex(8, 1, 1) (skipping further tests). It is recommended that the resolution is at least 2 times finer than the correlation length.\n",
      "└ @ DIVAnd C:\\Users\\a001109\\.julia\\packages\\DIVAnd\\Iwjb1\\src\\utils.jl:18\n"
     ]
    },
    {
     "name": "stdout",
     "output_type": "stream",
     "text": [
      "timeindex = 1\n"
     ]
    },
    {
     "name": "stderr",
     "output_type": "stream",
     "text": [
      "┌ Info: number of windows: 1\n",
      "└ @ DIVAnd C:\\Users\\a001109\\.julia\\packages\\DIVAnd\\Iwjb1\\src\\DIVAndgo.jl:110\n",
      "┌ Info: Time step 2 / 8\n",
      "└ @ DIVAnd C:\\Users\\a001109\\.julia\\packages\\DIVAnd\\Iwjb1\\src\\diva.jl:427\n",
      "┌ Warning: Observations equal to NaN: 153\n",
      "└ @ DIVAnd C:\\Users\\a001109\\.julia\\packages\\DIVAnd\\Iwjb1\\src\\DIVAnd_obs.jl:45\n",
      "┌ Info: scaled correlation length (min,max) in dimension 1: (26007.848779537788, 77999.9918075985)\n",
      "└ @ DIVAnd C:\\Users\\a001109\\.julia\\packages\\DIVAnd\\Iwjb1\\src\\diva.jl:612\n",
      "┌ Info: scaled correlation length (min,max) in dimension 2: (26007.848779537788, 77999.9918075985)\n",
      "└ @ DIVAnd C:\\Users\\a001109\\.julia\\packages\\DIVAnd\\Iwjb1\\src\\diva.jl:612\n",
      "┌ Info: scaled correlation length (min,max) in dimension 3: (10.0, 50.0)\n",
      "└ @ DIVAnd C:\\Users\\a001109\\.julia\\packages\\DIVAnd\\Iwjb1\\src\\diva.jl:612\n",
      "┌ Warning: resolution (13899.385465521233) is too coarse for correlation length 27344.109094788164 in dimension 2 at indices CartesianIndex(28, 3, 1) (skipping further tests). It is recommended that the resolution is at least 2 times finer than the correlation length.\n",
      "└ @ DIVAnd C:\\Users\\a001109\\.julia\\packages\\DIVAnd\\Iwjb1\\src\\utils.jl:18\n",
      "┌ Warning: resolution (50.0) is too coarse for correlation length 50.0 in dimension 3 at indices CartesianIndex(8, 1, 1) (skipping further tests). It is recommended that the resolution is at least 2 times finer than the correlation length.\n",
      "└ @ DIVAnd C:\\Users\\a001109\\.julia\\packages\\DIVAnd\\Iwjb1\\src\\utils.jl:18\n",
      "┌ Info: number of windows: 1\n",
      "└ @ DIVAnd C:\\Users\\a001109\\.julia\\packages\\DIVAnd\\Iwjb1\\src\\DIVAndgo.jl:110\n"
     ]
    },
    {
     "name": "stdout",
     "output_type": "stream",
     "text": [
      "timeindex = 2\n"
     ]
    },
    {
     "name": "stderr",
     "output_type": "stream",
     "text": [
      "┌ Info: Time step 3 / 8\n",
      "└ @ DIVAnd C:\\Users\\a001109\\.julia\\packages\\DIVAnd\\Iwjb1\\src\\diva.jl:427\n",
      "┌ Warning: Observations equal to NaN: 149\n",
      "└ @ DIVAnd C:\\Users\\a001109\\.julia\\packages\\DIVAnd\\Iwjb1\\src\\DIVAnd_obs.jl:45\n",
      "┌ Info: scaled correlation length (min,max) in dimension 1: (26007.848779537788, 77999.9918075985)\n",
      "└ @ DIVAnd C:\\Users\\a001109\\.julia\\packages\\DIVAnd\\Iwjb1\\src\\diva.jl:612\n",
      "┌ Info: scaled correlation length (min,max) in dimension 2: (26007.848779537788, 77999.9918075985)\n",
      "└ @ DIVAnd C:\\Users\\a001109\\.julia\\packages\\DIVAnd\\Iwjb1\\src\\diva.jl:612\n",
      "┌ Info: scaled correlation length (min,max) in dimension 3: (10.0, 50.0)\n",
      "└ @ DIVAnd C:\\Users\\a001109\\.julia\\packages\\DIVAnd\\Iwjb1\\src\\diva.jl:612\n",
      "┌ Warning: resolution (13899.385465521233) is too coarse for correlation length 27344.109094788164 in dimension 2 at indices CartesianIndex(28, 3, 1) (skipping further tests). It is recommended that the resolution is at least 2 times finer than the correlation length.\n",
      "└ @ DIVAnd C:\\Users\\a001109\\.julia\\packages\\DIVAnd\\Iwjb1\\src\\utils.jl:18\n",
      "┌ Warning: resolution (50.0) is too coarse for correlation length 50.0 in dimension 3 at indices CartesianIndex(8, 1, 1) (skipping further tests). It is recommended that the resolution is at least 2 times finer than the correlation length.\n",
      "└ @ DIVAnd C:\\Users\\a001109\\.julia\\packages\\DIVAnd\\Iwjb1\\src\\utils.jl:18\n"
     ]
    },
    {
     "name": "stdout",
     "output_type": "stream",
     "text": [
      "timeindex = 3\n"
     ]
    },
    {
     "name": "stderr",
     "output_type": "stream",
     "text": [
      "┌ Info: number of windows: 1\n",
      "└ @ DIVAnd C:\\Users\\a001109\\.julia\\packages\\DIVAnd\\Iwjb1\\src\\DIVAndgo.jl:110\n",
      "┌ Info: Time step 4 / 8\n",
      "└ @ DIVAnd C:\\Users\\a001109\\.julia\\packages\\DIVAnd\\Iwjb1\\src\\diva.jl:427\n",
      "┌ Warning: Observations equal to NaN: 156\n",
      "└ @ DIVAnd C:\\Users\\a001109\\.julia\\packages\\DIVAnd\\Iwjb1\\src\\DIVAnd_obs.jl:45\n",
      "┌ Info: scaled correlation length (min,max) in dimension 1: (26007.848779537788, 77999.9918075985)\n",
      "└ @ DIVAnd C:\\Users\\a001109\\.julia\\packages\\DIVAnd\\Iwjb1\\src\\diva.jl:612\n",
      "┌ Info: scaled correlation length (min,max) in dimension 2: (26007.848779537788, 77999.9918075985)\n",
      "└ @ DIVAnd C:\\Users\\a001109\\.julia\\packages\\DIVAnd\\Iwjb1\\src\\diva.jl:612\n",
      "┌ Info: scaled correlation length (min,max) in dimension 3: (10.0, 50.0)\n",
      "└ @ DIVAnd C:\\Users\\a001109\\.julia\\packages\\DIVAnd\\Iwjb1\\src\\diva.jl:612\n",
      "┌ Warning: resolution (13899.385465521233) is too coarse for correlation length 27344.109094788164 in dimension 2 at indices CartesianIndex(28, 3, 1) (skipping further tests). It is recommended that the resolution is at least 2 times finer than the correlation length.\n",
      "└ @ DIVAnd C:\\Users\\a001109\\.julia\\packages\\DIVAnd\\Iwjb1\\src\\utils.jl:18\n",
      "┌ Warning: resolution (50.0) is too coarse for correlation length 50.0 in dimension 3 at indices CartesianIndex(8, 1, 1) (skipping further tests). It is recommended that the resolution is at least 2 times finer than the correlation length.\n",
      "└ @ DIVAnd C:\\Users\\a001109\\.julia\\packages\\DIVAnd\\Iwjb1\\src\\utils.jl:18\n"
     ]
    },
    {
     "name": "stdout",
     "output_type": "stream",
     "text": [
      "timeindex = 4\n"
     ]
    },
    {
     "name": "stderr",
     "output_type": "stream",
     "text": [
      "┌ Info: number of windows: 1\n",
      "└ @ DIVAnd C:\\Users\\a001109\\.julia\\packages\\DIVAnd\\Iwjb1\\src\\DIVAndgo.jl:110\n",
      "┌ Info: Time step 5 / 8\n",
      "└ @ DIVAnd C:\\Users\\a001109\\.julia\\packages\\DIVAnd\\Iwjb1\\src\\diva.jl:427\n",
      "┌ Warning: Observations equal to NaN: 20\n",
      "└ @ DIVAnd C:\\Users\\a001109\\.julia\\packages\\DIVAnd\\Iwjb1\\src\\DIVAnd_obs.jl:45\n",
      "┌ Info: scaled correlation length (min,max) in dimension 1: (26007.848779537788, 77999.9918075985)\n",
      "└ @ DIVAnd C:\\Users\\a001109\\.julia\\packages\\DIVAnd\\Iwjb1\\src\\diva.jl:612\n",
      "┌ Info: scaled correlation length (min,max) in dimension 2: (26007.848779537788, 77999.9918075985)\n",
      "└ @ DIVAnd C:\\Users\\a001109\\.julia\\packages\\DIVAnd\\Iwjb1\\src\\diva.jl:612\n",
      "┌ Info: scaled correlation length (min,max) in dimension 3: (10.0, 50.0)\n",
      "└ @ DIVAnd C:\\Users\\a001109\\.julia\\packages\\DIVAnd\\Iwjb1\\src\\diva.jl:612\n",
      "┌ Warning: resolution (13899.385465521233) is too coarse for correlation length 27344.109094788164 in dimension 2 at indices CartesianIndex(28, 3, 1) (skipping further tests). It is recommended that the resolution is at least 2 times finer than the correlation length.\n",
      "└ @ DIVAnd C:\\Users\\a001109\\.julia\\packages\\DIVAnd\\Iwjb1\\src\\utils.jl:18\n",
      "┌ Warning: resolution (50.0) is too coarse for correlation length 50.0 in dimension 3 at indices CartesianIndex(8, 1, 1) (skipping further tests). It is recommended that the resolution is at least 2 times finer than the correlation length.\n",
      "└ @ DIVAnd C:\\Users\\a001109\\.julia\\packages\\DIVAnd\\Iwjb1\\src\\utils.jl:18\n",
      "┌ Info: number of windows: 1\n",
      "└ @ DIVAnd C:\\Users\\a001109\\.julia\\packages\\DIVAnd\\Iwjb1\\src\\DIVAndgo.jl:110\n"
     ]
    },
    {
     "name": "stdout",
     "output_type": "stream",
     "text": [
      "timeindex = 5\n"
     ]
    },
    {
     "name": "stderr",
     "output_type": "stream",
     "text": [
      "┌ Info: Time step 6 / 8\n",
      "└ @ DIVAnd C:\\Users\\a001109\\.julia\\packages\\DIVAnd\\Iwjb1\\src\\diva.jl:427\n",
      "┌ Warning: Observations equal to NaN: 24\n",
      "└ @ DIVAnd C:\\Users\\a001109\\.julia\\packages\\DIVAnd\\Iwjb1\\src\\DIVAnd_obs.jl:45\n",
      "┌ Info: scaled correlation length (min,max) in dimension 1: (26007.848779537788, 77999.9918075985)\n",
      "└ @ DIVAnd C:\\Users\\a001109\\.julia\\packages\\DIVAnd\\Iwjb1\\src\\diva.jl:612\n",
      "┌ Info: scaled correlation length (min,max) in dimension 2: (26007.848779537788, 77999.9918075985)\n",
      "└ @ DIVAnd C:\\Users\\a001109\\.julia\\packages\\DIVAnd\\Iwjb1\\src\\diva.jl:612\n",
      "┌ Info: scaled correlation length (min,max) in dimension 3: (10.0, 50.0)\n",
      "└ @ DIVAnd C:\\Users\\a001109\\.julia\\packages\\DIVAnd\\Iwjb1\\src\\diva.jl:612\n",
      "┌ Warning: resolution (13899.385465521233) is too coarse for correlation length 27344.109094788164 in dimension 2 at indices CartesianIndex(28, 3, 1) (skipping further tests). It is recommended that the resolution is at least 2 times finer than the correlation length.\n",
      "└ @ DIVAnd C:\\Users\\a001109\\.julia\\packages\\DIVAnd\\Iwjb1\\src\\utils.jl:18\n",
      "┌ Warning: resolution (50.0) is too coarse for correlation length 50.0 in dimension 3 at indices CartesianIndex(8, 1, 1) (skipping further tests). It is recommended that the resolution is at least 2 times finer than the correlation length.\n",
      "└ @ DIVAnd C:\\Users\\a001109\\.julia\\packages\\DIVAnd\\Iwjb1\\src\\utils.jl:18\n",
      "┌ Info: number of windows: 1\n",
      "└ @ DIVAnd C:\\Users\\a001109\\.julia\\packages\\DIVAnd\\Iwjb1\\src\\DIVAndgo.jl:110\n"
     ]
    },
    {
     "name": "stdout",
     "output_type": "stream",
     "text": [
      "timeindex = 6\n"
     ]
    },
    {
     "name": "stderr",
     "output_type": "stream",
     "text": [
      "┌ Info: Time step 7 / 8\n",
      "└ @ DIVAnd C:\\Users\\a001109\\.julia\\packages\\DIVAnd\\Iwjb1\\src\\diva.jl:427\n",
      "┌ Warning: Observations equal to NaN: 15\n",
      "└ @ DIVAnd C:\\Users\\a001109\\.julia\\packages\\DIVAnd\\Iwjb1\\src\\DIVAnd_obs.jl:45\n",
      "┌ Info: scaled correlation length (min,max) in dimension 1: (26007.848779537788, 77999.9918075985)\n",
      "└ @ DIVAnd C:\\Users\\a001109\\.julia\\packages\\DIVAnd\\Iwjb1\\src\\diva.jl:612\n",
      "┌ Info: scaled correlation length (min,max) in dimension 2: (26007.848779537788, 77999.9918075985)\n",
      "└ @ DIVAnd C:\\Users\\a001109\\.julia\\packages\\DIVAnd\\Iwjb1\\src\\diva.jl:612\n",
      "┌ Info: scaled correlation length (min,max) in dimension 3: (10.0, 50.0)\n",
      "└ @ DIVAnd C:\\Users\\a001109\\.julia\\packages\\DIVAnd\\Iwjb1\\src\\diva.jl:612\n",
      "┌ Warning: resolution (13899.385465521233) is too coarse for correlation length 27344.109094788164 in dimension 2 at indices CartesianIndex(28, 3, 1) (skipping further tests). It is recommended that the resolution is at least 2 times finer than the correlation length.\n",
      "└ @ DIVAnd C:\\Users\\a001109\\.julia\\packages\\DIVAnd\\Iwjb1\\src\\utils.jl:18\n",
      "┌ Warning: resolution (50.0) is too coarse for correlation length 50.0 in dimension 3 at indices CartesianIndex(8, 1, 1) (skipping further tests). It is recommended that the resolution is at least 2 times finer than the correlation length.\n",
      "└ @ DIVAnd C:\\Users\\a001109\\.julia\\packages\\DIVAnd\\Iwjb1\\src\\utils.jl:18\n",
      "┌ Info: number of windows: 1\n",
      "└ @ DIVAnd C:\\Users\\a001109\\.julia\\packages\\DIVAnd\\Iwjb1\\src\\DIVAndgo.jl:110\n"
     ]
    },
    {
     "name": "stdout",
     "output_type": "stream",
     "text": [
      "timeindex = 7\n"
     ]
    },
    {
     "name": "stderr",
     "output_type": "stream",
     "text": [
      "┌ Info: Time step 8 / 8\n",
      "└ @ DIVAnd C:\\Users\\a001109\\.julia\\packages\\DIVAnd\\Iwjb1\\src\\diva.jl:427\n",
      "┌ Warning: Observations equal to NaN: 2\n",
      "└ @ DIVAnd C:\\Users\\a001109\\.julia\\packages\\DIVAnd\\Iwjb1\\src\\DIVAnd_obs.jl:45\n",
      "┌ Info: scaled correlation length (min,max) in dimension 1: (26007.848779537788, 77999.9918075985)\n",
      "└ @ DIVAnd C:\\Users\\a001109\\.julia\\packages\\DIVAnd\\Iwjb1\\src\\diva.jl:612\n",
      "┌ Info: scaled correlation length (min,max) in dimension 2: (26007.848779537788, 77999.9918075985)\n",
      "└ @ DIVAnd C:\\Users\\a001109\\.julia\\packages\\DIVAnd\\Iwjb1\\src\\diva.jl:612\n",
      "┌ Info: scaled correlation length (min,max) in dimension 3: (10.0, 50.0)\n",
      "└ @ DIVAnd C:\\Users\\a001109\\.julia\\packages\\DIVAnd\\Iwjb1\\src\\diva.jl:612\n",
      "┌ Warning: resolution (13899.385465521233) is too coarse for correlation length 27344.109094788164 in dimension 2 at indices CartesianIndex(28, 3, 1) (skipping further tests). It is recommended that the resolution is at least 2 times finer than the correlation length.\n",
      "└ @ DIVAnd C:\\Users\\a001109\\.julia\\packages\\DIVAnd\\Iwjb1\\src\\utils.jl:18\n",
      "┌ Warning: resolution (50.0) is too coarse for correlation length 50.0 in dimension 3 at indices CartesianIndex(8, 1, 1) (skipping further tests). It is recommended that the resolution is at least 2 times finer than the correlation length.\n",
      "└ @ DIVAnd C:\\Users\\a001109\\.julia\\packages\\DIVAnd\\Iwjb1\\src\\utils.jl:18\n",
      "┌ Info: number of windows: 1\n",
      "└ @ DIVAnd C:\\Users\\a001109\\.julia\\packages\\DIVAnd\\Iwjb1\\src\\DIVAndgo.jl:110\n"
     ]
    },
    {
     "name": "stdout",
     "output_type": "stream",
     "text": [
      "timeindex = 8\n",
      " 24.810760 seconds (132.49 k allocations: 19.028 GiB, 15.08% gc time, 0.09% compilation time)\n"
     ]
    },
    {
     "name": "stderr",
     "output_type": "stream",
     "text": [
      "┌ Info: Creating new variable Oxygen_deepest\n",
      "└ @ DIVAnd C:\\Users\\a001109\\.julia\\packages\\DIVAnd\\Iwjb1\\src\\derived.jl:40\n",
      "┌ Info: Working on 14 depth layers\n",
      "└ @ DIVAnd C:\\Users\\a001109\\.julia\\packages\\DIVAnd\\Iwjb1\\src\\derived.jl:120\n",
      "┌ Info: size = (161, 57, 14)\n",
      "└ @ DIVAnd C:\\Users\\a001109\\.julia\\packages\\DIVAnd\\Iwjb1\\src\\derived.jl:125\n",
      "┌ Info: Creating new variable Oxygen_deepest_depth\n",
      "└ @ DIVAnd C:\\Users\\a001109\\.julia\\packages\\DIVAnd\\Iwjb1\\src\\derived.jl:131\n",
      "┌ Info: Depth index: 1\n",
      "└ @ DIVAnd C:\\Users\\a001109\\.julia\\packages\\DIVAnd\\Iwjb1\\src\\derived.jl:143\n",
      "┌ Info: Found 3248 non missing values for depth 0.0\n",
      "└ @ DIVAnd C:\\Users\\a001109\\.julia\\packages\\DIVAnd\\Iwjb1\\src\\derived.jl:146\n",
      "┌ Info: Depth index: 2\n",
      "└ @ DIVAnd C:\\Users\\a001109\\.julia\\packages\\DIVAnd\\Iwjb1\\src\\derived.jl:143\n",
      "┌ Info: Found 1281 non missing values for depth 50.0\n",
      "└ @ DIVAnd C:\\Users\\a001109\\.julia\\packages\\DIVAnd\\Iwjb1\\src\\derived.jl:146\n",
      "┌ Info: Depth index: 3\n",
      "└ @ DIVAnd C:\\Users\\a001109\\.julia\\packages\\DIVAnd\\Iwjb1\\src\\derived.jl:143\n",
      "┌ Info: Found 1182 non missing values for depth 55.0\n",
      "└ @ DIVAnd C:\\Users\\a001109\\.julia\\packages\\DIVAnd\\Iwjb1\\src\\derived.jl:146\n",
      "┌ Info: Depth index: 4\n",
      "└ @ DIVAnd C:\\Users\\a001109\\.julia\\packages\\DIVAnd\\Iwjb1\\src\\derived.jl:143\n",
      "┌ Info: Found 1082 non missing values for depth 60.0\n",
      "└ @ DIVAnd C:\\Users\\a001109\\.julia\\packages\\DIVAnd\\Iwjb1\\src\\derived.jl:146\n",
      "┌ Info: Depth index: 5\n",
      "└ @ DIVAnd C:\\Users\\a001109\\.julia\\packages\\DIVAnd\\Iwjb1\\src\\derived.jl:143\n",
      "┌ Info: Found 997 non missing values for depth 65.0\n",
      "└ @ DIVAnd C:\\Users\\a001109\\.julia\\packages\\DIVAnd\\Iwjb1\\src\\derived.jl:146\n",
      "┌ Info: Depth index: 6\n",
      "└ @ DIVAnd C:\\Users\\a001109\\.julia\\packages\\DIVAnd\\Iwjb1\\src\\derived.jl:143\n",
      "┌ Info: Found 910 non missing values for depth 70.0\n",
      "└ @ DIVAnd C:\\Users\\a001109\\.julia\\packages\\DIVAnd\\Iwjb1\\src\\derived.jl:146\n",
      "┌ Info: Depth index: 7\n",
      "└ @ DIVAnd C:\\Users\\a001109\\.julia\\packages\\DIVAnd\\Iwjb1\\src\\derived.jl:143\n",
      "┌ Info: Found 831 non missing values for depth 75.0\n",
      "└ @ DIVAnd C:\\Users\\a001109\\.julia\\packages\\DIVAnd\\Iwjb1\\src\\derived.jl:146\n",
      "┌ Info: Depth index: 8\n",
      "└ @ DIVAnd C:\\Users\\a001109\\.julia\\packages\\DIVAnd\\Iwjb1\\src\\derived.jl:143\n",
      "┌ Info: Found 747 non missing values for depth 80.0\n",
      "└ @ DIVAnd C:\\Users\\a001109\\.julia\\packages\\DIVAnd\\Iwjb1\\src\\derived.jl:146\n",
      "┌ Info: Depth index: 9\n",
      "└ @ DIVAnd C:\\Users\\a001109\\.julia\\packages\\DIVAnd\\Iwjb1\\src\\derived.jl:143\n",
      "┌ Info: Found 644 non missing values for depth 85.0\n",
      "└ @ DIVAnd C:\\Users\\a001109\\.julia\\packages\\DIVAnd\\Iwjb1\\src\\derived.jl:146\n",
      "┌ Info: Depth index: 10\n",
      "└ @ DIVAnd C:\\Users\\a001109\\.julia\\packages\\DIVAnd\\Iwjb1\\src\\derived.jl:143\n",
      "┌ Info: Found 565 non missing values for depth 90.0\n",
      "└ @ DIVAnd C:\\Users\\a001109\\.julia\\packages\\DIVAnd\\Iwjb1\\src\\derived.jl:146\n",
      "┌ Info: Depth index: 11\n",
      "└ @ DIVAnd C:\\Users\\a001109\\.julia\\packages\\DIVAnd\\Iwjb1\\src\\derived.jl:143\n",
      "┌ Info: Found 490 non missing values for depth 95.0\n",
      "└ @ DIVAnd C:\\Users\\a001109\\.julia\\packages\\DIVAnd\\Iwjb1\\src\\derived.jl:146\n",
      "┌ Info: Depth index: 12\n",
      "└ @ DIVAnd C:\\Users\\a001109\\.julia\\packages\\DIVAnd\\Iwjb1\\src\\derived.jl:143\n",
      "┌ Info: Found 423 non missing values for depth 100.0\n",
      "└ @ DIVAnd C:\\Users\\a001109\\.julia\\packages\\DIVAnd\\Iwjb1\\src\\derived.jl:146\n",
      "┌ Info: Depth index: 13\n",
      "└ @ DIVAnd C:\\Users\\a001109\\.julia\\packages\\DIVAnd\\Iwjb1\\src\\derived.jl:143\n",
      "┌ Info: Found 228 non missing values for depth 125.0\n",
      "└ @ DIVAnd C:\\Users\\a001109\\.julia\\packages\\DIVAnd\\Iwjb1\\src\\derived.jl:146\n",
      "┌ Info: Depth index: 14\n",
      "└ @ DIVAnd C:\\Users\\a001109\\.julia\\packages\\DIVAnd\\Iwjb1\\src\\derived.jl:143\n",
      "┌ Info: Found 121 non missing values for depth 150.0\n",
      "└ @ DIVAnd C:\\Users\\a001109\\.julia\\packages\\DIVAnd\\Iwjb1\\src\\derived.jl:146\n",
      "┌ Info: Written new variable deepest depth\n",
      "└ @ DIVAnd C:\\Users\\a001109\\.julia\\packages\\DIVAnd\\Iwjb1\\src\\derived.jl:152\n",
      "┌ Info: starting DIVAnd computations for Summer\n",
      "└ @ Main In[32]:3\n",
      "┌ Info: 2023-04-17T10:05:04.322\n",
      "└ @ Main In[32]:4\n",
      "┌ Info: Will write results in ./resultat/nc/O2/Oxygen_Summer_2012_0.4Danl.nc\n",
      "└ @ Main In[32]:55\n",
      "┌ Info: Creating netCDF file ./resultat/nc/O2/Oxygen_Summer_2012_0.4Danl.nc\n",
      "└ @ DIVAnd C:\\Users\\a001109\\.julia\\packages\\DIVAnd\\Iwjb1\\src\\diva.jl:374\n",
      "┌ Info: Time step 1 / 8\n",
      "└ @ DIVAnd C:\\Users\\a001109\\.julia\\packages\\DIVAnd\\Iwjb1\\src\\diva.jl:427\n",
      "┌ Warning: Observations equal to NaN: 249\n",
      "└ @ DIVAnd C:\\Users\\a001109\\.julia\\packages\\DIVAnd\\Iwjb1\\src\\DIVAnd_obs.jl:45\n",
      "┌ Info: scaled correlation length (min,max) in dimension 1: (26007.848779537788, 77999.9918075985)\n",
      "└ @ DIVAnd C:\\Users\\a001109\\.julia\\packages\\DIVAnd\\Iwjb1\\src\\diva.jl:612\n",
      "┌ Info: scaled correlation length (min,max) in dimension 2: (26007.848779537788, 77999.9918075985)\n",
      "└ @ DIVAnd C:\\Users\\a001109\\.julia\\packages\\DIVAnd\\Iwjb1\\src\\diva.jl:612\n",
      "┌ Info: scaled correlation length (min,max) in dimension 3: (10.0, 50.0)\n",
      "└ @ DIVAnd C:\\Users\\a001109\\.julia\\packages\\DIVAnd\\Iwjb1\\src\\diva.jl:612\n",
      "┌ Warning: resolution (13899.385465521233) is too coarse for correlation length 27344.109094788164 in dimension 2 at indices CartesianIndex(28, 3, 1) (skipping further tests). It is recommended that the resolution is at least 2 times finer than the correlation length.\n",
      "└ @ DIVAnd C:\\Users\\a001109\\.julia\\packages\\DIVAnd\\Iwjb1\\src\\utils.jl:18\n",
      "┌ Warning: resolution (50.0) is too coarse for correlation length 50.0 in dimension 3 at indices CartesianIndex(8, 1, 1) (skipping further tests). It is recommended that the resolution is at least 2 times finer than the correlation length.\n",
      "└ @ DIVAnd C:\\Users\\a001109\\.julia\\packages\\DIVAnd\\Iwjb1\\src\\utils.jl:18\n"
     ]
    },
    {
     "name": "stdout",
     "output_type": "stream",
     "text": [
      "timeindex = 1\n"
     ]
    },
    {
     "name": "stderr",
     "output_type": "stream",
     "text": [
      "┌ Info: number of windows: 1\n",
      "└ @ DIVAnd C:\\Users\\a001109\\.julia\\packages\\DIVAnd\\Iwjb1\\src\\DIVAndgo.jl:110\n",
      "┌ Info: Time step 2 / 8\n",
      "└ @ DIVAnd C:\\Users\\a001109\\.julia\\packages\\DIVAnd\\Iwjb1\\src\\diva.jl:427\n",
      "┌ Warning: Observations equal to NaN: 185\n",
      "└ @ DIVAnd C:\\Users\\a001109\\.julia\\packages\\DIVAnd\\Iwjb1\\src\\DIVAnd_obs.jl:45\n",
      "┌ Info: scaled correlation length (min,max) in dimension 1: (26007.848779537788, 77999.9918075985)\n",
      "└ @ DIVAnd C:\\Users\\a001109\\.julia\\packages\\DIVAnd\\Iwjb1\\src\\diva.jl:612\n",
      "┌ Info: scaled correlation length (min,max) in dimension 2: (26007.848779537788, 77999.9918075985)\n",
      "└ @ DIVAnd C:\\Users\\a001109\\.julia\\packages\\DIVAnd\\Iwjb1\\src\\diva.jl:612\n",
      "┌ Info: scaled correlation length (min,max) in dimension 3: (10.0, 50.0)\n",
      "└ @ DIVAnd C:\\Users\\a001109\\.julia\\packages\\DIVAnd\\Iwjb1\\src\\diva.jl:612\n",
      "┌ Warning: resolution (13899.385465521233) is too coarse for correlation length 27344.109094788164 in dimension 2 at indices CartesianIndex(28, 3, 1) (skipping further tests). It is recommended that the resolution is at least 2 times finer than the correlation length.\n",
      "└ @ DIVAnd C:\\Users\\a001109\\.julia\\packages\\DIVAnd\\Iwjb1\\src\\utils.jl:18\n",
      "┌ Warning: resolution (50.0) is too coarse for correlation length 50.0 in dimension 3 at indices CartesianIndex(8, 1, 1) (skipping further tests). It is recommended that the resolution is at least 2 times finer than the correlation length.\n",
      "└ @ DIVAnd C:\\Users\\a001109\\.julia\\packages\\DIVAnd\\Iwjb1\\src\\utils.jl:18\n",
      "┌ Info: number of windows: 1\n",
      "└ @ DIVAnd C:\\Users\\a001109\\.julia\\packages\\DIVAnd\\Iwjb1\\src\\DIVAndgo.jl:110\n"
     ]
    },
    {
     "name": "stdout",
     "output_type": "stream",
     "text": [
      "timeindex = 2\n"
     ]
    },
    {
     "name": "stderr",
     "output_type": "stream",
     "text": [
      "┌ Info: Time step 3 / 8\n",
      "└ @ DIVAnd C:\\Users\\a001109\\.julia\\packages\\DIVAnd\\Iwjb1\\src\\diva.jl:427\n",
      "┌ Warning: Observations equal to NaN: 175\n",
      "└ @ DIVAnd C:\\Users\\a001109\\.julia\\packages\\DIVAnd\\Iwjb1\\src\\DIVAnd_obs.jl:45\n",
      "┌ Info: scaled correlation length (min,max) in dimension 1: (26007.848779537788, 77999.9918075985)\n",
      "└ @ DIVAnd C:\\Users\\a001109\\.julia\\packages\\DIVAnd\\Iwjb1\\src\\diva.jl:612\n",
      "┌ Info: scaled correlation length (min,max) in dimension 2: (26007.848779537788, 77999.9918075985)\n",
      "└ @ DIVAnd C:\\Users\\a001109\\.julia\\packages\\DIVAnd\\Iwjb1\\src\\diva.jl:612\n",
      "┌ Info: scaled correlation length (min,max) in dimension 3: (10.0, 50.0)\n",
      "└ @ DIVAnd C:\\Users\\a001109\\.julia\\packages\\DIVAnd\\Iwjb1\\src\\diva.jl:612\n",
      "┌ Warning: resolution (13899.385465521233) is too coarse for correlation length 27344.109094788164 in dimension 2 at indices CartesianIndex(28, 3, 1) (skipping further tests). It is recommended that the resolution is at least 2 times finer than the correlation length.\n",
      "└ @ DIVAnd C:\\Users\\a001109\\.julia\\packages\\DIVAnd\\Iwjb1\\src\\utils.jl:18\n",
      "┌ Warning: resolution (50.0) is too coarse for correlation length 50.0 in dimension 3 at indices CartesianIndex(8, 1, 1) (skipping further tests). It is recommended that the resolution is at least 2 times finer than the correlation length.\n",
      "└ @ DIVAnd C:\\Users\\a001109\\.julia\\packages\\DIVAnd\\Iwjb1\\src\\utils.jl:18\n"
     ]
    },
    {
     "name": "stdout",
     "output_type": "stream",
     "text": [
      "timeindex = 3\n"
     ]
    },
    {
     "name": "stderr",
     "output_type": "stream",
     "text": [
      "┌ Info: number of windows: 1\n",
      "└ @ DIVAnd C:\\Users\\a001109\\.julia\\packages\\DIVAnd\\Iwjb1\\src\\DIVAndgo.jl:110\n",
      "┌ Info: Time step 4 / 8\n",
      "└ @ DIVAnd C:\\Users\\a001109\\.julia\\packages\\DIVAnd\\Iwjb1\\src\\diva.jl:427\n",
      "┌ Warning: Observations equal to NaN: 208\n",
      "└ @ DIVAnd C:\\Users\\a001109\\.julia\\packages\\DIVAnd\\Iwjb1\\src\\DIVAnd_obs.jl:45\n",
      "┌ Info: scaled correlation length (min,max) in dimension 1: (26007.848779537788, 77999.9918075985)\n",
      "└ @ DIVAnd C:\\Users\\a001109\\.julia\\packages\\DIVAnd\\Iwjb1\\src\\diva.jl:612\n",
      "┌ Info: scaled correlation length (min,max) in dimension 2: (26007.848779537788, 77999.9918075985)\n",
      "└ @ DIVAnd C:\\Users\\a001109\\.julia\\packages\\DIVAnd\\Iwjb1\\src\\diva.jl:612\n",
      "┌ Info: scaled correlation length (min,max) in dimension 3: (10.0, 50.0)\n",
      "└ @ DIVAnd C:\\Users\\a001109\\.julia\\packages\\DIVAnd\\Iwjb1\\src\\diva.jl:612\n",
      "┌ Warning: resolution (13899.385465521233) is too coarse for correlation length 27344.109094788164 in dimension 2 at indices CartesianIndex(28, 3, 1) (skipping further tests). It is recommended that the resolution is at least 2 times finer than the correlation length.\n",
      "└ @ DIVAnd C:\\Users\\a001109\\.julia\\packages\\DIVAnd\\Iwjb1\\src\\utils.jl:18\n",
      "┌ Warning: resolution (50.0) is too coarse for correlation length 50.0 in dimension 3 at indices CartesianIndex(8, 1, 1) (skipping further tests). It is recommended that the resolution is at least 2 times finer than the correlation length.\n",
      "└ @ DIVAnd C:\\Users\\a001109\\.julia\\packages\\DIVAnd\\Iwjb1\\src\\utils.jl:18\n"
     ]
    },
    {
     "name": "stdout",
     "output_type": "stream",
     "text": [
      "timeindex = 4"
     ]
    },
    {
     "name": "stderr",
     "output_type": "stream",
     "text": [
      "┌ Info: number of windows: 1\n",
      "└ @ DIVAnd C:\\Users\\a001109\\.julia\\packages\\DIVAnd\\Iwjb1\\src\\DIVAndgo.jl:110\n"
     ]
    },
    {
     "name": "stdout",
     "output_type": "stream",
     "text": [
      "\n"
     ]
    },
    {
     "name": "stderr",
     "output_type": "stream",
     "text": [
      "┌ Info: Time step 5 / 8\n",
      "└ @ DIVAnd C:\\Users\\a001109\\.julia\\packages\\DIVAnd\\Iwjb1\\src\\diva.jl:427\n",
      "┌ Warning: Observations equal to NaN: 115\n",
      "└ @ DIVAnd C:\\Users\\a001109\\.julia\\packages\\DIVAnd\\Iwjb1\\src\\DIVAnd_obs.jl:45\n",
      "┌ Info: scaled correlation length (min,max) in dimension 1: (26007.848779537788, 77999.9918075985)\n",
      "└ @ DIVAnd C:\\Users\\a001109\\.julia\\packages\\DIVAnd\\Iwjb1\\src\\diva.jl:612\n",
      "┌ Info: scaled correlation length (min,max) in dimension 2: (26007.848779537788, 77999.9918075985)\n",
      "└ @ DIVAnd C:\\Users\\a001109\\.julia\\packages\\DIVAnd\\Iwjb1\\src\\diva.jl:612\n",
      "┌ Info: scaled correlation length (min,max) in dimension 3: (10.0, 50.0)\n",
      "└ @ DIVAnd C:\\Users\\a001109\\.julia\\packages\\DIVAnd\\Iwjb1\\src\\diva.jl:612\n",
      "┌ Warning: resolution (13899.385465521233) is too coarse for correlation length 27344.109094788164 in dimension 2 at indices CartesianIndex(28, 3, 1) (skipping further tests). It is recommended that the resolution is at least 2 times finer than the correlation length.\n",
      "└ @ DIVAnd C:\\Users\\a001109\\.julia\\packages\\DIVAnd\\Iwjb1\\src\\utils.jl:18\n",
      "┌ Warning: resolution (50.0) is too coarse for correlation length 50.0 in dimension 3 at indices CartesianIndex(8, 1, 1) (skipping further tests). It is recommended that the resolution is at least 2 times finer than the correlation length.\n",
      "└ @ DIVAnd C:\\Users\\a001109\\.julia\\packages\\DIVAnd\\Iwjb1\\src\\utils.jl:18\n",
      "┌ Info: number of windows: 1\n",
      "└ @ DIVAnd C:\\Users\\a001109\\.julia\\packages\\DIVAnd\\Iwjb1\\src\\DIVAndgo.jl:110\n"
     ]
    },
    {
     "name": "stdout",
     "output_type": "stream",
     "text": [
      "timeindex = 5\n"
     ]
    },
    {
     "name": "stderr",
     "output_type": "stream",
     "text": [
      "┌ Info: Time step 6 / 8\n",
      "└ @ DIVAnd C:\\Users\\a001109\\.julia\\packages\\DIVAnd\\Iwjb1\\src\\diva.jl:427\n",
      "┌ Warning: Observations equal to NaN: 137\n",
      "└ @ DIVAnd C:\\Users\\a001109\\.julia\\packages\\DIVAnd\\Iwjb1\\src\\DIVAnd_obs.jl:45\n",
      "┌ Info: scaled correlation length (min,max) in dimension 1: (26007.848779537788, 77999.9918075985)\n",
      "└ @ DIVAnd C:\\Users\\a001109\\.julia\\packages\\DIVAnd\\Iwjb1\\src\\diva.jl:612\n",
      "┌ Info: scaled correlation length (min,max) in dimension 2: (26007.848779537788, 77999.9918075985)\n",
      "└ @ DIVAnd C:\\Users\\a001109\\.julia\\packages\\DIVAnd\\Iwjb1\\src\\diva.jl:612\n",
      "┌ Info: scaled correlation length (min,max) in dimension 3: (10.0, 50.0)\n",
      "└ @ DIVAnd C:\\Users\\a001109\\.julia\\packages\\DIVAnd\\Iwjb1\\src\\diva.jl:612\n",
      "┌ Warning: resolution (13899.385465521233) is too coarse for correlation length 27344.109094788164 in dimension 2 at indices CartesianIndex(28, 3, 1) (skipping further tests). It is recommended that the resolution is at least 2 times finer than the correlation length.\n",
      "└ @ DIVAnd C:\\Users\\a001109\\.julia\\packages\\DIVAnd\\Iwjb1\\src\\utils.jl:18\n",
      "┌ Warning: resolution (50.0) is too coarse for correlation length 50.0 in dimension 3 at indices CartesianIndex(8, 1, 1) (skipping further tests). It is recommended that the resolution is at least 2 times finer than the correlation length.\n",
      "└ @ DIVAnd C:\\Users\\a001109\\.julia\\packages\\DIVAnd\\Iwjb1\\src\\utils.jl:18\n",
      "┌ Info: number of windows: 1\n",
      "└ @ DIVAnd C:\\Users\\a001109\\.julia\\packages\\DIVAnd\\Iwjb1\\src\\DIVAndgo.jl:110\n"
     ]
    },
    {
     "name": "stdout",
     "output_type": "stream",
     "text": [
      "timeindex = 6\n"
     ]
    },
    {
     "name": "stderr",
     "output_type": "stream",
     "text": [
      "┌ Info: Time step 7 / 8\n",
      "└ @ DIVAnd C:\\Users\\a001109\\.julia\\packages\\DIVAnd\\Iwjb1\\src\\diva.jl:427\n",
      "┌ Warning: Observations equal to NaN: 47\n",
      "└ @ DIVAnd C:\\Users\\a001109\\.julia\\packages\\DIVAnd\\Iwjb1\\src\\DIVAnd_obs.jl:45\n",
      "┌ Info: scaled correlation length (min,max) in dimension 1: (26007.848779537788, 77999.9918075985)\n",
      "└ @ DIVAnd C:\\Users\\a001109\\.julia\\packages\\DIVAnd\\Iwjb1\\src\\diva.jl:612\n",
      "┌ Info: scaled correlation length (min,max) in dimension 2: (26007.848779537788, 77999.9918075985)\n",
      "└ @ DIVAnd C:\\Users\\a001109\\.julia\\packages\\DIVAnd\\Iwjb1\\src\\diva.jl:612\n",
      "┌ Info: scaled correlation length (min,max) in dimension 3: (10.0, 50.0)\n",
      "└ @ DIVAnd C:\\Users\\a001109\\.julia\\packages\\DIVAnd\\Iwjb1\\src\\diva.jl:612\n",
      "┌ Warning: resolution (13899.385465521233) is too coarse for correlation length 27344.109094788164 in dimension 2 at indices CartesianIndex(28, 3, 1) (skipping further tests). It is recommended that the resolution is at least 2 times finer than the correlation length.\n",
      "└ @ DIVAnd C:\\Users\\a001109\\.julia\\packages\\DIVAnd\\Iwjb1\\src\\utils.jl:18\n",
      "┌ Warning: resolution (50.0) is too coarse for correlation length 50.0 in dimension 3 at indices CartesianIndex(8, 1, 1) (skipping further tests). It is recommended that the resolution is at least 2 times finer than the correlation length.\n",
      "└ @ DIVAnd C:\\Users\\a001109\\.julia\\packages\\DIVAnd\\Iwjb1\\src\\utils.jl:18\n",
      "┌ Info: number of windows: 1\n",
      "└ @ DIVAnd C:\\Users\\a001109\\.julia\\packages\\DIVAnd\\Iwjb1\\src\\DIVAndgo.jl:110\n"
     ]
    },
    {
     "name": "stdout",
     "output_type": "stream",
     "text": [
      "timeindex = 7\n"
     ]
    },
    {
     "name": "stderr",
     "output_type": "stream",
     "text": [
      "┌ Info: Time step 8 / 8\n",
      "└ @ DIVAnd C:\\Users\\a001109\\.julia\\packages\\DIVAnd\\Iwjb1\\src\\diva.jl:427\n",
      "┌ Warning: Observations equal to NaN: 110\n",
      "└ @ DIVAnd C:\\Users\\a001109\\.julia\\packages\\DIVAnd\\Iwjb1\\src\\DIVAnd_obs.jl:45\n",
      "┌ Info: scaled correlation length (min,max) in dimension 1: (26007.848779537788, 77999.9918075985)\n",
      "└ @ DIVAnd C:\\Users\\a001109\\.julia\\packages\\DIVAnd\\Iwjb1\\src\\diva.jl:612\n",
      "┌ Info: scaled correlation length (min,max) in dimension 2: (26007.848779537788, 77999.9918075985)\n",
      "└ @ DIVAnd C:\\Users\\a001109\\.julia\\packages\\DIVAnd\\Iwjb1\\src\\diva.jl:612\n",
      "┌ Info: scaled correlation length (min,max) in dimension 3: (10.0, 50.0)\n",
      "└ @ DIVAnd C:\\Users\\a001109\\.julia\\packages\\DIVAnd\\Iwjb1\\src\\diva.jl:612\n",
      "┌ Warning: resolution (13899.385465521233) is too coarse for correlation length 27344.109094788164 in dimension 2 at indices CartesianIndex(28, 3, 1) (skipping further tests). It is recommended that the resolution is at least 2 times finer than the correlation length.\n",
      "└ @ DIVAnd C:\\Users\\a001109\\.julia\\packages\\DIVAnd\\Iwjb1\\src\\utils.jl:18\n",
      "┌ Warning: resolution (50.0) is too coarse for correlation length 50.0 in dimension 3 at indices CartesianIndex(8, 1, 1) (skipping further tests). It is recommended that the resolution is at least 2 times finer than the correlation length.\n",
      "└ @ DIVAnd C:\\Users\\a001109\\.julia\\packages\\DIVAnd\\Iwjb1\\src\\utils.jl:18\n",
      "┌ Info: number of windows: 1\n",
      "└ @ DIVAnd C:\\Users\\a001109\\.julia\\packages\\DIVAnd\\Iwjb1\\src\\DIVAndgo.jl:110\n"
     ]
    },
    {
     "name": "stdout",
     "output_type": "stream",
     "text": [
      "timeindex = 8\n",
      " 23.855325 seconds (112.14 k allocations: 18.979 GiB, 14.68% gc time)\n"
     ]
    },
    {
     "name": "stderr",
     "output_type": "stream",
     "text": [
      "┌ Info: Creating new variable Oxygen_deepest\n",
      "└ @ DIVAnd C:\\Users\\a001109\\.julia\\packages\\DIVAnd\\Iwjb1\\src\\derived.jl:40\n",
      "┌ Info: Working on 14 depth layers\n",
      "└ @ DIVAnd C:\\Users\\a001109\\.julia\\packages\\DIVAnd\\Iwjb1\\src\\derived.jl:120\n",
      "┌ Info: size = (161, 57, 14)\n",
      "└ @ DIVAnd C:\\Users\\a001109\\.julia\\packages\\DIVAnd\\Iwjb1\\src\\derived.jl:125\n",
      "┌ Info: Creating new variable Oxygen_deepest_depth\n",
      "└ @ DIVAnd C:\\Users\\a001109\\.julia\\packages\\DIVAnd\\Iwjb1\\src\\derived.jl:131\n",
      "┌ Info: Depth index: 1\n",
      "└ @ DIVAnd C:\\Users\\a001109\\.julia\\packages\\DIVAnd\\Iwjb1\\src\\derived.jl:143\n",
      "┌ Info: Found 3248 non missing values for depth 0.0\n",
      "└ @ DIVAnd C:\\Users\\a001109\\.julia\\packages\\DIVAnd\\Iwjb1\\src\\derived.jl:146\n",
      "┌ Info: Depth index: 2\n",
      "└ @ DIVAnd C:\\Users\\a001109\\.julia\\packages\\DIVAnd\\Iwjb1\\src\\derived.jl:143\n",
      "┌ Info: Found 1281 non missing values for depth 50.0\n",
      "└ @ DIVAnd C:\\Users\\a001109\\.julia\\packages\\DIVAnd\\Iwjb1\\src\\derived.jl:146\n",
      "┌ Info: Depth index: 3\n",
      "└ @ DIVAnd C:\\Users\\a001109\\.julia\\packages\\DIVAnd\\Iwjb1\\src\\derived.jl:143\n",
      "┌ Info: Found 1182 non missing values for depth 55.0\n",
      "└ @ DIVAnd C:\\Users\\a001109\\.julia\\packages\\DIVAnd\\Iwjb1\\src\\derived.jl:146\n",
      "┌ Info: Depth index: 4\n",
      "└ @ DIVAnd C:\\Users\\a001109\\.julia\\packages\\DIVAnd\\Iwjb1\\src\\derived.jl:143\n",
      "┌ Info: Found 1082 non missing values for depth 60.0\n",
      "└ @ DIVAnd C:\\Users\\a001109\\.julia\\packages\\DIVAnd\\Iwjb1\\src\\derived.jl:146\n",
      "┌ Info: Depth index: 5\n",
      "└ @ DIVAnd C:\\Users\\a001109\\.julia\\packages\\DIVAnd\\Iwjb1\\src\\derived.jl:143\n",
      "┌ Info: Found 997 non missing values for depth 65.0\n",
      "└ @ DIVAnd C:\\Users\\a001109\\.julia\\packages\\DIVAnd\\Iwjb1\\src\\derived.jl:146\n",
      "┌ Info: Depth index: 6\n",
      "└ @ DIVAnd C:\\Users\\a001109\\.julia\\packages\\DIVAnd\\Iwjb1\\src\\derived.jl:143\n",
      "┌ Info: Found 910 non missing values for depth 70.0\n",
      "└ @ DIVAnd C:\\Users\\a001109\\.julia\\packages\\DIVAnd\\Iwjb1\\src\\derived.jl:146\n",
      "┌ Info: Depth index: 7\n",
      "└ @ DIVAnd C:\\Users\\a001109\\.julia\\packages\\DIVAnd\\Iwjb1\\src\\derived.jl:143\n",
      "┌ Info: Found 831 non missing values for depth 75.0\n",
      "└ @ DIVAnd C:\\Users\\a001109\\.julia\\packages\\DIVAnd\\Iwjb1\\src\\derived.jl:146\n",
      "┌ Info: Depth index: 8\n",
      "└ @ DIVAnd C:\\Users\\a001109\\.julia\\packages\\DIVAnd\\Iwjb1\\src\\derived.jl:143\n",
      "┌ Info: Found 747 non missing values for depth 80.0\n",
      "└ @ DIVAnd C:\\Users\\a001109\\.julia\\packages\\DIVAnd\\Iwjb1\\src\\derived.jl:146\n",
      "┌ Info: Depth index: 9\n",
      "└ @ DIVAnd C:\\Users\\a001109\\.julia\\packages\\DIVAnd\\Iwjb1\\src\\derived.jl:143\n",
      "┌ Info: Found 644 non missing values for depth 85.0\n",
      "└ @ DIVAnd C:\\Users\\a001109\\.julia\\packages\\DIVAnd\\Iwjb1\\src\\derived.jl:146\n",
      "┌ Info: Depth index: 10\n",
      "└ @ DIVAnd C:\\Users\\a001109\\.julia\\packages\\DIVAnd\\Iwjb1\\src\\derived.jl:143\n",
      "┌ Info: Found 565 non missing values for depth 90.0\n",
      "└ @ DIVAnd C:\\Users\\a001109\\.julia\\packages\\DIVAnd\\Iwjb1\\src\\derived.jl:146\n",
      "┌ Info: Depth index: 11\n",
      "└ @ DIVAnd C:\\Users\\a001109\\.julia\\packages\\DIVAnd\\Iwjb1\\src\\derived.jl:143\n",
      "┌ Info: Found 490 non missing values for depth 95.0\n",
      "└ @ DIVAnd C:\\Users\\a001109\\.julia\\packages\\DIVAnd\\Iwjb1\\src\\derived.jl:146\n",
      "┌ Info: Depth index: 12\n",
      "└ @ DIVAnd C:\\Users\\a001109\\.julia\\packages\\DIVAnd\\Iwjb1\\src\\derived.jl:143\n",
      "┌ Info: Found 423 non missing values for depth 100.0\n",
      "└ @ DIVAnd C:\\Users\\a001109\\.julia\\packages\\DIVAnd\\Iwjb1\\src\\derived.jl:146\n",
      "┌ Info: Depth index: 13\n",
      "└ @ DIVAnd C:\\Users\\a001109\\.julia\\packages\\DIVAnd\\Iwjb1\\src\\derived.jl:143\n",
      "┌ Info: Found 228 non missing values for depth 125.0\n",
      "└ @ DIVAnd C:\\Users\\a001109\\.julia\\packages\\DIVAnd\\Iwjb1\\src\\derived.jl:146\n",
      "┌ Info: Depth index: 14\n",
      "└ @ DIVAnd C:\\Users\\a001109\\.julia\\packages\\DIVAnd\\Iwjb1\\src\\derived.jl:143\n",
      "┌ Info: Found 121 non missing values for depth 150.0\n",
      "└ @ DIVAnd C:\\Users\\a001109\\.julia\\packages\\DIVAnd\\Iwjb1\\src\\derived.jl:146\n",
      "┌ Info: Written new variable deepest depth\n",
      "└ @ DIVAnd C:\\Users\\a001109\\.julia\\packages\\DIVAnd\\Iwjb1\\src\\derived.jl:152\n",
      "┌ Info: starting DIVAnd computations for Autumn\n",
      "└ @ Main In[32]:3\n",
      "┌ Info: 2023-04-17T10:05:32.955\n",
      "└ @ Main In[32]:4\n",
      "┌ Info: Will write results in ./resultat/nc/O2/Oxygen_Autumn_2013_0.4Danl.nc\n",
      "└ @ Main In[32]:55\n",
      "┌ Info: Creating netCDF file ./resultat/nc/O2/Oxygen_Autumn_2013_0.4Danl.nc\n",
      "└ @ DIVAnd C:\\Users\\a001109\\.julia\\packages\\DIVAnd\\Iwjb1\\src\\diva.jl:374\n",
      "┌ Info: Time step 1 / 8\n",
      "└ @ DIVAnd C:\\Users\\a001109\\.julia\\packages\\DIVAnd\\Iwjb1\\src\\diva.jl:427\n",
      "┌ Warning: Observations equal to NaN: 336\n",
      "└ @ DIVAnd C:\\Users\\a001109\\.julia\\packages\\DIVAnd\\Iwjb1\\src\\DIVAnd_obs.jl:45\n",
      "┌ Info: scaled correlation length (min,max) in dimension 1: (26007.848779537788, 77999.9918075985)\n",
      "└ @ DIVAnd C:\\Users\\a001109\\.julia\\packages\\DIVAnd\\Iwjb1\\src\\diva.jl:612\n",
      "┌ Info: scaled correlation length (min,max) in dimension 2: (26007.848779537788, 77999.9918075985)\n",
      "└ @ DIVAnd C:\\Users\\a001109\\.julia\\packages\\DIVAnd\\Iwjb1\\src\\diva.jl:612\n",
      "┌ Info: scaled correlation length (min,max) in dimension 3: (10.0, 50.0)\n",
      "└ @ DIVAnd C:\\Users\\a001109\\.julia\\packages\\DIVAnd\\Iwjb1\\src\\diva.jl:612\n",
      "┌ Warning: resolution (13899.385465521233) is too coarse for correlation length 27344.109094788164 in dimension 2 at indices CartesianIndex(28, 3, 1) (skipping further tests). It is recommended that the resolution is at least 2 times finer than the correlation length.\n",
      "└ @ DIVAnd C:\\Users\\a001109\\.julia\\packages\\DIVAnd\\Iwjb1\\src\\utils.jl:18\n",
      "┌ Warning: resolution (50.0) is too coarse for correlation length 50.0 in dimension 3 at indices CartesianIndex(8, 1, 1) (skipping further tests). It is recommended that the resolution is at least 2 times finer than the correlation length.\n",
      "└ @ DIVAnd C:\\Users\\a001109\\.julia\\packages\\DIVAnd\\Iwjb1\\src\\utils.jl:18\n",
      "┌ Info: number of windows: 1\n",
      "└ @ DIVAnd C:\\Users\\a001109\\.julia\\packages\\DIVAnd\\Iwjb1\\src\\DIVAndgo.jl:110\n"
     ]
    },
    {
     "name": "stdout",
     "output_type": "stream",
     "text": [
      "timeindex = 1\n"
     ]
    },
    {
     "name": "stderr",
     "output_type": "stream",
     "text": [
      "┌ Info: Time step 2 / 8\n",
      "└ @ DIVAnd C:\\Users\\a001109\\.julia\\packages\\DIVAnd\\Iwjb1\\src\\diva.jl:427\n",
      "┌ Warning: Observations equal to NaN: 201\n",
      "└ @ DIVAnd C:\\Users\\a001109\\.julia\\packages\\DIVAnd\\Iwjb1\\src\\DIVAnd_obs.jl:45\n",
      "┌ Info: scaled correlation length (min,max) in dimension 1: (26007.848779537788, 77999.9918075985)\n",
      "└ @ DIVAnd C:\\Users\\a001109\\.julia\\packages\\DIVAnd\\Iwjb1\\src\\diva.jl:612\n",
      "┌ Info: scaled correlation length (min,max) in dimension 2: (26007.848779537788, 77999.9918075985)\n",
      "└ @ DIVAnd C:\\Users\\a001109\\.julia\\packages\\DIVAnd\\Iwjb1\\src\\diva.jl:612\n",
      "┌ Info: scaled correlation length (min,max) in dimension 3: (10.0, 50.0)\n",
      "└ @ DIVAnd C:\\Users\\a001109\\.julia\\packages\\DIVAnd\\Iwjb1\\src\\diva.jl:612\n",
      "┌ Warning: resolution (13899.385465521233) is too coarse for correlation length 27344.109094788164 in dimension 2 at indices CartesianIndex(28, 3, 1) (skipping further tests). It is recommended that the resolution is at least 2 times finer than the correlation length.\n",
      "└ @ DIVAnd C:\\Users\\a001109\\.julia\\packages\\DIVAnd\\Iwjb1\\src\\utils.jl:18\n",
      "┌ Warning: resolution (50.0) is too coarse for correlation length 50.0 in dimension 3 at indices CartesianIndex(8, 1, 1) (skipping further tests). It is recommended that the resolution is at least 2 times finer than the correlation length.\n",
      "└ @ DIVAnd C:\\Users\\a001109\\.julia\\packages\\DIVAnd\\Iwjb1\\src\\utils.jl:18\n",
      "┌ Info: number of windows: 1\n",
      "└ @ DIVAnd C:\\Users\\a001109\\.julia\\packages\\DIVAnd\\Iwjb1\\src\\DIVAndgo.jl:110\n"
     ]
    },
    {
     "name": "stdout",
     "output_type": "stream",
     "text": [
      "timeindex = 2\n"
     ]
    },
    {
     "name": "stderr",
     "output_type": "stream",
     "text": [
      "┌ Info: Time step 3 / 8\n",
      "└ @ DIVAnd C:\\Users\\a001109\\.julia\\packages\\DIVAnd\\Iwjb1\\src\\diva.jl:427\n",
      "┌ Warning: Observations equal to NaN: 198\n",
      "└ @ DIVAnd C:\\Users\\a001109\\.julia\\packages\\DIVAnd\\Iwjb1\\src\\DIVAnd_obs.jl:45\n",
      "┌ Info: scaled correlation length (min,max) in dimension 1: (26007.848779537788, 77999.9918075985)\n",
      "└ @ DIVAnd C:\\Users\\a001109\\.julia\\packages\\DIVAnd\\Iwjb1\\src\\diva.jl:612\n",
      "┌ Info: scaled correlation length (min,max) in dimension 2: (26007.848779537788, 77999.9918075985)\n",
      "└ @ DIVAnd C:\\Users\\a001109\\.julia\\packages\\DIVAnd\\Iwjb1\\src\\diva.jl:612\n",
      "┌ Info: scaled correlation length (min,max) in dimension 3: (10.0, 50.0)\n",
      "└ @ DIVAnd C:\\Users\\a001109\\.julia\\packages\\DIVAnd\\Iwjb1\\src\\diva.jl:612\n",
      "┌ Warning: resolution (13899.385465521233) is too coarse for correlation length 27344.109094788164 in dimension 2 at indices CartesianIndex(28, 3, 1) (skipping further tests). It is recommended that the resolution is at least 2 times finer than the correlation length.\n",
      "└ @ DIVAnd C:\\Users\\a001109\\.julia\\packages\\DIVAnd\\Iwjb1\\src\\utils.jl:18\n",
      "┌ Warning: resolution (50.0) is too coarse for correlation length 50.0 in dimension 3 at indices CartesianIndex(8, 1, 1) (skipping further tests). It is recommended that the resolution is at least 2 times finer than the correlation length.\n",
      "└ @ DIVAnd C:\\Users\\a001109\\.julia\\packages\\DIVAnd\\Iwjb1\\src\\utils.jl:18\n",
      "┌ Info: number of windows: 1\n",
      "└ @ DIVAnd C:\\Users\\a001109\\.julia\\packages\\DIVAnd\\Iwjb1\\src\\DIVAndgo.jl:110\n"
     ]
    },
    {
     "name": "stdout",
     "output_type": "stream",
     "text": [
      "timeindex = 3\n"
     ]
    },
    {
     "name": "stderr",
     "output_type": "stream",
     "text": [
      "┌ Info: Time step 4 / 8\n",
      "└ @ DIVAnd C:\\Users\\a001109\\.julia\\packages\\DIVAnd\\Iwjb1\\src\\diva.jl:427\n",
      "┌ Warning: Observations equal to NaN: 367\n",
      "└ @ DIVAnd C:\\Users\\a001109\\.julia\\packages\\DIVAnd\\Iwjb1\\src\\DIVAnd_obs.jl:45\n",
      "┌ Info: scaled correlation length (min,max) in dimension 1: (26007.848779537788, 77999.9918075985)\n",
      "└ @ DIVAnd C:\\Users\\a001109\\.julia\\packages\\DIVAnd\\Iwjb1\\src\\diva.jl:612\n",
      "┌ Info: scaled correlation length (min,max) in dimension 2: (26007.848779537788, 77999.9918075985)\n",
      "└ @ DIVAnd C:\\Users\\a001109\\.julia\\packages\\DIVAnd\\Iwjb1\\src\\diva.jl:612\n",
      "┌ Info: scaled correlation length (min,max) in dimension 3: (10.0, 50.0)\n",
      "└ @ DIVAnd C:\\Users\\a001109\\.julia\\packages\\DIVAnd\\Iwjb1\\src\\diva.jl:612\n",
      "┌ Warning: resolution (13899.385465521233) is too coarse for correlation length 27344.109094788164 in dimension 2 at indices CartesianIndex(28, 3, 1) (skipping further tests). It is recommended that the resolution is at least 2 times finer than the correlation length.\n",
      "└ @ DIVAnd C:\\Users\\a001109\\.julia\\packages\\DIVAnd\\Iwjb1\\src\\utils.jl:18\n",
      "┌ Warning: resolution (50.0) is too coarse for correlation length 50.0 in dimension 3 at indices CartesianIndex(8, 1, 1) (skipping further tests). It is recommended that the resolution is at least 2 times finer than the correlation length.\n",
      "└ @ DIVAnd C:\\Users\\a001109\\.julia\\packages\\DIVAnd\\Iwjb1\\src\\utils.jl:18\n",
      "┌ Info: number of windows: 1\n",
      "└ @ DIVAnd C:\\Users\\a001109\\.julia\\packages\\DIVAnd\\Iwjb1\\src\\DIVAndgo.jl:110\n"
     ]
    },
    {
     "name": "stdout",
     "output_type": "stream",
     "text": [
      "timeindex = 4\n"
     ]
    },
    {
     "name": "stderr",
     "output_type": "stream",
     "text": [
      "┌ Info: Time step 5 / 8\n",
      "└ @ DIVAnd C:\\Users\\a001109\\.julia\\packages\\DIVAnd\\Iwjb1\\src\\diva.jl:427\n",
      "┌ Warning: Observations equal to NaN: 118\n",
      "└ @ DIVAnd C:\\Users\\a001109\\.julia\\packages\\DIVAnd\\Iwjb1\\src\\DIVAnd_obs.jl:45\n",
      "┌ Info: scaled correlation length (min,max) in dimension 1: (26007.848779537788, 77999.9918075985)\n",
      "└ @ DIVAnd C:\\Users\\a001109\\.julia\\packages\\DIVAnd\\Iwjb1\\src\\diva.jl:612\n",
      "┌ Info: scaled correlation length (min,max) in dimension 2: (26007.848779537788, 77999.9918075985)\n",
      "└ @ DIVAnd C:\\Users\\a001109\\.julia\\packages\\DIVAnd\\Iwjb1\\src\\diva.jl:612\n",
      "┌ Info: scaled correlation length (min,max) in dimension 3: (10.0, 50.0)\n",
      "└ @ DIVAnd C:\\Users\\a001109\\.julia\\packages\\DIVAnd\\Iwjb1\\src\\diva.jl:612\n",
      "┌ Warning: resolution (13899.385465521233) is too coarse for correlation length 27344.109094788164 in dimension 2 at indices CartesianIndex(28, 3, 1) (skipping further tests). It is recommended that the resolution is at least 2 times finer than the correlation length.\n",
      "└ @ DIVAnd C:\\Users\\a001109\\.julia\\packages\\DIVAnd\\Iwjb1\\src\\utils.jl:18\n",
      "┌ Warning: resolution (50.0) is too coarse for correlation length 50.0 in dimension 3 at indices CartesianIndex(8, 1, 1) (skipping further tests). It is recommended that the resolution is at least 2 times finer than the correlation length.\n",
      "└ @ DIVAnd C:\\Users\\a001109\\.julia\\packages\\DIVAnd\\Iwjb1\\src\\utils.jl:18\n"
     ]
    },
    {
     "name": "stdout",
     "output_type": "stream",
     "text": [
      "timeindex = 5\n"
     ]
    },
    {
     "name": "stderr",
     "output_type": "stream",
     "text": [
      "┌ Info: number of windows: 1\n",
      "└ @ DIVAnd C:\\Users\\a001109\\.julia\\packages\\DIVAnd\\Iwjb1\\src\\DIVAndgo.jl:110\n",
      "┌ Info: Time step 6 / 8\n",
      "└ @ DIVAnd C:\\Users\\a001109\\.julia\\packages\\DIVAnd\\Iwjb1\\src\\diva.jl:427\n",
      "┌ Warning: Observations equal to NaN: 139\n",
      "└ @ DIVAnd C:\\Users\\a001109\\.julia\\packages\\DIVAnd\\Iwjb1\\src\\DIVAnd_obs.jl:45\n",
      "┌ Info: scaled correlation length (min,max) in dimension 1: (26007.848779537788, 77999.9918075985)\n",
      "└ @ DIVAnd C:\\Users\\a001109\\.julia\\packages\\DIVAnd\\Iwjb1\\src\\diva.jl:612\n",
      "┌ Info: scaled correlation length (min,max) in dimension 2: (26007.848779537788, 77999.9918075985)\n",
      "└ @ DIVAnd C:\\Users\\a001109\\.julia\\packages\\DIVAnd\\Iwjb1\\src\\diva.jl:612\n",
      "┌ Info: scaled correlation length (min,max) in dimension 3: (10.0, 50.0)\n",
      "└ @ DIVAnd C:\\Users\\a001109\\.julia\\packages\\DIVAnd\\Iwjb1\\src\\diva.jl:612\n",
      "┌ Warning: resolution (13899.385465521233) is too coarse for correlation length 27344.109094788164 in dimension 2 at indices CartesianIndex(28, 3, 1) (skipping further tests). It is recommended that the resolution is at least 2 times finer than the correlation length.\n",
      "└ @ DIVAnd C:\\Users\\a001109\\.julia\\packages\\DIVAnd\\Iwjb1\\src\\utils.jl:18\n",
      "┌ Warning: resolution (50.0) is too coarse for correlation length 50.0 in dimension 3 at indices CartesianIndex(8, 1, 1) (skipping further tests). It is recommended that the resolution is at least 2 times finer than the correlation length.\n",
      "└ @ DIVAnd C:\\Users\\a001109\\.julia\\packages\\DIVAnd\\Iwjb1\\src\\utils.jl:18\n",
      "┌ Info: number of windows: 1\n",
      "└ @ DIVAnd C:\\Users\\a001109\\.julia\\packages\\DIVAnd\\Iwjb1\\src\\DIVAndgo.jl:110\n"
     ]
    },
    {
     "name": "stdout",
     "output_type": "stream",
     "text": [
      "timeindex = 6\n"
     ]
    },
    {
     "name": "stderr",
     "output_type": "stream",
     "text": [
      "┌ Info: Time step 7 / 8\n",
      "└ @ DIVAnd C:\\Users\\a001109\\.julia\\packages\\DIVAnd\\Iwjb1\\src\\diva.jl:427\n",
      "┌ Warning: Observations equal to NaN: 291\n",
      "└ @ DIVAnd C:\\Users\\a001109\\.julia\\packages\\DIVAnd\\Iwjb1\\src\\DIVAnd_obs.jl:45\n",
      "┌ Info: scaled correlation length (min,max) in dimension 1: (26007.848779537788, 77999.9918075985)\n",
      "└ @ DIVAnd C:\\Users\\a001109\\.julia\\packages\\DIVAnd\\Iwjb1\\src\\diva.jl:612\n",
      "┌ Info: scaled correlation length (min,max) in dimension 2: (26007.848779537788, 77999.9918075985)\n",
      "└ @ DIVAnd C:\\Users\\a001109\\.julia\\packages\\DIVAnd\\Iwjb1\\src\\diva.jl:612\n",
      "┌ Info: scaled correlation length (min,max) in dimension 3: (10.0, 50.0)\n",
      "└ @ DIVAnd C:\\Users\\a001109\\.julia\\packages\\DIVAnd\\Iwjb1\\src\\diva.jl:612\n",
      "┌ Warning: resolution (13899.385465521233) is too coarse for correlation length 27344.109094788164 in dimension 2 at indices CartesianIndex(28, 3, 1) (skipping further tests). It is recommended that the resolution is at least 2 times finer than the correlation length.\n",
      "└ @ DIVAnd C:\\Users\\a001109\\.julia\\packages\\DIVAnd\\Iwjb1\\src\\utils.jl:18\n",
      "┌ Warning: resolution (50.0) is too coarse for correlation length 50.0 in dimension 3 at indices CartesianIndex(8, 1, 1) (skipping further tests). It is recommended that the resolution is at least 2 times finer than the correlation length.\n",
      "└ @ DIVAnd C:\\Users\\a001109\\.julia\\packages\\DIVAnd\\Iwjb1\\src\\utils.jl:18\n",
      "┌ Info: number of windows: 1\n",
      "└ @ DIVAnd C:\\Users\\a001109\\.julia\\packages\\DIVAnd\\Iwjb1\\src\\DIVAndgo.jl:110\n"
     ]
    },
    {
     "name": "stdout",
     "output_type": "stream",
     "text": [
      "timeindex = 7\n"
     ]
    },
    {
     "name": "stderr",
     "output_type": "stream",
     "text": [
      "┌ Info: Time step 8 / 8\n",
      "└ @ DIVAnd C:\\Users\\a001109\\.julia\\packages\\DIVAnd\\Iwjb1\\src\\diva.jl:427\n",
      "┌ Warning: Observations equal to NaN: 84\n",
      "└ @ DIVAnd C:\\Users\\a001109\\.julia\\packages\\DIVAnd\\Iwjb1\\src\\DIVAnd_obs.jl:45\n",
      "┌ Info: scaled correlation length (min,max) in dimension 1: (26007.848779537788, 77999.9918075985)\n",
      "└ @ DIVAnd C:\\Users\\a001109\\.julia\\packages\\DIVAnd\\Iwjb1\\src\\diva.jl:612\n",
      "┌ Info: scaled correlation length (min,max) in dimension 2: (26007.848779537788, 77999.9918075985)\n",
      "└ @ DIVAnd C:\\Users\\a001109\\.julia\\packages\\DIVAnd\\Iwjb1\\src\\diva.jl:612\n",
      "┌ Info: scaled correlation length (min,max) in dimension 3: (10.0, 50.0)\n",
      "└ @ DIVAnd C:\\Users\\a001109\\.julia\\packages\\DIVAnd\\Iwjb1\\src\\diva.jl:612\n",
      "┌ Warning: resolution (13899.385465521233) is too coarse for correlation length 27344.109094788164 in dimension 2 at indices CartesianIndex(28, 3, 1) (skipping further tests). It is recommended that the resolution is at least 2 times finer than the correlation length.\n",
      "└ @ DIVAnd C:\\Users\\a001109\\.julia\\packages\\DIVAnd\\Iwjb1\\src\\utils.jl:18\n",
      "┌ Warning: resolution (50.0) is too coarse for correlation length 50.0 in dimension 3 at indices CartesianIndex(8, 1, 1) (skipping further tests). It is recommended that the resolution is at least 2 times finer than the correlation length.\n",
      "└ @ DIVAnd C:\\Users\\a001109\\.julia\\packages\\DIVAnd\\Iwjb1\\src\\utils.jl:18\n",
      "┌ Info: number of windows: 1\n",
      "└ @ DIVAnd C:\\Users\\a001109\\.julia\\packages\\DIVAnd\\Iwjb1\\src\\DIVAndgo.jl:110\n"
     ]
    },
    {
     "name": "stdout",
     "output_type": "stream",
     "text": [
      "timeindex = 8\n",
      " 24.013652 seconds (111.58 k allocations: 18.959 GiB, 14.94% gc time)\n"
     ]
    },
    {
     "name": "stderr",
     "output_type": "stream",
     "text": [
      "┌ Info: Creating new variable Oxygen_deepest\n",
      "└ @ DIVAnd C:\\Users\\a001109\\.julia\\packages\\DIVAnd\\Iwjb1\\src\\derived.jl:40\n",
      "┌ Info: Working on 14 depth layers\n",
      "└ @ DIVAnd C:\\Users\\a001109\\.julia\\packages\\DIVAnd\\Iwjb1\\src\\derived.jl:120\n",
      "┌ Info: size = (161, 57, 14)\n",
      "└ @ DIVAnd C:\\Users\\a001109\\.julia\\packages\\DIVAnd\\Iwjb1\\src\\derived.jl:125\n",
      "┌ Info: Creating new variable Oxygen_deepest_depth\n",
      "└ @ DIVAnd C:\\Users\\a001109\\.julia\\packages\\DIVAnd\\Iwjb1\\src\\derived.jl:131\n",
      "┌ Info: Depth index: 1\n",
      "└ @ DIVAnd C:\\Users\\a001109\\.julia\\packages\\DIVAnd\\Iwjb1\\src\\derived.jl:143\n",
      "┌ Info: Found 3248 non missing values for depth 0.0\n",
      "└ @ DIVAnd C:\\Users\\a001109\\.julia\\packages\\DIVAnd\\Iwjb1\\src\\derived.jl:146\n",
      "┌ Info: Depth index: 2\n",
      "└ @ DIVAnd C:\\Users\\a001109\\.julia\\packages\\DIVAnd\\Iwjb1\\src\\derived.jl:143\n",
      "┌ Info: Found 1281 non missing values for depth 50.0\n",
      "└ @ DIVAnd C:\\Users\\a001109\\.julia\\packages\\DIVAnd\\Iwjb1\\src\\derived.jl:146\n",
      "┌ Info: Depth index: 3\n",
      "└ @ DIVAnd C:\\Users\\a001109\\.julia\\packages\\DIVAnd\\Iwjb1\\src\\derived.jl:143\n",
      "┌ Info: Found 1182 non missing values for depth 55.0\n",
      "└ @ DIVAnd C:\\Users\\a001109\\.julia\\packages\\DIVAnd\\Iwjb1\\src\\derived.jl:146\n",
      "┌ Info: Depth index: 4\n",
      "└ @ DIVAnd C:\\Users\\a001109\\.julia\\packages\\DIVAnd\\Iwjb1\\src\\derived.jl:143\n",
      "┌ Info: Found 1082 non missing values for depth 60.0\n",
      "└ @ DIVAnd C:\\Users\\a001109\\.julia\\packages\\DIVAnd\\Iwjb1\\src\\derived.jl:146\n",
      "┌ Info: Depth index: 5\n",
      "└ @ DIVAnd C:\\Users\\a001109\\.julia\\packages\\DIVAnd\\Iwjb1\\src\\derived.jl:143\n",
      "┌ Info: Found 997 non missing values for depth 65.0\n",
      "└ @ DIVAnd C:\\Users\\a001109\\.julia\\packages\\DIVAnd\\Iwjb1\\src\\derived.jl:146\n",
      "┌ Info: Depth index: 6\n",
      "└ @ DIVAnd C:\\Users\\a001109\\.julia\\packages\\DIVAnd\\Iwjb1\\src\\derived.jl:143\n",
      "┌ Info: Found 910 non missing values for depth 70.0\n",
      "└ @ DIVAnd C:\\Users\\a001109\\.julia\\packages\\DIVAnd\\Iwjb1\\src\\derived.jl:146\n",
      "┌ Info: Depth index: 7\n",
      "└ @ DIVAnd C:\\Users\\a001109\\.julia\\packages\\DIVAnd\\Iwjb1\\src\\derived.jl:143\n",
      "┌ Info: Found 831 non missing values for depth 75.0\n",
      "└ @ DIVAnd C:\\Users\\a001109\\.julia\\packages\\DIVAnd\\Iwjb1\\src\\derived.jl:146\n",
      "┌ Info: Depth index: 8\n",
      "└ @ DIVAnd C:\\Users\\a001109\\.julia\\packages\\DIVAnd\\Iwjb1\\src\\derived.jl:143\n",
      "┌ Info: Found 747 non missing values for depth 80.0\n",
      "└ @ DIVAnd C:\\Users\\a001109\\.julia\\packages\\DIVAnd\\Iwjb1\\src\\derived.jl:146\n",
      "┌ Info: Depth index: 9\n",
      "└ @ DIVAnd C:\\Users\\a001109\\.julia\\packages\\DIVAnd\\Iwjb1\\src\\derived.jl:143\n",
      "┌ Info: Found 644 non missing values for depth 85.0\n",
      "└ @ DIVAnd C:\\Users\\a001109\\.julia\\packages\\DIVAnd\\Iwjb1\\src\\derived.jl:146\n",
      "┌ Info: Depth index: 10\n",
      "└ @ DIVAnd C:\\Users\\a001109\\.julia\\packages\\DIVAnd\\Iwjb1\\src\\derived.jl:143\n",
      "┌ Info: Found 565 non missing values for depth 90.0\n",
      "└ @ DIVAnd C:\\Users\\a001109\\.julia\\packages\\DIVAnd\\Iwjb1\\src\\derived.jl:146\n",
      "┌ Info: Depth index: 11\n",
      "└ @ DIVAnd C:\\Users\\a001109\\.julia\\packages\\DIVAnd\\Iwjb1\\src\\derived.jl:143\n",
      "┌ Info: Found 490 non missing values for depth 95.0\n",
      "└ @ DIVAnd C:\\Users\\a001109\\.julia\\packages\\DIVAnd\\Iwjb1\\src\\derived.jl:146\n",
      "┌ Info: Depth index: 12\n",
      "└ @ DIVAnd C:\\Users\\a001109\\.julia\\packages\\DIVAnd\\Iwjb1\\src\\derived.jl:143\n",
      "┌ Info: Found 423 non missing values for depth 100.0\n",
      "└ @ DIVAnd C:\\Users\\a001109\\.julia\\packages\\DIVAnd\\Iwjb1\\src\\derived.jl:146\n",
      "┌ Info: Depth index: 13\n",
      "└ @ DIVAnd C:\\Users\\a001109\\.julia\\packages\\DIVAnd\\Iwjb1\\src\\derived.jl:143\n",
      "┌ Info: Found 228 non missing values for depth 125.0\n",
      "└ @ DIVAnd C:\\Users\\a001109\\.julia\\packages\\DIVAnd\\Iwjb1\\src\\derived.jl:146\n",
      "┌ Info: Depth index: 14\n",
      "└ @ DIVAnd C:\\Users\\a001109\\.julia\\packages\\DIVAnd\\Iwjb1\\src\\derived.jl:143\n",
      "┌ Info: Found 121 non missing values for depth 150.0\n",
      "└ @ DIVAnd C:\\Users\\a001109\\.julia\\packages\\DIVAnd\\Iwjb1\\src\\derived.jl:146\n",
      "┌ Info: Written new variable deepest depth\n",
      "└ @ DIVAnd C:\\Users\\a001109\\.julia\\packages\\DIVAnd\\Iwjb1\\src\\derived.jl:152\n"
     ]
    }
   ],
   "source": [
    "for i in 1:length(monthlist)\n",
    "    \n",
    "    @info(\"starting DIVAnd computations for $(seasons[i])\")\n",
    "    @info(Dates.now())\n",
    "    \n",
    "    function plotres(timeindex,sel,fit,erri)\n",
    "        @show timeindex\n",
    "        tmp = copy(fit)\n",
    "        tmp[erri .> .5] .= NaN;\n",
    "        figure(figsize = (10,8))\n",
    "        subplot(2,1,1)\n",
    "        title(\"$(yearlist[timeindex]),$(seasons[i]) - surface\")\n",
    "\n",
    "        # select the data near the surface\n",
    "        sel_halo = sel .& (obsdepth .> 125.)\n",
    "        #vmin = vmin_ #minimum(obsval[selsurface])\n",
    "        #vmax = vmax #maximum(obsval[selsurface])\n",
    "\n",
    "        # plot the data\n",
    "        \n",
    "        xlim(minimum(lonr),maximum(lonr))\n",
    "        ylim(minimum(latr),maximum(latr))\n",
    "        contourf(bx,by,permutedims(b,[2,1]), levels = [-1e5,0],colors = [[.5,.5,.5]])\n",
    "        gca().set_aspect(aspect_ratio)\n",
    "        scatter(obslon[sel_halo],obslat[sel_halo],10,obsval[sel_halo];\n",
    "                vmin = vmin_, vmax = vmax_, cmap=\"jet\")  #\"PuBuGn\",\"viridis\"\n",
    "        colorbar(extend=\"max\")\n",
    "\n",
    "        # plot the analysis\n",
    "        subplot(2,1,2)\n",
    "        #title(\"L=$(L)[m], lenx=$(lx)[m], leny=$(ly)[m]\")\n",
    "        pcolor(lonr,latr,permutedims(tmp[:,:,14],[2,1]);\n",
    "               vmin = vmin_, vmax = vmax_, cmap=\"jet\")\n",
    "        colorbar(extend=\"max\")\n",
    "        contourf(bx,by,permutedims(b,[2,1]), levels = [-1e5,0],colors = [[.5,.5,.5]])\n",
    "        gca().set_aspect(aspect_ratio)\n",
    "\n",
    "        # save the figure\n",
    "        figname = savevar * @sprintf(\"_halo_\") *  seasons[i] * @sprintf(\"_%03d.png\",timeindex)\n",
    "        PyPlot.savefig(joinpath(figdir, figname), dpi=300, bbox_inches=\"tight\");\n",
    "        PyPlot.close_figs()    \n",
    "    end\n",
    "    \n",
    "    \n",
    "    # Time selection for the analyse\n",
    "    TS = DIVAnd.TimeSelectorYearListMonthList(yearlist,monthlist[i:i])\n",
    "    \n",
    "    # File name based on the variable (but all spaces are replaced by _)  \n",
    "    filename = joinpath(outputdir, \"$(replace(varname,' '=>'_'))_$(seasons[i])_$(yearlist[i])_0.4Danl.nc\")\n",
    "                \n",
    "    if isfile(filename)\n",
    "       rm(filename) # delete the previous analysis\n",
    "    end\n",
    "    \n",
    "    @info(\"Will write results in $filename\")\n",
    "    \n",
    "    # create attributes for the netcdf file (need an internet connexion)\n",
    "    ncglobalattrib,ncvarattrib = SDNMetadata(metadata[i],filename,varname,lonr,latr)\n",
    "        \n",
    "    \n",
    "    @time dbinfo = diva3d((lonr,latr,depthr,TS),\n",
    "              (obslon,obslat,obsdepth,obstime_shifted),\n",
    "              obsval,\n",
    "              (lenx,leny,lenz),\n",
    "              epsilon2,\n",
    "              filename,varname,\n",
    "              bathname = bathname,\n",
    "              bathisglobal = bathisglobal,\n",
    "              plotres = plotres,\n",
    "              ncvarattrib = ncvarattrib,\n",
    "              ncglobalattrib = ncglobalattrib,\n",
    "              timeorigin = timeorigin,\n",
    "              transform = Anam.loglin(epsilon),   \n",
    "              mask = new_mask,\n",
    "              solver = solver,\n",
    "              niter_e = 1,\n",
    "              error_thresholds = error_thresholds,\n",
    "              surfextend = true,\n",
    "              alphabc = 0,\n",
    "              MEMTOFIT = 120\n",
    "       );\n",
    "    \n",
    "    # Save the observation metadata in the NetCDF file\n",
    "    DIVAnd.saveobs(filename,(obslon,obslat,obsdepth,obstime),obsid,used = dbinfo[:used])\n",
    "    \n",
    "    ## Deepest value\n",
    "    deep_filename = joinpath(outputdir, \"$(replace(varname,' '=>'_'))_$(seasons[i])_deep.4Danl.nc\")\n",
    "    DIVAnd.derived(filename,varname,deep_filename,error_thresholds = error_thresholds)\n",
    "     \n",
    "    ## cut net cdf\n",
    "    #cut_filename = joinpath(outputdir, \"$(replace(varname,' '=>'_'))_$(seasons[i]).4Danl.nc\")\n",
    "    #DIVAnd.cut(deep_filename,varname,cut_filename,polygon_lon,polygon_lat)\n",
    "       \n",
    "    #residual = dbinfo[:residuals]\n",
    "    #res = get(dbinfo, :residuals, 0)\n",
    "    #@show extrema(res);\n",
    "    #dataresiduals=divand_residualobs(s,fi)\n",
    "        \n",
    "end\n"
   ]
  },
  {
   "cell_type": "raw",
   "metadata": {},
   "source": [
    "cdilist = \"./CDI-list-export.zip\"\n",
    "if !isfile(cdilist)\n",
    "    download(\"http://emodnet-chemistry.maris2.nl/download/export.zip\", cdilist)\n",
    "end"
   ]
  },
  {
   "cell_type": "raw",
   "metadata": {},
   "source": [
    "# Produce XML file for Sextant\n",
    "files = [\n",
    "         joinpath(outputdir, \"$(replace(varname,' '=>'_'))_$(seasons[1]).4Danl.nc\"),\n",
    "         joinpath(outputdir, \"$(replace(varname,' '=>'_'))_$(seasons[2]).4Danl.nc\"),\n",
    "         joinpath(outputdir, \"$(replace(varname,' '=>'_'))_$(seasons[3]).4Danl.nc\"),\n",
    "         joinpath(outputdir, \"$(replace(varname,' '=>'_'))_$(seasons[4]).4Danl.nc\")\n",
    "         ];\n",
    "\n",
    "# Infomation needed for generating XML files \n",
    "project = \"EMODNET-chemistry\";\n",
    "\n",
    "xmlfilename = joinpath(outputdir, \"$(replace(varname,' '=>'_')).4Danl.xml\")\n",
    "DIVAnd.divadoxml(files,varname,project,cdilist,xmlfilename,\n",
    "    ignore_errors = true,\n",
    "    #additionalvars = Dict(\"abstract\" => \"Here goes the abstract\"),\n",
    "    WMSlayername = [\"winter\",\"spring\",\"summer\",\"autumn\"]\n",
    ")"
   ]
  },
  {
   "cell_type": "code",
   "execution_count": 57,
   "metadata": {},
   "outputs": [
    {
     "name": "stdout",
     "output_type": "stream",
     "text": [
      "ds_name = \"Oxygen_L2\"\n",
      "sel[:, :, :, k] = Union{Missing, Float32}[382.5937f0]\n",
      "\n",
      "Union{Missing, Float32}[348.4501f0]\n",
      "\n",
      "Union{Missing, Float32}[279.27774f0]\n",
      "\n",
      "Union{Missing, Float32}[227.63995f0]\n",
      "\n",
      "Union{Missing, Float32}[173.20969f0]\n",
      "\n",
      "Union{Missing, Float32}[122.44125f0]\n",
      "\n",
      "Union{Missing, Float32}[78.45349f0]\n",
      "\n",
      "Union{Missing, Float32}[41.97023f0]\n",
      "\n",
      "Union{Missing, Float32}[21.01352f0]\n",
      "\n",
      "Union{Missing, Float32}[14.000112f0]\n",
      "\n",
      "Union{Missing, Float32}[16.896563f0]\n",
      "\n",
      "Union{Missing, Float32}[26.426859f0]\n",
      "\n",
      "Union{Missing, Float32}[26.384546f0]\n",
      "\n",
      "Union{Missing, Float32}[25.623718f0]\n",
      "-depthr = [-0.0, -50.0, -55.0, -60.0, -65.0, -70.0, -75.0, -80.0, -85.0, -90.0, -95.0, -100.0, -125.0, -150.0]\n",
      "sel[:, :, :, k] = Union{Missing, Float32}[362.97534f0]\n",
      "\n",
      "Union{Missing, Float32}[304.98212f0]\n",
      "\n",
      "Union{Missing, Float32}[213.4436f0]\n",
      "\n",
      "Union{Missing, Float32}[151.90906f0]\n",
      "\n",
      "Union{Missing, Float32}[104.77249f0]\n",
      "\n",
      "Union{Missing, Float32}[74.73913f0]\n",
      "\n",
      "Union{Missing, Float32}[57.041836f0]\n",
      "\n",
      "Union{Missing, Float32}[45.150455f0]\n",
      "\n",
      "Union{Missing, Float32}[36.903393f0]\n",
      "\n",
      "Union{Missing, Float32}[30.417173f0]\n",
      "\n",
      "Union{Missing, Float32}[27.003246f0]\n",
      "\n",
      "Union{Missing, Float32}[28.755552f0]\n",
      "\n",
      "Union{Missing, Float32}[25.553654f0]\n",
      "\n",
      "Union{Missing, Float32}[23.457815f0]\n",
      "-depthr = [-0.0, -50.0, -55.0, -60.0, -65.0, -70.0, -75.0, -80.0, -85.0, -90.0, -95.0, -100.0, -125.0, -150.0]\n",
      "sel[:, :, :, k] = Union{Missing, Float32}[384.37317f0]\n",
      "\n",
      "Union{Missing, Float32}[379.94443f0]\n",
      "\n",
      "Union{Missing, Float32}[339.39584f0]\n",
      "\n",
      "Union{Missing, Float32}[306.1231f0]\n",
      "\n",
      "Union{Missing, Float32}[263.2361f0]\n",
      "\n",
      "Union{Missing, Float32}[218.22044f0]\n",
      "\n",
      "Union{Missing, Float32}[170.20988f0]\n",
      "\n",
      "Union{Missing, Float32}[117.3652f0]\n",
      "\n",
      "Union{Missing, Float32}[64.453476f0]\n",
      "\n",
      "Union{Missing, Float32}[28.00744f0]\n",
      "\n",
      "Union{Missing, Float32}[13.063014f0]\n",
      "\n",
      "Union{Missing, Float32}[16.369799f0]\n",
      "\n",
      "Union{Missing, Float32}[20.112156f0]\n",
      "\n",
      "Union{Missing, Float32}[22.687351f0]\n",
      "-depthr = [-0.0, -50.0, -55.0, -60.0, -65.0, -70.0, -75.0, -80.0, -85.0, -90.0, -95.0, -100.0, -125.0, -150.0]\n",
      "sel[:, :, :, k] = Union{Missing, Float32}[383.26566f0]\n",
      "\n",
      "Union{Missing, Float32}[341.54895f0]\n",
      "\n",
      "Union{Missing, Float32}[268.61862f0]\n",
      "\n",
      "Union{Missing, Float32}[216.27635f0]\n",
      "\n",
      "Union{Missing, Float32}[163.0648f0]\n",
      "\n",
      "Union{Missing, Float32}[115.44191f0]\n",
      "\n",
      "Union{Missing, Float32}[77.3044f0]\n",
      "\n",
      "Union{Missing, Float32}[50.99426f0]\n",
      "\n",
      "Union{Missing, Float32}[35.408203f0]\n",
      "\n",
      "Union{Missing, Float32}[27.664589f0]\n",
      "\n",
      "Union{Missing, Float32}[25.355011f0]\n",
      "\n",
      "Union{Missing, Float32}[26.098038f0]\n",
      "\n",
      "Union{Missing, Float32}[27.50073f0]\n",
      "\n",
      "Union{Missing, Float32}[28.24217f0]\n",
      "-depthr = [-0.0, -50.0, -55.0, -60.0, -65.0, -70.0, -75.0, -80.0, -85.0, -90.0, -95.0, -100.0, -125.0, -150.0]\n",
      "sel[:, :, :, k] = Union{Missing, Float32}[370.37537f0]\n",
      "\n",
      "Union{Missing, Float32}[366.07767f0]\n",
      "\n",
      "Union{Missing, Float32}[341.83188f0]\n",
      "\n",
      "Union{Missing, Float32}[322.5517f0]\n",
      "\n",
      "Union{Missing, Float32}[290.71118f0]\n",
      "\n",
      "Union{Missing, Float32}[243.32822f0]\n",
      "\n",
      "Union{Missing, Float32}[184.81226f0]\n",
      "\n",
      "Union{Missing, Float32}[125.30282f0]\n",
      "\n",
      "Union{Missing, Float32}[78.20948f0]\n",
      "\n",
      "Union{Missing, Float32}[48.247845f0]\n",
      "\n",
      "Union{Missing, Float32}[34.835365f0]\n",
      "\n",
      "Union{Missing, Float32}[34.275047f0]\n",
      "\n",
      "Union{Missing, Float32}[32.496178f0]\n",
      "\n",
      "Union{Missing, Float32}[31.863005f0]\n",
      "-depthr = [-0.0, -50.0, -55.0, -60.0, -65.0, -70.0, -75.0, -80.0, -85.0, -90.0, -95.0, -100.0, -125.0, -150.0]\n",
      "sel[:, :, :, k] = Union{Missing, Float32}[371.64175f0]\n",
      "\n",
      "Union{Missing, Float32}[372.9989f0]\n",
      "\n",
      "Union{Missing, Float32}[335.0504f0]\n",
      "\n",
      "Union{Missing, Float32}[288.15912f0]\n",
      "\n",
      "Union{Missing, Float32}[218.6559f0]\n",
      "\n",
      "Union{Missing, Float32}[141.99008f0]\n",
      "\n",
      "Union{Missing, Float32}[83.51794f0]\n",
      "\n",
      "Union{Missing, Float32}[50.49766f0]\n",
      "\n",
      "Union{Missing, Float32}[38.536514f0]\n",
      "\n",
      "Union{Missing, Float32}[36.547432f0]\n",
      "\n",
      "Union{Missing, Float32}[36.31154f0]\n",
      "\n",
      "Union{Missing, Float32}[30.912434f0]\n",
      "\n",
      "Union{Missing, Float32}[28.872974f0]\n",
      "\n",
      "Union{Missing, Float32}[27.052076f0]\n",
      "-depthr = [-0.0, -50.0, -55.0, -60.0, -65.0, -70.0, -75.0, -80.0, -85.0, -90.0, -95.0, -100.0, -125.0, -150.0]\n",
      "sel[:, :, :, k] = Union{Missing, Float32}[372.8972f0]\n",
      "\n",
      "Union{Missing, Float32}[372.795f0]\n",
      "\n",
      "Union{Missing, Float32}[345.46576f0]\n",
      "\n",
      "Union{Missing, Float32}[309.17383f0]\n",
      "\n",
      "Union{Missing, Float32}[242.99915f0]\n",
      "\n",
      "Union{Missing, Float32}[159.82294f0]\n",
      "\n",
      "Union{Missing, Float32}[91.02895f0]\n",
      "\n",
      "Union{Missing, Float32}[49.74485f0]\n",
      "\n",
      "Union{Missing, Float32}[32.234715f0]\n",
      "\n",
      "Union{Missing, Float32}[26.244572f0]\n",
      "\n",
      "Union{Missing, Float32}[22.742895f0]\n",
      "\n",
      "Union{Missing, Float32}[18.831394f0]\n",
      "\n",
      "Union{Missing, Float32}[15.2673645f0]\n",
      "\n",
      "Union{Missing, Float32}[13.1573715f0]\n",
      "-depthr = [-0.0, -50.0, -55.0, -60.0, -65.0, -70.0, -75.0, -80.0, -85.0, -90.0, -95.0, -100.0, -125.0, -150.0]\n",
      "sel[:, :, :, k] = Union{Missing, Float32}[382.13617f0]\n",
      "\n",
      "Union{Missing, Float32}[362.98407f0]\n",
      "\n",
      "Union{Missing, Float32}[304.1627f0]\n",
      "\n",
      "Union{Missing, Float32}[253.38985f0]\n",
      "\n",
      "Union{Missing, Float32}[190.34752f0]\n",
      "\n",
      "Union{Missing, Float32}[126.67415f0]\n",
      "\n",
      "Union{Missing, Float32}[78.005745f0]\n",
      "\n",
      "Union{Missing, Float32}[49.896015f0]\n",
      "\n",
      "Union{Missing, Float32}[41.113377f0]\n",
      "\n",
      "Union{Missing, Float32}[41.845314f0]\n",
      "\n",
      "Union{Missing, Float32}[45.174107f0]\n",
      "\n",
      "Union{Missing, Float32}[50.28693f0]\n",
      "\n",
      "Union{Missing, Float32}[48.04111f0]\n",
      "\n",
      "Union{Missing, Float32}[46.35573f0]\n",
      "-depthr = [-0.0, -50.0, -55.0, -60.0, -65.0, -70.0, -75.0, -80.0, -85.0, -90.0, -95.0, -100.0, -125.0, -150.0]\n",
      "file = \"./resultat/nc/O2/Oxygen_Winter.4Danl.nc\"\n"
     ]
    },
    {
     "data": {
      "image/png": "[encoded data removed]",
      "text/plain": [
       "Figure(PyObject <Figure size 640x480 with 1 Axes>)"
      ]
     },
     "metadata": {},
     "output_type": "display_data"
    },
    {
     "data": {
      "text/plain": [
       "\"./resultat/nc/O2/Oxygen_Winter.4Danl.nc\""
      ]
     },
     "execution_count": 57,
     "metadata": {},
     "output_type": "execute_result"
    }
   ],
   "source": [
    "s = 1\n",
    "file = joinpath(outputdir, \"$(replace(varname,' '=>'_'))_$(seasons[s]).4Danl.nc\")\n",
    "ds = Dataset(file)\n",
    "ds_name =  (\"$(varname)_L2\") \n",
    "#ds_name = varname\n",
    "@show ds_name \n",
    "#sel = NCDatasets.@select(ds[ds_name], lon == 20.2 && lat == 57.)\n",
    "#sel = NCDatasets.@select(ds[ds_name], lon == 19.5 && lat == 57.)\n",
    "sel = NCDatasets.@select(ds[ds_name], Oxygen >)\n",
    "#sel = NCDatasets.@select(ds[ds_name], lon == 20. && lat == 61.3)\n",
    "for k=1:length(yearlist)\n",
    "    toplo = nomissing(sel[:,:,:,k],NaN)\n",
    "    @show sel[:,:,:,k]\n",
    "    @show -depthr\n",
    "    toplot = vec(toplo)\n",
    "    plot(toplot,-depthr,label=string(yearlist[k]))\n",
    "end\n",
    "ylim(-175,5)\n",
    "legend();\n",
    "grid(\"on\")\n",
    "#title(\"$(yearlist[k][1]):$(yearlist[k][end])\")\n",
    "title(\"$(savevar) $(seasons[s])\")\n",
    "close(ds)\n",
    "@show file"
   ]
  },
  {
   "cell_type": "code",
   "execution_count": 34,
   "metadata": {},
   "outputs": [
    {
     "name": "stdout",
     "output_type": "stream",
     "text": [
      "\u001b[32m\u001b[1m      Status\u001b[22m\u001b[39m `C:\\Users\\a001109\\.julia\\environments\\v1.6\\Project.toml`\n",
      " \u001b[90m [efc8151c] \u001b[39mDIVAnd v2.7.7\n",
      " \u001b[90m [864edb3b] \u001b[39mDataStructures v0.18.13\n",
      " \u001b[90m [7073ff75] \u001b[39mIJulia v1.23.3\n",
      " \u001b[90m [e1d29d7a] \u001b[39mMissings v1.1.0\n",
      " \u001b[90m [85f8d34a] \u001b[39mNCDatasets v0.12.14\n",
      " \u001b[90m [3725be50] \u001b[39mPhysOcean v0.6.6\n",
      " \u001b[90m [d330b81b] \u001b[39mPyPlot v2.10.0\n",
      " \u001b[90m [7243133f] \u001b[39mNetCDF_jll v400.702.400+0 ⚲\n",
      " \u001b[90m [44cfe95a] \u001b[39mPkg\n"
     ]
    }
   ],
   "source": [
    "using Pkg\n",
    "Pkg.status()"
   ]
  },
  {
   "cell_type": "code",
   "execution_count": null,
   "metadata": {},
   "outputs": [],
   "source": []
  },
  {
   "cell_type": "code",
   "execution_count": null,
   "metadata": {},
   "outputs": [],
   "source": []
  },
  {
   "cell_type": "code",
   "execution_count": null,
   "metadata": {},
   "outputs": [],
   "source": []
  },
  {
   "cell_type": "code",
   "execution_count": null,
   "metadata": {},
   "outputs": [],
   "source": []
  }
 ],
 "metadata": {
  "kernelspec": {
   "display_name": "Julia 1.6.6",
   "language": "julia",
   "name": "julia-1.6"
  },
  "language_info": {
   "file_extension": ".jl",
   "mimetype": "application/julia",
   "name": "julia",
   "version": "1.6.6"
  }
 },
 "nbformat": 4,
 "nbformat_minor": 2
}
