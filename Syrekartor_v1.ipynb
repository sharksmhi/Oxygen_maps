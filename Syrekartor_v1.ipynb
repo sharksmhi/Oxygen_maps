{
 "cells": [
  {
   "cell_type": "markdown",
   "metadata": {},
   "source": [
    "# Further testings after 2023-01-27 (MSFD Board of Experts meeting)\n",
    "## Analyse - settings - 2023\n",
    "# Baltic Sea - Eutrohpication - DIVAnd - 2023\n",
    "### Testar distance to coast"
   ]
  },
  {
   "cell_type": "markdown",
   "metadata": {},
   "source": [
    "#### Add necessary packages"
   ]
  },
  {
   "cell_type": "raw",
   "metadata": {},
   "source": [
    "import Pkg\n",
    "Pkg.add(\"Pkg\")\n",
    "#Pkg.update()"
   ]
  },
  {
   "cell_type": "code",
   "execution_count": 1,
   "metadata": {},
   "outputs": [],
   "source": [
    "using DIVAnd\n",
    "using PyPlot\n",
    "using NCDatasets\n",
    "using Dates\n",
    "using Statistics\n",
    "using DelimitedFiles\n",
    "using DataStructures\n",
    "using Printf\n",
    "using Missings"
   ]
  },
  {
   "cell_type": "markdown",
   "metadata": {},
   "source": [
    "#### Choose parameter (markdown/code)"
   ]
  },
  {
   "cell_type": "markdown",
   "metadata": {},
   "source": [
    "### Phosphate ###\n",
    "\n",
    "varname = \"Water body phosphate\"\n",
    "varname_odv = \"Water body phosphate\"\n",
    "varname_ns = \"Water body phosphate\"\n",
    "savevar = \"po4\"\n",
    "sdnp35 = \"SDN:P35::EPC00007\"\n",
    "sdnp02 = \"SDN:P02::PHOS\"\n",
    "doi = \"10.6092/E5BFC6FD-F287-4E1D-81AE-6AF0EA3F1EEF\"\n",
    "vmin_ = 0.;\n",
    "vmax_ = 1.;\n",
    "unit = \"umol/l\";\n",
    "res = 50.;\n",
    "data_profiles = \"C:/offline_kw/EK5/DIVAnd_EK5_offline/po4_data_from_BALTIC_eutrophication_profiles_20221011.txt\";\n",
    "yearlist = [y:y+5 for y in 1955:2016]; #[y:y+5 for y in 1975:2021];\n",
    "yearlist_back = [y:y+5 for y in 1955:2021];\n",
    "datafile_ns = \"C:/offline_kw/EK5/DIVAnd_EK5_offline/data_from_1deg_North_Sea_profiles_Nutrients_QA.txt\";"
   ]
  },
  {
   "cell_type": "markdown",
   "metadata": {},
   "source": [
    "### Silicate ###\n",
    "\n",
    "varname = \"Water body silicate\"\n",
    "varname_odv = \"Water body silicate\"\n",
    "varname_ns = \"Water body silicate\"\n",
    "savevar = \"sio3\"\n",
    "sdnp35 = \"SDN:P35::EPC00008\"\n",
    "sdnp02 = \"SDN:P02::SLCA\"\n",
    "doi = \"10.6092/C237ECE0-998E-463B-85D9-EBE8B5B008BB\"\n",
    "vmin_ = 10;\n",
    "vmax_ = 40;\n",
    "unit = \"umol/l\";\n",
    "res = 300.;\n",
    "data_profiles = \"C:/offline_kw/EK5/DIVAnd_EK5_offline/onlysi_data_from_BALTIC_eutrophication_profiles_20230207.txt\";\n",
    "yearlist = [y:y+5 for y in 1965:2016]; #[y:y+5 for y in 1975:2021];\n",
    "yearlist_back = [y:y+5 for y in 1962:2021];\n",
    "datafile_ns = \"C:/offline_kw/EK5/DIVAnd_EK5_offline/data_from_1deg_North_Sea_profiles_Nutrients_QA.txt\";"
   ]
  },
  {
   "cell_type": "markdown",
   "metadata": {},
   "source": [
    "### DIN ###\n",
    "\n",
    "varname = \"Water body dissolved inorganic nitrogen\"\n",
    "varname_odv = \"Water body dissolved inorganic nitrogen (DIN)\"\n",
    "varname_ns = \"Aggregated DIN NH3 optional\"\n",
    "savevar = \"DIN\"\n",
    "sdnp35 = \"SDN:P35::EPC00198\"\n",
    "sdnp02 = \"SDN:P02::TDIN\"\n",
    "doi = \"10.6092/62BA9D08-2AD6-4742-8FA6-FDBB25585E5C\"\n",
    "vmin_ = 0.;\n",
    "vmax_ = 20.;\n",
    "unit = \"umol/l\";\n",
    "res = 300.;\n",
    "data_profiles = \"C:/offline_kw/EK5/DIVAnd_EK5_offline/din_data_from_BALTIC_eutrophication_profiles_20221011.txt\" \n",
    "yearlist = [y:y+5 for y in 1975:2016];\n",
    "yearlist_back = [y:y+5 for y in 1975:2021];\n",
    "datafile_ns = \"C:/offline_kw/EK5/DIVAnd_EK5_offline/data_from_1deg_North_Sea_profiles_Nutrients_QA.txt\";"
   ]
  },
  {
   "cell_type": "code",
   "execution_count": 2,
   "metadata": {},
   "outputs": [],
   "source": [
    "### Oxygen ###\n",
    "\n",
    "varname = \"Water body dissolved oxygen concentration\"\n",
    "varname_odv = \"Water body dissolved oxygen concentration\"\n",
    "varname_ns = \"Water body dissolved oxygen concentration\"\n",
    "savevar = \"O2\"\n",
    "sdnp35 = \"SDN:P35::EPC00002\"\n",
    "sdnp02 = \"SDN:P02::DOXY\"\n",
    "doi = \"10.6092/B5BB9EA1-4BDA-48A1-92B6-03645AC12FAE\"\n",
    "vmin_ = 200.;\n",
    "vmax_ = 500.;\n",
    "unit = \"umol/l\";\n",
    "res = 800.;\n",
    "data_profiles = \"C:/offline_kw/EK5/DIVAnd_EK5_offline/onlyoxy_data_from_BALTIC_eutrophication_profiles_20230207.txt\" \n",
    "yearlist = [y:y+5 for y in 1960:2016] #1960:2016];\n",
    "yearlist_back = [y:y+5 for y in 1950:2021];\n",
    "datafile_ns = \"C:/offline_kw/EK5/DIVAnd_EK5_offline/data_from_1deg_North Sea_non-nutrient_data_from_profiles.txt\";"
   ]
  },
  {
   "cell_type": "markdown",
   "metadata": {},
   "source": [
    "### Chlorophyll ###\n",
    "\n",
    "varname = \"Water body chlorophyll-a\"\n",
    "varname_odv = \"Water body chlorophyll-a\"\n",
    "varname_ns = \"Water body chlorophyll-a\"\n",
    "savevar = \"chl\"\n",
    "sdnp35 = \"SDN:P35::EPC00105\"\n",
    "sdnp02 = \"SDN:P02::CPWC\"\n",
    "doi = \"10.6092/66DCF80F-383C-4C70-842A-80EEAD8BD293\"\n",
    "vmin_ = 0;\n",
    "vmax_ = 20;\n",
    "unit = \"mg/m3\";\n",
    "res = 300.;\n",
    "data_profiles = \"C:/offline_kw/EK5/DIVAnd_EK5_offline/onlychl_data_from_BALTIC_eutrophication_profiles_20230207.txt\" \n",
    "yearlist = [y:y+5 for y in 1974:2016];\n",
    "yearlist_back = [y:y+5 for y in 1974:2021];\n",
    "datafile_ns = \"C:/offline_kw/EK5/DIVAnd_EK5_offline/data_from_1deg_North Sea_non-nutrient_data_from_profiles.txt\";"
   ]
  },
  {
   "cell_type": "markdown",
   "metadata": {
    "slideshow": {
     "slide_type": "subslide"
    }
   },
   "source": [
    "## Configuration\n",
    "* Define the horizontal, vertical and temporal resolutions.\n",
    "* Select the variable"
   ]
  },
  {
   "cell_type": "code",
   "execution_count": 3,
   "metadata": {
    "slideshow": {
     "slide_type": "subslide"
    }
   },
   "outputs": [],
   "source": [
    "dx, dy = 0.1, 0.1\n",
    "lonr = 9.4:dx:31.\n",
    "latr = 53.:dy:66.\n",
    "\n",
    "depthr = [0., 5., 10., 15., 20., 30., 40., 50., 60., 70., 80., 90.,\n",
    "    100., 125., 150., 175., 200., 225., 250., 275., 300.];\n"
   ]
  },
  {
   "cell_type": "code",
   "execution_count": 4,
   "metadata": {
    "slideshow": {
     "slide_type": "subslide"
    }
   },
   "outputs": [],
   "source": [
    "if varname == \"Water body chlorophyll-a\"\n",
    "    depthr = depthr[1:6]\n",
    "    #lenz_ = [1:6]\n",
    "end\n",
    "    \n",
    "# or for testing just a few levels\n",
    "#depthr = depthr[1:10];\n",
    "#lenz_ = lenz_[1:15];"
   ]
  },
  {
   "cell_type": "code",
   "execution_count": 5,
   "metadata": {},
   "outputs": [],
   "source": [
    "seasons=[\"Winter\",\"Spring\",\"Summer\",\"Autumn\"]\n",
    "months=[\"(Dec-Feb)\",\"(Mar-May)\",\"(June-Aug)\",\"(Sep-Nov)\"];"
   ]
  },
  {
   "cell_type": "code",
   "execution_count": 6,
   "metadata": {},
   "outputs": [],
   "source": [
    "monthlist = [ [12,1,2], [3,4,5], [6,7,8], [9,10,11] ];"
   ]
  },
  {
   "cell_type": "code",
   "execution_count": 7,
   "metadata": {},
   "outputs": [],
   "source": [
    "# Time origin for the NetCDF file\n",
    "timeorigin = DateTime(1900,1,1,0,0,0);"
   ]
  },
  {
   "cell_type": "code",
   "execution_count": 8,
   "metadata": {},
   "outputs": [],
   "source": [
    "aspect_ratio = 1/cos(mean(latr) * pi/180);"
   ]
  },
  {
   "cell_type": "markdown",
   "metadata": {
    "slideshow": {
     "slide_type": "slide"
    }
   },
   "source": [
    "## Metadata and attributes\n",
    "Edit the different fields according to the project, the authors etc.     \n",
    "This is used for the netCDF file but also for the XML needed for the Sextant catalog."
   ]
  },
  {
   "cell_type": "code",
   "execution_count": 9,
   "metadata": {
    "slideshow": {
     "slide_type": "subslide"
    }
   },
   "outputs": [],
   "source": [
    "# One metadata set up per season\n",
    "metadata=Array{DataStructures.OrderedDict{String,Any}}(undef,4) ;\n",
    "\n",
    "for i in 1:4    \n",
    "    metadatai = OrderedDict(\n",
    "        # Name of the project (SeaDataCloud, SeaDataNet, EMODNET-chemistry, ...)\n",
    "        \"project\" => \"EMODNET-chemistry\",\n",
    "\n",
    "        # URN code for the institution EDMO registry,\n",
    "        # e.g. SDN:EDMO::1579\n",
    "        \"institution_urn\" => \"SDN:EDMO::545\",\n",
    "\n",
    "        # Production group\n",
    "        #\"production\" => \"Diva group\",\n",
    "\n",
    "        # Name and emails from authors\n",
    "        \"Author_e-mail\" => [\"Karin Wesslander <karin.wesslander@smhi.se>\"],\n",
    "\n",
    "        # Source of the observation\n",
    "        \"source\" => \"observational data from SeaDataNet/EMODnet Chemistry Data Network\",\n",
    "\n",
    "        # Additional comment\n",
    "        \"comment\" => \"Every year of the time dimension corresponds to a 6-year centred average for the $(seasons[i]) season $(months[i]). Horizontal resolution 0.1°.\",\n",
    "\n",
    "        # SeaDataNet Vocabulary P35 URN\n",
    "        # http://seadatanet.maris2.nl/v_bodc_vocab_v2/search.asp?lib=p35\n",
    "        # example: SDN:P35::WATERTEMP\n",
    "        \"parameter_keyword_urn\" => \"$sdnp35\", # Water body phosphate\n",
    "        \n",
    "\n",
    "        # List of SeaDataNet Parameter Discovery Vocabulary P02 URNs\n",
    "        # http://seadatanet.maris2.nl/v_bodc_vocab_v2/search.asp?lib=p02\n",
    "        # example: [\"SDN:P02::TEMP\"]\n",
    "        \"search_keywords_urn\" => [\"$sdnp02\"], # Water body phosphate\n",
    "\n",
    "        # List of SeaDataNet Vocabulary C19 area URNs\n",
    "        # SeaVoX salt and fresh water body gazetteer (C19)\n",
    "        # http://seadatanet.maris2.nl/v_bodc_vocab_v2/search.asp?lib=C19\n",
    "        # example: [\"SDN:C19::3_1\"]\n",
    "        \"area_keywords_urn\" => [\"SDN:C19::2\"],\n",
    "\n",
    "        \"product_version\" => \"2.0\",\n",
    "\n",
    "        \"product_code\" => \"SMHI-Baltic Sea-$(replace(varname,' '=>'_'))-v2023-ANA\",\n",
    "\n",
    "        # bathymetry source acknowledgement\n",
    "        # see, e.g.\n",
    "        # * EMODnet Bathymetry Consortium (2016): EMODnet Digital Bathymetry (DTM).\n",
    "        # https://doi.org/10.12770/c7b53704-999d-4721-b1a3-04ec60c87238\n",
    "        # \n",
    "        # taken from\n",
    "        # http://www.emodnet-bathymetry.eu/data-products/acknowledgement-in-publications\n",
    "        #\n",
    "        # * The GEBCO Digital Atlas published by the British Oceanographic Data Centre on behalf of IOC and IHO, 2003\n",
    "        #\n",
    "        # taken from\n",
    "        # https://www.bodc.ac.uk/projects/data_management/international/gebco/gebco_digital_atlas/copyright_and_attribution/\n",
    "\n",
    "        \"bathymetry_source\" => \"The GEBCO 30sec Digital Atlas published by the British Oceanographic Data Centre on behalf of IOC and IHO, 2003\",\n",
    "\n",
    "        # NetCDF CF standard name\n",
    "        # http://cfconventions.org/Data/cf-standard-names/current/build/cf-standard-name-table.html\n",
    "        # example \"standard_name\" = \"sea_water_temperature\",\n",
    "        \"netcdf_standard_name\" => \"$(replace(varname,' '=>'_'))\",\n",
    "\n",
    "        \"netcdf_long_name\" => \"$varname\",\n",
    "\n",
    "        \"netcdf_units\" => \"$unit\",\n",
    "\n",
    "        # Abstract for the product\n",
    "        #\"abstract\" => \"...\",\n",
    "\n",
    "        # This option provides a place to acknowledge various types of support for the\n",
    "        # project that produced the data\n",
    "        \"acknowledgement\" => \"Aggregated data products are generated by EMODnet Chemistry under the support of DG MARE Call for Tenders EASME/EMFF/2016/006-lot4, EASME/2019/OP/0003-lot4.\",\n",
    "\n",
    "        \"documentation\" => \"https://doi.org/10.6092/A8CFB472-10DB-4225-9737-5A60DA9AF523\",\n",
    "\n",
    "        # Digital Object Identifier of the data product\n",
    "        \"doi\" => \"$doi\",\n",
    "    \n",
    "        \"DIVAnd_source\" => \"https://github.com/gher-ulg/DIVAnd.jl\",\n",
    "        \"DIVAnd_version\" => \"2.7.5\",\n",
    "        \"DIVA_code_doi\" => \"10.5281/zenodo.4715361\",\n",
    "        \"DIVA_references\" => \"Barth, A.; Beckers, J.-M.; Troupin, C.; Alvera-Azcárate, A. & Vandenbulcke, L.\n",
    "divand-1.0: n-dimensional variational data analysis for ocean observations\n",
    "Geoscientific Model Development, 2014, 7, 225-241. DOI: :10.5194/gmd-7-225-2014\"); \n",
    " \n",
    "            \n",
    "        metadata[i]=metadatai\n",
    "end\n",
    "\n",
    "# Infomation needed for generating XML files \n",
    "project = \"EMODNET-chemistry\";\n"
   ]
  },
  {
   "cell_type": "markdown",
   "metadata": {},
   "source": [
    "# Read ODV files"
   ]
  },
  {
   "cell_type": "markdown",
   "metadata": {},
   "source": [
    "#### Include profiles"
   ]
  },
  {
   "cell_type": "code",
   "execution_count": 10,
   "metadata": {},
   "outputs": [],
   "source": [
    "datafile_prof =  data_profiles; "
   ]
  },
  {
   "cell_type": "code",
   "execution_count": 11,
   "metadata": {},
   "outputs": [
    {
     "name": "stderr",
     "output_type": "stream",
     "text": [
      "\u001b[36m\u001b[1m[ \u001b[22m\u001b[39m\u001b[36m\u001b[1mInfo: \u001b[22m\u001b[39mReading data from file C:/offline_kw/EK5/DIVAnd_EK5_offline/onlyoxy_data_from_BALTIC_eutrophication_profiles_20230207.txt\n",
      "\u001b[36m\u001b[1m[ \u001b[22m\u001b[39m\u001b[36m\u001b[1mInfo: \u001b[22m\u001b[39mNo. of profiles in the file: 161617\n",
      "\u001b[36m\u001b[1m[ \u001b[22m\u001b[39m\u001b[36m\u001b[1mInfo: \u001b[22m\u001b[39mWorking on variable Water body dissolved oxygen concentration\n",
      "\u001b[36m\u001b[1m[ \u001b[22m\u001b[39m\u001b[36m\u001b[1mInfo: \u001b[22m\u001b[39mStarting loop on the 161617 profiles\n"
     ]
    },
    {
     "name": "stdout",
     "output_type": "stream",
     "text": [
      "229.293641 seconds (515.29 M allocations: 104.893 GiB, 18.39% gc time, 1.96% compilation time: 5% of which was recompilation)\n"
     ]
    },
    {
     "name": "stderr",
     "output_type": "stream",
     "text": [
      "\u001b[36m\u001b[1m[ \u001b[22m\u001b[39m\u001b[36m\u001b[1mInfo: \u001b[22m\u001b[39mDone reading the profiles\n"
     ]
    }
   ],
   "source": [
    "@time obsval,obslon,obslat,obsdepth,obstime,obsid = ODVspreadsheet.load(Float64,[datafile_prof],\n",
    "                           [varname_odv]; qv_flags = [\"1\",\"2\",\"6\"], nametype = :localname );"
   ]
  },
  {
   "cell_type": "code",
   "execution_count": 12,
   "metadata": {},
   "outputs": [
    {
     "name": "stderr",
     "output_type": "stream",
     "text": [
      "\u001b[36m\u001b[1m[ \u001b[22m\u001b[39m\u001b[36m\u001b[1mInfo: \u001b[22m\u001b[39mChecking ranges for dimensions and observations\n"
     ]
    },
    {
     "name": "stdout",
     "output_type": "stream",
     "text": [
      "              minimum and maximum of obs. dimension 1: (8.9995, 30.266)\n",
      "              minimum and maximum of obs. dimension 2: (53.8067, 65.89667)\n",
      "              minimum and maximum of obs. dimension 3: (0.0, 458.0)\n",
      "              minimum and maximum of obs. dimension 4: (DateTime(\"1902-08-05T23:00:00\"), DateTime(\"2022-05-05T11:36:00\"))\n",
      "                          minimum and maximum of data: (-344.334777832, 1175.472290039)\n"
     ]
    }
   ],
   "source": [
    "checkobs((obslon,obslat,obsdepth,obstime),obsval,obsid);"
   ]
  },
  {
   "cell_type": "markdown",
   "metadata": {},
   "source": [
    "#### Include overlap from North Sea"
   ]
  },
  {
   "cell_type": "code",
   "execution_count": 13,
   "metadata": {},
   "outputs": [
    {
     "name": "stderr",
     "output_type": "stream",
     "text": [
      "\u001b[36m\u001b[1m[ \u001b[22m\u001b[39m\u001b[36m\u001b[1mInfo: \u001b[22m\u001b[39mReading data from file C:/offline_kw/EK5/DIVAnd_EK5_offline/data_from_1deg_North Sea_non-nutrient_data_from_profiles.txt\n",
      "\u001b[36m\u001b[1m[ \u001b[22m\u001b[39m\u001b[36m\u001b[1mInfo: \u001b[22m\u001b[39mNo. of profiles in the file: 69149\n",
      "\u001b[36m\u001b[1m[ \u001b[22m\u001b[39m\u001b[36m\u001b[1mInfo: \u001b[22m\u001b[39mWorking on variable Water body dissolved oxygen concentration\n",
      "\u001b[36m\u001b[1m[ \u001b[22m\u001b[39m\u001b[36m\u001b[1mInfo: \u001b[22m\u001b[39mStarting loop on the 69149 profiles\n"
     ]
    },
    {
     "name": "stdout",
     "output_type": "stream",
     "text": [
      "169.198497 seconds (282.26 M allocations: 59.101 GiB, 28.94% gc time)\n"
     ]
    },
    {
     "name": "stderr",
     "output_type": "stream",
     "text": [
      "\u001b[36m\u001b[1m[ \u001b[22m\u001b[39m\u001b[36m\u001b[1mInfo: \u001b[22m\u001b[39mDone reading the profiles\n"
     ]
    }
   ],
   "source": [
    "@time obsvalns,obslonns,obslatns,obsdepthns,obstimens,obsidns = ODVspreadsheet.load(Float64,[datafile_ns],\n",
    "                           [varname_ns]; qv_flags = [\"1\",\"2\",\"6\"], nametype = :localname );"
   ]
  },
  {
   "cell_type": "code",
   "execution_count": 14,
   "metadata": {},
   "outputs": [
    {
     "name": "stdout",
     "output_type": "stream",
     "text": [
      "              minimum and maximum of obs. dimension 1: (9.5874, 13.03667)\n",
      "              minimum and maximum of obs. dimension 2: (55.5043, 56.5075)\n",
      "              minimum and maximum of obs. dimension 3: (-0.059999999, 64.0)\n",
      "              minimum and maximum of obs. dimension 4: "
     ]
    },
    {
     "name": "stderr",
     "output_type": "stream",
     "text": [
      "\u001b[36m\u001b[1m[ \u001b[22m\u001b[39m\u001b[36m\u001b[1mInfo: \u001b[22m\u001b[39mChecking ranges for dimensions and observations\n"
     ]
    },
    {
     "name": "stdout",
     "output_type": "stream",
     "text": [
      "(DateTime(\"1905-08-01T03:00:00\"), DateTime(\"2021-04-28T09:11:00\"))\n",
      "                          minimum and maximum of data: (-58.952259064, 856.282043457)\n"
     ]
    }
   ],
   "source": [
    "checkobs((obslonns,obslatns,obsdepthns,obstimens),obsvalns,obsidns);"
   ]
  },
  {
   "cell_type": "markdown",
   "metadata": {},
   "source": [
    "#### Include time series"
   ]
  },
  {
   "cell_type": "code",
   "execution_count": 15,
   "metadata": {},
   "outputs": [],
   "source": [
    "datafile_ts = \"C:/offline_kw/EK5/DIVAnd_EK5_offline/data_from_BALTIC_eutrophication_timeseries_20221005.txt\" ;"
   ]
  },
  {
   "cell_type": "code",
   "execution_count": 16,
   "metadata": {},
   "outputs": [
    {
     "name": "stdout",
     "output_type": "stream",
     "text": [
      "  0.216076 seconds (23.03 k allocations: 32.789 MiB)\n"
     ]
    },
    {
     "name": "stderr",
     "output_type": "stream",
     "text": [
      "\u001b[36m\u001b[1m[ \u001b[22m\u001b[39m\u001b[36m\u001b[1mInfo: \u001b[22m\u001b[39mReading data from file C:/offline_kw/EK5/DIVAnd_EK5_offline/data_from_BALTIC_eutrophication_timeseries_20221005.txt\n",
      "\u001b[36m\u001b[1m[ \u001b[22m\u001b[39m\u001b[36m\u001b[1mInfo: \u001b[22m\u001b[39mNo. of profiles in the file: 1722\n",
      "\u001b[36m\u001b[1m[ \u001b[22m\u001b[39m\u001b[36m\u001b[1mInfo: \u001b[22m\u001b[39mWorking on variable Water body dissolved oxygen concentration\n",
      "\u001b[33m\u001b[1m┌ \u001b[22m\u001b[39m\u001b[33m\u001b[1mWarning: \u001b[22m\u001b[39mno data in C:/offline_kw/EK5/DIVAnd_EK5_offline/data_from_BALTIC_eutrophication_timeseries_20221005.txt\n",
      "\u001b[33m\u001b[1m└ \u001b[22m\u001b[39m\u001b[90m@ DIVAnd.ODVspreadsheet C:\\Users\\a001819\\.julia\\packages\\DIVAnd\\MV3j9\\src\\ODVspreadsheet.jl:772\u001b[39m\n"
     ]
    }
   ],
   "source": [
    "@time obsval2,obslon2,obslat2,obsdepth2,obstime2,obsid2 = ODVspreadsheet.load(Float64,[datafile_ts],\n",
    "                           [varname_odv]; qv_flags = [\"1\",\"2\",\"6\"], nametype = :localname );"
   ]
  },
  {
   "cell_type": "code",
   "execution_count": 17,
   "metadata": {},
   "outputs": [
    {
     "name": "stderr",
     "output_type": "stream",
     "text": [
      "\u001b[36m\u001b[1m[ \u001b[22m\u001b[39m\u001b[36m\u001b[1mInfo: \u001b[22m\u001b[39mChecking ranges for dimensions and observations\n"
     ]
    },
    {
     "ename": "LoadError",
     "evalue": "MethodError: reducing over an empty collection is not allowed; consider supplying `init` to the reducer",
     "output_type": "error",
     "traceback": [
      "MethodError: reducing over an empty collection is not allowed; consider supplying `init` to the reducer",
      "",
      "Stacktrace:",
      "  [1] reduce_empty(op::Base.MappingRF{typeof(isnan), typeof(Base.add_sum)}, #unused#::Type{Float64})",
      "    @ Base .\\reduce.jl:356",
      "  [2] reduce_empty_iter",
      "    @ .\\reduce.jl:379 [inlined]",
      "  [3] mapreduce_empty_iter(f::Function, op::Function, itr::Vector{Float64}, ItrEltype::Base.HasEltype)",
      "    @ Base .\\reduce.jl:375",
      "  [4] _mapreduce(f::typeof(isnan), op::typeof(Base.add_sum), #unused#::IndexLinear, A::Vector{Float64})",
      "    @ Base .\\reduce.jl:427",
      "  [5] _mapreduce_dim(f::Function, op::Function, #unused#::Base._InitialValue, A::Vector{Float64}, #unused#::Colon)",
      "    @ Base .\\reducedim.jl:365",
      "  [6] #mapreduce#765",
      "    @ .\\reducedim.jl:357 [inlined]",
      "  [7] mapreduce",
      "    @ .\\reducedim.jl:357 [inlined]",
      "  [8] #_sum#775",
      "    @ .\\reducedim.jl:999 [inlined]",
      "  [9] _sum",
      "    @ .\\reducedim.jl:999 [inlined]",
      " [10] #sum#773",
      "    @ .\\reducedim.jl:995 [inlined]",
      " [11] sum",
      "    @ .\\reducedim.jl:995 [inlined]",
      " [12] (::DIVAnd.var\"#check#501\"{IJulia.IJuliaStdio{Base.PipeEndpoint}})(xc::Vector{Float64}, ids::Vector{String}, name::String)",
      "    @ DIVAnd C:\\Users\\a001819\\.julia\\packages\\DIVAnd\\MV3j9\\src\\obsstat.jl:84",
      " [13] checkobs(io::IJulia.IJuliaStdio{Base.PipeEndpoint}, x::Tuple{Vector{Float64}, Vector{Float64}, Vector{Float64}, Vector{DateTime}}, v::Vector{Float64}, ids::Vector{String})",
      "    @ DIVAnd C:\\Users\\a001819\\.julia\\packages\\DIVAnd\\MV3j9\\src\\obsstat.jl:108",
      " [14] checkobs(x::Tuple{Vector{Float64}, Vector{Float64}, Vector{Float64}, Vector{DateTime}}, v::Vector{Float64}, ids::Vector{String})",
      "    @ DIVAnd C:\\Users\\a001819\\.julia\\packages\\DIVAnd\\MV3j9\\src\\obsstat.jl:74",
      " [15] top-level scope",
      "    @ In[17]:1"
     ]
    }
   ],
   "source": [
    "checkobs((obslon2,obslat2,obsdepth2,obstime2),obsval2,obsid2);"
   ]
  },
  {
   "cell_type": "markdown",
   "metadata": {},
   "source": [
    "#### Merge profiles and time series"
   ]
  },
  {
   "cell_type": "code",
   "execution_count": 18,
   "metadata": {},
   "outputs": [],
   "source": [
    "obsval   = [obsval; obsvalns; obsval2];\n",
    "obslon   = [obslon; obslonns; obslon2];\n",
    "obslat   = [obslat; obslatns; obslat2];\n",
    "obsdepth = [obsdepth; obsdepthns; obsdepth2];\n",
    "obstime  = [obstime; obstimens; obstime2];\n",
    "obsid    = [obsid; obsidns; obsid2];"
   ]
  },
  {
   "cell_type": "markdown",
   "metadata": {},
   "source": [
    "#### Remove large values ? Det görs för bakgrundsfälten"
   ]
  },
  {
   "cell_type": "code",
   "execution_count": 19,
   "metadata": {},
   "outputs": [],
   "source": [
    "sel = (obsval .< res)\n",
    "obsval = obsval[sel]\n",
    "obslon = obslon[sel]\n",
    "obslat = obslat[sel]\n",
    "obsdepth = obsdepth[sel]\n",
    "obstime = obstime[sel]\n",
    "obsid = obsid[sel];"
   ]
  },
  {
   "cell_type": "code",
   "execution_count": 20,
   "metadata": {},
   "outputs": [
    {
     "name": "stdout",
     "output_type": "stream",
     "text": [
      "              minimum and maximum of obs. dimension 1: (8.9995, 30.266)\n",
      "              minimum and maximum of obs. dimension 2: "
     ]
    },
    {
     "name": "stderr",
     "output_type": "stream",
     "text": [
      "\u001b[36m\u001b[1m[ \u001b[22m\u001b[39m\u001b[36m\u001b[1mInfo: \u001b[22m\u001b[39mChecking ranges for dimensions and observations\n"
     ]
    },
    {
     "name": "stdout",
     "output_type": "stream",
     "text": [
      "(53.8067, 65.89667)\n",
      "              minimum and maximum of obs. dimension 3: (-0.059999999, 458.0)\n",
      "              minimum and maximum of obs. dimension 4: (DateTime(\"1902-08-05T23:00:00\"), DateTime(\"2022-05-05T11:36:00\"))\n",
      "                          minimum and maximum of data: (0.0, 794.069030762)\n"
     ]
    }
   ],
   "source": [
    "if varname == \"Water body dissolved oxygen concentration\"\n",
    "    sel = (obsval .< 0);\n",
    "    obsval[sel] .= 0.;\n",
    "end\n",
    "checkobs((obslon,obslat,obsdepth,obstime),obsval,obsid)    "
   ]
  },
  {
   "cell_type": "markdown",
   "metadata": {
    "slideshow": {
     "slide_type": "slide"
    }
   },
   "source": [
    "## Extract the bathymetry\n",
    "It is used to delimit the domain where the interpolation is performed.\n",
    "\n",
    "### Choice of bathymetry\n",
    "Modify bathname according to the resolution required."
   ]
  },
  {
   "cell_type": "code",
   "execution_count": 21,
   "metadata": {},
   "outputs": [],
   "source": [
    "bathname = \"C:/offline_kw/EK5/DIVAnd_EK5_offline/gebco_30sec_4.nc\"\n",
    "bathisglobal = true;\n",
    "bx,by,b = DIVAnd.extract_bath(bathname,bathisglobal,lonr,latr);\n",
    "hx,hy,h = DIVAnd.load_bath(bathname,bathisglobal,lonr,latr);\n",
    "#mask_h = h .< 0;"
   ]
  },
  {
   "cell_type": "markdown",
   "metadata": {},
   "source": [
    "## MASK"
   ]
  },
  {
   "cell_type": "markdown",
   "metadata": {},
   "source": [
    "#### 1) Do a mask"
   ]
  },
  {
   "cell_type": "code",
   "execution_count": 22,
   "metadata": {},
   "outputs": [],
   "source": [
    "xmask,ymask,mmask = load_mask(bathname,true,lonr,latr,depthr);"
   ]
  },
  {
   "cell_type": "markdown",
   "metadata": {},
   "source": [
    "#### 2) apply floodfill.\n",
    "It gives you an array which has the same size has the mask, and contains values equal to 0, 1, 2... \n",
    "1 corresponds to the largest area, label 2 the 2nd largest and so on... "
   ]
  },
  {
   "cell_type": "code",
   "execution_count": 23,
   "metadata": {},
   "outputs": [],
   "source": [
    "label = DIVAnd.floodfill(mmask);"
   ]
  },
  {
   "cell_type": "markdown",
   "metadata": {},
   "source": [
    "#### Plot\n",
    "Maybe it is not so clear, so you can just plot label:\n",
    "\n",
    "pcolor(xmask, ymask, label[:,:,1]');  # the 1 means the 1st depth level\n",
    "\n",
    "and you will obtain something like the attached figure. The colored pixels are the \"sea\" pixels not connected with the main sea area.\n"
   ]
  },
  {
   "cell_type": "raw",
   "metadata": {},
   "source": [
    "#pcolor(xmask, ymask, label[:,:,1]'); \n",
    "#pcolor(xmask, ymask, new_mask[:,:,2]'); \n",
    "pcolor(xmask, ymask,(new_mask[:,:,1].*rl)'); \n",
    "colorbar(orientation=\"horizontal\")\n",
    "gca().set_aspect(1/cos(mean([ylim()...]) * pi/180)) # fixes the aspect ratio"
   ]
  },
  {
   "cell_type": "markdown",
   "metadata": {},
   "source": [
    "#### 3) Create a new mask\n",
    "new_mask = (label .== 1)\n",
    "\n",
    "which means it will have the value true only in the main sea area, not on land or in the small isolated pixels.\n",
    "I also attach a plot with the 2 masks (before and after the floodfill). You can see that your problem with the pixel in the middle of the island has disappeared. Note also that the northwesternmost part of the domain has also been masked, as this area was the 2nd largest sea area.\n"
   ]
  },
  {
   "cell_type": "code",
   "execution_count": 24,
   "metadata": {},
   "outputs": [],
   "source": [
    "new_mask = (label .== 1);"
   ]
  },
  {
   "cell_type": "markdown",
   "metadata": {
    "slideshow": {
     "slide_type": "slide"
    }
   },
   "source": [
    "## Analysis parameters"
   ]
  },
  {
   "cell_type": "markdown",
   "metadata": {},
   "source": [
    "## Horizontal correlation length"
   ]
  },
  {
   "cell_type": "markdown",
   "metadata": {},
   "source": [
    "From https://github.com/gher-uliege/DIVAnd.jl/issues/121 \n",
    "\n",
    "Here is a piece of code (from Emodnet Chemistry), which could be used to create a correlation length lenfilled decreasing to a fifth of the normal value lenfwhen approaching a cost.\n",
    "The distance at which the change happens is defined by slen (here in meters, so metrics pmn are in /m). sz is size(mask)\n",
    "\n",
    "The mask is 2D.\n",
    "\n",
    "Ökas slen så minskas avståndet från kusten där len är mindre."
   ]
  },
  {
   "cell_type": "code",
   "execution_count": 25,
   "metadata": {},
   "outputs": [],
   "source": [
    "mask,pmn = DIVAnd.domain(bathname,bathisglobal,lonr,latr);"
   ]
  },
  {
   "cell_type": "code",
   "execution_count": 26,
   "metadata": {},
   "outputs": [
    {
     "name": "stdout",
     "output_type": "stream",
     "text": [
      "  1.126268 seconds (2.96 M allocations: 158.041 MiB, 98.09% compilation time)\n"
     ]
    }
   ],
   "source": [
    "sz_mask = size(mask)\n",
    "lenf = 50_000.\n",
    "\n",
    "nearcoast = 1.0 * (1. .- new_mask[:,:,1])\n",
    "nearcoastf = copy(nearcoast)\n",
    "\n",
    "slen = (25e3,25e3)\n",
    "nearcoastf = @time DIVAnd.diffusion(\n",
    "    trues(sz_mask),pmn,slen,nearcoast;\n",
    "    boundary_condition! = x -> x[.!new_mask[:,:,1]] .= 1\n",
    ")\n",
    "\n",
    "\n",
    "lenf2 = (1 .- nearcoastf) .* lenf + nearcoastf .* lenf/3 #5\n",
    "\n",
    "#@code_warntype DIVAnd.diffusion(mask,pmn,slen,len)\n",
    "lenf2[.!new_mask[:,:,1]] .= NaN\n",
    "\n",
    "lenfilled = DIVAnd.ufill(lenf2,isfinite.(lenf2));"
   ]
  },
  {
   "cell_type": "code",
   "execution_count": 27,
   "metadata": {},
   "outputs": [],
   "source": [
    "rl = lenfilled ./ lenf;"
   ]
  },
  {
   "cell_type": "code",
   "execution_count": 28,
   "metadata": {},
   "outputs": [],
   "source": [
    "sz = (length(lonr),length(latr),length(depthr));"
   ]
  },
  {
   "cell_type": "code",
   "execution_count": 29,
   "metadata": {},
   "outputs": [],
   "source": [
    "lx = 78_000. #50_000.\n",
    "ly = 78_000. \n",
    "lenx = repeat(rl.*lx,inner=(1,1,sz[3]));\n",
    "leny = repeat(rl.*ly,inner=(1,1,sz[3]));\n",
    "#leny = copy(lenx);\n",
    "#maximum(lenx)"
   ]
  },
  {
   "cell_type": "raw",
   "metadata": {},
   "source": [
    "sz = (length(lonr),length(latr),length(depthr));\n",
    "lx = 80_000. # 80 km\n",
    "ly = 80_000. # 80 km\n",
    "lenx = fill(lx,sz)   \n",
    "leny = fill(ly,sz)  \n",
    "                       \n",
    "for k = 1:sz[3]\n",
    "    for j = 1:sz[2]\n",
    "        for i = 1:sz[1]\n",
    "            lenx[i,j,k] = lenx[i,j,k] * RL[i,j]\n",
    "            leny[i,j,k] = leny[i,j,k] * RL[i,j]\n",
    "        end\n",
    "    end\n",
    "end\n",
    "#lenx = leny = fill(1,sz);\n",
    "#lenx=leny=RL3D"
   ]
  },
  {
   "cell_type": "markdown",
   "metadata": {},
   "source": [
    "## Vertical correlation length"
   ]
  },
  {
   "cell_type": "code",
   "execution_count": 30,
   "metadata": {
    "slideshow": {
     "slide_type": "subslide"
    }
   },
   "outputs": [],
   "source": [
    "#lenz (twice the resolution)\n",
    "lenz_ = [10., 10.,10.,10.,10.,\n",
    "        20.,20.,20.,20.,20.,20.,20.,35.,\n",
    "        50.,50.,50.,50.,50.,50.,50.,50.];\n",
    "\n",
    "#depthr = [0., 5., 10., 15., 20., 30., 40., 50., 60., 70., 80., 90.,\n",
    "#    100., 125., 150., 175., 200., 225., 250., 275., 300.];\n",
    "\n",
    "lenz =  [lenz_[k] for i = 1:sz[1], j = 1:sz[2], k = 1:sz[3]];\n",
    "\n",
    "\n",
    "#lenz = fill(0,sz);      # scaling factor of one when vertical correlation length is estimated \n",
    "#lenz = [10+depthr[k]/15 for i = 1:sz[1], j = 1:sz[2], k = 1:sz[3]]"
   ]
  },
  {
   "cell_type": "markdown",
   "metadata": {
    "slideshow": {
     "slide_type": "slide"
    }
   },
   "source": [
    "## Analysis"
   ]
  },
  {
   "cell_type": "markdown",
   "metadata": {
    "slideshow": {
     "slide_type": "subslide"
    }
   },
   "source": [
    "Remove the result file before running the analysis, otherwise you'll get the message     \n",
    "```julia\n",
    "NCDatasets.NetCDFError(13, \"Permission denied\")\n",
    "```"
   ]
  },
  {
   "cell_type": "markdown",
   "metadata": {
    "slideshow": {
     "slide_type": "subslide"
    }
   },
   "source": [
    "### Plotting function\n",
    "Define a plotting function that will be applied for each time index and depth level.     \n",
    "All the figures will be saved in a selected directory."
   ]
  },
  {
   "cell_type": "markdown",
   "metadata": {},
   "source": [
    "If you do not want to generate plots but print the time index at every time slice\n",
    "you can use the function `plotres_timeindex`."
   ]
  },
  {
   "cell_type": "raw",
   "metadata": {},
   "source": [
    "function plotres_timeindex(timeindex,sel,fit,erri)\n",
    "    @show timeindex\n",
    "end"
   ]
  },
  {
   "cell_type": "code",
   "execution_count": 31,
   "metadata": {},
   "outputs": [],
   "source": [
    "#sel = (obsdepth .> 225) .& ((Dates.month.(obstime) .== 12) .| (Dates.month.(obstime) .< 2))\n",
    "\n",
    "#value = obsval[sel]\n",
    "#lon = obslon[sel]\n",
    "#lat = obslat[sel]\n",
    "#depth = obsdepth[sel]\n",
    "#time = obstime[sel]\n",
    "#ids = obsid[sel];\n",
    "#@show (size(value))\n",
    "#checkobs((lon,lat,depth,time),value,ids)"
   ]
  },
  {
   "cell_type": "markdown",
   "metadata": {},
   "source": [
    "## Where to save the result..."
   ]
  },
  {
   "cell_type": "code",
   "execution_count": 32,
   "metadata": {
    "slideshow": {
     "slide_type": "fragment"
    }
   },
   "outputs": [],
   "source": [
    "# File name based on the variable (but all spaces are replaced by _) _varlenz\n",
    "outputdir = \"./resultat/output/6y_back6y_3_xy/$(savevar)/\" ;\n",
    "if !isdir(outputdir)\n",
    "    mkpath(outputdir)\n",
    "end\n",
    "\n",
    "figdir = \"./resultat/figures/6y_back6y_3_xy/$(savevar)/\";\n",
    "if !isdir(figdir)\n",
    "    mkpath(figdir)\n",
    "end"
   ]
  },
  {
   "cell_type": "markdown",
   "metadata": {},
   "source": [
    "# Run DIVA3d\n",
    "### Background field is calculated in notebook: "
   ]
  },
  {
   "cell_type": "code",
   "execution_count": 33,
   "metadata": {},
   "outputs": [
    {
     "data": {
      "text/plain": [
       "#639 (generic function with 1 method)"
      ]
     },
     "execution_count": 33,
     "metadata": {},
     "output_type": "execute_result"
    }
   ],
   "source": [
    "filename_background = \"Background_file_6y_20230203_$(savevar).nc\"\n",
    "\n",
    "TS_back = DIVAnd.TimeSelectorYearListMonthList(yearlist_back, monthlist)\n",
    "background = DIVAnd.backgroundfile(filename_background,varname,TS_back)"
   ]
  },
  {
   "cell_type": "code",
   "execution_count": 34,
   "metadata": {},
   "outputs": [],
   "source": [
    "# To include December from previous year in the analyse\n",
    "obstime_shifted = copy(obstime)\n",
    "obstime_shifted[Dates.month.(obstime) .== 12] .+= Dates.Year(1)\n",
    "\n",
    "# When cutting\n",
    "polygon_lon = [9.4, 11., 31., 31., 14., 14., 9.4]\n",
    "polygon_lat = [54., 53., 53., 66., 66., 55.5, 55.5]\n",
    "\n",
    "# Settings for DIVAnd\n",
    "epsilon=0.001\n",
    "error_thresholds = [(\"L1\", 0.3), (\"L2\", 0.5)];\n",
    "solver = :direct\n",
    "epsilon2 = 1.;"
   ]
  },
  {
   "cell_type": "markdown",
   "metadata": {},
   "source": [
    "#### Loop each season"
   ]
  },
  {
   "cell_type": "code",
   "execution_count": 35,
   "metadata": {},
   "outputs": [
    {
     "data": {
      "text/plain": [
       "1.0"
      ]
     },
     "execution_count": 35,
     "metadata": {},
     "output_type": "execute_result"
    }
   ],
   "source": [
    "epsilon2"
   ]
  },
  {
   "cell_type": "code",
   "execution_count": 36,
   "metadata": {
    "scrolled": true
   },
   "outputs": [
    {
     "name": "stderr",
     "output_type": "stream",
     "text": [
      "\u001b[36m\u001b[1m[ \u001b[22m\u001b[39m\u001b[36m\u001b[1mInfo: \u001b[22m\u001b[39mstarting DIVAnd computations for Winter\n",
      "\u001b[36m\u001b[1m[ \u001b[22m\u001b[39m\u001b[36m\u001b[1mInfo: \u001b[22m\u001b[39m2023-02-18T23:41:39.425\n",
      "\u001b[36m\u001b[1m[ \u001b[22m\u001b[39m\u001b[36m\u001b[1mInfo: \u001b[22m\u001b[39mWill write results in ./resultat/output/6y_back6y_3_xy/O2/Water_body_dissolved_oxygen_concentration_Winter_0.4Danl.nc\n",
      "\u001b[36m\u001b[1m[ \u001b[22m\u001b[39m\u001b[36m\u001b[1mInfo: \u001b[22m\u001b[39mCreating netCDF file ./resultat/output/6y_back6y_3_xy/O2/Water_body_dissolved_oxygen_concentration_Winter_0.4Danl.nc\n",
      "\u001b[36m\u001b[1m[ \u001b[22m\u001b[39m\u001b[36m\u001b[1mInfo: \u001b[22m\u001b[39mTime step 1 / 57\n",
      "\u001b[36m\u001b[1m[ \u001b[22m\u001b[39m\u001b[36m\u001b[1mInfo: \u001b[22m\u001b[39manalysis time index 1 uses the backgrond time index 41\n",
      "\u001b[36m\u001b[1m[ \u001b[22m\u001b[39m\u001b[36m\u001b[1mInfo: \u001b[22m\u001b[39mscaled correlation length (min,max) in dimension 1: (26002.33511528906, 77999.93927774779)\n",
      "\u001b[36m\u001b[1m[ \u001b[22m\u001b[39m\u001b[36m\u001b[1mInfo: \u001b[22m\u001b[39mscaled correlation length (min,max) in dimension 2: (26002.33511528906, 77999.93927774779)\n",
      "\u001b[36m\u001b[1m[ \u001b[22m\u001b[39m\u001b[36m\u001b[1mInfo: \u001b[22m\u001b[39mscaled correlation length (min,max) in dimension 3: (10.0, 50.0)\n",
      "\u001b[33m\u001b[1m┌ \u001b[22m\u001b[39m\u001b[33m\u001b[1mWarning: \u001b[22m\u001b[39mresolution (7.5) is too coarse for correlation length 10.0 in dimension 3 at indices CartesianIndex(47, 11, 6) (skipping further tests). It is recommended that the resolution is at least 2 times finer than the correlation length.\n",
      "\u001b[33m\u001b[1m└ \u001b[22m\u001b[39m\u001b[90m@ DIVAnd C:\\Users\\a001819\\.julia\\packages\\DIVAnd\\MV3j9\\src\\utils.jl:18\u001b[39m\n",
      "\u001b[36m\u001b[1m[ \u001b[22m\u001b[39m\u001b[36m\u001b[1mInfo: \u001b[22m\u001b[39mnumber of windows: 1\n"
     ]
    },
    {
     "name": "stdout",
     "output_type": "stream",
     "text": [
      "timeindex = 1\n"
     ]
    },
    {
     "name": "stderr",
     "output_type": "stream",
     "text": [
      "\u001b[36m\u001b[1m[ \u001b[22m\u001b[39m\u001b[36m\u001b[1mInfo: \u001b[22m\u001b[39mTime step 2 / 57\n",
      "\u001b[36m\u001b[1m[ \u001b[22m\u001b[39m\u001b[36m\u001b[1mInfo: \u001b[22m\u001b[39manalysis time index 2 uses the backgrond time index 45\n",
      "\u001b[36m\u001b[1m[ \u001b[22m\u001b[39m\u001b[36m\u001b[1mInfo: \u001b[22m\u001b[39mscaled correlation length (min,max) in dimension 1: (26002.33511528906, 77999.93927774779)\n",
      "\u001b[36m\u001b[1m[ \u001b[22m\u001b[39m\u001b[36m\u001b[1mInfo: \u001b[22m\u001b[39mscaled correlation length (min,max) in dimension 2: (26002.33511528906, 77999.93927774779)\n",
      "\u001b[36m\u001b[1m[ \u001b[22m\u001b[39m\u001b[36m\u001b[1mInfo: \u001b[22m\u001b[39mscaled correlation length (min,max) in dimension 3: (10.0, 50.0)\n",
      "\u001b[33m\u001b[1m┌ \u001b[22m\u001b[39m\u001b[33m\u001b[1mWarning: \u001b[22m\u001b[39mresolution (7.5) is too coarse for correlation length 10.0 in dimension 3 at indices CartesianIndex(47, 11, 6) (skipping further tests). It is recommended that the resolution is at least 2 times finer than the correlation length.\n",
      "\u001b[33m\u001b[1m└ \u001b[22m\u001b[39m\u001b[90m@ DIVAnd C:\\Users\\a001819\\.julia\\packages\\DIVAnd\\MV3j9\\src\\utils.jl:18\u001b[39m\n",
      "\u001b[36m\u001b[1m[ \u001b[22m\u001b[39m\u001b[36m\u001b[1mInfo: \u001b[22m\u001b[39mnumber of windows: 1\n"
     ]
    },
    {
     "name": "stdout",
     "output_type": "stream",
     "text": [
      "timeindex = 2\n"
     ]
    },
    {
     "name": "stderr",
     "output_type": "stream",
     "text": [
      "\u001b[36m\u001b[1m[ \u001b[22m\u001b[39m\u001b[36m\u001b[1mInfo: \u001b[22m\u001b[39mTime step 3 / 57\n",
      "\u001b[36m\u001b[1m[ \u001b[22m\u001b[39m\u001b[36m\u001b[1mInfo: \u001b[22m\u001b[39manalysis time index 3 uses the backgrond time index 49\n",
      "\u001b[36m\u001b[1m[ \u001b[22m\u001b[39m\u001b[36m\u001b[1mInfo: \u001b[22m\u001b[39mscaled correlation length (min,max) in dimension 1: (26002.33511528906, 77999.93927774779)\n",
      "\u001b[36m\u001b[1m[ \u001b[22m\u001b[39m\u001b[36m\u001b[1mInfo: \u001b[22m\u001b[39mscaled correlation length (min,max) in dimension 2: (26002.33511528906, 77999.93927774779)\n",
      "\u001b[36m\u001b[1m[ \u001b[22m\u001b[39m\u001b[36m\u001b[1mInfo: \u001b[22m\u001b[39mscaled correlation length (min,max) in dimension 3: (10.0, 50.0)\n",
      "\u001b[33m\u001b[1m┌ \u001b[22m\u001b[39m\u001b[33m\u001b[1mWarning: \u001b[22m\u001b[39mresolution (7.5) is too coarse for correlation length 10.0 in dimension 3 at indices CartesianIndex(47, 11, 6) (skipping further tests). It is recommended that the resolution is at least 2 times finer than the correlation length.\n",
      "\u001b[33m\u001b[1m└ \u001b[22m\u001b[39m\u001b[90m@ DIVAnd C:\\Users\\a001819\\.julia\\packages\\DIVAnd\\MV3j9\\src\\utils.jl:18\u001b[39m\n",
      "\u001b[36m\u001b[1m[ \u001b[22m\u001b[39m\u001b[36m\u001b[1mInfo: \u001b[22m\u001b[39mnumber of windows: 1\n"
     ]
    },
    {
     "name": "stdout",
     "output_type": "stream",
     "text": [
      "timeindex = 3\n"
     ]
    },
    {
     "name": "stderr",
     "output_type": "stream",
     "text": [
      "\u001b[36m\u001b[1m[ \u001b[22m\u001b[39m\u001b[36m\u001b[1mInfo: \u001b[22m\u001b[39mTime step 4 / 57\n",
      "\u001b[36m\u001b[1m[ \u001b[22m\u001b[39m\u001b[36m\u001b[1mInfo: \u001b[22m\u001b[39manalysis time index 4 uses the backgrond time index 53\n",
      "\u001b[36m\u001b[1m[ \u001b[22m\u001b[39m\u001b[36m\u001b[1mInfo: \u001b[22m\u001b[39mscaled correlation length (min,max) in dimension 1: (26002.33511528906, 77999.93927774779)\n",
      "\u001b[36m\u001b[1m[ \u001b[22m\u001b[39m\u001b[36m\u001b[1mInfo: \u001b[22m\u001b[39mscaled correlation length (min,max) in dimension 2: (26002.33511528906, 77999.93927774779)\n",
      "\u001b[36m\u001b[1m[ \u001b[22m\u001b[39m\u001b[36m\u001b[1mInfo: \u001b[22m\u001b[39mscaled correlation length (min,max) in dimension 3: (10.0, 50.0)\n",
      "\u001b[33m\u001b[1m┌ \u001b[22m\u001b[39m\u001b[33m\u001b[1mWarning: \u001b[22m\u001b[39mresolution (7.5) is too coarse for correlation length 10.0 in dimension 3 at indices CartesianIndex(47, 11, 6) (skipping further tests). It is recommended that the resolution is at least 2 times finer than the correlation length.\n",
      "\u001b[33m\u001b[1m└ \u001b[22m\u001b[39m\u001b[90m@ DIVAnd C:\\Users\\a001819\\.julia\\packages\\DIVAnd\\MV3j9\\src\\utils.jl:18\u001b[39m\n",
      "\u001b[36m\u001b[1m[ \u001b[22m\u001b[39m\u001b[36m\u001b[1mInfo: \u001b[22m\u001b[39mnumber of windows: 1\n"
     ]
    },
    {
     "name": "stdout",
     "output_type": "stream",
     "text": [
      "timeindex = 4\n"
     ]
    },
    {
     "name": "stderr",
     "output_type": "stream",
     "text": [
      "\u001b[36m\u001b[1m[ \u001b[22m\u001b[39m\u001b[36m\u001b[1mInfo: \u001b[22m\u001b[39mTime step 5 / 57\n",
      "\u001b[36m\u001b[1m[ \u001b[22m\u001b[39m\u001b[36m\u001b[1mInfo: \u001b[22m\u001b[39manalysis time index 5 uses the backgrond time index 57\n",
      "\u001b[36m\u001b[1m[ \u001b[22m\u001b[39m\u001b[36m\u001b[1mInfo: \u001b[22m\u001b[39mscaled correlation length (min,max) in dimension 1: (26002.33511528906, 77999.93927774779)\n",
      "\u001b[36m\u001b[1m[ \u001b[22m\u001b[39m\u001b[36m\u001b[1mInfo: \u001b[22m\u001b[39mscaled correlation length (min,max) in dimension 2: (26002.33511528906, 77999.93927774779)\n",
      "\u001b[36m\u001b[1m[ \u001b[22m\u001b[39m\u001b[36m\u001b[1mInfo: \u001b[22m\u001b[39mscaled correlation length (min,max) in dimension 3: (10.0, 50.0)\n",
      "\u001b[33m\u001b[1m┌ \u001b[22m\u001b[39m\u001b[33m\u001b[1mWarning: \u001b[22m\u001b[39mresolution (7.5) is too coarse for correlation length 10.0 in dimension 3 at indices CartesianIndex(47, 11, 6) (skipping further tests). It is recommended that the resolution is at least 2 times finer than the correlation length.\n",
      "\u001b[33m\u001b[1m└ \u001b[22m\u001b[39m\u001b[90m@ DIVAnd C:\\Users\\a001819\\.julia\\packages\\DIVAnd\\MV3j9\\src\\utils.jl:18\u001b[39m\n",
      "\u001b[36m\u001b[1m[ \u001b[22m\u001b[39m\u001b[36m\u001b[1mInfo: \u001b[22m\u001b[39mnumber of windows: 1\n"
     ]
    },
    {
     "name": "stdout",
     "output_type": "stream",
     "text": [
      "timeindex = 5\n"
     ]
    },
    {
     "name": "stderr",
     "output_type": "stream",
     "text": [
      "\u001b[36m\u001b[1m[ \u001b[22m\u001b[39m\u001b[36m\u001b[1mInfo: \u001b[22m\u001b[39mTime step 6 / 57\n",
      "\u001b[36m\u001b[1m[ \u001b[22m\u001b[39m\u001b[36m\u001b[1mInfo: \u001b[22m\u001b[39manalysis time index 6 uses the backgrond time index 61\n",
      "\u001b[36m\u001b[1m[ \u001b[22m\u001b[39m\u001b[36m\u001b[1mInfo: \u001b[22m\u001b[39mscaled correlation length (min,max) in dimension 1: (26002.33511528906, 77999.93927774779)\n",
      "\u001b[36m\u001b[1m[ \u001b[22m\u001b[39m\u001b[36m\u001b[1mInfo: \u001b[22m\u001b[39mscaled correlation length (min,max) in dimension 2: (26002.33511528906, 77999.93927774779)\n",
      "\u001b[36m\u001b[1m[ \u001b[22m\u001b[39m\u001b[36m\u001b[1mInfo: \u001b[22m\u001b[39mscaled correlation length (min,max) in dimension 3: (10.0, 50.0)\n",
      "\u001b[33m\u001b[1m┌ \u001b[22m\u001b[39m\u001b[33m\u001b[1mWarning: \u001b[22m\u001b[39mresolution (7.5) is too coarse for correlation length 10.0 in dimension 3 at indices CartesianIndex(47, 11, 6) (skipping further tests). It is recommended that the resolution is at least 2 times finer than the correlation length.\n",
      "\u001b[33m\u001b[1m└ \u001b[22m\u001b[39m\u001b[90m@ DIVAnd C:\\Users\\a001819\\.julia\\packages\\DIVAnd\\MV3j9\\src\\utils.jl:18\u001b[39m\n",
      "\u001b[36m\u001b[1m[ \u001b[22m\u001b[39m\u001b[36m\u001b[1mInfo: \u001b[22m\u001b[39mnumber of windows: 1\n"
     ]
    },
    {
     "name": "stdout",
     "output_type": "stream",
     "text": [
      "timeindex = 6\n"
     ]
    },
    {
     "name": "stderr",
     "output_type": "stream",
     "text": [
      "\u001b[36m\u001b[1m[ \u001b[22m\u001b[39m\u001b[36m\u001b[1mInfo: \u001b[22m\u001b[39mTime step 7 / 57\n",
      "\u001b[36m\u001b[1m[ \u001b[22m\u001b[39m\u001b[36m\u001b[1mInfo: \u001b[22m\u001b[39manalysis time index 7 uses the backgrond time index 65\n",
      "\u001b[36m\u001b[1m[ \u001b[22m\u001b[39m\u001b[36m\u001b[1mInfo: \u001b[22m\u001b[39mscaled correlation length (min,max) in dimension 1: (26002.33511528906, 77999.93927774779)\n",
      "\u001b[36m\u001b[1m[ \u001b[22m\u001b[39m\u001b[36m\u001b[1mInfo: \u001b[22m\u001b[39mscaled correlation length (min,max) in dimension 2: (26002.33511528906, 77999.93927774779)\n",
      "\u001b[36m\u001b[1m[ \u001b[22m\u001b[39m\u001b[36m\u001b[1mInfo: \u001b[22m\u001b[39mscaled correlation length (min,max) in dimension 3: (10.0, 50.0)\n",
      "\u001b[33m\u001b[1m┌ \u001b[22m\u001b[39m\u001b[33m\u001b[1mWarning: \u001b[22m\u001b[39mresolution (7.5) is too coarse for correlation length 10.0 in dimension 3 at indices CartesianIndex(47, 11, 6) (skipping further tests). It is recommended that the resolution is at least 2 times finer than the correlation length.\n",
      "\u001b[33m\u001b[1m└ \u001b[22m\u001b[39m\u001b[90m@ DIVAnd C:\\Users\\a001819\\.julia\\packages\\DIVAnd\\MV3j9\\src\\utils.jl:18\u001b[39m\n",
      "\u001b[36m\u001b[1m[ \u001b[22m\u001b[39m\u001b[36m\u001b[1mInfo: \u001b[22m\u001b[39mnumber of windows: 1\n"
     ]
    },
    {
     "name": "stdout",
     "output_type": "stream",
     "text": [
      "timeindex = 7\n"
     ]
    },
    {
     "name": "stderr",
     "output_type": "stream",
     "text": [
      "\u001b[36m\u001b[1m[ \u001b[22m\u001b[39m\u001b[36m\u001b[1mInfo: \u001b[22m\u001b[39mTime step 8 / 57\n",
      "\u001b[36m\u001b[1m[ \u001b[22m\u001b[39m\u001b[36m\u001b[1mInfo: \u001b[22m\u001b[39manalysis time index 8 uses the backgrond time index 69\n",
      "\u001b[36m\u001b[1m[ \u001b[22m\u001b[39m\u001b[36m\u001b[1mInfo: \u001b[22m\u001b[39mscaled correlation length (min,max) in dimension 1: (26002.33511528906, 77999.93927774779)\n",
      "\u001b[36m\u001b[1m[ \u001b[22m\u001b[39m\u001b[36m\u001b[1mInfo: \u001b[22m\u001b[39mscaled correlation length (min,max) in dimension 2: (26002.33511528906, 77999.93927774779)\n",
      "\u001b[36m\u001b[1m[ \u001b[22m\u001b[39m\u001b[36m\u001b[1mInfo: \u001b[22m\u001b[39mscaled correlation length (min,max) in dimension 3: (10.0, 50.0)\n",
      "\u001b[33m\u001b[1m┌ \u001b[22m\u001b[39m\u001b[33m\u001b[1mWarning: \u001b[22m\u001b[39mresolution (7.5) is too coarse for correlation length 10.0 in dimension 3 at indices CartesianIndex(47, 11, 6) (skipping further tests). It is recommended that the resolution is at least 2 times finer than the correlation length.\n",
      "\u001b[33m\u001b[1m└ \u001b[22m\u001b[39m\u001b[90m@ DIVAnd C:\\Users\\a001819\\.julia\\packages\\DIVAnd\\MV3j9\\src\\utils.jl:18\u001b[39m\n",
      "\u001b[36m\u001b[1m[ \u001b[22m\u001b[39m\u001b[36m\u001b[1mInfo: \u001b[22m\u001b[39mnumber of windows: 1\n"
     ]
    },
    {
     "name": "stdout",
     "output_type": "stream",
     "text": [
      "timeindex = 8\n"
     ]
    },
    {
     "name": "stderr",
     "output_type": "stream",
     "text": [
      "\u001b[36m\u001b[1m[ \u001b[22m\u001b[39m\u001b[36m\u001b[1mInfo: \u001b[22m\u001b[39mTime step 9 / 57\n",
      "\u001b[36m\u001b[1m[ \u001b[22m\u001b[39m\u001b[36m\u001b[1mInfo: \u001b[22m\u001b[39manalysis time index 9 uses the backgrond time index 73\n",
      "\u001b[36m\u001b[1m[ \u001b[22m\u001b[39m\u001b[36m\u001b[1mInfo: \u001b[22m\u001b[39mscaled correlation length (min,max) in dimension 1: (26002.33511528906, 77999.93927774779)\n",
      "\u001b[36m\u001b[1m[ \u001b[22m\u001b[39m\u001b[36m\u001b[1mInfo: \u001b[22m\u001b[39mscaled correlation length (min,max) in dimension 2: (26002.33511528906, 77999.93927774779)\n",
      "\u001b[36m\u001b[1m[ \u001b[22m\u001b[39m\u001b[36m\u001b[1mInfo: \u001b[22m\u001b[39mscaled correlation length (min,max) in dimension 3: (10.0, 50.0)\n",
      "\u001b[33m\u001b[1m┌ \u001b[22m\u001b[39m\u001b[33m\u001b[1mWarning: \u001b[22m\u001b[39mresolution (7.5) is too coarse for correlation length 10.0 in dimension 3 at indices CartesianIndex(47, 11, 6) (skipping further tests). It is recommended that the resolution is at least 2 times finer than the correlation length.\n",
      "\u001b[33m\u001b[1m└ \u001b[22m\u001b[39m\u001b[90m@ DIVAnd C:\\Users\\a001819\\.julia\\packages\\DIVAnd\\MV3j9\\src\\utils.jl:18\u001b[39m\n",
      "\u001b[36m\u001b[1m[ \u001b[22m\u001b[39m\u001b[36m\u001b[1mInfo: \u001b[22m\u001b[39mnumber of windows: 1\n"
     ]
    },
    {
     "name": "stdout",
     "output_type": "stream",
     "text": [
      "timeindex = 9\n"
     ]
    },
    {
     "name": "stderr",
     "output_type": "stream",
     "text": [
      "\u001b[36m\u001b[1m[ \u001b[22m\u001b[39m\u001b[36m\u001b[1mInfo: \u001b[22m\u001b[39mTime step 10 / 57\n",
      "\u001b[36m\u001b[1m[ \u001b[22m\u001b[39m\u001b[36m\u001b[1mInfo: \u001b[22m\u001b[39manalysis time index 10 uses the backgrond time index 77\n",
      "\u001b[36m\u001b[1m[ \u001b[22m\u001b[39m\u001b[36m\u001b[1mInfo: \u001b[22m\u001b[39mscaled correlation length (min,max) in dimension 1: (26002.33511528906, 77999.93927774779)\n",
      "\u001b[36m\u001b[1m[ \u001b[22m\u001b[39m\u001b[36m\u001b[1mInfo: \u001b[22m\u001b[39mscaled correlation length (min,max) in dimension 2: (26002.33511528906, 77999.93927774779)\n",
      "\u001b[36m\u001b[1m[ \u001b[22m\u001b[39m\u001b[36m\u001b[1mInfo: \u001b[22m\u001b[39mscaled correlation length (min,max) in dimension 3: (10.0, 50.0)\n",
      "\u001b[33m\u001b[1m┌ \u001b[22m\u001b[39m\u001b[33m\u001b[1mWarning: \u001b[22m\u001b[39mresolution (7.5) is too coarse for correlation length 10.0 in dimension 3 at indices CartesianIndex(47, 11, 6) (skipping further tests). It is recommended that the resolution is at least 2 times finer than the correlation length.\n",
      "\u001b[33m\u001b[1m└ \u001b[22m\u001b[39m\u001b[90m@ DIVAnd C:\\Users\\a001819\\.julia\\packages\\DIVAnd\\MV3j9\\src\\utils.jl:18\u001b[39m\n",
      "\u001b[36m\u001b[1m[ \u001b[22m\u001b[39m\u001b[36m\u001b[1mInfo: \u001b[22m\u001b[39mnumber of windows: 1\n"
     ]
    },
    {
     "name": "stdout",
     "output_type": "stream",
     "text": [
      "timeindex = 10\n"
     ]
    },
    {
     "name": "stderr",
     "output_type": "stream",
     "text": [
      "\u001b[36m\u001b[1m[ \u001b[22m\u001b[39m\u001b[36m\u001b[1mInfo: \u001b[22m\u001b[39mTime step 11 / 57\n",
      "\u001b[36m\u001b[1m[ \u001b[22m\u001b[39m\u001b[36m\u001b[1mInfo: \u001b[22m\u001b[39manalysis time index 11 uses the backgrond time index 81\n",
      "\u001b[36m\u001b[1m[ \u001b[22m\u001b[39m\u001b[36m\u001b[1mInfo: \u001b[22m\u001b[39mscaled correlation length (min,max) in dimension 1: (26002.33511528906, 77999.93927774779)\n",
      "\u001b[36m\u001b[1m[ \u001b[22m\u001b[39m\u001b[36m\u001b[1mInfo: \u001b[22m\u001b[39mscaled correlation length (min,max) in dimension 2: (26002.33511528906, 77999.93927774779)\n",
      "\u001b[36m\u001b[1m[ \u001b[22m\u001b[39m\u001b[36m\u001b[1mInfo: \u001b[22m\u001b[39mscaled correlation length (min,max) in dimension 3: (10.0, 50.0)\n",
      "\u001b[33m\u001b[1m┌ \u001b[22m\u001b[39m\u001b[33m\u001b[1mWarning: \u001b[22m\u001b[39mresolution (7.5) is too coarse for correlation length 10.0 in dimension 3 at indices CartesianIndex(47, 11, 6) (skipping further tests). It is recommended that the resolution is at least 2 times finer than the correlation length.\n",
      "\u001b[33m\u001b[1m└ \u001b[22m\u001b[39m\u001b[90m@ DIVAnd C:\\Users\\a001819\\.julia\\packages\\DIVAnd\\MV3j9\\src\\utils.jl:18\u001b[39m\n",
      "\u001b[36m\u001b[1m[ \u001b[22m\u001b[39m\u001b[36m\u001b[1mInfo: \u001b[22m\u001b[39mnumber of windows: 1\n"
     ]
    },
    {
     "name": "stdout",
     "output_type": "stream",
     "text": [
      "timeindex = 11\n"
     ]
    },
    {
     "name": "stderr",
     "output_type": "stream",
     "text": [
      "\u001b[36m\u001b[1m[ \u001b[22m\u001b[39m\u001b[36m\u001b[1mInfo: \u001b[22m\u001b[39mTime step 12 / 57\n",
      "\u001b[36m\u001b[1m[ \u001b[22m\u001b[39m\u001b[36m\u001b[1mInfo: \u001b[22m\u001b[39manalysis time index 12 uses the backgrond time index 85\n",
      "\u001b[36m\u001b[1m[ \u001b[22m\u001b[39m\u001b[36m\u001b[1mInfo: \u001b[22m\u001b[39mscaled correlation length (min,max) in dimension 1: (26002.33511528906, 77999.93927774779)\n",
      "\u001b[36m\u001b[1m[ \u001b[22m\u001b[39m\u001b[36m\u001b[1mInfo: \u001b[22m\u001b[39mscaled correlation length (min,max) in dimension 2: (26002.33511528906, 77999.93927774779)\n",
      "\u001b[36m\u001b[1m[ \u001b[22m\u001b[39m\u001b[36m\u001b[1mInfo: \u001b[22m\u001b[39mscaled correlation length (min,max) in dimension 3: (10.0, 50.0)\n",
      "\u001b[33m\u001b[1m┌ \u001b[22m\u001b[39m\u001b[33m\u001b[1mWarning: \u001b[22m\u001b[39mresolution (7.5) is too coarse for correlation length 10.0 in dimension 3 at indices CartesianIndex(47, 11, 6) (skipping further tests). It is recommended that the resolution is at least 2 times finer than the correlation length.\n",
      "\u001b[33m\u001b[1m└ \u001b[22m\u001b[39m\u001b[90m@ DIVAnd C:\\Users\\a001819\\.julia\\packages\\DIVAnd\\MV3j9\\src\\utils.jl:18\u001b[39m\n",
      "\u001b[36m\u001b[1m[ \u001b[22m\u001b[39m\u001b[36m\u001b[1mInfo: \u001b[22m\u001b[39mnumber of windows: 1\n"
     ]
    },
    {
     "name": "stdout",
     "output_type": "stream",
     "text": [
      "timeindex = 12\n"
     ]
    },
    {
     "name": "stderr",
     "output_type": "stream",
     "text": [
      "\u001b[36m\u001b[1m[ \u001b[22m\u001b[39m\u001b[36m\u001b[1mInfo: \u001b[22m\u001b[39mTime step 13 / 57\n",
      "\u001b[36m\u001b[1m[ \u001b[22m\u001b[39m\u001b[36m\u001b[1mInfo: \u001b[22m\u001b[39manalysis time index 13 uses the backgrond time index 89\n",
      "\u001b[36m\u001b[1m[ \u001b[22m\u001b[39m\u001b[36m\u001b[1mInfo: \u001b[22m\u001b[39mscaled correlation length (min,max) in dimension 1: (26002.33511528906, 77999.93927774779)\n",
      "\u001b[36m\u001b[1m[ \u001b[22m\u001b[39m\u001b[36m\u001b[1mInfo: \u001b[22m\u001b[39mscaled correlation length (min,max) in dimension 2: (26002.33511528906, 77999.93927774779)\n",
      "\u001b[36m\u001b[1m[ \u001b[22m\u001b[39m\u001b[36m\u001b[1mInfo: \u001b[22m\u001b[39mscaled correlation length (min,max) in dimension 3: (10.0, 50.0)\n",
      "\u001b[33m\u001b[1m┌ \u001b[22m\u001b[39m\u001b[33m\u001b[1mWarning: \u001b[22m\u001b[39mresolution (7.5) is too coarse for correlation length 10.0 in dimension 3 at indices CartesianIndex(47, 11, 6) (skipping further tests). It is recommended that the resolution is at least 2 times finer than the correlation length.\n",
      "\u001b[33m\u001b[1m└ \u001b[22m\u001b[39m\u001b[90m@ DIVAnd C:\\Users\\a001819\\.julia\\packages\\DIVAnd\\MV3j9\\src\\utils.jl:18\u001b[39m\n",
      "\u001b[36m\u001b[1m[ \u001b[22m\u001b[39m\u001b[36m\u001b[1mInfo: \u001b[22m\u001b[39mnumber of windows: 1\n"
     ]
    },
    {
     "name": "stdout",
     "output_type": "stream",
     "text": [
      "timeindex = 13\n"
     ]
    },
    {
     "name": "stderr",
     "output_type": "stream",
     "text": [
      "\u001b[36m\u001b[1m[ \u001b[22m\u001b[39m\u001b[36m\u001b[1mInfo: \u001b[22m\u001b[39mTime step 14 / 57\n",
      "\u001b[36m\u001b[1m[ \u001b[22m\u001b[39m\u001b[36m\u001b[1mInfo: \u001b[22m\u001b[39manalysis time index 14 uses the backgrond time index 93\n",
      "\u001b[36m\u001b[1m[ \u001b[22m\u001b[39m\u001b[36m\u001b[1mInfo: \u001b[22m\u001b[39mscaled correlation length (min,max) in dimension 1: (26002.33511528906, 77999.93927774779)\n",
      "\u001b[36m\u001b[1m[ \u001b[22m\u001b[39m\u001b[36m\u001b[1mInfo: \u001b[22m\u001b[39mscaled correlation length (min,max) in dimension 2: (26002.33511528906, 77999.93927774779)\n",
      "\u001b[36m\u001b[1m[ \u001b[22m\u001b[39m\u001b[36m\u001b[1mInfo: \u001b[22m\u001b[39mscaled correlation length (min,max) in dimension 3: (10.0, 50.0)\n",
      "\u001b[33m\u001b[1m┌ \u001b[22m\u001b[39m\u001b[33m\u001b[1mWarning: \u001b[22m\u001b[39mresolution (7.5) is too coarse for correlation length 10.0 in dimension 3 at indices CartesianIndex(47, 11, 6) (skipping further tests). It is recommended that the resolution is at least 2 times finer than the correlation length.\n",
      "\u001b[33m\u001b[1m└ \u001b[22m\u001b[39m\u001b[90m@ DIVAnd C:\\Users\\a001819\\.julia\\packages\\DIVAnd\\MV3j9\\src\\utils.jl:18\u001b[39m\n",
      "\u001b[36m\u001b[1m[ \u001b[22m\u001b[39m\u001b[36m\u001b[1mInfo: \u001b[22m\u001b[39mnumber of windows: 1\n"
     ]
    },
    {
     "name": "stdout",
     "output_type": "stream",
     "text": [
      "timeindex = 14\n"
     ]
    },
    {
     "name": "stderr",
     "output_type": "stream",
     "text": [
      "\u001b[36m\u001b[1m[ \u001b[22m\u001b[39m\u001b[36m\u001b[1mInfo: \u001b[22m\u001b[39mTime step 15 / 57\n",
      "\u001b[36m\u001b[1m[ \u001b[22m\u001b[39m\u001b[36m\u001b[1mInfo: \u001b[22m\u001b[39manalysis time index 15 uses the backgrond time index 97\n",
      "\u001b[36m\u001b[1m[ \u001b[22m\u001b[39m\u001b[36m\u001b[1mInfo: \u001b[22m\u001b[39mscaled correlation length (min,max) in dimension 1: (26002.33511528906, 77999.93927774779)\n",
      "\u001b[36m\u001b[1m[ \u001b[22m\u001b[39m\u001b[36m\u001b[1mInfo: \u001b[22m\u001b[39mscaled correlation length (min,max) in dimension 2: (26002.33511528906, 77999.93927774779)\n",
      "\u001b[36m\u001b[1m[ \u001b[22m\u001b[39m\u001b[36m\u001b[1mInfo: \u001b[22m\u001b[39mscaled correlation length (min,max) in dimension 3: (10.0, 50.0)\n",
      "\u001b[33m\u001b[1m┌ \u001b[22m\u001b[39m\u001b[33m\u001b[1mWarning: \u001b[22m\u001b[39mresolution (7.5) is too coarse for correlation length 10.0 in dimension 3 at indices CartesianIndex(47, 11, 6) (skipping further tests). It is recommended that the resolution is at least 2 times finer than the correlation length.\n",
      "\u001b[33m\u001b[1m└ \u001b[22m\u001b[39m\u001b[90m@ DIVAnd C:\\Users\\a001819\\.julia\\packages\\DIVAnd\\MV3j9\\src\\utils.jl:18\u001b[39m\n",
      "\u001b[36m\u001b[1m[ \u001b[22m\u001b[39m\u001b[36m\u001b[1mInfo: \u001b[22m\u001b[39mnumber of windows: 1\n"
     ]
    },
    {
     "name": "stdout",
     "output_type": "stream",
     "text": [
      "timeindex = 15\n"
     ]
    },
    {
     "name": "stderr",
     "output_type": "stream",
     "text": [
      "\u001b[36m\u001b[1m[ \u001b[22m\u001b[39m\u001b[36m\u001b[1mInfo: \u001b[22m\u001b[39mTime step 16 / 57\n",
      "\u001b[36m\u001b[1m[ \u001b[22m\u001b[39m\u001b[36m\u001b[1mInfo: \u001b[22m\u001b[39manalysis time index 16 uses the backgrond time index 101\n",
      "\u001b[36m\u001b[1m[ \u001b[22m\u001b[39m\u001b[36m\u001b[1mInfo: \u001b[22m\u001b[39mscaled correlation length (min,max) in dimension 1: (26002.33511528906, 77999.93927774779)\n",
      "\u001b[36m\u001b[1m[ \u001b[22m\u001b[39m\u001b[36m\u001b[1mInfo: \u001b[22m\u001b[39mscaled correlation length (min,max) in dimension 2: (26002.33511528906, 77999.93927774779)\n",
      "\u001b[36m\u001b[1m[ \u001b[22m\u001b[39m\u001b[36m\u001b[1mInfo: \u001b[22m\u001b[39mscaled correlation length (min,max) in dimension 3: (10.0, 50.0)\n",
      "\u001b[33m\u001b[1m┌ \u001b[22m\u001b[39m\u001b[33m\u001b[1mWarning: \u001b[22m\u001b[39mresolution (7.5) is too coarse for correlation length 10.0 in dimension 3 at indices CartesianIndex(47, 11, 6) (skipping further tests). It is recommended that the resolution is at least 2 times finer than the correlation length.\n",
      "\u001b[33m\u001b[1m└ \u001b[22m\u001b[39m\u001b[90m@ DIVAnd C:\\Users\\a001819\\.julia\\packages\\DIVAnd\\MV3j9\\src\\utils.jl:18\u001b[39m\n",
      "\u001b[36m\u001b[1m[ \u001b[22m\u001b[39m\u001b[36m\u001b[1mInfo: \u001b[22m\u001b[39mnumber of windows: 1\n"
     ]
    },
    {
     "name": "stdout",
     "output_type": "stream",
     "text": [
      "timeindex = 16\n"
     ]
    },
    {
     "name": "stderr",
     "output_type": "stream",
     "text": [
      "\u001b[36m\u001b[1m[ \u001b[22m\u001b[39m\u001b[36m\u001b[1mInfo: \u001b[22m\u001b[39mTime step 17 / 57\n",
      "\u001b[36m\u001b[1m[ \u001b[22m\u001b[39m\u001b[36m\u001b[1mInfo: \u001b[22m\u001b[39manalysis time index 17 uses the backgrond time index 105\n",
      "\u001b[36m\u001b[1m[ \u001b[22m\u001b[39m\u001b[36m\u001b[1mInfo: \u001b[22m\u001b[39mscaled correlation length (min,max) in dimension 1: (26002.33511528906, 77999.93927774779)\n",
      "\u001b[36m\u001b[1m[ \u001b[22m\u001b[39m\u001b[36m\u001b[1mInfo: \u001b[22m\u001b[39mscaled correlation length (min,max) in dimension 2: (26002.33511528906, 77999.93927774779)\n",
      "\u001b[36m\u001b[1m[ \u001b[22m\u001b[39m\u001b[36m\u001b[1mInfo: \u001b[22m\u001b[39mscaled correlation length (min,max) in dimension 3: (10.0, 50.0)\n",
      "\u001b[33m\u001b[1m┌ \u001b[22m\u001b[39m\u001b[33m\u001b[1mWarning: \u001b[22m\u001b[39mresolution (7.5) is too coarse for correlation length 10.0 in dimension 3 at indices CartesianIndex(47, 11, 6) (skipping further tests). It is recommended that the resolution is at least 2 times finer than the correlation length.\n",
      "\u001b[33m\u001b[1m└ \u001b[22m\u001b[39m\u001b[90m@ DIVAnd C:\\Users\\a001819\\.julia\\packages\\DIVAnd\\MV3j9\\src\\utils.jl:18\u001b[39m\n",
      "\u001b[36m\u001b[1m[ \u001b[22m\u001b[39m\u001b[36m\u001b[1mInfo: \u001b[22m\u001b[39mnumber of windows: 1\n"
     ]
    },
    {
     "name": "stdout",
     "output_type": "stream",
     "text": [
      "timeindex = 17\n"
     ]
    },
    {
     "name": "stderr",
     "output_type": "stream",
     "text": [
      "\u001b[36m\u001b[1m[ \u001b[22m\u001b[39m\u001b[36m\u001b[1mInfo: \u001b[22m\u001b[39mTime step 18 / 57\n",
      "\u001b[36m\u001b[1m[ \u001b[22m\u001b[39m\u001b[36m\u001b[1mInfo: \u001b[22m\u001b[39manalysis time index 18 uses the backgrond time index 109\n",
      "\u001b[36m\u001b[1m[ \u001b[22m\u001b[39m\u001b[36m\u001b[1mInfo: \u001b[22m\u001b[39mscaled correlation length (min,max) in dimension 1: (26002.33511528906, 77999.93927774779)\n",
      "\u001b[36m\u001b[1m[ \u001b[22m\u001b[39m\u001b[36m\u001b[1mInfo: \u001b[22m\u001b[39mscaled correlation length (min,max) in dimension 2: (26002.33511528906, 77999.93927774779)\n",
      "\u001b[36m\u001b[1m[ \u001b[22m\u001b[39m\u001b[36m\u001b[1mInfo: \u001b[22m\u001b[39mscaled correlation length (min,max) in dimension 3: (10.0, 50.0)\n",
      "\u001b[33m\u001b[1m┌ \u001b[22m\u001b[39m\u001b[33m\u001b[1mWarning: \u001b[22m\u001b[39mresolution (7.5) is too coarse for correlation length 10.0 in dimension 3 at indices CartesianIndex(47, 11, 6) (skipping further tests). It is recommended that the resolution is at least 2 times finer than the correlation length.\n",
      "\u001b[33m\u001b[1m└ \u001b[22m\u001b[39m\u001b[90m@ DIVAnd C:\\Users\\a001819\\.julia\\packages\\DIVAnd\\MV3j9\\src\\utils.jl:18\u001b[39m\n",
      "\u001b[36m\u001b[1m[ \u001b[22m\u001b[39m\u001b[36m\u001b[1mInfo: \u001b[22m\u001b[39mnumber of windows: 1\n"
     ]
    },
    {
     "name": "stdout",
     "output_type": "stream",
     "text": [
      "timeindex = 18\n"
     ]
    },
    {
     "name": "stderr",
     "output_type": "stream",
     "text": [
      "\u001b[36m\u001b[1m[ \u001b[22m\u001b[39m\u001b[36m\u001b[1mInfo: \u001b[22m\u001b[39mTime step 19 / 57\n",
      "\u001b[36m\u001b[1m[ \u001b[22m\u001b[39m\u001b[36m\u001b[1mInfo: \u001b[22m\u001b[39manalysis time index 19 uses the backgrond time index 113\n",
      "\u001b[36m\u001b[1m[ \u001b[22m\u001b[39m\u001b[36m\u001b[1mInfo: \u001b[22m\u001b[39mscaled correlation length (min,max) in dimension 1: (26002.33511528906, 77999.93927774779)\n",
      "\u001b[36m\u001b[1m[ \u001b[22m\u001b[39m\u001b[36m\u001b[1mInfo: \u001b[22m\u001b[39mscaled correlation length (min,max) in dimension 2: (26002.33511528906, 77999.93927774779)\n",
      "\u001b[36m\u001b[1m[ \u001b[22m\u001b[39m\u001b[36m\u001b[1mInfo: \u001b[22m\u001b[39mscaled correlation length (min,max) in dimension 3: (10.0, 50.0)\n",
      "\u001b[33m\u001b[1m┌ \u001b[22m\u001b[39m\u001b[33m\u001b[1mWarning: \u001b[22m\u001b[39mresolution (7.5) is too coarse for correlation length 10.0 in dimension 3 at indices CartesianIndex(47, 11, 6) (skipping further tests). It is recommended that the resolution is at least 2 times finer than the correlation length.\n",
      "\u001b[33m\u001b[1m└ \u001b[22m\u001b[39m\u001b[90m@ DIVAnd C:\\Users\\a001819\\.julia\\packages\\DIVAnd\\MV3j9\\src\\utils.jl:18\u001b[39m\n",
      "\u001b[36m\u001b[1m[ \u001b[22m\u001b[39m\u001b[36m\u001b[1mInfo: \u001b[22m\u001b[39mnumber of windows: 1\n"
     ]
    },
    {
     "name": "stdout",
     "output_type": "stream",
     "text": [
      "timeindex = 19\n"
     ]
    },
    {
     "name": "stderr",
     "output_type": "stream",
     "text": [
      "\u001b[36m\u001b[1m[ \u001b[22m\u001b[39m\u001b[36m\u001b[1mInfo: \u001b[22m\u001b[39mTime step 20 / 57\n",
      "\u001b[36m\u001b[1m[ \u001b[22m\u001b[39m\u001b[36m\u001b[1mInfo: \u001b[22m\u001b[39manalysis time index 20 uses the backgrond time index 117\n",
      "\u001b[36m\u001b[1m[ \u001b[22m\u001b[39m\u001b[36m\u001b[1mInfo: \u001b[22m\u001b[39mscaled correlation length (min,max) in dimension 1: (26002.33511528906, 77999.93927774779)\n",
      "\u001b[36m\u001b[1m[ \u001b[22m\u001b[39m\u001b[36m\u001b[1mInfo: \u001b[22m\u001b[39mscaled correlation length (min,max) in dimension 2: (26002.33511528906, 77999.93927774779)\n",
      "\u001b[36m\u001b[1m[ \u001b[22m\u001b[39m\u001b[36m\u001b[1mInfo: \u001b[22m\u001b[39mscaled correlation length (min,max) in dimension 3: (10.0, 50.0)\n",
      "\u001b[33m\u001b[1m┌ \u001b[22m\u001b[39m\u001b[33m\u001b[1mWarning: \u001b[22m\u001b[39mresolution (7.5) is too coarse for correlation length 10.0 in dimension 3 at indices CartesianIndex(47, 11, 6) (skipping further tests). It is recommended that the resolution is at least 2 times finer than the correlation length.\n",
      "\u001b[33m\u001b[1m└ \u001b[22m\u001b[39m\u001b[90m@ DIVAnd C:\\Users\\a001819\\.julia\\packages\\DIVAnd\\MV3j9\\src\\utils.jl:18\u001b[39m\n",
      "\u001b[36m\u001b[1m[ \u001b[22m\u001b[39m\u001b[36m\u001b[1mInfo: \u001b[22m\u001b[39mnumber of windows: 1\n"
     ]
    },
    {
     "name": "stdout",
     "output_type": "stream",
     "text": [
      "timeindex = 20\n"
     ]
    },
    {
     "name": "stderr",
     "output_type": "stream",
     "text": [
      "\u001b[36m\u001b[1m[ \u001b[22m\u001b[39m\u001b[36m\u001b[1mInfo: \u001b[22m\u001b[39mTime step 21 / 57\n",
      "\u001b[36m\u001b[1m[ \u001b[22m\u001b[39m\u001b[36m\u001b[1mInfo: \u001b[22m\u001b[39manalysis time index 21 uses the backgrond time index 121\n",
      "\u001b[36m\u001b[1m[ \u001b[22m\u001b[39m\u001b[36m\u001b[1mInfo: \u001b[22m\u001b[39mscaled correlation length (min,max) in dimension 1: (26002.33511528906, 77999.93927774779)\n",
      "\u001b[36m\u001b[1m[ \u001b[22m\u001b[39m\u001b[36m\u001b[1mInfo: \u001b[22m\u001b[39mscaled correlation length (min,max) in dimension 2: (26002.33511528906, 77999.93927774779)\n",
      "\u001b[36m\u001b[1m[ \u001b[22m\u001b[39m\u001b[36m\u001b[1mInfo: \u001b[22m\u001b[39mscaled correlation length (min,max) in dimension 3: (10.0, 50.0)\n",
      "\u001b[33m\u001b[1m┌ \u001b[22m\u001b[39m\u001b[33m\u001b[1mWarning: \u001b[22m\u001b[39mresolution (7.5) is too coarse for correlation length 10.0 in dimension 3 at indices CartesianIndex(47, 11, 6) (skipping further tests). It is recommended that the resolution is at least 2 times finer than the correlation length.\n",
      "\u001b[33m\u001b[1m└ \u001b[22m\u001b[39m\u001b[90m@ DIVAnd C:\\Users\\a001819\\.julia\\packages\\DIVAnd\\MV3j9\\src\\utils.jl:18\u001b[39m\n",
      "\u001b[36m\u001b[1m[ \u001b[22m\u001b[39m\u001b[36m\u001b[1mInfo: \u001b[22m\u001b[39mnumber of windows: 1\n"
     ]
    },
    {
     "name": "stdout",
     "output_type": "stream",
     "text": [
      "timeindex = 21\n"
     ]
    },
    {
     "name": "stderr",
     "output_type": "stream",
     "text": [
      "\u001b[36m\u001b[1m[ \u001b[22m\u001b[39m\u001b[36m\u001b[1mInfo: \u001b[22m\u001b[39mTime step 22 / 57\n",
      "\u001b[36m\u001b[1m[ \u001b[22m\u001b[39m\u001b[36m\u001b[1mInfo: \u001b[22m\u001b[39manalysis time index 22 uses the backgrond time index 125\n",
      "\u001b[36m\u001b[1m[ \u001b[22m\u001b[39m\u001b[36m\u001b[1mInfo: \u001b[22m\u001b[39mscaled correlation length (min,max) in dimension 1: (26002.33511528906, 77999.93927774779)\n",
      "\u001b[36m\u001b[1m[ \u001b[22m\u001b[39m\u001b[36m\u001b[1mInfo: \u001b[22m\u001b[39mscaled correlation length (min,max) in dimension 2: (26002.33511528906, 77999.93927774779)\n",
      "\u001b[36m\u001b[1m[ \u001b[22m\u001b[39m\u001b[36m\u001b[1mInfo: \u001b[22m\u001b[39mscaled correlation length (min,max) in dimension 3: (10.0, 50.0)\n",
      "\u001b[33m\u001b[1m┌ \u001b[22m\u001b[39m\u001b[33m\u001b[1mWarning: \u001b[22m\u001b[39mresolution (7.5) is too coarse for correlation length 10.0 in dimension 3 at indices CartesianIndex(47, 11, 6) (skipping further tests). It is recommended that the resolution is at least 2 times finer than the correlation length.\n",
      "\u001b[33m\u001b[1m└ \u001b[22m\u001b[39m\u001b[90m@ DIVAnd C:\\Users\\a001819\\.julia\\packages\\DIVAnd\\MV3j9\\src\\utils.jl:18\u001b[39m\n",
      "\u001b[36m\u001b[1m[ \u001b[22m\u001b[39m\u001b[36m\u001b[1mInfo: \u001b[22m\u001b[39mnumber of windows: 1\n"
     ]
    },
    {
     "name": "stdout",
     "output_type": "stream",
     "text": [
      "timeindex = 22\n"
     ]
    },
    {
     "name": "stderr",
     "output_type": "stream",
     "text": [
      "\u001b[36m\u001b[1m[ \u001b[22m\u001b[39m\u001b[36m\u001b[1mInfo: \u001b[22m\u001b[39mTime step 23 / 57\n",
      "\u001b[36m\u001b[1m[ \u001b[22m\u001b[39m\u001b[36m\u001b[1mInfo: \u001b[22m\u001b[39manalysis time index 23 uses the backgrond time index 129\n",
      "\u001b[36m\u001b[1m[ \u001b[22m\u001b[39m\u001b[36m\u001b[1mInfo: \u001b[22m\u001b[39mscaled correlation length (min,max) in dimension 1: (26002.33511528906, 77999.93927774779)\n",
      "\u001b[36m\u001b[1m[ \u001b[22m\u001b[39m\u001b[36m\u001b[1mInfo: \u001b[22m\u001b[39mscaled correlation length (min,max) in dimension 2: (26002.33511528906, 77999.93927774779)\n",
      "\u001b[36m\u001b[1m[ \u001b[22m\u001b[39m\u001b[36m\u001b[1mInfo: \u001b[22m\u001b[39mscaled correlation length (min,max) in dimension 3: (10.0, 50.0)\n",
      "\u001b[33m\u001b[1m┌ \u001b[22m\u001b[39m\u001b[33m\u001b[1mWarning: \u001b[22m\u001b[39mresolution (7.5) is too coarse for correlation length 10.0 in dimension 3 at indices CartesianIndex(47, 11, 6) (skipping further tests). It is recommended that the resolution is at least 2 times finer than the correlation length.\n",
      "\u001b[33m\u001b[1m└ \u001b[22m\u001b[39m\u001b[90m@ DIVAnd C:\\Users\\a001819\\.julia\\packages\\DIVAnd\\MV3j9\\src\\utils.jl:18\u001b[39m\n",
      "\u001b[36m\u001b[1m[ \u001b[22m\u001b[39m\u001b[36m\u001b[1mInfo: \u001b[22m\u001b[39mnumber of windows: 1\n"
     ]
    },
    {
     "name": "stdout",
     "output_type": "stream",
     "text": [
      "timeindex = 23\n"
     ]
    },
    {
     "name": "stderr",
     "output_type": "stream",
     "text": [
      "\u001b[36m\u001b[1m[ \u001b[22m\u001b[39m\u001b[36m\u001b[1mInfo: \u001b[22m\u001b[39mTime step 24 / 57\n",
      "\u001b[36m\u001b[1m[ \u001b[22m\u001b[39m\u001b[36m\u001b[1mInfo: \u001b[22m\u001b[39manalysis time index 24 uses the backgrond time index 133\n",
      "\u001b[36m\u001b[1m[ \u001b[22m\u001b[39m\u001b[36m\u001b[1mInfo: \u001b[22m\u001b[39mscaled correlation length (min,max) in dimension 1: (26002.33511528906, 77999.93927774779)\n",
      "\u001b[36m\u001b[1m[ \u001b[22m\u001b[39m\u001b[36m\u001b[1mInfo: \u001b[22m\u001b[39mscaled correlation length (min,max) in dimension 2: (26002.33511528906, 77999.93927774779)\n",
      "\u001b[36m\u001b[1m[ \u001b[22m\u001b[39m\u001b[36m\u001b[1mInfo: \u001b[22m\u001b[39mscaled correlation length (min,max) in dimension 3: (10.0, 50.0)\n",
      "\u001b[33m\u001b[1m┌ \u001b[22m\u001b[39m\u001b[33m\u001b[1mWarning: \u001b[22m\u001b[39mresolution (7.5) is too coarse for correlation length 10.0 in dimension 3 at indices CartesianIndex(47, 11, 6) (skipping further tests). It is recommended that the resolution is at least 2 times finer than the correlation length.\n",
      "\u001b[33m\u001b[1m└ \u001b[22m\u001b[39m\u001b[90m@ DIVAnd C:\\Users\\a001819\\.julia\\packages\\DIVAnd\\MV3j9\\src\\utils.jl:18\u001b[39m\n",
      "\u001b[36m\u001b[1m[ \u001b[22m\u001b[39m\u001b[36m\u001b[1mInfo: \u001b[22m\u001b[39mnumber of windows: 1\n"
     ]
    },
    {
     "name": "stdout",
     "output_type": "stream",
     "text": [
      "timeindex = 24\n"
     ]
    },
    {
     "name": "stderr",
     "output_type": "stream",
     "text": [
      "\u001b[36m\u001b[1m[ \u001b[22m\u001b[39m\u001b[36m\u001b[1mInfo: \u001b[22m\u001b[39mTime step 25 / 57\n",
      "\u001b[36m\u001b[1m[ \u001b[22m\u001b[39m\u001b[36m\u001b[1mInfo: \u001b[22m\u001b[39manalysis time index 25 uses the backgrond time index 137\n",
      "\u001b[36m\u001b[1m[ \u001b[22m\u001b[39m\u001b[36m\u001b[1mInfo: \u001b[22m\u001b[39mscaled correlation length (min,max) in dimension 1: (26002.33511528906, 77999.93927774779)\n",
      "\u001b[36m\u001b[1m[ \u001b[22m\u001b[39m\u001b[36m\u001b[1mInfo: \u001b[22m\u001b[39mscaled correlation length (min,max) in dimension 2: (26002.33511528906, 77999.93927774779)\n",
      "\u001b[36m\u001b[1m[ \u001b[22m\u001b[39m\u001b[36m\u001b[1mInfo: \u001b[22m\u001b[39mscaled correlation length (min,max) in dimension 3: (10.0, 50.0)\n",
      "\u001b[33m\u001b[1m┌ \u001b[22m\u001b[39m\u001b[33m\u001b[1mWarning: \u001b[22m\u001b[39mresolution (7.5) is too coarse for correlation length 10.0 in dimension 3 at indices CartesianIndex(47, 11, 6) (skipping further tests). It is recommended that the resolution is at least 2 times finer than the correlation length.\n",
      "\u001b[33m\u001b[1m└ \u001b[22m\u001b[39m\u001b[90m@ DIVAnd C:\\Users\\a001819\\.julia\\packages\\DIVAnd\\MV3j9\\src\\utils.jl:18\u001b[39m\n",
      "\u001b[36m\u001b[1m[ \u001b[22m\u001b[39m\u001b[36m\u001b[1mInfo: \u001b[22m\u001b[39mnumber of windows: 1\n"
     ]
    },
    {
     "name": "stdout",
     "output_type": "stream",
     "text": [
      "timeindex = 25\n"
     ]
    },
    {
     "name": "stderr",
     "output_type": "stream",
     "text": [
      "\u001b[36m\u001b[1m[ \u001b[22m\u001b[39m\u001b[36m\u001b[1mInfo: \u001b[22m\u001b[39mTime step 26 / 57\n",
      "\u001b[36m\u001b[1m[ \u001b[22m\u001b[39m\u001b[36m\u001b[1mInfo: \u001b[22m\u001b[39manalysis time index 26 uses the backgrond time index 141\n",
      "\u001b[36m\u001b[1m[ \u001b[22m\u001b[39m\u001b[36m\u001b[1mInfo: \u001b[22m\u001b[39mscaled correlation length (min,max) in dimension 1: (26002.33511528906, 77999.93927774779)\n",
      "\u001b[36m\u001b[1m[ \u001b[22m\u001b[39m\u001b[36m\u001b[1mInfo: \u001b[22m\u001b[39mscaled correlation length (min,max) in dimension 2: (26002.33511528906, 77999.93927774779)\n",
      "\u001b[36m\u001b[1m[ \u001b[22m\u001b[39m\u001b[36m\u001b[1mInfo: \u001b[22m\u001b[39mscaled correlation length (min,max) in dimension 3: (10.0, 50.0)\n",
      "\u001b[33m\u001b[1m┌ \u001b[22m\u001b[39m\u001b[33m\u001b[1mWarning: \u001b[22m\u001b[39mresolution (7.5) is too coarse for correlation length 10.0 in dimension 3 at indices CartesianIndex(47, 11, 6) (skipping further tests). It is recommended that the resolution is at least 2 times finer than the correlation length.\n",
      "\u001b[33m\u001b[1m└ \u001b[22m\u001b[39m\u001b[90m@ DIVAnd C:\\Users\\a001819\\.julia\\packages\\DIVAnd\\MV3j9\\src\\utils.jl:18\u001b[39m\n",
      "\u001b[36m\u001b[1m[ \u001b[22m\u001b[39m\u001b[36m\u001b[1mInfo: \u001b[22m\u001b[39mnumber of windows: 1\n"
     ]
    },
    {
     "name": "stdout",
     "output_type": "stream",
     "text": [
      "timeindex = 26\n"
     ]
    },
    {
     "name": "stderr",
     "output_type": "stream",
     "text": [
      "\u001b[36m\u001b[1m[ \u001b[22m\u001b[39m\u001b[36m\u001b[1mInfo: \u001b[22m\u001b[39mTime step 27 / 57\n",
      "\u001b[36m\u001b[1m[ \u001b[22m\u001b[39m\u001b[36m\u001b[1mInfo: \u001b[22m\u001b[39manalysis time index 27 uses the backgrond time index 145\n",
      "\u001b[36m\u001b[1m[ \u001b[22m\u001b[39m\u001b[36m\u001b[1mInfo: \u001b[22m\u001b[39mscaled correlation length (min,max) in dimension 1: (26002.33511528906, 77999.93927774779)\n",
      "\u001b[36m\u001b[1m[ \u001b[22m\u001b[39m\u001b[36m\u001b[1mInfo: \u001b[22m\u001b[39mscaled correlation length (min,max) in dimension 2: (26002.33511528906, 77999.93927774779)\n",
      "\u001b[36m\u001b[1m[ \u001b[22m\u001b[39m\u001b[36m\u001b[1mInfo: \u001b[22m\u001b[39mscaled correlation length (min,max) in dimension 3: (10.0, 50.0)\n",
      "\u001b[33m\u001b[1m┌ \u001b[22m\u001b[39m\u001b[33m\u001b[1mWarning: \u001b[22m\u001b[39mresolution (7.5) is too coarse for correlation length 10.0 in dimension 3 at indices CartesianIndex(47, 11, 6) (skipping further tests). It is recommended that the resolution is at least 2 times finer than the correlation length.\n",
      "\u001b[33m\u001b[1m└ \u001b[22m\u001b[39m\u001b[90m@ DIVAnd C:\\Users\\a001819\\.julia\\packages\\DIVAnd\\MV3j9\\src\\utils.jl:18\u001b[39m\n",
      "\u001b[36m\u001b[1m[ \u001b[22m\u001b[39m\u001b[36m\u001b[1mInfo: \u001b[22m\u001b[39mnumber of windows: 1\n"
     ]
    },
    {
     "name": "stdout",
     "output_type": "stream",
     "text": [
      "timeindex = 27\n"
     ]
    },
    {
     "name": "stderr",
     "output_type": "stream",
     "text": [
      "\u001b[36m\u001b[1m[ \u001b[22m\u001b[39m\u001b[36m\u001b[1mInfo: \u001b[22m\u001b[39mTime step 28 / 57\n",
      "\u001b[36m\u001b[1m[ \u001b[22m\u001b[39m\u001b[36m\u001b[1mInfo: \u001b[22m\u001b[39manalysis time index 28 uses the backgrond time index 149\n",
      "\u001b[36m\u001b[1m[ \u001b[22m\u001b[39m\u001b[36m\u001b[1mInfo: \u001b[22m\u001b[39mscaled correlation length (min,max) in dimension 1: (26002.33511528906, 77999.93927774779)\n",
      "\u001b[36m\u001b[1m[ \u001b[22m\u001b[39m\u001b[36m\u001b[1mInfo: \u001b[22m\u001b[39mscaled correlation length (min,max) in dimension 2: (26002.33511528906, 77999.93927774779)\n",
      "\u001b[36m\u001b[1m[ \u001b[22m\u001b[39m\u001b[36m\u001b[1mInfo: \u001b[22m\u001b[39mscaled correlation length (min,max) in dimension 3: (10.0, 50.0)\n",
      "\u001b[33m\u001b[1m┌ \u001b[22m\u001b[39m\u001b[33m\u001b[1mWarning: \u001b[22m\u001b[39mresolution (7.5) is too coarse for correlation length 10.0 in dimension 3 at indices CartesianIndex(47, 11, 6) (skipping further tests). It is recommended that the resolution is at least 2 times finer than the correlation length.\n",
      "\u001b[33m\u001b[1m└ \u001b[22m\u001b[39m\u001b[90m@ DIVAnd C:\\Users\\a001819\\.julia\\packages\\DIVAnd\\MV3j9\\src\\utils.jl:18\u001b[39m\n",
      "\u001b[36m\u001b[1m[ \u001b[22m\u001b[39m\u001b[36m\u001b[1mInfo: \u001b[22m\u001b[39mnumber of windows: 1\n"
     ]
    },
    {
     "name": "stdout",
     "output_type": "stream",
     "text": [
      "timeindex = 28\n"
     ]
    },
    {
     "name": "stderr",
     "output_type": "stream",
     "text": [
      "\u001b[36m\u001b[1m[ \u001b[22m\u001b[39m\u001b[36m\u001b[1mInfo: \u001b[22m\u001b[39mTime step 29 / 57\n",
      "\u001b[36m\u001b[1m[ \u001b[22m\u001b[39m\u001b[36m\u001b[1mInfo: \u001b[22m\u001b[39manalysis time index 29 uses the backgrond time index 153\n",
      "\u001b[36m\u001b[1m[ \u001b[22m\u001b[39m\u001b[36m\u001b[1mInfo: \u001b[22m\u001b[39mscaled correlation length (min,max) in dimension 1: (26002.33511528906, 77999.93927774779)\n",
      "\u001b[36m\u001b[1m[ \u001b[22m\u001b[39m\u001b[36m\u001b[1mInfo: \u001b[22m\u001b[39mscaled correlation length (min,max) in dimension 2: (26002.33511528906, 77999.93927774779)\n",
      "\u001b[36m\u001b[1m[ \u001b[22m\u001b[39m\u001b[36m\u001b[1mInfo: \u001b[22m\u001b[39mscaled correlation length (min,max) in dimension 3: (10.0, 50.0)\n",
      "\u001b[33m\u001b[1m┌ \u001b[22m\u001b[39m\u001b[33m\u001b[1mWarning: \u001b[22m\u001b[39mresolution (7.5) is too coarse for correlation length 10.0 in dimension 3 at indices CartesianIndex(47, 11, 6) (skipping further tests). It is recommended that the resolution is at least 2 times finer than the correlation length.\n",
      "\u001b[33m\u001b[1m└ \u001b[22m\u001b[39m\u001b[90m@ DIVAnd C:\\Users\\a001819\\.julia\\packages\\DIVAnd\\MV3j9\\src\\utils.jl:18\u001b[39m\n",
      "\u001b[36m\u001b[1m[ \u001b[22m\u001b[39m\u001b[36m\u001b[1mInfo: \u001b[22m\u001b[39mnumber of windows: 1\n"
     ]
    },
    {
     "name": "stdout",
     "output_type": "stream",
     "text": [
      "timeindex = 29\n"
     ]
    },
    {
     "name": "stderr",
     "output_type": "stream",
     "text": [
      "\u001b[36m\u001b[1m[ \u001b[22m\u001b[39m\u001b[36m\u001b[1mInfo: \u001b[22m\u001b[39mTime step 30 / 57\n",
      "\u001b[36m\u001b[1m[ \u001b[22m\u001b[39m\u001b[36m\u001b[1mInfo: \u001b[22m\u001b[39manalysis time index 30 uses the backgrond time index 157\n",
      "\u001b[36m\u001b[1m[ \u001b[22m\u001b[39m\u001b[36m\u001b[1mInfo: \u001b[22m\u001b[39mscaled correlation length (min,max) in dimension 1: (26002.33511528906, 77999.93927774779)\n",
      "\u001b[36m\u001b[1m[ \u001b[22m\u001b[39m\u001b[36m\u001b[1mInfo: \u001b[22m\u001b[39mscaled correlation length (min,max) in dimension 2: (26002.33511528906, 77999.93927774779)\n",
      "\u001b[36m\u001b[1m[ \u001b[22m\u001b[39m\u001b[36m\u001b[1mInfo: \u001b[22m\u001b[39mscaled correlation length (min,max) in dimension 3: (10.0, 50.0)\n",
      "\u001b[33m\u001b[1m┌ \u001b[22m\u001b[39m\u001b[33m\u001b[1mWarning: \u001b[22m\u001b[39mresolution (7.5) is too coarse for correlation length 10.0 in dimension 3 at indices CartesianIndex(47, 11, 6) (skipping further tests). It is recommended that the resolution is at least 2 times finer than the correlation length.\n",
      "\u001b[33m\u001b[1m└ \u001b[22m\u001b[39m\u001b[90m@ DIVAnd C:\\Users\\a001819\\.julia\\packages\\DIVAnd\\MV3j9\\src\\utils.jl:18\u001b[39m\n",
      "\u001b[36m\u001b[1m[ \u001b[22m\u001b[39m\u001b[36m\u001b[1mInfo: \u001b[22m\u001b[39mnumber of windows: 1\n"
     ]
    },
    {
     "name": "stdout",
     "output_type": "stream",
     "text": [
      "timeindex = 30\n"
     ]
    },
    {
     "name": "stderr",
     "output_type": "stream",
     "text": [
      "\u001b[36m\u001b[1m[ \u001b[22m\u001b[39m\u001b[36m\u001b[1mInfo: \u001b[22m\u001b[39mTime step 31 / 57\n",
      "\u001b[36m\u001b[1m[ \u001b[22m\u001b[39m\u001b[36m\u001b[1mInfo: \u001b[22m\u001b[39manalysis time index 31 uses the backgrond time index 161\n",
      "\u001b[36m\u001b[1m[ \u001b[22m\u001b[39m\u001b[36m\u001b[1mInfo: \u001b[22m\u001b[39mscaled correlation length (min,max) in dimension 1: (26002.33511528906, 77999.93927774779)\n",
      "\u001b[36m\u001b[1m[ \u001b[22m\u001b[39m\u001b[36m\u001b[1mInfo: \u001b[22m\u001b[39mscaled correlation length (min,max) in dimension 2: (26002.33511528906, 77999.93927774779)\n",
      "\u001b[36m\u001b[1m[ \u001b[22m\u001b[39m\u001b[36m\u001b[1mInfo: \u001b[22m\u001b[39mscaled correlation length (min,max) in dimension 3: (10.0, 50.0)\n",
      "\u001b[33m\u001b[1m┌ \u001b[22m\u001b[39m\u001b[33m\u001b[1mWarning: \u001b[22m\u001b[39mresolution (7.5) is too coarse for correlation length 10.0 in dimension 3 at indices CartesianIndex(47, 11, 6) (skipping further tests). It is recommended that the resolution is at least 2 times finer than the correlation length.\n",
      "\u001b[33m\u001b[1m└ \u001b[22m\u001b[39m\u001b[90m@ DIVAnd C:\\Users\\a001819\\.julia\\packages\\DIVAnd\\MV3j9\\src\\utils.jl:18\u001b[39m\n",
      "\u001b[36m\u001b[1m[ \u001b[22m\u001b[39m\u001b[36m\u001b[1mInfo: \u001b[22m\u001b[39mnumber of windows: 1\n"
     ]
    },
    {
     "name": "stdout",
     "output_type": "stream",
     "text": [
      "timeindex = 31\n"
     ]
    },
    {
     "name": "stderr",
     "output_type": "stream",
     "text": [
      "\u001b[36m\u001b[1m[ \u001b[22m\u001b[39m\u001b[36m\u001b[1mInfo: \u001b[22m\u001b[39mTime step 32 / 57\n",
      "\u001b[36m\u001b[1m[ \u001b[22m\u001b[39m\u001b[36m\u001b[1mInfo: \u001b[22m\u001b[39manalysis time index 32 uses the backgrond time index 165\n",
      "\u001b[36m\u001b[1m[ \u001b[22m\u001b[39m\u001b[36m\u001b[1mInfo: \u001b[22m\u001b[39mscaled correlation length (min,max) in dimension 1: (26002.33511528906, 77999.93927774779)\n",
      "\u001b[36m\u001b[1m[ \u001b[22m\u001b[39m\u001b[36m\u001b[1mInfo: \u001b[22m\u001b[39mscaled correlation length (min,max) in dimension 2: (26002.33511528906, 77999.93927774779)\n",
      "\u001b[36m\u001b[1m[ \u001b[22m\u001b[39m\u001b[36m\u001b[1mInfo: \u001b[22m\u001b[39mscaled correlation length (min,max) in dimension 3: (10.0, 50.0)\n",
      "\u001b[33m\u001b[1m┌ \u001b[22m\u001b[39m\u001b[33m\u001b[1mWarning: \u001b[22m\u001b[39mresolution (7.5) is too coarse for correlation length 10.0 in dimension 3 at indices CartesianIndex(47, 11, 6) (skipping further tests). It is recommended that the resolution is at least 2 times finer than the correlation length.\n",
      "\u001b[33m\u001b[1m└ \u001b[22m\u001b[39m\u001b[90m@ DIVAnd C:\\Users\\a001819\\.julia\\packages\\DIVAnd\\MV3j9\\src\\utils.jl:18\u001b[39m\n",
      "\u001b[36m\u001b[1m[ \u001b[22m\u001b[39m\u001b[36m\u001b[1mInfo: \u001b[22m\u001b[39mnumber of windows: 1\n"
     ]
    },
    {
     "name": "stdout",
     "output_type": "stream",
     "text": [
      "timeindex = 32\n"
     ]
    },
    {
     "name": "stderr",
     "output_type": "stream",
     "text": [
      "\u001b[36m\u001b[1m[ \u001b[22m\u001b[39m\u001b[36m\u001b[1mInfo: \u001b[22m\u001b[39mTime step 33 / 57\n",
      "\u001b[36m\u001b[1m[ \u001b[22m\u001b[39m\u001b[36m\u001b[1mInfo: \u001b[22m\u001b[39manalysis time index 33 uses the backgrond time index 169\n",
      "\u001b[36m\u001b[1m[ \u001b[22m\u001b[39m\u001b[36m\u001b[1mInfo: \u001b[22m\u001b[39mscaled correlation length (min,max) in dimension 1: (26002.33511528906, 77999.93927774779)\n",
      "\u001b[36m\u001b[1m[ \u001b[22m\u001b[39m\u001b[36m\u001b[1mInfo: \u001b[22m\u001b[39mscaled correlation length (min,max) in dimension 2: (26002.33511528906, 77999.93927774779)\n",
      "\u001b[36m\u001b[1m[ \u001b[22m\u001b[39m\u001b[36m\u001b[1mInfo: \u001b[22m\u001b[39mscaled correlation length (min,max) in dimension 3: (10.0, 50.0)\n",
      "\u001b[33m\u001b[1m┌ \u001b[22m\u001b[39m\u001b[33m\u001b[1mWarning: \u001b[22m\u001b[39mresolution (7.5) is too coarse for correlation length 10.0 in dimension 3 at indices CartesianIndex(47, 11, 6) (skipping further tests). It is recommended that the resolution is at least 2 times finer than the correlation length.\n",
      "\u001b[33m\u001b[1m└ \u001b[22m\u001b[39m\u001b[90m@ DIVAnd C:\\Users\\a001819\\.julia\\packages\\DIVAnd\\MV3j9\\src\\utils.jl:18\u001b[39m\n",
      "\u001b[36m\u001b[1m[ \u001b[22m\u001b[39m\u001b[36m\u001b[1mInfo: \u001b[22m\u001b[39mnumber of windows: 1\n"
     ]
    },
    {
     "name": "stdout",
     "output_type": "stream",
     "text": [
      "timeindex = 33\n"
     ]
    },
    {
     "name": "stderr",
     "output_type": "stream",
     "text": [
      "\u001b[36m\u001b[1m[ \u001b[22m\u001b[39m\u001b[36m\u001b[1mInfo: \u001b[22m\u001b[39mTime step 34 / 57\n",
      "\u001b[36m\u001b[1m[ \u001b[22m\u001b[39m\u001b[36m\u001b[1mInfo: \u001b[22m\u001b[39manalysis time index 34 uses the backgrond time index 173\n",
      "\u001b[36m\u001b[1m[ \u001b[22m\u001b[39m\u001b[36m\u001b[1mInfo: \u001b[22m\u001b[39mscaled correlation length (min,max) in dimension 1: (26002.33511528906, 77999.93927774779)\n",
      "\u001b[36m\u001b[1m[ \u001b[22m\u001b[39m\u001b[36m\u001b[1mInfo: \u001b[22m\u001b[39mscaled correlation length (min,max) in dimension 2: (26002.33511528906, 77999.93927774779)\n",
      "\u001b[36m\u001b[1m[ \u001b[22m\u001b[39m\u001b[36m\u001b[1mInfo: \u001b[22m\u001b[39mscaled correlation length (min,max) in dimension 3: (10.0, 50.0)\n",
      "\u001b[33m\u001b[1m┌ \u001b[22m\u001b[39m\u001b[33m\u001b[1mWarning: \u001b[22m\u001b[39mresolution (7.5) is too coarse for correlation length 10.0 in dimension 3 at indices CartesianIndex(47, 11, 6) (skipping further tests). It is recommended that the resolution is at least 2 times finer than the correlation length.\n",
      "\u001b[33m\u001b[1m└ \u001b[22m\u001b[39m\u001b[90m@ DIVAnd C:\\Users\\a001819\\.julia\\packages\\DIVAnd\\MV3j9\\src\\utils.jl:18\u001b[39m\n",
      "\u001b[36m\u001b[1m[ \u001b[22m\u001b[39m\u001b[36m\u001b[1mInfo: \u001b[22m\u001b[39mnumber of windows: 1\n"
     ]
    },
    {
     "name": "stdout",
     "output_type": "stream",
     "text": [
      "timeindex = 34\n"
     ]
    },
    {
     "name": "stderr",
     "output_type": "stream",
     "text": [
      "\u001b[36m\u001b[1m[ \u001b[22m\u001b[39m\u001b[36m\u001b[1mInfo: \u001b[22m\u001b[39mTime step 35 / 57\n",
      "\u001b[36m\u001b[1m[ \u001b[22m\u001b[39m\u001b[36m\u001b[1mInfo: \u001b[22m\u001b[39manalysis time index 35 uses the backgrond time index 177\n",
      "\u001b[36m\u001b[1m[ \u001b[22m\u001b[39m\u001b[36m\u001b[1mInfo: \u001b[22m\u001b[39mscaled correlation length (min,max) in dimension 1: (26002.33511528906, 77999.93927774779)\n",
      "\u001b[36m\u001b[1m[ \u001b[22m\u001b[39m\u001b[36m\u001b[1mInfo: \u001b[22m\u001b[39mscaled correlation length (min,max) in dimension 2: (26002.33511528906, 77999.93927774779)\n",
      "\u001b[36m\u001b[1m[ \u001b[22m\u001b[39m\u001b[36m\u001b[1mInfo: \u001b[22m\u001b[39mscaled correlation length (min,max) in dimension 3: (10.0, 50.0)\n",
      "\u001b[33m\u001b[1m┌ \u001b[22m\u001b[39m\u001b[33m\u001b[1mWarning: \u001b[22m\u001b[39mresolution (7.5) is too coarse for correlation length 10.0 in dimension 3 at indices CartesianIndex(47, 11, 6) (skipping further tests). It is recommended that the resolution is at least 2 times finer than the correlation length.\n",
      "\u001b[33m\u001b[1m└ \u001b[22m\u001b[39m\u001b[90m@ DIVAnd C:\\Users\\a001819\\.julia\\packages\\DIVAnd\\MV3j9\\src\\utils.jl:18\u001b[39m\n",
      "\u001b[36m\u001b[1m[ \u001b[22m\u001b[39m\u001b[36m\u001b[1mInfo: \u001b[22m\u001b[39mnumber of windows: 1\n"
     ]
    },
    {
     "name": "stdout",
     "output_type": "stream",
     "text": [
      "timeindex = 35\n"
     ]
    },
    {
     "name": "stderr",
     "output_type": "stream",
     "text": [
      "\u001b[36m\u001b[1m[ \u001b[22m\u001b[39m\u001b[36m\u001b[1mInfo: \u001b[22m\u001b[39mTime step 36 / 57\n",
      "\u001b[36m\u001b[1m[ \u001b[22m\u001b[39m\u001b[36m\u001b[1mInfo: \u001b[22m\u001b[39manalysis time index 36 uses the backgrond time index 181\n",
      "\u001b[36m\u001b[1m[ \u001b[22m\u001b[39m\u001b[36m\u001b[1mInfo: \u001b[22m\u001b[39mscaled correlation length (min,max) in dimension 1: (26002.33511528906, 77999.93927774779)\n",
      "\u001b[36m\u001b[1m[ \u001b[22m\u001b[39m\u001b[36m\u001b[1mInfo: \u001b[22m\u001b[39mscaled correlation length (min,max) in dimension 2: (26002.33511528906, 77999.93927774779)\n",
      "\u001b[36m\u001b[1m[ \u001b[22m\u001b[39m\u001b[36m\u001b[1mInfo: \u001b[22m\u001b[39mscaled correlation length (min,max) in dimension 3: (10.0, 50.0)\n",
      "\u001b[33m\u001b[1m┌ \u001b[22m\u001b[39m\u001b[33m\u001b[1mWarning: \u001b[22m\u001b[39mresolution (7.5) is too coarse for correlation length 10.0 in dimension 3 at indices CartesianIndex(47, 11, 6) (skipping further tests). It is recommended that the resolution is at least 2 times finer than the correlation length.\n",
      "\u001b[33m\u001b[1m└ \u001b[22m\u001b[39m\u001b[90m@ DIVAnd C:\\Users\\a001819\\.julia\\packages\\DIVAnd\\MV3j9\\src\\utils.jl:18\u001b[39m\n",
      "\u001b[36m\u001b[1m[ \u001b[22m\u001b[39m\u001b[36m\u001b[1mInfo: \u001b[22m\u001b[39mnumber of windows: 1\n"
     ]
    },
    {
     "name": "stdout",
     "output_type": "stream",
     "text": [
      "timeindex = 36\n"
     ]
    },
    {
     "name": "stderr",
     "output_type": "stream",
     "text": [
      "\u001b[36m\u001b[1m[ \u001b[22m\u001b[39m\u001b[36m\u001b[1mInfo: \u001b[22m\u001b[39mTime step 37 / 57\n",
      "\u001b[36m\u001b[1m[ \u001b[22m\u001b[39m\u001b[36m\u001b[1mInfo: \u001b[22m\u001b[39manalysis time index 37 uses the backgrond time index 185\n",
      "\u001b[36m\u001b[1m[ \u001b[22m\u001b[39m\u001b[36m\u001b[1mInfo: \u001b[22m\u001b[39mscaled correlation length (min,max) in dimension 1: (26002.33511528906, 77999.93927774779)\n",
      "\u001b[36m\u001b[1m[ \u001b[22m\u001b[39m\u001b[36m\u001b[1mInfo: \u001b[22m\u001b[39mscaled correlation length (min,max) in dimension 2: (26002.33511528906, 77999.93927774779)\n",
      "\u001b[36m\u001b[1m[ \u001b[22m\u001b[39m\u001b[36m\u001b[1mInfo: \u001b[22m\u001b[39mscaled correlation length (min,max) in dimension 3: (10.0, 50.0)\n",
      "\u001b[33m\u001b[1m┌ \u001b[22m\u001b[39m\u001b[33m\u001b[1mWarning: \u001b[22m\u001b[39mresolution (7.5) is too coarse for correlation length 10.0 in dimension 3 at indices CartesianIndex(47, 11, 6) (skipping further tests). It is recommended that the resolution is at least 2 times finer than the correlation length.\n",
      "\u001b[33m\u001b[1m└ \u001b[22m\u001b[39m\u001b[90m@ DIVAnd C:\\Users\\a001819\\.julia\\packages\\DIVAnd\\MV3j9\\src\\utils.jl:18\u001b[39m\n",
      "\u001b[36m\u001b[1m[ \u001b[22m\u001b[39m\u001b[36m\u001b[1mInfo: \u001b[22m\u001b[39mnumber of windows: 1\n"
     ]
    },
    {
     "name": "stdout",
     "output_type": "stream",
     "text": [
      "timeindex = 37\n"
     ]
    },
    {
     "name": "stderr",
     "output_type": "stream",
     "text": [
      "\u001b[36m\u001b[1m[ \u001b[22m\u001b[39m\u001b[36m\u001b[1mInfo: \u001b[22m\u001b[39mTime step 38 / 57\n",
      "\u001b[36m\u001b[1m[ \u001b[22m\u001b[39m\u001b[36m\u001b[1mInfo: \u001b[22m\u001b[39manalysis time index 38 uses the backgrond time index 189\n",
      "\u001b[36m\u001b[1m[ \u001b[22m\u001b[39m\u001b[36m\u001b[1mInfo: \u001b[22m\u001b[39mscaled correlation length (min,max) in dimension 1: (26002.33511528906, 77999.93927774779)\n",
      "\u001b[36m\u001b[1m[ \u001b[22m\u001b[39m\u001b[36m\u001b[1mInfo: \u001b[22m\u001b[39mscaled correlation length (min,max) in dimension 2: (26002.33511528906, 77999.93927774779)\n",
      "\u001b[36m\u001b[1m[ \u001b[22m\u001b[39m\u001b[36m\u001b[1mInfo: \u001b[22m\u001b[39mscaled correlation length (min,max) in dimension 3: (10.0, 50.0)\n",
      "\u001b[33m\u001b[1m┌ \u001b[22m\u001b[39m\u001b[33m\u001b[1mWarning: \u001b[22m\u001b[39mresolution (7.5) is too coarse for correlation length 10.0 in dimension 3 at indices CartesianIndex(47, 11, 6) (skipping further tests). It is recommended that the resolution is at least 2 times finer than the correlation length.\n",
      "\u001b[33m\u001b[1m└ \u001b[22m\u001b[39m\u001b[90m@ DIVAnd C:\\Users\\a001819\\.julia\\packages\\DIVAnd\\MV3j9\\src\\utils.jl:18\u001b[39m\n",
      "\u001b[36m\u001b[1m[ \u001b[22m\u001b[39m\u001b[36m\u001b[1mInfo: \u001b[22m\u001b[39mnumber of windows: 1\n"
     ]
    },
    {
     "name": "stdout",
     "output_type": "stream",
     "text": [
      "timeindex = 38\n"
     ]
    },
    {
     "name": "stderr",
     "output_type": "stream",
     "text": [
      "\u001b[36m\u001b[1m[ \u001b[22m\u001b[39m\u001b[36m\u001b[1mInfo: \u001b[22m\u001b[39mTime step 39 / 57\n",
      "\u001b[36m\u001b[1m[ \u001b[22m\u001b[39m\u001b[36m\u001b[1mInfo: \u001b[22m\u001b[39manalysis time index 39 uses the backgrond time index 193\n",
      "\u001b[36m\u001b[1m[ \u001b[22m\u001b[39m\u001b[36m\u001b[1mInfo: \u001b[22m\u001b[39mscaled correlation length (min,max) in dimension 1: (26002.33511528906, 77999.93927774779)\n",
      "\u001b[36m\u001b[1m[ \u001b[22m\u001b[39m\u001b[36m\u001b[1mInfo: \u001b[22m\u001b[39mscaled correlation length (min,max) in dimension 2: (26002.33511528906, 77999.93927774779)\n",
      "\u001b[36m\u001b[1m[ \u001b[22m\u001b[39m\u001b[36m\u001b[1mInfo: \u001b[22m\u001b[39mscaled correlation length (min,max) in dimension 3: (10.0, 50.0)\n",
      "\u001b[33m\u001b[1m┌ \u001b[22m\u001b[39m\u001b[33m\u001b[1mWarning: \u001b[22m\u001b[39mresolution (7.5) is too coarse for correlation length 10.0 in dimension 3 at indices CartesianIndex(47, 11, 6) (skipping further tests). It is recommended that the resolution is at least 2 times finer than the correlation length.\n",
      "\u001b[33m\u001b[1m└ \u001b[22m\u001b[39m\u001b[90m@ DIVAnd C:\\Users\\a001819\\.julia\\packages\\DIVAnd\\MV3j9\\src\\utils.jl:18\u001b[39m\n",
      "\u001b[36m\u001b[1m[ \u001b[22m\u001b[39m\u001b[36m\u001b[1mInfo: \u001b[22m\u001b[39mnumber of windows: 1\n"
     ]
    },
    {
     "name": "stdout",
     "output_type": "stream",
     "text": [
      "timeindex = 39\n"
     ]
    },
    {
     "name": "stderr",
     "output_type": "stream",
     "text": [
      "\u001b[36m\u001b[1m[ \u001b[22m\u001b[39m\u001b[36m\u001b[1mInfo: \u001b[22m\u001b[39mTime step 40 / 57\n",
      "\u001b[36m\u001b[1m[ \u001b[22m\u001b[39m\u001b[36m\u001b[1mInfo: \u001b[22m\u001b[39manalysis time index 40 uses the backgrond time index 197\n",
      "\u001b[36m\u001b[1m[ \u001b[22m\u001b[39m\u001b[36m\u001b[1mInfo: \u001b[22m\u001b[39mscaled correlation length (min,max) in dimension 1: (26002.33511528906, 77999.93927774779)\n",
      "\u001b[36m\u001b[1m[ \u001b[22m\u001b[39m\u001b[36m\u001b[1mInfo: \u001b[22m\u001b[39mscaled correlation length (min,max) in dimension 2: (26002.33511528906, 77999.93927774779)\n",
      "\u001b[36m\u001b[1m[ \u001b[22m\u001b[39m\u001b[36m\u001b[1mInfo: \u001b[22m\u001b[39mscaled correlation length (min,max) in dimension 3: (10.0, 50.0)\n",
      "\u001b[33m\u001b[1m┌ \u001b[22m\u001b[39m\u001b[33m\u001b[1mWarning: \u001b[22m\u001b[39mresolution (7.5) is too coarse for correlation length 10.0 in dimension 3 at indices CartesianIndex(47, 11, 6) (skipping further tests). It is recommended that the resolution is at least 2 times finer than the correlation length.\n",
      "\u001b[33m\u001b[1m└ \u001b[22m\u001b[39m\u001b[90m@ DIVAnd C:\\Users\\a001819\\.julia\\packages\\DIVAnd\\MV3j9\\src\\utils.jl:18\u001b[39m\n",
      "\u001b[36m\u001b[1m[ \u001b[22m\u001b[39m\u001b[36m\u001b[1mInfo: \u001b[22m\u001b[39mnumber of windows: 1\n"
     ]
    },
    {
     "name": "stdout",
     "output_type": "stream",
     "text": [
      "timeindex = 40\n"
     ]
    },
    {
     "name": "stderr",
     "output_type": "stream",
     "text": [
      "\u001b[36m\u001b[1m[ \u001b[22m\u001b[39m\u001b[36m\u001b[1mInfo: \u001b[22m\u001b[39mTime step 41 / 57\n",
      "\u001b[36m\u001b[1m[ \u001b[22m\u001b[39m\u001b[36m\u001b[1mInfo: \u001b[22m\u001b[39manalysis time index 41 uses the backgrond time index 201\n",
      "\u001b[36m\u001b[1m[ \u001b[22m\u001b[39m\u001b[36m\u001b[1mInfo: \u001b[22m\u001b[39mscaled correlation length (min,max) in dimension 1: (26002.33511528906, 77999.93927774779)\n",
      "\u001b[36m\u001b[1m[ \u001b[22m\u001b[39m\u001b[36m\u001b[1mInfo: \u001b[22m\u001b[39mscaled correlation length (min,max) in dimension 2: (26002.33511528906, 77999.93927774779)\n",
      "\u001b[36m\u001b[1m[ \u001b[22m\u001b[39m\u001b[36m\u001b[1mInfo: \u001b[22m\u001b[39mscaled correlation length (min,max) in dimension 3: (10.0, 50.0)\n",
      "\u001b[33m\u001b[1m┌ \u001b[22m\u001b[39m\u001b[33m\u001b[1mWarning: \u001b[22m\u001b[39mresolution (7.5) is too coarse for correlation length 10.0 in dimension 3 at indices CartesianIndex(47, 11, 6) (skipping further tests). It is recommended that the resolution is at least 2 times finer than the correlation length.\n",
      "\u001b[33m\u001b[1m└ \u001b[22m\u001b[39m\u001b[90m@ DIVAnd C:\\Users\\a001819\\.julia\\packages\\DIVAnd\\MV3j9\\src\\utils.jl:18\u001b[39m\n",
      "\u001b[36m\u001b[1m[ \u001b[22m\u001b[39m\u001b[36m\u001b[1mInfo: \u001b[22m\u001b[39mnumber of windows: 1\n"
     ]
    },
    {
     "name": "stdout",
     "output_type": "stream",
     "text": [
      "timeindex = 41\n"
     ]
    },
    {
     "name": "stderr",
     "output_type": "stream",
     "text": [
      "\u001b[36m\u001b[1m[ \u001b[22m\u001b[39m\u001b[36m\u001b[1mInfo: \u001b[22m\u001b[39mTime step 42 / 57\n",
      "\u001b[36m\u001b[1m[ \u001b[22m\u001b[39m\u001b[36m\u001b[1mInfo: \u001b[22m\u001b[39manalysis time index 42 uses the backgrond time index 205\n",
      "\u001b[36m\u001b[1m[ \u001b[22m\u001b[39m\u001b[36m\u001b[1mInfo: \u001b[22m\u001b[39mscaled correlation length (min,max) in dimension 1: (26002.33511528906, 77999.93927774779)\n",
      "\u001b[36m\u001b[1m[ \u001b[22m\u001b[39m\u001b[36m\u001b[1mInfo: \u001b[22m\u001b[39mscaled correlation length (min,max) in dimension 2: (26002.33511528906, 77999.93927774779)\n",
      "\u001b[36m\u001b[1m[ \u001b[22m\u001b[39m\u001b[36m\u001b[1mInfo: \u001b[22m\u001b[39mscaled correlation length (min,max) in dimension 3: (10.0, 50.0)\n",
      "\u001b[33m\u001b[1m┌ \u001b[22m\u001b[39m\u001b[33m\u001b[1mWarning: \u001b[22m\u001b[39mresolution (7.5) is too coarse for correlation length 10.0 in dimension 3 at indices CartesianIndex(47, 11, 6) (skipping further tests). It is recommended that the resolution is at least 2 times finer than the correlation length.\n",
      "\u001b[33m\u001b[1m└ \u001b[22m\u001b[39m\u001b[90m@ DIVAnd C:\\Users\\a001819\\.julia\\packages\\DIVAnd\\MV3j9\\src\\utils.jl:18\u001b[39m\n",
      "\u001b[36m\u001b[1m[ \u001b[22m\u001b[39m\u001b[36m\u001b[1mInfo: \u001b[22m\u001b[39mnumber of windows: 1\n"
     ]
    },
    {
     "name": "stdout",
     "output_type": "stream",
     "text": [
      "timeindex = 42\n"
     ]
    },
    {
     "name": "stderr",
     "output_type": "stream",
     "text": [
      "\u001b[36m\u001b[1m[ \u001b[22m\u001b[39m\u001b[36m\u001b[1mInfo: \u001b[22m\u001b[39mTime step 43 / 57\n",
      "\u001b[36m\u001b[1m[ \u001b[22m\u001b[39m\u001b[36m\u001b[1mInfo: \u001b[22m\u001b[39manalysis time index 43 uses the backgrond time index 209\n",
      "\u001b[36m\u001b[1m[ \u001b[22m\u001b[39m\u001b[36m\u001b[1mInfo: \u001b[22m\u001b[39mscaled correlation length (min,max) in dimension 1: (26002.33511528906, 77999.93927774779)\n",
      "\u001b[36m\u001b[1m[ \u001b[22m\u001b[39m\u001b[36m\u001b[1mInfo: \u001b[22m\u001b[39mscaled correlation length (min,max) in dimension 2: (26002.33511528906, 77999.93927774779)\n",
      "\u001b[36m\u001b[1m[ \u001b[22m\u001b[39m\u001b[36m\u001b[1mInfo: \u001b[22m\u001b[39mscaled correlation length (min,max) in dimension 3: (10.0, 50.0)\n",
      "\u001b[33m\u001b[1m┌ \u001b[22m\u001b[39m\u001b[33m\u001b[1mWarning: \u001b[22m\u001b[39mresolution (7.5) is too coarse for correlation length 10.0 in dimension 3 at indices CartesianIndex(47, 11, 6) (skipping further tests). It is recommended that the resolution is at least 2 times finer than the correlation length.\n",
      "\u001b[33m\u001b[1m└ \u001b[22m\u001b[39m\u001b[90m@ DIVAnd C:\\Users\\a001819\\.julia\\packages\\DIVAnd\\MV3j9\\src\\utils.jl:18\u001b[39m\n",
      "\u001b[36m\u001b[1m[ \u001b[22m\u001b[39m\u001b[36m\u001b[1mInfo: \u001b[22m\u001b[39mnumber of windows: 1\n"
     ]
    },
    {
     "name": "stdout",
     "output_type": "stream",
     "text": [
      "timeindex = 43\n"
     ]
    },
    {
     "name": "stderr",
     "output_type": "stream",
     "text": [
      "\u001b[36m\u001b[1m[ \u001b[22m\u001b[39m\u001b[36m\u001b[1mInfo: \u001b[22m\u001b[39mTime step 44 / 57\n",
      "\u001b[36m\u001b[1m[ \u001b[22m\u001b[39m\u001b[36m\u001b[1mInfo: \u001b[22m\u001b[39manalysis time index 44 uses the backgrond time index 213\n",
      "\u001b[36m\u001b[1m[ \u001b[22m\u001b[39m\u001b[36m\u001b[1mInfo: \u001b[22m\u001b[39mscaled correlation length (min,max) in dimension 1: (26002.33511528906, 77999.93927774779)\n",
      "\u001b[36m\u001b[1m[ \u001b[22m\u001b[39m\u001b[36m\u001b[1mInfo: \u001b[22m\u001b[39mscaled correlation length (min,max) in dimension 2: (26002.33511528906, 77999.93927774779)\n",
      "\u001b[36m\u001b[1m[ \u001b[22m\u001b[39m\u001b[36m\u001b[1mInfo: \u001b[22m\u001b[39mscaled correlation length (min,max) in dimension 3: (10.0, 50.0)\n",
      "\u001b[33m\u001b[1m┌ \u001b[22m\u001b[39m\u001b[33m\u001b[1mWarning: \u001b[22m\u001b[39mresolution (7.5) is too coarse for correlation length 10.0 in dimension 3 at indices CartesianIndex(47, 11, 6) (skipping further tests). It is recommended that the resolution is at least 2 times finer than the correlation length.\n",
      "\u001b[33m\u001b[1m└ \u001b[22m\u001b[39m\u001b[90m@ DIVAnd C:\\Users\\a001819\\.julia\\packages\\DIVAnd\\MV3j9\\src\\utils.jl:18\u001b[39m\n",
      "\u001b[36m\u001b[1m[ \u001b[22m\u001b[39m\u001b[36m\u001b[1mInfo: \u001b[22m\u001b[39mnumber of windows: 1\n"
     ]
    },
    {
     "name": "stdout",
     "output_type": "stream",
     "text": [
      "timeindex = 44\n"
     ]
    },
    {
     "name": "stderr",
     "output_type": "stream",
     "text": [
      "\u001b[36m\u001b[1m[ \u001b[22m\u001b[39m\u001b[36m\u001b[1mInfo: \u001b[22m\u001b[39mTime step 45 / 57\n",
      "\u001b[36m\u001b[1m[ \u001b[22m\u001b[39m\u001b[36m\u001b[1mInfo: \u001b[22m\u001b[39manalysis time index 45 uses the backgrond time index 217\n",
      "\u001b[36m\u001b[1m[ \u001b[22m\u001b[39m\u001b[36m\u001b[1mInfo: \u001b[22m\u001b[39mscaled correlation length (min,max) in dimension 1: (26002.33511528906, 77999.93927774779)\n",
      "\u001b[36m\u001b[1m[ \u001b[22m\u001b[39m\u001b[36m\u001b[1mInfo: \u001b[22m\u001b[39mscaled correlation length (min,max) in dimension 2: (26002.33511528906, 77999.93927774779)\n",
      "\u001b[36m\u001b[1m[ \u001b[22m\u001b[39m\u001b[36m\u001b[1mInfo: \u001b[22m\u001b[39mscaled correlation length (min,max) in dimension 3: (10.0, 50.0)\n",
      "\u001b[33m\u001b[1m┌ \u001b[22m\u001b[39m\u001b[33m\u001b[1mWarning: \u001b[22m\u001b[39mresolution (7.5) is too coarse for correlation length 10.0 in dimension 3 at indices CartesianIndex(47, 11, 6) (skipping further tests). It is recommended that the resolution is at least 2 times finer than the correlation length.\n",
      "\u001b[33m\u001b[1m└ \u001b[22m\u001b[39m\u001b[90m@ DIVAnd C:\\Users\\a001819\\.julia\\packages\\DIVAnd\\MV3j9\\src\\utils.jl:18\u001b[39m\n",
      "\u001b[36m\u001b[1m[ \u001b[22m\u001b[39m\u001b[36m\u001b[1mInfo: \u001b[22m\u001b[39mnumber of windows: 1\n"
     ]
    },
    {
     "name": "stdout",
     "output_type": "stream",
     "text": [
      "timeindex = 45\n"
     ]
    },
    {
     "name": "stderr",
     "output_type": "stream",
     "text": [
      "\u001b[36m\u001b[1m[ \u001b[22m\u001b[39m\u001b[36m\u001b[1mInfo: \u001b[22m\u001b[39mTime step 46 / 57\n",
      "\u001b[36m\u001b[1m[ \u001b[22m\u001b[39m\u001b[36m\u001b[1mInfo: \u001b[22m\u001b[39manalysis time index 46 uses the backgrond time index 221\n",
      "\u001b[36m\u001b[1m[ \u001b[22m\u001b[39m\u001b[36m\u001b[1mInfo: \u001b[22m\u001b[39mscaled correlation length (min,max) in dimension 1: (26002.33511528906, 77999.93927774779)\n",
      "\u001b[36m\u001b[1m[ \u001b[22m\u001b[39m\u001b[36m\u001b[1mInfo: \u001b[22m\u001b[39mscaled correlation length (min,max) in dimension 2: (26002.33511528906, 77999.93927774779)\n",
      "\u001b[36m\u001b[1m[ \u001b[22m\u001b[39m\u001b[36m\u001b[1mInfo: \u001b[22m\u001b[39mscaled correlation length (min,max) in dimension 3: (10.0, 50.0)\n",
      "\u001b[33m\u001b[1m┌ \u001b[22m\u001b[39m\u001b[33m\u001b[1mWarning: \u001b[22m\u001b[39mresolution (7.5) is too coarse for correlation length 10.0 in dimension 3 at indices CartesianIndex(47, 11, 6) (skipping further tests). It is recommended that the resolution is at least 2 times finer than the correlation length.\n",
      "\u001b[33m\u001b[1m└ \u001b[22m\u001b[39m\u001b[90m@ DIVAnd C:\\Users\\a001819\\.julia\\packages\\DIVAnd\\MV3j9\\src\\utils.jl:18\u001b[39m\n",
      "\u001b[36m\u001b[1m[ \u001b[22m\u001b[39m\u001b[36m\u001b[1mInfo: \u001b[22m\u001b[39mnumber of windows: 1\n"
     ]
    },
    {
     "name": "stdout",
     "output_type": "stream",
     "text": [
      "timeindex = 46\n"
     ]
    },
    {
     "name": "stderr",
     "output_type": "stream",
     "text": [
      "\u001b[36m\u001b[1m[ \u001b[22m\u001b[39m\u001b[36m\u001b[1mInfo: \u001b[22m\u001b[39mTime step 47 / 57\n",
      "\u001b[36m\u001b[1m[ \u001b[22m\u001b[39m\u001b[36m\u001b[1mInfo: \u001b[22m\u001b[39manalysis time index 47 uses the backgrond time index 225\n",
      "\u001b[36m\u001b[1m[ \u001b[22m\u001b[39m\u001b[36m\u001b[1mInfo: \u001b[22m\u001b[39mscaled correlation length (min,max) in dimension 1: (26002.33511528906, 77999.93927774779)\n",
      "\u001b[36m\u001b[1m[ \u001b[22m\u001b[39m\u001b[36m\u001b[1mInfo: \u001b[22m\u001b[39mscaled correlation length (min,max) in dimension 2: (26002.33511528906, 77999.93927774779)\n",
      "\u001b[36m\u001b[1m[ \u001b[22m\u001b[39m\u001b[36m\u001b[1mInfo: \u001b[22m\u001b[39mscaled correlation length (min,max) in dimension 3: (10.0, 50.0)\n",
      "\u001b[33m\u001b[1m┌ \u001b[22m\u001b[39m\u001b[33m\u001b[1mWarning: \u001b[22m\u001b[39mresolution (7.5) is too coarse for correlation length 10.0 in dimension 3 at indices CartesianIndex(47, 11, 6) (skipping further tests). It is recommended that the resolution is at least 2 times finer than the correlation length.\n",
      "\u001b[33m\u001b[1m└ \u001b[22m\u001b[39m\u001b[90m@ DIVAnd C:\\Users\\a001819\\.julia\\packages\\DIVAnd\\MV3j9\\src\\utils.jl:18\u001b[39m\n",
      "\u001b[36m\u001b[1m[ \u001b[22m\u001b[39m\u001b[36m\u001b[1mInfo: \u001b[22m\u001b[39mnumber of windows: 1\n"
     ]
    },
    {
     "name": "stdout",
     "output_type": "stream",
     "text": [
      "timeindex = 47\n"
     ]
    },
    {
     "name": "stderr",
     "output_type": "stream",
     "text": [
      "\u001b[36m\u001b[1m[ \u001b[22m\u001b[39m\u001b[36m\u001b[1mInfo: \u001b[22m\u001b[39mTime step 48 / 57\n",
      "\u001b[36m\u001b[1m[ \u001b[22m\u001b[39m\u001b[36m\u001b[1mInfo: \u001b[22m\u001b[39manalysis time index 48 uses the backgrond time index 229\n",
      "\u001b[36m\u001b[1m[ \u001b[22m\u001b[39m\u001b[36m\u001b[1mInfo: \u001b[22m\u001b[39mscaled correlation length (min,max) in dimension 1: (26002.33511528906, 77999.93927774779)\n",
      "\u001b[36m\u001b[1m[ \u001b[22m\u001b[39m\u001b[36m\u001b[1mInfo: \u001b[22m\u001b[39mscaled correlation length (min,max) in dimension 2: (26002.33511528906, 77999.93927774779)\n",
      "\u001b[36m\u001b[1m[ \u001b[22m\u001b[39m\u001b[36m\u001b[1mInfo: \u001b[22m\u001b[39mscaled correlation length (min,max) in dimension 3: (10.0, 50.0)\n",
      "\u001b[33m\u001b[1m┌ \u001b[22m\u001b[39m\u001b[33m\u001b[1mWarning: \u001b[22m\u001b[39mresolution (7.5) is too coarse for correlation length 10.0 in dimension 3 at indices CartesianIndex(47, 11, 6) (skipping further tests). It is recommended that the resolution is at least 2 times finer than the correlation length.\n",
      "\u001b[33m\u001b[1m└ \u001b[22m\u001b[39m\u001b[90m@ DIVAnd C:\\Users\\a001819\\.julia\\packages\\DIVAnd\\MV3j9\\src\\utils.jl:18\u001b[39m\n",
      "\u001b[36m\u001b[1m[ \u001b[22m\u001b[39m\u001b[36m\u001b[1mInfo: \u001b[22m\u001b[39mnumber of windows: 1\n"
     ]
    },
    {
     "name": "stdout",
     "output_type": "stream",
     "text": [
      "timeindex = 48\n"
     ]
    },
    {
     "name": "stderr",
     "output_type": "stream",
     "text": [
      "\u001b[36m\u001b[1m[ \u001b[22m\u001b[39m\u001b[36m\u001b[1mInfo: \u001b[22m\u001b[39mTime step 49 / 57\n",
      "\u001b[36m\u001b[1m[ \u001b[22m\u001b[39m\u001b[36m\u001b[1mInfo: \u001b[22m\u001b[39manalysis time index 49 uses the backgrond time index 233\n",
      "\u001b[36m\u001b[1m[ \u001b[22m\u001b[39m\u001b[36m\u001b[1mInfo: \u001b[22m\u001b[39mscaled correlation length (min,max) in dimension 1: (26002.33511528906, 77999.93927774779)\n",
      "\u001b[36m\u001b[1m[ \u001b[22m\u001b[39m\u001b[36m\u001b[1mInfo: \u001b[22m\u001b[39mscaled correlation length (min,max) in dimension 2: (26002.33511528906, 77999.93927774779)\n",
      "\u001b[36m\u001b[1m[ \u001b[22m\u001b[39m\u001b[36m\u001b[1mInfo: \u001b[22m\u001b[39mscaled correlation length (min,max) in dimension 3: (10.0, 50.0)\n",
      "\u001b[33m\u001b[1m┌ \u001b[22m\u001b[39m\u001b[33m\u001b[1mWarning: \u001b[22m\u001b[39mresolution (7.5) is too coarse for correlation length 10.0 in dimension 3 at indices CartesianIndex(47, 11, 6) (skipping further tests). It is recommended that the resolution is at least 2 times finer than the correlation length.\n",
      "\u001b[33m\u001b[1m└ \u001b[22m\u001b[39m\u001b[90m@ DIVAnd C:\\Users\\a001819\\.julia\\packages\\DIVAnd\\MV3j9\\src\\utils.jl:18\u001b[39m\n",
      "\u001b[36m\u001b[1m[ \u001b[22m\u001b[39m\u001b[36m\u001b[1mInfo: \u001b[22m\u001b[39mnumber of windows: 1\n"
     ]
    },
    {
     "name": "stdout",
     "output_type": "stream",
     "text": [
      "timeindex = 49\n"
     ]
    },
    {
     "name": "stderr",
     "output_type": "stream",
     "text": [
      "\u001b[36m\u001b[1m[ \u001b[22m\u001b[39m\u001b[36m\u001b[1mInfo: \u001b[22m\u001b[39mTime step 50 / 57\n",
      "\u001b[36m\u001b[1m[ \u001b[22m\u001b[39m\u001b[36m\u001b[1mInfo: \u001b[22m\u001b[39manalysis time index 50 uses the backgrond time index 237\n",
      "\u001b[36m\u001b[1m[ \u001b[22m\u001b[39m\u001b[36m\u001b[1mInfo: \u001b[22m\u001b[39mscaled correlation length (min,max) in dimension 1: (26002.33511528906, 77999.93927774779)\n",
      "\u001b[36m\u001b[1m[ \u001b[22m\u001b[39m\u001b[36m\u001b[1mInfo: \u001b[22m\u001b[39mscaled correlation length (min,max) in dimension 2: (26002.33511528906, 77999.93927774779)\n",
      "\u001b[36m\u001b[1m[ \u001b[22m\u001b[39m\u001b[36m\u001b[1mInfo: \u001b[22m\u001b[39mscaled correlation length (min,max) in dimension 3: (10.0, 50.0)\n",
      "\u001b[33m\u001b[1m┌ \u001b[22m\u001b[39m\u001b[33m\u001b[1mWarning: \u001b[22m\u001b[39mresolution (7.5) is too coarse for correlation length 10.0 in dimension 3 at indices CartesianIndex(47, 11, 6) (skipping further tests). It is recommended that the resolution is at least 2 times finer than the correlation length.\n",
      "\u001b[33m\u001b[1m└ \u001b[22m\u001b[39m\u001b[90m@ DIVAnd C:\\Users\\a001819\\.julia\\packages\\DIVAnd\\MV3j9\\src\\utils.jl:18\u001b[39m\n",
      "\u001b[36m\u001b[1m[ \u001b[22m\u001b[39m\u001b[36m\u001b[1mInfo: \u001b[22m\u001b[39mnumber of windows: 1\n"
     ]
    },
    {
     "name": "stdout",
     "output_type": "stream",
     "text": [
      "timeindex = 50\n"
     ]
    },
    {
     "name": "stderr",
     "output_type": "stream",
     "text": [
      "\u001b[36m\u001b[1m[ \u001b[22m\u001b[39m\u001b[36m\u001b[1mInfo: \u001b[22m\u001b[39mTime step 51 / 57\n",
      "\u001b[36m\u001b[1m[ \u001b[22m\u001b[39m\u001b[36m\u001b[1mInfo: \u001b[22m\u001b[39manalysis time index 51 uses the backgrond time index 241\n",
      "\u001b[36m\u001b[1m[ \u001b[22m\u001b[39m\u001b[36m\u001b[1mInfo: \u001b[22m\u001b[39mscaled correlation length (min,max) in dimension 1: (26002.33511528906, 77999.93927774779)\n",
      "\u001b[36m\u001b[1m[ \u001b[22m\u001b[39m\u001b[36m\u001b[1mInfo: \u001b[22m\u001b[39mscaled correlation length (min,max) in dimension 2: (26002.33511528906, 77999.93927774779)\n",
      "\u001b[36m\u001b[1m[ \u001b[22m\u001b[39m\u001b[36m\u001b[1mInfo: \u001b[22m\u001b[39mscaled correlation length (min,max) in dimension 3: (10.0, 50.0)\n",
      "\u001b[33m\u001b[1m┌ \u001b[22m\u001b[39m\u001b[33m\u001b[1mWarning: \u001b[22m\u001b[39mresolution (7.5) is too coarse for correlation length 10.0 in dimension 3 at indices CartesianIndex(47, 11, 6) (skipping further tests). It is recommended that the resolution is at least 2 times finer than the correlation length.\n",
      "\u001b[33m\u001b[1m└ \u001b[22m\u001b[39m\u001b[90m@ DIVAnd C:\\Users\\a001819\\.julia\\packages\\DIVAnd\\MV3j9\\src\\utils.jl:18\u001b[39m\n",
      "\u001b[36m\u001b[1m[ \u001b[22m\u001b[39m\u001b[36m\u001b[1mInfo: \u001b[22m\u001b[39mnumber of windows: 1\n"
     ]
    },
    {
     "name": "stdout",
     "output_type": "stream",
     "text": [
      "timeindex = 51\n"
     ]
    },
    {
     "name": "stderr",
     "output_type": "stream",
     "text": [
      "\u001b[36m\u001b[1m[ \u001b[22m\u001b[39m\u001b[36m\u001b[1mInfo: \u001b[22m\u001b[39mTime step 52 / 57\n",
      "\u001b[36m\u001b[1m[ \u001b[22m\u001b[39m\u001b[36m\u001b[1mInfo: \u001b[22m\u001b[39manalysis time index 52 uses the backgrond time index 245\n",
      "\u001b[36m\u001b[1m[ \u001b[22m\u001b[39m\u001b[36m\u001b[1mInfo: \u001b[22m\u001b[39mscaled correlation length (min,max) in dimension 1: (26002.33511528906, 77999.93927774779)\n",
      "\u001b[36m\u001b[1m[ \u001b[22m\u001b[39m\u001b[36m\u001b[1mInfo: \u001b[22m\u001b[39mscaled correlation length (min,max) in dimension 2: (26002.33511528906, 77999.93927774779)\n",
      "\u001b[36m\u001b[1m[ \u001b[22m\u001b[39m\u001b[36m\u001b[1mInfo: \u001b[22m\u001b[39mscaled correlation length (min,max) in dimension 3: (10.0, 50.0)\n",
      "\u001b[33m\u001b[1m┌ \u001b[22m\u001b[39m\u001b[33m\u001b[1mWarning: \u001b[22m\u001b[39mresolution (7.5) is too coarse for correlation length 10.0 in dimension 3 at indices CartesianIndex(47, 11, 6) (skipping further tests). It is recommended that the resolution is at least 2 times finer than the correlation length.\n",
      "\u001b[33m\u001b[1m└ \u001b[22m\u001b[39m\u001b[90m@ DIVAnd C:\\Users\\a001819\\.julia\\packages\\DIVAnd\\MV3j9\\src\\utils.jl:18\u001b[39m\n",
      "\u001b[36m\u001b[1m[ \u001b[22m\u001b[39m\u001b[36m\u001b[1mInfo: \u001b[22m\u001b[39mnumber of windows: 1\n"
     ]
    },
    {
     "name": "stdout",
     "output_type": "stream",
     "text": [
      "timeindex = 52\n"
     ]
    },
    {
     "name": "stderr",
     "output_type": "stream",
     "text": [
      "\u001b[36m\u001b[1m[ \u001b[22m\u001b[39m\u001b[36m\u001b[1mInfo: \u001b[22m\u001b[39mTime step 53 / 57\n",
      "\u001b[36m\u001b[1m[ \u001b[22m\u001b[39m\u001b[36m\u001b[1mInfo: \u001b[22m\u001b[39manalysis time index 53 uses the backgrond time index 249\n",
      "\u001b[36m\u001b[1m[ \u001b[22m\u001b[39m\u001b[36m\u001b[1mInfo: \u001b[22m\u001b[39mscaled correlation length (min,max) in dimension 1: (26002.33511528906, 77999.93927774779)\n",
      "\u001b[36m\u001b[1m[ \u001b[22m\u001b[39m\u001b[36m\u001b[1mInfo: \u001b[22m\u001b[39mscaled correlation length (min,max) in dimension 2: (26002.33511528906, 77999.93927774779)\n",
      "\u001b[36m\u001b[1m[ \u001b[22m\u001b[39m\u001b[36m\u001b[1mInfo: \u001b[22m\u001b[39mscaled correlation length (min,max) in dimension 3: (10.0, 50.0)\n",
      "\u001b[33m\u001b[1m┌ \u001b[22m\u001b[39m\u001b[33m\u001b[1mWarning: \u001b[22m\u001b[39mresolution (7.5) is too coarse for correlation length 10.0 in dimension 3 at indices CartesianIndex(47, 11, 6) (skipping further tests). It is recommended that the resolution is at least 2 times finer than the correlation length.\n",
      "\u001b[33m\u001b[1m└ \u001b[22m\u001b[39m\u001b[90m@ DIVAnd C:\\Users\\a001819\\.julia\\packages\\DIVAnd\\MV3j9\\src\\utils.jl:18\u001b[39m\n",
      "\u001b[36m\u001b[1m[ \u001b[22m\u001b[39m\u001b[36m\u001b[1mInfo: \u001b[22m\u001b[39mnumber of windows: 1\n"
     ]
    },
    {
     "name": "stdout",
     "output_type": "stream",
     "text": [
      "timeindex = 53\n"
     ]
    },
    {
     "name": "stderr",
     "output_type": "stream",
     "text": [
      "\u001b[36m\u001b[1m[ \u001b[22m\u001b[39m\u001b[36m\u001b[1mInfo: \u001b[22m\u001b[39mTime step 54 / 57\n",
      "\u001b[36m\u001b[1m[ \u001b[22m\u001b[39m\u001b[36m\u001b[1mInfo: \u001b[22m\u001b[39manalysis time index 54 uses the backgrond time index 253\n",
      "\u001b[36m\u001b[1m[ \u001b[22m\u001b[39m\u001b[36m\u001b[1mInfo: \u001b[22m\u001b[39mscaled correlation length (min,max) in dimension 1: (26002.33511528906, 77999.93927774779)\n",
      "\u001b[36m\u001b[1m[ \u001b[22m\u001b[39m\u001b[36m\u001b[1mInfo: \u001b[22m\u001b[39mscaled correlation length (min,max) in dimension 2: (26002.33511528906, 77999.93927774779)\n",
      "\u001b[36m\u001b[1m[ \u001b[22m\u001b[39m\u001b[36m\u001b[1mInfo: \u001b[22m\u001b[39mscaled correlation length (min,max) in dimension 3: (10.0, 50.0)\n",
      "\u001b[33m\u001b[1m┌ \u001b[22m\u001b[39m\u001b[33m\u001b[1mWarning: \u001b[22m\u001b[39mresolution (7.5) is too coarse for correlation length 10.0 in dimension 3 at indices CartesianIndex(47, 11, 6) (skipping further tests). It is recommended that the resolution is at least 2 times finer than the correlation length.\n",
      "\u001b[33m\u001b[1m└ \u001b[22m\u001b[39m\u001b[90m@ DIVAnd C:\\Users\\a001819\\.julia\\packages\\DIVAnd\\MV3j9\\src\\utils.jl:18\u001b[39m\n",
      "\u001b[36m\u001b[1m[ \u001b[22m\u001b[39m\u001b[36m\u001b[1mInfo: \u001b[22m\u001b[39mnumber of windows: 1\n"
     ]
    },
    {
     "name": "stdout",
     "output_type": "stream",
     "text": [
      "timeindex = 54\n"
     ]
    },
    {
     "name": "stderr",
     "output_type": "stream",
     "text": [
      "\u001b[36m\u001b[1m[ \u001b[22m\u001b[39m\u001b[36m\u001b[1mInfo: \u001b[22m\u001b[39mTime step 55 / 57\n",
      "\u001b[36m\u001b[1m[ \u001b[22m\u001b[39m\u001b[36m\u001b[1mInfo: \u001b[22m\u001b[39manalysis time index 55 uses the backgrond time index 257\n",
      "\u001b[36m\u001b[1m[ \u001b[22m\u001b[39m\u001b[36m\u001b[1mInfo: \u001b[22m\u001b[39mscaled correlation length (min,max) in dimension 1: (26002.33511528906, 77999.93927774779)\n",
      "\u001b[36m\u001b[1m[ \u001b[22m\u001b[39m\u001b[36m\u001b[1mInfo: \u001b[22m\u001b[39mscaled correlation length (min,max) in dimension 2: (26002.33511528906, 77999.93927774779)\n",
      "\u001b[36m\u001b[1m[ \u001b[22m\u001b[39m\u001b[36m\u001b[1mInfo: \u001b[22m\u001b[39mscaled correlation length (min,max) in dimension 3: (10.0, 50.0)\n",
      "\u001b[33m\u001b[1m┌ \u001b[22m\u001b[39m\u001b[33m\u001b[1mWarning: \u001b[22m\u001b[39mresolution (7.5) is too coarse for correlation length 10.0 in dimension 3 at indices CartesianIndex(47, 11, 6) (skipping further tests). It is recommended that the resolution is at least 2 times finer than the correlation length.\n",
      "\u001b[33m\u001b[1m└ \u001b[22m\u001b[39m\u001b[90m@ DIVAnd C:\\Users\\a001819\\.julia\\packages\\DIVAnd\\MV3j9\\src\\utils.jl:18\u001b[39m\n",
      "\u001b[36m\u001b[1m[ \u001b[22m\u001b[39m\u001b[36m\u001b[1mInfo: \u001b[22m\u001b[39mnumber of windows: 1\n"
     ]
    },
    {
     "name": "stdout",
     "output_type": "stream",
     "text": [
      "timeindex = 55\n"
     ]
    },
    {
     "name": "stderr",
     "output_type": "stream",
     "text": [
      "\u001b[36m\u001b[1m[ \u001b[22m\u001b[39m\u001b[36m\u001b[1mInfo: \u001b[22m\u001b[39mTime step 56 / 57\n",
      "\u001b[36m\u001b[1m[ \u001b[22m\u001b[39m\u001b[36m\u001b[1mInfo: \u001b[22m\u001b[39manalysis time index 56 uses the backgrond time index 261\n",
      "\u001b[36m\u001b[1m[ \u001b[22m\u001b[39m\u001b[36m\u001b[1mInfo: \u001b[22m\u001b[39mscaled correlation length (min,max) in dimension 1: (26002.33511528906, 77999.93927774779)\n",
      "\u001b[36m\u001b[1m[ \u001b[22m\u001b[39m\u001b[36m\u001b[1mInfo: \u001b[22m\u001b[39mscaled correlation length (min,max) in dimension 2: (26002.33511528906, 77999.93927774779)\n",
      "\u001b[36m\u001b[1m[ \u001b[22m\u001b[39m\u001b[36m\u001b[1mInfo: \u001b[22m\u001b[39mscaled correlation length (min,max) in dimension 3: (10.0, 50.0)\n",
      "\u001b[33m\u001b[1m┌ \u001b[22m\u001b[39m\u001b[33m\u001b[1mWarning: \u001b[22m\u001b[39mresolution (7.5) is too coarse for correlation length 10.0 in dimension 3 at indices CartesianIndex(47, 11, 6) (skipping further tests). It is recommended that the resolution is at least 2 times finer than the correlation length.\n",
      "\u001b[33m\u001b[1m└ \u001b[22m\u001b[39m\u001b[90m@ DIVAnd C:\\Users\\a001819\\.julia\\packages\\DIVAnd\\MV3j9\\src\\utils.jl:18\u001b[39m\n",
      "\u001b[36m\u001b[1m[ \u001b[22m\u001b[39m\u001b[36m\u001b[1mInfo: \u001b[22m\u001b[39mnumber of windows: 1\n"
     ]
    },
    {
     "name": "stdout",
     "output_type": "stream",
     "text": [
      "timeindex = 56\n"
     ]
    },
    {
     "name": "stderr",
     "output_type": "stream",
     "text": [
      "\u001b[36m\u001b[1m[ \u001b[22m\u001b[39m\u001b[36m\u001b[1mInfo: \u001b[22m\u001b[39mTime step 57 / 57\n",
      "\u001b[36m\u001b[1m[ \u001b[22m\u001b[39m\u001b[36m\u001b[1mInfo: \u001b[22m\u001b[39manalysis time index 57 uses the backgrond time index 265\n",
      "\u001b[36m\u001b[1m[ \u001b[22m\u001b[39m\u001b[36m\u001b[1mInfo: \u001b[22m\u001b[39mscaled correlation length (min,max) in dimension 1: (26002.33511528906, 77999.93927774779)\n",
      "\u001b[36m\u001b[1m[ \u001b[22m\u001b[39m\u001b[36m\u001b[1mInfo: \u001b[22m\u001b[39mscaled correlation length (min,max) in dimension 2: (26002.33511528906, 77999.93927774779)\n",
      "\u001b[36m\u001b[1m[ \u001b[22m\u001b[39m\u001b[36m\u001b[1mInfo: \u001b[22m\u001b[39mscaled correlation length (min,max) in dimension 3: (10.0, 50.0)\n",
      "\u001b[33m\u001b[1m┌ \u001b[22m\u001b[39m\u001b[33m\u001b[1mWarning: \u001b[22m\u001b[39mresolution (7.5) is too coarse for correlation length 10.0 in dimension 3 at indices CartesianIndex(47, 11, 6) (skipping further tests). It is recommended that the resolution is at least 2 times finer than the correlation length.\n",
      "\u001b[33m\u001b[1m└ \u001b[22m\u001b[39m\u001b[90m@ DIVAnd C:\\Users\\a001819\\.julia\\packages\\DIVAnd\\MV3j9\\src\\utils.jl:18\u001b[39m\n",
      "\u001b[36m\u001b[1m[ \u001b[22m\u001b[39m\u001b[36m\u001b[1mInfo: \u001b[22m\u001b[39mnumber of windows: 1\n"
     ]
    },
    {
     "name": "stdout",
     "output_type": "stream",
     "text": [
      "timeindex = 57\n",
      "3256.163619 seconds (1.53 G allocations: 659.145 GiB, 3.29% gc time, 1.48% compilation time: 0% of which was recompilation)\n"
     ]
    },
    {
     "name": "stderr",
     "output_type": "stream",
     "text": [
      "\u001b[36m\u001b[1m[ \u001b[22m\u001b[39m\u001b[36m\u001b[1mInfo: \u001b[22m\u001b[39mCreating new variable Water body dissolved oxygen concentration_deepest\n",
      "\u001b[36m\u001b[1m[ \u001b[22m\u001b[39m\u001b[36m\u001b[1mInfo: \u001b[22m\u001b[39mWorking on 21 depth layers\n",
      "\u001b[36m\u001b[1m[ \u001b[22m\u001b[39m\u001b[36m\u001b[1mInfo: \u001b[22m\u001b[39msize = (217, 131, 21)\n",
      "\u001b[36m\u001b[1m[ \u001b[22m\u001b[39m\u001b[36m\u001b[1mInfo: \u001b[22m\u001b[39mCreating new variable Water body dissolved oxygen concentration_deepest_depth\n",
      "\u001b[36m\u001b[1m[ \u001b[22m\u001b[39m\u001b[36m\u001b[1mInfo: \u001b[22m\u001b[39mDepth index: 1\n",
      "\u001b[36m\u001b[1m[ \u001b[22m\u001b[39m\u001b[36m\u001b[1mInfo: \u001b[22m\u001b[39mFound 6696 non missing values for depth 0.0\n",
      "\u001b[36m\u001b[1m[ \u001b[22m\u001b[39m\u001b[36m\u001b[1mInfo: \u001b[22m\u001b[39mDepth index: 2\n",
      "\u001b[36m\u001b[1m[ \u001b[22m\u001b[39m\u001b[36m\u001b[1mInfo: \u001b[22m\u001b[39mFound 6284 non missing values for depth 5.0\n",
      "\u001b[36m\u001b[1m[ \u001b[22m\u001b[39m\u001b[36m\u001b[1mInfo: \u001b[22m\u001b[39mDepth index: 3\n",
      "\u001b[36m\u001b[1m[ \u001b[22m\u001b[39m\u001b[36m\u001b[1mInfo: \u001b[22m\u001b[39mFound 5764 non missing values for depth 10.0\n",
      "\u001b[36m\u001b[1m[ \u001b[22m\u001b[39m\u001b[36m\u001b[1mInfo: \u001b[22m\u001b[39mDepth index: 4\n",
      "\u001b[36m\u001b[1m[ \u001b[22m\u001b[39m\u001b[36m\u001b[1mInfo: \u001b[22m\u001b[39mFound 5273 non missing values for depth 15.0\n",
      "\u001b[36m\u001b[1m[ \u001b[22m\u001b[39m\u001b[36m\u001b[1mInfo: \u001b[22m\u001b[39mDepth index: 5\n",
      "\u001b[36m\u001b[1m[ \u001b[22m\u001b[39m\u001b[36m\u001b[1mInfo: \u001b[22m\u001b[39mFound 4762 non missing values for depth 20.0\n",
      "\u001b[36m\u001b[1m[ \u001b[22m\u001b[39m\u001b[36m\u001b[1mInfo: \u001b[22m\u001b[39mDepth index: 6\n",
      "\u001b[36m\u001b[1m[ \u001b[22m\u001b[39m\u001b[36m\u001b[1mInfo: \u001b[22m\u001b[39mFound 4004 non missing values for depth 30.0\n",
      "\u001b[36m\u001b[1m[ \u001b[22m\u001b[39m\u001b[36m\u001b[1mInfo: \u001b[22m\u001b[39mDepth index: 7\n",
      "\u001b[36m\u001b[1m[ \u001b[22m\u001b[39m\u001b[36m\u001b[1mInfo: \u001b[22m\u001b[39mFound 3379 non missing values for depth 40.0\n",
      "\u001b[36m\u001b[1m[ \u001b[22m\u001b[39m\u001b[36m\u001b[1mInfo: \u001b[22m\u001b[39mDepth index: 8\n",
      "\u001b[36m\u001b[1m[ \u001b[22m\u001b[39m\u001b[36m\u001b[1mInfo: \u001b[22m\u001b[39mFound 2833 non missing values for depth 50.0\n",
      "\u001b[36m\u001b[1m[ \u001b[22m\u001b[39m\u001b[36m\u001b[1mInfo: \u001b[22m\u001b[39mDepth index: 9\n",
      "\u001b[36m\u001b[1m[ \u001b[22m\u001b[39m\u001b[36m\u001b[1mInfo: \u001b[22m\u001b[39mFound 2393 non missing values for depth 60.0\n",
      "\u001b[36m\u001b[1m[ \u001b[22m\u001b[39m\u001b[36m\u001b[1mInfo: \u001b[22m\u001b[39mDepth index: 10\n",
      "\u001b[36m\u001b[1m[ \u001b[22m\u001b[39m\u001b[36m\u001b[1mInfo: \u001b[22m\u001b[39mFound 2012 non missing values for depth 70.0\n",
      "\u001b[36m\u001b[1m[ \u001b[22m\u001b[39m\u001b[36m\u001b[1mInfo: \u001b[22m\u001b[39mDepth index: 11\n",
      "\u001b[36m\u001b[1m[ \u001b[22m\u001b[39m\u001b[36m\u001b[1mInfo: \u001b[22m\u001b[39mFound 1620 non missing values for depth 80.0\n",
      "\u001b[36m\u001b[1m[ \u001b[22m\u001b[39m\u001b[36m\u001b[1mInfo: \u001b[22m\u001b[39mDepth index: 12\n",
      "\u001b[36m\u001b[1m[ \u001b[22m\u001b[39m\u001b[36m\u001b[1mInfo: \u001b[22m\u001b[39mFound 1216 non missing values for depth 90.0\n",
      "\u001b[36m\u001b[1m[ \u001b[22m\u001b[39m\u001b[36m\u001b[1mInfo: \u001b[22m\u001b[39mDepth index: 13\n",
      "\u001b[36m\u001b[1m[ \u001b[22m\u001b[39m\u001b[36m\u001b[1mInfo: \u001b[22m\u001b[39mFound 897 non missing values for depth 100.0\n",
      "\u001b[36m\u001b[1m[ \u001b[22m\u001b[39m\u001b[36m\u001b[1mInfo: \u001b[22m\u001b[39mDepth index: 14\n",
      "\u001b[36m\u001b[1m[ \u001b[22m\u001b[39m\u001b[36m\u001b[1mInfo: \u001b[22m\u001b[39mFound 481 non missing values for depth 125.0\n",
      "\u001b[36m\u001b[1m[ \u001b[22m\u001b[39m\u001b[36m\u001b[1mInfo: \u001b[22m\u001b[39mDepth index: 15\n",
      "\u001b[36m\u001b[1m[ \u001b[22m\u001b[39m\u001b[36m\u001b[1mInfo: \u001b[22m\u001b[39mFound 268 non missing values for depth 150.0\n",
      "\u001b[36m\u001b[1m[ \u001b[22m\u001b[39m\u001b[36m\u001b[1mInfo: \u001b[22m\u001b[39mDepth index: 16\n",
      "\u001b[36m\u001b[1m[ \u001b[22m\u001b[39m\u001b[36m\u001b[1mInfo: \u001b[22m\u001b[39mFound 160 non missing values for depth 175.0\n",
      "\u001b[36m\u001b[1m[ \u001b[22m\u001b[39m\u001b[36m\u001b[1mInfo: \u001b[22m\u001b[39mDepth index: 17\n",
      "\u001b[36m\u001b[1m[ \u001b[22m\u001b[39m\u001b[36m\u001b[1mInfo: \u001b[22m\u001b[39mFound 114 non missing values for depth 200.0\n",
      "\u001b[36m\u001b[1m[ \u001b[22m\u001b[39m\u001b[36m\u001b[1mInfo: \u001b[22m\u001b[39mDepth index: 18\n",
      "\u001b[36m\u001b[1m[ \u001b[22m\u001b[39m\u001b[36m\u001b[1mInfo: \u001b[22m\u001b[39mFound 90 non missing values for depth 225.0\n",
      "\u001b[36m\u001b[1m[ \u001b[22m\u001b[39m\u001b[36m\u001b[1mInfo: \u001b[22m\u001b[39mDepth index: 19\n",
      "\u001b[36m\u001b[1m[ \u001b[22m\u001b[39m\u001b[36m\u001b[1mInfo: \u001b[22m\u001b[39mFound 75 non missing values for depth 250.0\n",
      "\u001b[36m\u001b[1m[ \u001b[22m\u001b[39m\u001b[36m\u001b[1mInfo: \u001b[22m\u001b[39mDepth index: 20\n",
      "\u001b[36m\u001b[1m[ \u001b[22m\u001b[39m\u001b[36m\u001b[1mInfo: \u001b[22m\u001b[39mFound 70 non missing values for depth 275.0\n",
      "\u001b[36m\u001b[1m[ \u001b[22m\u001b[39m\u001b[36m\u001b[1mInfo: \u001b[22m\u001b[39mDepth index: 21\n",
      "\u001b[36m\u001b[1m[ \u001b[22m\u001b[39m\u001b[36m\u001b[1mInfo: \u001b[22m\u001b[39mFound 67 non missing values for depth 300.0\n",
      "\u001b[36m\u001b[1m[ \u001b[22m\u001b[39m\u001b[36m\u001b[1mInfo: \u001b[22m\u001b[39mWritten new variable deepest depth\n",
      "\u001b[36m\u001b[1m[ \u001b[22m\u001b[39m\u001b[36m\u001b[1mInfo: \u001b[22m\u001b[39mkeeping: 23158\n",
      "\u001b[36m\u001b[1m[ \u001b[22m\u001b[39m\u001b[36m\u001b[1mInfo: \u001b[22m\u001b[39mSlicing lon[(1:216,)]\n",
      "\u001b[36m\u001b[1m[ \u001b[22m\u001b[39m\u001b[36m\u001b[1mInfo: \u001b[22m\u001b[39mSlicing lat[(1:130,)]\n",
      "\u001b[36m\u001b[1m[ \u001b[22m\u001b[39m\u001b[36m\u001b[1mInfo: \u001b[22m\u001b[39mSlicing depth[(Colon(),)]\n",
      "\u001b[36m\u001b[1m[ \u001b[22m\u001b[39m\u001b[36m\u001b[1mInfo: \u001b[22m\u001b[39mSlicing time[(Colon(),)]\n",
      "\u001b[36m\u001b[1m[ \u001b[22m\u001b[39m\u001b[36m\u001b[1mInfo: \u001b[22m\u001b[39mSlicing climatology_bounds[(Colon(), Colon())]\n",
      "\u001b[36m\u001b[1m[ \u001b[22m\u001b[39m\u001b[36m\u001b[1mInfo: \u001b[22m\u001b[39mSlicing Water body dissolved oxygen concentration[(1:216, 1:130, Colon(), Colon())]\n",
      "\u001b[36m\u001b[1m[ \u001b[22m\u001b[39m\u001b[36m\u001b[1mInfo: \u001b[22m\u001b[39mSlicing Water body dissolved oxygen concentration_L1[(1:216, 1:130, Colon(), Colon())]\n",
      "\u001b[36m\u001b[1m[ \u001b[22m\u001b[39m\u001b[36m\u001b[1mInfo: \u001b[22m\u001b[39mSlicing Water body dissolved oxygen concentration_L2[(1:216, 1:130, Colon(), Colon())]\n",
      "\u001b[36m\u001b[1m[ \u001b[22m\u001b[39m\u001b[36m\u001b[1mInfo: \u001b[22m\u001b[39mSlicing Water body dissolved oxygen concentration_relerr[(1:216, 1:130, Colon(), Colon())]\n",
      "\u001b[36m\u001b[1m[ \u001b[22m\u001b[39m\u001b[36m\u001b[1mInfo: \u001b[22m\u001b[39mSlicing obslon[(Colon(),)]\n",
      "\u001b[36m\u001b[1m[ \u001b[22m\u001b[39m\u001b[36m\u001b[1mInfo: \u001b[22m\u001b[39mSlicing obslat[(Colon(),)]\n",
      "\u001b[36m\u001b[1m[ \u001b[22m\u001b[39m\u001b[36m\u001b[1mInfo: \u001b[22m\u001b[39mSlicing obstime[(Colon(),)]\n",
      "\u001b[36m\u001b[1m[ \u001b[22m\u001b[39m\u001b[36m\u001b[1mInfo: \u001b[22m\u001b[39mSlicing obsdepth[(Colon(),)]\n",
      "\u001b[36m\u001b[1m[ \u001b[22m\u001b[39m\u001b[36m\u001b[1mInfo: \u001b[22m\u001b[39mSlicing obsid[(Colon(), Colon())]\n",
      "\u001b[36m\u001b[1m[ \u001b[22m\u001b[39m\u001b[36m\u001b[1mInfo: \u001b[22m\u001b[39mSlicing Water body dissolved oxygen concentration_deepest[(1:216, 1:130, Colon())]\n",
      "\u001b[36m\u001b[1m[ \u001b[22m\u001b[39m\u001b[36m\u001b[1mInfo: \u001b[22m\u001b[39mSlicing Water body dissolved oxygen concentration_deepest_L1[(1:216, 1:130, Colon())]\n",
      "\u001b[36m\u001b[1m[ \u001b[22m\u001b[39m\u001b[36m\u001b[1mInfo: \u001b[22m\u001b[39mSlicing Water body dissolved oxygen concentration_deepest_L2[(1:216, 1:130, Colon())]\n",
      "\u001b[36m\u001b[1m[ \u001b[22m\u001b[39m\u001b[36m\u001b[1mInfo: \u001b[22m\u001b[39mSlicing Water body dissolved oxygen concentration_deepest_depth[(1:216, 1:130)]\n",
      "\u001b[36m\u001b[1m[ \u001b[22m\u001b[39m\u001b[36m\u001b[1mInfo: \u001b[22m\u001b[39mstarting DIVAnd computations for Spring\n",
      "\u001b[36m\u001b[1m[ \u001b[22m\u001b[39m\u001b[36m\u001b[1mInfo: \u001b[22m\u001b[39m2023-02-19T00:36:51.304\n",
      "\u001b[36m\u001b[1m[ \u001b[22m\u001b[39m\u001b[36m\u001b[1mInfo: \u001b[22m\u001b[39mWill write results in ./resultat/output/6y_back6y_3_xy/O2/Water_body_dissolved_oxygen_concentration_Spring_0.4Danl.nc\n",
      "\u001b[36m\u001b[1m[ \u001b[22m\u001b[39m\u001b[36m\u001b[1mInfo: \u001b[22m\u001b[39mCreating netCDF file ./resultat/output/6y_back6y_3_xy/O2/Water_body_dissolved_oxygen_concentration_Spring_0.4Danl.nc\n",
      "\u001b[36m\u001b[1m[ \u001b[22m\u001b[39m\u001b[36m\u001b[1mInfo: \u001b[22m\u001b[39mTime step 1 / 57\n",
      "\u001b[36m\u001b[1m[ \u001b[22m\u001b[39m\u001b[36m\u001b[1mInfo: \u001b[22m\u001b[39manalysis time index 1 uses the backgrond time index 42\n",
      "\u001b[36m\u001b[1m[ \u001b[22m\u001b[39m\u001b[36m\u001b[1mInfo: \u001b[22m\u001b[39mscaled correlation length (min,max) in dimension 1: (26002.33511528906, 77999.93927774779)\n",
      "\u001b[36m\u001b[1m[ \u001b[22m\u001b[39m\u001b[36m\u001b[1mInfo: \u001b[22m\u001b[39mscaled correlation length (min,max) in dimension 2: (26002.33511528906, 77999.93927774779)\n",
      "\u001b[36m\u001b[1m[ \u001b[22m\u001b[39m\u001b[36m\u001b[1mInfo: \u001b[22m\u001b[39mscaled correlation length (min,max) in dimension 3: (10.0, 50.0)\n",
      "\u001b[33m\u001b[1m┌ \u001b[22m\u001b[39m\u001b[33m\u001b[1mWarning: \u001b[22m\u001b[39mresolution (7.5) is too coarse for correlation length 10.0 in dimension 3 at indices CartesianIndex(47, 11, 6) (skipping further tests). It is recommended that the resolution is at least 2 times finer than the correlation length.\n",
      "\u001b[33m\u001b[1m└ \u001b[22m\u001b[39m\u001b[90m@ DIVAnd C:\\Users\\a001819\\.julia\\packages\\DIVAnd\\MV3j9\\src\\utils.jl:18\u001b[39m\n",
      "\u001b[36m\u001b[1m[ \u001b[22m\u001b[39m\u001b[36m\u001b[1mInfo: \u001b[22m\u001b[39mnumber of windows: 1\n"
     ]
    },
    {
     "name": "stdout",
     "output_type": "stream",
     "text": [
      "timeindex = 1\n"
     ]
    },
    {
     "name": "stderr",
     "output_type": "stream",
     "text": [
      "\u001b[36m\u001b[1m[ \u001b[22m\u001b[39m\u001b[36m\u001b[1mInfo: \u001b[22m\u001b[39mTime step 2 / 57\n",
      "\u001b[36m\u001b[1m[ \u001b[22m\u001b[39m\u001b[36m\u001b[1mInfo: \u001b[22m\u001b[39manalysis time index 2 uses the backgrond time index 46\n",
      "\u001b[36m\u001b[1m[ \u001b[22m\u001b[39m\u001b[36m\u001b[1mInfo: \u001b[22m\u001b[39mscaled correlation length (min,max) in dimension 1: (26002.33511528906, 77999.93927774779)\n",
      "\u001b[36m\u001b[1m[ \u001b[22m\u001b[39m\u001b[36m\u001b[1mInfo: \u001b[22m\u001b[39mscaled correlation length (min,max) in dimension 2: (26002.33511528906, 77999.93927774779)\n",
      "\u001b[36m\u001b[1m[ \u001b[22m\u001b[39m\u001b[36m\u001b[1mInfo: \u001b[22m\u001b[39mscaled correlation length (min,max) in dimension 3: (10.0, 50.0)\n",
      "\u001b[33m\u001b[1m┌ \u001b[22m\u001b[39m\u001b[33m\u001b[1mWarning: \u001b[22m\u001b[39mresolution (7.5) is too coarse for correlation length 10.0 in dimension 3 at indices CartesianIndex(47, 11, 6) (skipping further tests). It is recommended that the resolution is at least 2 times finer than the correlation length.\n",
      "\u001b[33m\u001b[1m└ \u001b[22m\u001b[39m\u001b[90m@ DIVAnd C:\\Users\\a001819\\.julia\\packages\\DIVAnd\\MV3j9\\src\\utils.jl:18\u001b[39m\n",
      "\u001b[36m\u001b[1m[ \u001b[22m\u001b[39m\u001b[36m\u001b[1mInfo: \u001b[22m\u001b[39mnumber of windows: 1\n"
     ]
    },
    {
     "name": "stdout",
     "output_type": "stream",
     "text": [
      "timeindex = 2\n"
     ]
    },
    {
     "name": "stderr",
     "output_type": "stream",
     "text": [
      "\u001b[36m\u001b[1m[ \u001b[22m\u001b[39m\u001b[36m\u001b[1mInfo: \u001b[22m\u001b[39mTime step 3 / 57\n",
      "\u001b[36m\u001b[1m[ \u001b[22m\u001b[39m\u001b[36m\u001b[1mInfo: \u001b[22m\u001b[39manalysis time index 3 uses the backgrond time index 50\n",
      "\u001b[36m\u001b[1m[ \u001b[22m\u001b[39m\u001b[36m\u001b[1mInfo: \u001b[22m\u001b[39mscaled correlation length (min,max) in dimension 1: (26002.33511528906, 77999.93927774779)\n",
      "\u001b[36m\u001b[1m[ \u001b[22m\u001b[39m\u001b[36m\u001b[1mInfo: \u001b[22m\u001b[39mscaled correlation length (min,max) in dimension 2: (26002.33511528906, 77999.93927774779)\n",
      "\u001b[36m\u001b[1m[ \u001b[22m\u001b[39m\u001b[36m\u001b[1mInfo: \u001b[22m\u001b[39mscaled correlation length (min,max) in dimension 3: (10.0, 50.0)\n",
      "\u001b[33m\u001b[1m┌ \u001b[22m\u001b[39m\u001b[33m\u001b[1mWarning: \u001b[22m\u001b[39mresolution (7.5) is too coarse for correlation length 10.0 in dimension 3 at indices CartesianIndex(47, 11, 6) (skipping further tests). It is recommended that the resolution is at least 2 times finer than the correlation length.\n",
      "\u001b[33m\u001b[1m└ \u001b[22m\u001b[39m\u001b[90m@ DIVAnd C:\\Users\\a001819\\.julia\\packages\\DIVAnd\\MV3j9\\src\\utils.jl:18\u001b[39m\n",
      "\u001b[36m\u001b[1m[ \u001b[22m\u001b[39m\u001b[36m\u001b[1mInfo: \u001b[22m\u001b[39mnumber of windows: 1\n"
     ]
    },
    {
     "name": "stdout",
     "output_type": "stream",
     "text": [
      "timeindex = 3\n"
     ]
    },
    {
     "name": "stderr",
     "output_type": "stream",
     "text": [
      "\u001b[36m\u001b[1m[ \u001b[22m\u001b[39m\u001b[36m\u001b[1mInfo: \u001b[22m\u001b[39mTime step 4 / 57\n",
      "\u001b[36m\u001b[1m[ \u001b[22m\u001b[39m\u001b[36m\u001b[1mInfo: \u001b[22m\u001b[39manalysis time index 4 uses the backgrond time index 54\n",
      "\u001b[36m\u001b[1m[ \u001b[22m\u001b[39m\u001b[36m\u001b[1mInfo: \u001b[22m\u001b[39mscaled correlation length (min,max) in dimension 1: (26002.33511528906, 77999.93927774779)\n",
      "\u001b[36m\u001b[1m[ \u001b[22m\u001b[39m\u001b[36m\u001b[1mInfo: \u001b[22m\u001b[39mscaled correlation length (min,max) in dimension 2: (26002.33511528906, 77999.93927774779)\n",
      "\u001b[36m\u001b[1m[ \u001b[22m\u001b[39m\u001b[36m\u001b[1mInfo: \u001b[22m\u001b[39mscaled correlation length (min,max) in dimension 3: (10.0, 50.0)\n",
      "\u001b[33m\u001b[1m┌ \u001b[22m\u001b[39m\u001b[33m\u001b[1mWarning: \u001b[22m\u001b[39mresolution (7.5) is too coarse for correlation length 10.0 in dimension 3 at indices CartesianIndex(47, 11, 6) (skipping further tests). It is recommended that the resolution is at least 2 times finer than the correlation length.\n",
      "\u001b[33m\u001b[1m└ \u001b[22m\u001b[39m\u001b[90m@ DIVAnd C:\\Users\\a001819\\.julia\\packages\\DIVAnd\\MV3j9\\src\\utils.jl:18\u001b[39m\n",
      "\u001b[36m\u001b[1m[ \u001b[22m\u001b[39m\u001b[36m\u001b[1mInfo: \u001b[22m\u001b[39mnumber of windows: 1\n"
     ]
    },
    {
     "name": "stdout",
     "output_type": "stream",
     "text": [
      "timeindex = 4\n"
     ]
    },
    {
     "name": "stderr",
     "output_type": "stream",
     "text": [
      "\u001b[36m\u001b[1m[ \u001b[22m\u001b[39m\u001b[36m\u001b[1mInfo: \u001b[22m\u001b[39mTime step 5 / 57\n",
      "\u001b[36m\u001b[1m[ \u001b[22m\u001b[39m\u001b[36m\u001b[1mInfo: \u001b[22m\u001b[39manalysis time index 5 uses the backgrond time index 58\n",
      "\u001b[36m\u001b[1m[ \u001b[22m\u001b[39m\u001b[36m\u001b[1mInfo: \u001b[22m\u001b[39mscaled correlation length (min,max) in dimension 1: (26002.33511528906, 77999.93927774779)\n",
      "\u001b[36m\u001b[1m[ \u001b[22m\u001b[39m\u001b[36m\u001b[1mInfo: \u001b[22m\u001b[39mscaled correlation length (min,max) in dimension 2: (26002.33511528906, 77999.93927774779)\n",
      "\u001b[36m\u001b[1m[ \u001b[22m\u001b[39m\u001b[36m\u001b[1mInfo: \u001b[22m\u001b[39mscaled correlation length (min,max) in dimension 3: (10.0, 50.0)\n",
      "\u001b[33m\u001b[1m┌ \u001b[22m\u001b[39m\u001b[33m\u001b[1mWarning: \u001b[22m\u001b[39mresolution (7.5) is too coarse for correlation length 10.0 in dimension 3 at indices CartesianIndex(47, 11, 6) (skipping further tests). It is recommended that the resolution is at least 2 times finer than the correlation length.\n",
      "\u001b[33m\u001b[1m└ \u001b[22m\u001b[39m\u001b[90m@ DIVAnd C:\\Users\\a001819\\.julia\\packages\\DIVAnd\\MV3j9\\src\\utils.jl:18\u001b[39m\n",
      "\u001b[36m\u001b[1m[ \u001b[22m\u001b[39m\u001b[36m\u001b[1mInfo: \u001b[22m\u001b[39mnumber of windows: 1\n"
     ]
    },
    {
     "name": "stdout",
     "output_type": "stream",
     "text": [
      "timeindex = 5\n"
     ]
    },
    {
     "name": "stderr",
     "output_type": "stream",
     "text": [
      "\u001b[36m\u001b[1m[ \u001b[22m\u001b[39m\u001b[36m\u001b[1mInfo: \u001b[22m\u001b[39mTime step 6 / 57\n",
      "\u001b[36m\u001b[1m[ \u001b[22m\u001b[39m\u001b[36m\u001b[1mInfo: \u001b[22m\u001b[39manalysis time index 6 uses the backgrond time index 62\n",
      "\u001b[36m\u001b[1m[ \u001b[22m\u001b[39m\u001b[36m\u001b[1mInfo: \u001b[22m\u001b[39mscaled correlation length (min,max) in dimension 1: (26002.33511528906, 77999.93927774779)\n",
      "\u001b[36m\u001b[1m[ \u001b[22m\u001b[39m\u001b[36m\u001b[1mInfo: \u001b[22m\u001b[39mscaled correlation length (min,max) in dimension 2: (26002.33511528906, 77999.93927774779)\n",
      "\u001b[36m\u001b[1m[ \u001b[22m\u001b[39m\u001b[36m\u001b[1mInfo: \u001b[22m\u001b[39mscaled correlation length (min,max) in dimension 3: (10.0, 50.0)\n",
      "\u001b[33m\u001b[1m┌ \u001b[22m\u001b[39m\u001b[33m\u001b[1mWarning: \u001b[22m\u001b[39mresolution (7.5) is too coarse for correlation length 10.0 in dimension 3 at indices CartesianIndex(47, 11, 6) (skipping further tests). It is recommended that the resolution is at least 2 times finer than the correlation length.\n",
      "\u001b[33m\u001b[1m└ \u001b[22m\u001b[39m\u001b[90m@ DIVAnd C:\\Users\\a001819\\.julia\\packages\\DIVAnd\\MV3j9\\src\\utils.jl:18\u001b[39m\n",
      "\u001b[36m\u001b[1m[ \u001b[22m\u001b[39m\u001b[36m\u001b[1mInfo: \u001b[22m\u001b[39mnumber of windows: 1\n"
     ]
    },
    {
     "name": "stdout",
     "output_type": "stream",
     "text": [
      "timeindex = 6\n"
     ]
    },
    {
     "name": "stderr",
     "output_type": "stream",
     "text": [
      "\u001b[36m\u001b[1m[ \u001b[22m\u001b[39m\u001b[36m\u001b[1mInfo: \u001b[22m\u001b[39mTime step 7 / 57\n",
      "\u001b[36m\u001b[1m[ \u001b[22m\u001b[39m\u001b[36m\u001b[1mInfo: \u001b[22m\u001b[39manalysis time index 7 uses the backgrond time index 66\n",
      "\u001b[36m\u001b[1m[ \u001b[22m\u001b[39m\u001b[36m\u001b[1mInfo: \u001b[22m\u001b[39mscaled correlation length (min,max) in dimension 1: (26002.33511528906, 77999.93927774779)\n",
      "\u001b[36m\u001b[1m[ \u001b[22m\u001b[39m\u001b[36m\u001b[1mInfo: \u001b[22m\u001b[39mscaled correlation length (min,max) in dimension 2: (26002.33511528906, 77999.93927774779)\n",
      "\u001b[36m\u001b[1m[ \u001b[22m\u001b[39m\u001b[36m\u001b[1mInfo: \u001b[22m\u001b[39mscaled correlation length (min,max) in dimension 3: (10.0, 50.0)\n",
      "\u001b[33m\u001b[1m┌ \u001b[22m\u001b[39m\u001b[33m\u001b[1mWarning: \u001b[22m\u001b[39mresolution (7.5) is too coarse for correlation length 10.0 in dimension 3 at indices CartesianIndex(47, 11, 6) (skipping further tests). It is recommended that the resolution is at least 2 times finer than the correlation length.\n",
      "\u001b[33m\u001b[1m└ \u001b[22m\u001b[39m\u001b[90m@ DIVAnd C:\\Users\\a001819\\.julia\\packages\\DIVAnd\\MV3j9\\src\\utils.jl:18\u001b[39m\n",
      "\u001b[36m\u001b[1m[ \u001b[22m\u001b[39m\u001b[36m\u001b[1mInfo: \u001b[22m\u001b[39mnumber of windows: 1\n"
     ]
    },
    {
     "name": "stdout",
     "output_type": "stream",
     "text": [
      "timeindex = 7\n"
     ]
    },
    {
     "name": "stderr",
     "output_type": "stream",
     "text": [
      "\u001b[36m\u001b[1m[ \u001b[22m\u001b[39m\u001b[36m\u001b[1mInfo: \u001b[22m\u001b[39mTime step 8 / 57\n",
      "\u001b[36m\u001b[1m[ \u001b[22m\u001b[39m\u001b[36m\u001b[1mInfo: \u001b[22m\u001b[39manalysis time index 8 uses the backgrond time index 70\n",
      "\u001b[36m\u001b[1m[ \u001b[22m\u001b[39m\u001b[36m\u001b[1mInfo: \u001b[22m\u001b[39mscaled correlation length (min,max) in dimension 1: (26002.33511528906, 77999.93927774779)\n",
      "\u001b[36m\u001b[1m[ \u001b[22m\u001b[39m\u001b[36m\u001b[1mInfo: \u001b[22m\u001b[39mscaled correlation length (min,max) in dimension 2: (26002.33511528906, 77999.93927774779)\n",
      "\u001b[36m\u001b[1m[ \u001b[22m\u001b[39m\u001b[36m\u001b[1mInfo: \u001b[22m\u001b[39mscaled correlation length (min,max) in dimension 3: (10.0, 50.0)\n",
      "\u001b[33m\u001b[1m┌ \u001b[22m\u001b[39m\u001b[33m\u001b[1mWarning: \u001b[22m\u001b[39mresolution (7.5) is too coarse for correlation length 10.0 in dimension 3 at indices CartesianIndex(47, 11, 6) (skipping further tests). It is recommended that the resolution is at least 2 times finer than the correlation length.\n",
      "\u001b[33m\u001b[1m└ \u001b[22m\u001b[39m\u001b[90m@ DIVAnd C:\\Users\\a001819\\.julia\\packages\\DIVAnd\\MV3j9\\src\\utils.jl:18\u001b[39m\n",
      "\u001b[36m\u001b[1m[ \u001b[22m\u001b[39m\u001b[36m\u001b[1mInfo: \u001b[22m\u001b[39mnumber of windows: 1\n"
     ]
    },
    {
     "name": "stdout",
     "output_type": "stream",
     "text": [
      "timeindex = 8\n"
     ]
    },
    {
     "name": "stderr",
     "output_type": "stream",
     "text": [
      "\u001b[36m\u001b[1m[ \u001b[22m\u001b[39m\u001b[36m\u001b[1mInfo: \u001b[22m\u001b[39mTime step 9 / 57\n",
      "\u001b[36m\u001b[1m[ \u001b[22m\u001b[39m\u001b[36m\u001b[1mInfo: \u001b[22m\u001b[39manalysis time index 9 uses the backgrond time index 74\n",
      "\u001b[36m\u001b[1m[ \u001b[22m\u001b[39m\u001b[36m\u001b[1mInfo: \u001b[22m\u001b[39mscaled correlation length (min,max) in dimension 1: (26002.33511528906, 77999.93927774779)\n",
      "\u001b[36m\u001b[1m[ \u001b[22m\u001b[39m\u001b[36m\u001b[1mInfo: \u001b[22m\u001b[39mscaled correlation length (min,max) in dimension 2: (26002.33511528906, 77999.93927774779)\n",
      "\u001b[36m\u001b[1m[ \u001b[22m\u001b[39m\u001b[36m\u001b[1mInfo: \u001b[22m\u001b[39mscaled correlation length (min,max) in dimension 3: (10.0, 50.0)\n",
      "\u001b[33m\u001b[1m┌ \u001b[22m\u001b[39m\u001b[33m\u001b[1mWarning: \u001b[22m\u001b[39mresolution (7.5) is too coarse for correlation length 10.0 in dimension 3 at indices CartesianIndex(47, 11, 6) (skipping further tests). It is recommended that the resolution is at least 2 times finer than the correlation length.\n",
      "\u001b[33m\u001b[1m└ \u001b[22m\u001b[39m\u001b[90m@ DIVAnd C:\\Users\\a001819\\.julia\\packages\\DIVAnd\\MV3j9\\src\\utils.jl:18\u001b[39m\n",
      "\u001b[36m\u001b[1m[ \u001b[22m\u001b[39m\u001b[36m\u001b[1mInfo: \u001b[22m\u001b[39mnumber of windows: 1\n"
     ]
    },
    {
     "name": "stdout",
     "output_type": "stream",
     "text": [
      "timeindex = 9\n"
     ]
    },
    {
     "name": "stderr",
     "output_type": "stream",
     "text": [
      "\u001b[36m\u001b[1m[ \u001b[22m\u001b[39m\u001b[36m\u001b[1mInfo: \u001b[22m\u001b[39mTime step 10 / 57\n",
      "\u001b[36m\u001b[1m[ \u001b[22m\u001b[39m\u001b[36m\u001b[1mInfo: \u001b[22m\u001b[39manalysis time index 10 uses the backgrond time index 78\n",
      "\u001b[36m\u001b[1m[ \u001b[22m\u001b[39m\u001b[36m\u001b[1mInfo: \u001b[22m\u001b[39mscaled correlation length (min,max) in dimension 1: (26002.33511528906, 77999.93927774779)\n",
      "\u001b[36m\u001b[1m[ \u001b[22m\u001b[39m\u001b[36m\u001b[1mInfo: \u001b[22m\u001b[39mscaled correlation length (min,max) in dimension 2: (26002.33511528906, 77999.93927774779)\n",
      "\u001b[36m\u001b[1m[ \u001b[22m\u001b[39m\u001b[36m\u001b[1mInfo: \u001b[22m\u001b[39mscaled correlation length (min,max) in dimension 3: (10.0, 50.0)\n",
      "\u001b[33m\u001b[1m┌ \u001b[22m\u001b[39m\u001b[33m\u001b[1mWarning: \u001b[22m\u001b[39mresolution (7.5) is too coarse for correlation length 10.0 in dimension 3 at indices CartesianIndex(47, 11, 6) (skipping further tests). It is recommended that the resolution is at least 2 times finer than the correlation length.\n",
      "\u001b[33m\u001b[1m└ \u001b[22m\u001b[39m\u001b[90m@ DIVAnd C:\\Users\\a001819\\.julia\\packages\\DIVAnd\\MV3j9\\src\\utils.jl:18\u001b[39m\n",
      "\u001b[36m\u001b[1m[ \u001b[22m\u001b[39m\u001b[36m\u001b[1mInfo: \u001b[22m\u001b[39mnumber of windows: 1\n"
     ]
    },
    {
     "name": "stdout",
     "output_type": "stream",
     "text": [
      "timeindex = 10\n"
     ]
    },
    {
     "name": "stderr",
     "output_type": "stream",
     "text": [
      "\u001b[36m\u001b[1m[ \u001b[22m\u001b[39m\u001b[36m\u001b[1mInfo: \u001b[22m\u001b[39mTime step 11 / 57\n",
      "\u001b[36m\u001b[1m[ \u001b[22m\u001b[39m\u001b[36m\u001b[1mInfo: \u001b[22m\u001b[39manalysis time index 11 uses the backgrond time index 82\n",
      "\u001b[36m\u001b[1m[ \u001b[22m\u001b[39m\u001b[36m\u001b[1mInfo: \u001b[22m\u001b[39mscaled correlation length (min,max) in dimension 1: (26002.33511528906, 77999.93927774779)\n",
      "\u001b[36m\u001b[1m[ \u001b[22m\u001b[39m\u001b[36m\u001b[1mInfo: \u001b[22m\u001b[39mscaled correlation length (min,max) in dimension 2: (26002.33511528906, 77999.93927774779)\n",
      "\u001b[36m\u001b[1m[ \u001b[22m\u001b[39m\u001b[36m\u001b[1mInfo: \u001b[22m\u001b[39mscaled correlation length (min,max) in dimension 3: (10.0, 50.0)\n",
      "\u001b[33m\u001b[1m┌ \u001b[22m\u001b[39m\u001b[33m\u001b[1mWarning: \u001b[22m\u001b[39mresolution (7.5) is too coarse for correlation length 10.0 in dimension 3 at indices CartesianIndex(47, 11, 6) (skipping further tests). It is recommended that the resolution is at least 2 times finer than the correlation length.\n",
      "\u001b[33m\u001b[1m└ \u001b[22m\u001b[39m\u001b[90m@ DIVAnd C:\\Users\\a001819\\.julia\\packages\\DIVAnd\\MV3j9\\src\\utils.jl:18\u001b[39m\n",
      "\u001b[36m\u001b[1m[ \u001b[22m\u001b[39m\u001b[36m\u001b[1mInfo: \u001b[22m\u001b[39mnumber of windows: 1\n"
     ]
    },
    {
     "name": "stdout",
     "output_type": "stream",
     "text": [
      "timeindex = 11\n"
     ]
    },
    {
     "name": "stderr",
     "output_type": "stream",
     "text": [
      "\u001b[36m\u001b[1m[ \u001b[22m\u001b[39m\u001b[36m\u001b[1mInfo: \u001b[22m\u001b[39mTime step 12 / 57\n",
      "\u001b[36m\u001b[1m[ \u001b[22m\u001b[39m\u001b[36m\u001b[1mInfo: \u001b[22m\u001b[39manalysis time index 12 uses the backgrond time index 86\n",
      "\u001b[36m\u001b[1m[ \u001b[22m\u001b[39m\u001b[36m\u001b[1mInfo: \u001b[22m\u001b[39mscaled correlation length (min,max) in dimension 1: (26002.33511528906, 77999.93927774779)\n",
      "\u001b[36m\u001b[1m[ \u001b[22m\u001b[39m\u001b[36m\u001b[1mInfo: \u001b[22m\u001b[39mscaled correlation length (min,max) in dimension 2: (26002.33511528906, 77999.93927774779)\n",
      "\u001b[36m\u001b[1m[ \u001b[22m\u001b[39m\u001b[36m\u001b[1mInfo: \u001b[22m\u001b[39mscaled correlation length (min,max) in dimension 3: (10.0, 50.0)\n",
      "\u001b[33m\u001b[1m┌ \u001b[22m\u001b[39m\u001b[33m\u001b[1mWarning: \u001b[22m\u001b[39mresolution (7.5) is too coarse for correlation length 10.0 in dimension 3 at indices CartesianIndex(47, 11, 6) (skipping further tests). It is recommended that the resolution is at least 2 times finer than the correlation length.\n",
      "\u001b[33m\u001b[1m└ \u001b[22m\u001b[39m\u001b[90m@ DIVAnd C:\\Users\\a001819\\.julia\\packages\\DIVAnd\\MV3j9\\src\\utils.jl:18\u001b[39m\n",
      "\u001b[36m\u001b[1m[ \u001b[22m\u001b[39m\u001b[36m\u001b[1mInfo: \u001b[22m\u001b[39mnumber of windows: 1\n"
     ]
    },
    {
     "name": "stdout",
     "output_type": "stream",
     "text": [
      "timeindex = 12\n"
     ]
    },
    {
     "name": "stderr",
     "output_type": "stream",
     "text": [
      "\u001b[36m\u001b[1m[ \u001b[22m\u001b[39m\u001b[36m\u001b[1mInfo: \u001b[22m\u001b[39mTime step 13 / 57\n",
      "\u001b[36m\u001b[1m[ \u001b[22m\u001b[39m\u001b[36m\u001b[1mInfo: \u001b[22m\u001b[39manalysis time index 13 uses the backgrond time index 90\n",
      "\u001b[36m\u001b[1m[ \u001b[22m\u001b[39m\u001b[36m\u001b[1mInfo: \u001b[22m\u001b[39mscaled correlation length (min,max) in dimension 1: (26002.33511528906, 77999.93927774779)\n",
      "\u001b[36m\u001b[1m[ \u001b[22m\u001b[39m\u001b[36m\u001b[1mInfo: \u001b[22m\u001b[39mscaled correlation length (min,max) in dimension 2: (26002.33511528906, 77999.93927774779)\n",
      "\u001b[36m\u001b[1m[ \u001b[22m\u001b[39m\u001b[36m\u001b[1mInfo: \u001b[22m\u001b[39mscaled correlation length (min,max) in dimension 3: (10.0, 50.0)\n",
      "\u001b[33m\u001b[1m┌ \u001b[22m\u001b[39m\u001b[33m\u001b[1mWarning: \u001b[22m\u001b[39mresolution (7.5) is too coarse for correlation length 10.0 in dimension 3 at indices CartesianIndex(47, 11, 6) (skipping further tests). It is recommended that the resolution is at least 2 times finer than the correlation length.\n",
      "\u001b[33m\u001b[1m└ \u001b[22m\u001b[39m\u001b[90m@ DIVAnd C:\\Users\\a001819\\.julia\\packages\\DIVAnd\\MV3j9\\src\\utils.jl:18\u001b[39m\n",
      "\u001b[36m\u001b[1m[ \u001b[22m\u001b[39m\u001b[36m\u001b[1mInfo: \u001b[22m\u001b[39mnumber of windows: 1\n"
     ]
    },
    {
     "name": "stdout",
     "output_type": "stream",
     "text": [
      "timeindex = 13\n"
     ]
    },
    {
     "name": "stderr",
     "output_type": "stream",
     "text": [
      "\u001b[36m\u001b[1m[ \u001b[22m\u001b[39m\u001b[36m\u001b[1mInfo: \u001b[22m\u001b[39mTime step 14 / 57\n",
      "\u001b[36m\u001b[1m[ \u001b[22m\u001b[39m\u001b[36m\u001b[1mInfo: \u001b[22m\u001b[39manalysis time index 14 uses the backgrond time index 94\n",
      "\u001b[36m\u001b[1m[ \u001b[22m\u001b[39m\u001b[36m\u001b[1mInfo: \u001b[22m\u001b[39mscaled correlation length (min,max) in dimension 1: (26002.33511528906, 77999.93927774779)\n",
      "\u001b[36m\u001b[1m[ \u001b[22m\u001b[39m\u001b[36m\u001b[1mInfo: \u001b[22m\u001b[39mscaled correlation length (min,max) in dimension 2: (26002.33511528906, 77999.93927774779)\n",
      "\u001b[36m\u001b[1m[ \u001b[22m\u001b[39m\u001b[36m\u001b[1mInfo: \u001b[22m\u001b[39mscaled correlation length (min,max) in dimension 3: (10.0, 50.0)\n",
      "\u001b[33m\u001b[1m┌ \u001b[22m\u001b[39m\u001b[33m\u001b[1mWarning: \u001b[22m\u001b[39mresolution (7.5) is too coarse for correlation length 10.0 in dimension 3 at indices CartesianIndex(47, 11, 6) (skipping further tests). It is recommended that the resolution is at least 2 times finer than the correlation length.\n",
      "\u001b[33m\u001b[1m└ \u001b[22m\u001b[39m\u001b[90m@ DIVAnd C:\\Users\\a001819\\.julia\\packages\\DIVAnd\\MV3j9\\src\\utils.jl:18\u001b[39m\n",
      "\u001b[36m\u001b[1m[ \u001b[22m\u001b[39m\u001b[36m\u001b[1mInfo: \u001b[22m\u001b[39mnumber of windows: 1\n"
     ]
    },
    {
     "name": "stdout",
     "output_type": "stream",
     "text": [
      "timeindex = 14\n"
     ]
    },
    {
     "name": "stderr",
     "output_type": "stream",
     "text": [
      "\u001b[36m\u001b[1m[ \u001b[22m\u001b[39m\u001b[36m\u001b[1mInfo: \u001b[22m\u001b[39mTime step 15 / 57\n",
      "\u001b[36m\u001b[1m[ \u001b[22m\u001b[39m\u001b[36m\u001b[1mInfo: \u001b[22m\u001b[39manalysis time index 15 uses the backgrond time index 98\n",
      "\u001b[36m\u001b[1m[ \u001b[22m\u001b[39m\u001b[36m\u001b[1mInfo: \u001b[22m\u001b[39mscaled correlation length (min,max) in dimension 1: (26002.33511528906, 77999.93927774779)\n",
      "\u001b[36m\u001b[1m[ \u001b[22m\u001b[39m\u001b[36m\u001b[1mInfo: \u001b[22m\u001b[39mscaled correlation length (min,max) in dimension 2: (26002.33511528906, 77999.93927774779)\n",
      "\u001b[36m\u001b[1m[ \u001b[22m\u001b[39m\u001b[36m\u001b[1mInfo: \u001b[22m\u001b[39mscaled correlation length (min,max) in dimension 3: (10.0, 50.0)\n",
      "\u001b[33m\u001b[1m┌ \u001b[22m\u001b[39m\u001b[33m\u001b[1mWarning: \u001b[22m\u001b[39mresolution (7.5) is too coarse for correlation length 10.0 in dimension 3 at indices CartesianIndex(47, 11, 6) (skipping further tests). It is recommended that the resolution is at least 2 times finer than the correlation length.\n",
      "\u001b[33m\u001b[1m└ \u001b[22m\u001b[39m\u001b[90m@ DIVAnd C:\\Users\\a001819\\.julia\\packages\\DIVAnd\\MV3j9\\src\\utils.jl:18\u001b[39m\n",
      "\u001b[36m\u001b[1m[ \u001b[22m\u001b[39m\u001b[36m\u001b[1mInfo: \u001b[22m\u001b[39mnumber of windows: 1\n"
     ]
    },
    {
     "name": "stdout",
     "output_type": "stream",
     "text": [
      "timeindex = 15\n"
     ]
    },
    {
     "name": "stderr",
     "output_type": "stream",
     "text": [
      "\u001b[36m\u001b[1m[ \u001b[22m\u001b[39m\u001b[36m\u001b[1mInfo: \u001b[22m\u001b[39mTime step 16 / 57\n",
      "\u001b[36m\u001b[1m[ \u001b[22m\u001b[39m\u001b[36m\u001b[1mInfo: \u001b[22m\u001b[39manalysis time index 16 uses the backgrond time index 102\n",
      "\u001b[36m\u001b[1m[ \u001b[22m\u001b[39m\u001b[36m\u001b[1mInfo: \u001b[22m\u001b[39mscaled correlation length (min,max) in dimension 1: (26002.33511528906, 77999.93927774779)\n",
      "\u001b[36m\u001b[1m[ \u001b[22m\u001b[39m\u001b[36m\u001b[1mInfo: \u001b[22m\u001b[39mscaled correlation length (min,max) in dimension 2: (26002.33511528906, 77999.93927774779)\n",
      "\u001b[36m\u001b[1m[ \u001b[22m\u001b[39m\u001b[36m\u001b[1mInfo: \u001b[22m\u001b[39mscaled correlation length (min,max) in dimension 3: (10.0, 50.0)\n",
      "\u001b[33m\u001b[1m┌ \u001b[22m\u001b[39m\u001b[33m\u001b[1mWarning: \u001b[22m\u001b[39mresolution (7.5) is too coarse for correlation length 10.0 in dimension 3 at indices CartesianIndex(47, 11, 6) (skipping further tests). It is recommended that the resolution is at least 2 times finer than the correlation length.\n",
      "\u001b[33m\u001b[1m└ \u001b[22m\u001b[39m\u001b[90m@ DIVAnd C:\\Users\\a001819\\.julia\\packages\\DIVAnd\\MV3j9\\src\\utils.jl:18\u001b[39m\n",
      "\u001b[36m\u001b[1m[ \u001b[22m\u001b[39m\u001b[36m\u001b[1mInfo: \u001b[22m\u001b[39mnumber of windows: 1\n"
     ]
    },
    {
     "name": "stdout",
     "output_type": "stream",
     "text": [
      "timeindex = 16\n"
     ]
    },
    {
     "name": "stderr",
     "output_type": "stream",
     "text": [
      "\u001b[36m\u001b[1m[ \u001b[22m\u001b[39m\u001b[36m\u001b[1mInfo: \u001b[22m\u001b[39mTime step 17 / 57\n",
      "\u001b[36m\u001b[1m[ \u001b[22m\u001b[39m\u001b[36m\u001b[1mInfo: \u001b[22m\u001b[39manalysis time index 17 uses the backgrond time index 106\n",
      "\u001b[36m\u001b[1m[ \u001b[22m\u001b[39m\u001b[36m\u001b[1mInfo: \u001b[22m\u001b[39mscaled correlation length (min,max) in dimension 1: (26002.33511528906, 77999.93927774779)\n",
      "\u001b[36m\u001b[1m[ \u001b[22m\u001b[39m\u001b[36m\u001b[1mInfo: \u001b[22m\u001b[39mscaled correlation length (min,max) in dimension 2: (26002.33511528906, 77999.93927774779)\n",
      "\u001b[36m\u001b[1m[ \u001b[22m\u001b[39m\u001b[36m\u001b[1mInfo: \u001b[22m\u001b[39mscaled correlation length (min,max) in dimension 3: (10.0, 50.0)\n",
      "\u001b[33m\u001b[1m┌ \u001b[22m\u001b[39m\u001b[33m\u001b[1mWarning: \u001b[22m\u001b[39mresolution (7.5) is too coarse for correlation length 10.0 in dimension 3 at indices CartesianIndex(47, 11, 6) (skipping further tests). It is recommended that the resolution is at least 2 times finer than the correlation length.\n",
      "\u001b[33m\u001b[1m└ \u001b[22m\u001b[39m\u001b[90m@ DIVAnd C:\\Users\\a001819\\.julia\\packages\\DIVAnd\\MV3j9\\src\\utils.jl:18\u001b[39m\n",
      "\u001b[36m\u001b[1m[ \u001b[22m\u001b[39m\u001b[36m\u001b[1mInfo: \u001b[22m\u001b[39mnumber of windows: 1\n"
     ]
    },
    {
     "name": "stdout",
     "output_type": "stream",
     "text": [
      "timeindex = 17\n"
     ]
    },
    {
     "name": "stderr",
     "output_type": "stream",
     "text": [
      "\u001b[36m\u001b[1m[ \u001b[22m\u001b[39m\u001b[36m\u001b[1mInfo: \u001b[22m\u001b[39mTime step 18 / 57\n",
      "\u001b[36m\u001b[1m[ \u001b[22m\u001b[39m\u001b[36m\u001b[1mInfo: \u001b[22m\u001b[39manalysis time index 18 uses the backgrond time index 110\n",
      "\u001b[36m\u001b[1m[ \u001b[22m\u001b[39m\u001b[36m\u001b[1mInfo: \u001b[22m\u001b[39mscaled correlation length (min,max) in dimension 1: (26002.33511528906, 77999.93927774779)\n",
      "\u001b[36m\u001b[1m[ \u001b[22m\u001b[39m\u001b[36m\u001b[1mInfo: \u001b[22m\u001b[39mscaled correlation length (min,max) in dimension 2: (26002.33511528906, 77999.93927774779)\n",
      "\u001b[36m\u001b[1m[ \u001b[22m\u001b[39m\u001b[36m\u001b[1mInfo: \u001b[22m\u001b[39mscaled correlation length (min,max) in dimension 3: (10.0, 50.0)\n",
      "\u001b[33m\u001b[1m┌ \u001b[22m\u001b[39m\u001b[33m\u001b[1mWarning: \u001b[22m\u001b[39mresolution (7.5) is too coarse for correlation length 10.0 in dimension 3 at indices CartesianIndex(47, 11, 6) (skipping further tests). It is recommended that the resolution is at least 2 times finer than the correlation length.\n",
      "\u001b[33m\u001b[1m└ \u001b[22m\u001b[39m\u001b[90m@ DIVAnd C:\\Users\\a001819\\.julia\\packages\\DIVAnd\\MV3j9\\src\\utils.jl:18\u001b[39m\n",
      "\u001b[36m\u001b[1m[ \u001b[22m\u001b[39m\u001b[36m\u001b[1mInfo: \u001b[22m\u001b[39mnumber of windows: 1\n"
     ]
    },
    {
     "name": "stdout",
     "output_type": "stream",
     "text": [
      "timeindex = 18\n"
     ]
    },
    {
     "name": "stderr",
     "output_type": "stream",
     "text": [
      "\u001b[36m\u001b[1m[ \u001b[22m\u001b[39m\u001b[36m\u001b[1mInfo: \u001b[22m\u001b[39mTime step 19 / 57\n",
      "\u001b[36m\u001b[1m[ \u001b[22m\u001b[39m\u001b[36m\u001b[1mInfo: \u001b[22m\u001b[39manalysis time index 19 uses the backgrond time index 114\n",
      "\u001b[36m\u001b[1m[ \u001b[22m\u001b[39m\u001b[36m\u001b[1mInfo: \u001b[22m\u001b[39mscaled correlation length (min,max) in dimension 1: (26002.33511528906, 77999.93927774779)\n",
      "\u001b[36m\u001b[1m[ \u001b[22m\u001b[39m\u001b[36m\u001b[1mInfo: \u001b[22m\u001b[39mscaled correlation length (min,max) in dimension 2: (26002.33511528906, 77999.93927774779)\n",
      "\u001b[36m\u001b[1m[ \u001b[22m\u001b[39m\u001b[36m\u001b[1mInfo: \u001b[22m\u001b[39mscaled correlation length (min,max) in dimension 3: (10.0, 50.0)\n",
      "\u001b[33m\u001b[1m┌ \u001b[22m\u001b[39m\u001b[33m\u001b[1mWarning: \u001b[22m\u001b[39mresolution (7.5) is too coarse for correlation length 10.0 in dimension 3 at indices CartesianIndex(47, 11, 6) (skipping further tests). It is recommended that the resolution is at least 2 times finer than the correlation length.\n",
      "\u001b[33m\u001b[1m└ \u001b[22m\u001b[39m\u001b[90m@ DIVAnd C:\\Users\\a001819\\.julia\\packages\\DIVAnd\\MV3j9\\src\\utils.jl:18\u001b[39m\n",
      "\u001b[36m\u001b[1m[ \u001b[22m\u001b[39m\u001b[36m\u001b[1mInfo: \u001b[22m\u001b[39mnumber of windows: 1\n"
     ]
    },
    {
     "name": "stdout",
     "output_type": "stream",
     "text": [
      "timeindex = 19\n"
     ]
    },
    {
     "name": "stderr",
     "output_type": "stream",
     "text": [
      "\u001b[36m\u001b[1m[ \u001b[22m\u001b[39m\u001b[36m\u001b[1mInfo: \u001b[22m\u001b[39mTime step 20 / 57\n",
      "\u001b[36m\u001b[1m[ \u001b[22m\u001b[39m\u001b[36m\u001b[1mInfo: \u001b[22m\u001b[39manalysis time index 20 uses the backgrond time index 118\n",
      "\u001b[36m\u001b[1m[ \u001b[22m\u001b[39m\u001b[36m\u001b[1mInfo: \u001b[22m\u001b[39mscaled correlation length (min,max) in dimension 1: (26002.33511528906, 77999.93927774779)\n",
      "\u001b[36m\u001b[1m[ \u001b[22m\u001b[39m\u001b[36m\u001b[1mInfo: \u001b[22m\u001b[39mscaled correlation length (min,max) in dimension 2: (26002.33511528906, 77999.93927774779)\n",
      "\u001b[36m\u001b[1m[ \u001b[22m\u001b[39m\u001b[36m\u001b[1mInfo: \u001b[22m\u001b[39mscaled correlation length (min,max) in dimension 3: (10.0, 50.0)\n",
      "\u001b[33m\u001b[1m┌ \u001b[22m\u001b[39m\u001b[33m\u001b[1mWarning: \u001b[22m\u001b[39mresolution (7.5) is too coarse for correlation length 10.0 in dimension 3 at indices CartesianIndex(47, 11, 6) (skipping further tests). It is recommended that the resolution is at least 2 times finer than the correlation length.\n",
      "\u001b[33m\u001b[1m└ \u001b[22m\u001b[39m\u001b[90m@ DIVAnd C:\\Users\\a001819\\.julia\\packages\\DIVAnd\\MV3j9\\src\\utils.jl:18\u001b[39m\n",
      "\u001b[36m\u001b[1m[ \u001b[22m\u001b[39m\u001b[36m\u001b[1mInfo: \u001b[22m\u001b[39mnumber of windows: 1\n"
     ]
    },
    {
     "name": "stdout",
     "output_type": "stream",
     "text": [
      "timeindex = 20\n"
     ]
    },
    {
     "name": "stderr",
     "output_type": "stream",
     "text": [
      "\u001b[36m\u001b[1m[ \u001b[22m\u001b[39m\u001b[36m\u001b[1mInfo: \u001b[22m\u001b[39mTime step 21 / 57\n",
      "\u001b[36m\u001b[1m[ \u001b[22m\u001b[39m\u001b[36m\u001b[1mInfo: \u001b[22m\u001b[39manalysis time index 21 uses the backgrond time index 122\n",
      "\u001b[36m\u001b[1m[ \u001b[22m\u001b[39m\u001b[36m\u001b[1mInfo: \u001b[22m\u001b[39mscaled correlation length (min,max) in dimension 1: (26002.33511528906, 77999.93927774779)\n",
      "\u001b[36m\u001b[1m[ \u001b[22m\u001b[39m\u001b[36m\u001b[1mInfo: \u001b[22m\u001b[39mscaled correlation length (min,max) in dimension 2: (26002.33511528906, 77999.93927774779)\n",
      "\u001b[36m\u001b[1m[ \u001b[22m\u001b[39m\u001b[36m\u001b[1mInfo: \u001b[22m\u001b[39mscaled correlation length (min,max) in dimension 3: (10.0, 50.0)\n",
      "\u001b[33m\u001b[1m┌ \u001b[22m\u001b[39m\u001b[33m\u001b[1mWarning: \u001b[22m\u001b[39mresolution (7.5) is too coarse for correlation length 10.0 in dimension 3 at indices CartesianIndex(47, 11, 6) (skipping further tests). It is recommended that the resolution is at least 2 times finer than the correlation length.\n",
      "\u001b[33m\u001b[1m└ \u001b[22m\u001b[39m\u001b[90m@ DIVAnd C:\\Users\\a001819\\.julia\\packages\\DIVAnd\\MV3j9\\src\\utils.jl:18\u001b[39m\n",
      "\u001b[36m\u001b[1m[ \u001b[22m\u001b[39m\u001b[36m\u001b[1mInfo: \u001b[22m\u001b[39mnumber of windows: 1\n"
     ]
    },
    {
     "name": "stdout",
     "output_type": "stream",
     "text": [
      "timeindex = 21\n"
     ]
    },
    {
     "name": "stderr",
     "output_type": "stream",
     "text": [
      "\u001b[36m\u001b[1m[ \u001b[22m\u001b[39m\u001b[36m\u001b[1mInfo: \u001b[22m\u001b[39mTime step 22 / 57\n",
      "\u001b[36m\u001b[1m[ \u001b[22m\u001b[39m\u001b[36m\u001b[1mInfo: \u001b[22m\u001b[39manalysis time index 22 uses the backgrond time index 126\n",
      "\u001b[36m\u001b[1m[ \u001b[22m\u001b[39m\u001b[36m\u001b[1mInfo: \u001b[22m\u001b[39mscaled correlation length (min,max) in dimension 1: (26002.33511528906, 77999.93927774779)\n",
      "\u001b[36m\u001b[1m[ \u001b[22m\u001b[39m\u001b[36m\u001b[1mInfo: \u001b[22m\u001b[39mscaled correlation length (min,max) in dimension 2: (26002.33511528906, 77999.93927774779)\n",
      "\u001b[36m\u001b[1m[ \u001b[22m\u001b[39m\u001b[36m\u001b[1mInfo: \u001b[22m\u001b[39mscaled correlation length (min,max) in dimension 3: (10.0, 50.0)\n",
      "\u001b[33m\u001b[1m┌ \u001b[22m\u001b[39m\u001b[33m\u001b[1mWarning: \u001b[22m\u001b[39mresolution (7.5) is too coarse for correlation length 10.0 in dimension 3 at indices CartesianIndex(47, 11, 6) (skipping further tests). It is recommended that the resolution is at least 2 times finer than the correlation length.\n",
      "\u001b[33m\u001b[1m└ \u001b[22m\u001b[39m\u001b[90m@ DIVAnd C:\\Users\\a001819\\.julia\\packages\\DIVAnd\\MV3j9\\src\\utils.jl:18\u001b[39m\n",
      "\u001b[36m\u001b[1m[ \u001b[22m\u001b[39m\u001b[36m\u001b[1mInfo: \u001b[22m\u001b[39mnumber of windows: 1\n"
     ]
    },
    {
     "name": "stdout",
     "output_type": "stream",
     "text": [
      "timeindex = 22\n"
     ]
    },
    {
     "name": "stderr",
     "output_type": "stream",
     "text": [
      "\u001b[36m\u001b[1m[ \u001b[22m\u001b[39m\u001b[36m\u001b[1mInfo: \u001b[22m\u001b[39mTime step 23 / 57\n",
      "\u001b[36m\u001b[1m[ \u001b[22m\u001b[39m\u001b[36m\u001b[1mInfo: \u001b[22m\u001b[39manalysis time index 23 uses the backgrond time index 130\n",
      "\u001b[36m\u001b[1m[ \u001b[22m\u001b[39m\u001b[36m\u001b[1mInfo: \u001b[22m\u001b[39mscaled correlation length (min,max) in dimension 1: (26002.33511528906, 77999.93927774779)\n",
      "\u001b[36m\u001b[1m[ \u001b[22m\u001b[39m\u001b[36m\u001b[1mInfo: \u001b[22m\u001b[39mscaled correlation length (min,max) in dimension 2: (26002.33511528906, 77999.93927774779)\n",
      "\u001b[36m\u001b[1m[ \u001b[22m\u001b[39m\u001b[36m\u001b[1mInfo: \u001b[22m\u001b[39mscaled correlation length (min,max) in dimension 3: (10.0, 50.0)\n",
      "\u001b[33m\u001b[1m┌ \u001b[22m\u001b[39m\u001b[33m\u001b[1mWarning: \u001b[22m\u001b[39mresolution (7.5) is too coarse for correlation length 10.0 in dimension 3 at indices CartesianIndex(47, 11, 6) (skipping further tests). It is recommended that the resolution is at least 2 times finer than the correlation length.\n",
      "\u001b[33m\u001b[1m└ \u001b[22m\u001b[39m\u001b[90m@ DIVAnd C:\\Users\\a001819\\.julia\\packages\\DIVAnd\\MV3j9\\src\\utils.jl:18\u001b[39m\n",
      "\u001b[36m\u001b[1m[ \u001b[22m\u001b[39m\u001b[36m\u001b[1mInfo: \u001b[22m\u001b[39mnumber of windows: 1\n"
     ]
    },
    {
     "name": "stdout",
     "output_type": "stream",
     "text": [
      "timeindex = 23\n"
     ]
    },
    {
     "name": "stderr",
     "output_type": "stream",
     "text": [
      "\u001b[36m\u001b[1m[ \u001b[22m\u001b[39m\u001b[36m\u001b[1mInfo: \u001b[22m\u001b[39mTime step 24 / 57\n",
      "\u001b[36m\u001b[1m[ \u001b[22m\u001b[39m\u001b[36m\u001b[1mInfo: \u001b[22m\u001b[39manalysis time index 24 uses the backgrond time index 134\n",
      "\u001b[36m\u001b[1m[ \u001b[22m\u001b[39m\u001b[36m\u001b[1mInfo: \u001b[22m\u001b[39mscaled correlation length (min,max) in dimension 1: (26002.33511528906, 77999.93927774779)\n",
      "\u001b[36m\u001b[1m[ \u001b[22m\u001b[39m\u001b[36m\u001b[1mInfo: \u001b[22m\u001b[39mscaled correlation length (min,max) in dimension 2: (26002.33511528906, 77999.93927774779)\n",
      "\u001b[36m\u001b[1m[ \u001b[22m\u001b[39m\u001b[36m\u001b[1mInfo: \u001b[22m\u001b[39mscaled correlation length (min,max) in dimension 3: (10.0, 50.0)\n",
      "\u001b[33m\u001b[1m┌ \u001b[22m\u001b[39m\u001b[33m\u001b[1mWarning: \u001b[22m\u001b[39mresolution (7.5) is too coarse for correlation length 10.0 in dimension 3 at indices CartesianIndex(47, 11, 6) (skipping further tests). It is recommended that the resolution is at least 2 times finer than the correlation length.\n",
      "\u001b[33m\u001b[1m└ \u001b[22m\u001b[39m\u001b[90m@ DIVAnd C:\\Users\\a001819\\.julia\\packages\\DIVAnd\\MV3j9\\src\\utils.jl:18\u001b[39m\n",
      "\u001b[36m\u001b[1m[ \u001b[22m\u001b[39m\u001b[36m\u001b[1mInfo: \u001b[22m\u001b[39mnumber of windows: 1\n"
     ]
    },
    {
     "name": "stdout",
     "output_type": "stream",
     "text": [
      "timeindex = 24\n"
     ]
    },
    {
     "name": "stderr",
     "output_type": "stream",
     "text": [
      "\u001b[36m\u001b[1m[ \u001b[22m\u001b[39m\u001b[36m\u001b[1mInfo: \u001b[22m\u001b[39mTime step 25 / 57\n",
      "\u001b[36m\u001b[1m[ \u001b[22m\u001b[39m\u001b[36m\u001b[1mInfo: \u001b[22m\u001b[39manalysis time index 25 uses the backgrond time index 138\n",
      "\u001b[36m\u001b[1m[ \u001b[22m\u001b[39m\u001b[36m\u001b[1mInfo: \u001b[22m\u001b[39mscaled correlation length (min,max) in dimension 1: (26002.33511528906, 77999.93927774779)\n",
      "\u001b[36m\u001b[1m[ \u001b[22m\u001b[39m\u001b[36m\u001b[1mInfo: \u001b[22m\u001b[39mscaled correlation length (min,max) in dimension 2: (26002.33511528906, 77999.93927774779)\n",
      "\u001b[36m\u001b[1m[ \u001b[22m\u001b[39m\u001b[36m\u001b[1mInfo: \u001b[22m\u001b[39mscaled correlation length (min,max) in dimension 3: (10.0, 50.0)\n",
      "\u001b[33m\u001b[1m┌ \u001b[22m\u001b[39m\u001b[33m\u001b[1mWarning: \u001b[22m\u001b[39mresolution (7.5) is too coarse for correlation length 10.0 in dimension 3 at indices CartesianIndex(47, 11, 6) (skipping further tests). It is recommended that the resolution is at least 2 times finer than the correlation length.\n",
      "\u001b[33m\u001b[1m└ \u001b[22m\u001b[39m\u001b[90m@ DIVAnd C:\\Users\\a001819\\.julia\\packages\\DIVAnd\\MV3j9\\src\\utils.jl:18\u001b[39m\n",
      "\u001b[36m\u001b[1m[ \u001b[22m\u001b[39m\u001b[36m\u001b[1mInfo: \u001b[22m\u001b[39mnumber of windows: 1\n"
     ]
    },
    {
     "name": "stdout",
     "output_type": "stream",
     "text": [
      "timeindex = 25\n"
     ]
    },
    {
     "name": "stderr",
     "output_type": "stream",
     "text": [
      "\u001b[36m\u001b[1m[ \u001b[22m\u001b[39m\u001b[36m\u001b[1mInfo: \u001b[22m\u001b[39mTime step 26 / 57\n",
      "\u001b[36m\u001b[1m[ \u001b[22m\u001b[39m\u001b[36m\u001b[1mInfo: \u001b[22m\u001b[39manalysis time index 26 uses the backgrond time index 142\n",
      "\u001b[36m\u001b[1m[ \u001b[22m\u001b[39m\u001b[36m\u001b[1mInfo: \u001b[22m\u001b[39mscaled correlation length (min,max) in dimension 1: (26002.33511528906, 77999.93927774779)\n",
      "\u001b[36m\u001b[1m[ \u001b[22m\u001b[39m\u001b[36m\u001b[1mInfo: \u001b[22m\u001b[39mscaled correlation length (min,max) in dimension 2: (26002.33511528906, 77999.93927774779)\n",
      "\u001b[36m\u001b[1m[ \u001b[22m\u001b[39m\u001b[36m\u001b[1mInfo: \u001b[22m\u001b[39mscaled correlation length (min,max) in dimension 3: (10.0, 50.0)\n",
      "\u001b[33m\u001b[1m┌ \u001b[22m\u001b[39m\u001b[33m\u001b[1mWarning: \u001b[22m\u001b[39mresolution (7.5) is too coarse for correlation length 10.0 in dimension 3 at indices CartesianIndex(47, 11, 6) (skipping further tests). It is recommended that the resolution is at least 2 times finer than the correlation length.\n",
      "\u001b[33m\u001b[1m└ \u001b[22m\u001b[39m\u001b[90m@ DIVAnd C:\\Users\\a001819\\.julia\\packages\\DIVAnd\\MV3j9\\src\\utils.jl:18\u001b[39m\n",
      "\u001b[36m\u001b[1m[ \u001b[22m\u001b[39m\u001b[36m\u001b[1mInfo: \u001b[22m\u001b[39mnumber of windows: 1\n"
     ]
    },
    {
     "name": "stdout",
     "output_type": "stream",
     "text": [
      "timeindex = 26\n"
     ]
    },
    {
     "name": "stderr",
     "output_type": "stream",
     "text": [
      "\u001b[36m\u001b[1m[ \u001b[22m\u001b[39m\u001b[36m\u001b[1mInfo: \u001b[22m\u001b[39mTime step 27 / 57\n",
      "\u001b[36m\u001b[1m[ \u001b[22m\u001b[39m\u001b[36m\u001b[1mInfo: \u001b[22m\u001b[39manalysis time index 27 uses the backgrond time index 146\n",
      "\u001b[36m\u001b[1m[ \u001b[22m\u001b[39m\u001b[36m\u001b[1mInfo: \u001b[22m\u001b[39mscaled correlation length (min,max) in dimension 1: (26002.33511528906, 77999.93927774779)\n",
      "\u001b[36m\u001b[1m[ \u001b[22m\u001b[39m\u001b[36m\u001b[1mInfo: \u001b[22m\u001b[39mscaled correlation length (min,max) in dimension 2: (26002.33511528906, 77999.93927774779)\n",
      "\u001b[36m\u001b[1m[ \u001b[22m\u001b[39m\u001b[36m\u001b[1mInfo: \u001b[22m\u001b[39mscaled correlation length (min,max) in dimension 3: (10.0, 50.0)\n",
      "\u001b[33m\u001b[1m┌ \u001b[22m\u001b[39m\u001b[33m\u001b[1mWarning: \u001b[22m\u001b[39mresolution (7.5) is too coarse for correlation length 10.0 in dimension 3 at indices CartesianIndex(47, 11, 6) (skipping further tests). It is recommended that the resolution is at least 2 times finer than the correlation length.\n",
      "\u001b[33m\u001b[1m└ \u001b[22m\u001b[39m\u001b[90m@ DIVAnd C:\\Users\\a001819\\.julia\\packages\\DIVAnd\\MV3j9\\src\\utils.jl:18\u001b[39m\n",
      "\u001b[36m\u001b[1m[ \u001b[22m\u001b[39m\u001b[36m\u001b[1mInfo: \u001b[22m\u001b[39mnumber of windows: 1\n"
     ]
    },
    {
     "name": "stdout",
     "output_type": "stream",
     "text": [
      "timeindex = 27\n"
     ]
    },
    {
     "name": "stderr",
     "output_type": "stream",
     "text": [
      "\u001b[36m\u001b[1m[ \u001b[22m\u001b[39m\u001b[36m\u001b[1mInfo: \u001b[22m\u001b[39mTime step 28 / 57\n",
      "\u001b[36m\u001b[1m[ \u001b[22m\u001b[39m\u001b[36m\u001b[1mInfo: \u001b[22m\u001b[39manalysis time index 28 uses the backgrond time index 150\n",
      "\u001b[36m\u001b[1m[ \u001b[22m\u001b[39m\u001b[36m\u001b[1mInfo: \u001b[22m\u001b[39mscaled correlation length (min,max) in dimension 1: (26002.33511528906, 77999.93927774779)\n",
      "\u001b[36m\u001b[1m[ \u001b[22m\u001b[39m\u001b[36m\u001b[1mInfo: \u001b[22m\u001b[39mscaled correlation length (min,max) in dimension 2: (26002.33511528906, 77999.93927774779)\n",
      "\u001b[36m\u001b[1m[ \u001b[22m\u001b[39m\u001b[36m\u001b[1mInfo: \u001b[22m\u001b[39mscaled correlation length (min,max) in dimension 3: (10.0, 50.0)\n",
      "\u001b[33m\u001b[1m┌ \u001b[22m\u001b[39m\u001b[33m\u001b[1mWarning: \u001b[22m\u001b[39mresolution (7.5) is too coarse for correlation length 10.0 in dimension 3 at indices CartesianIndex(47, 11, 6) (skipping further tests). It is recommended that the resolution is at least 2 times finer than the correlation length.\n",
      "\u001b[33m\u001b[1m└ \u001b[22m\u001b[39m\u001b[90m@ DIVAnd C:\\Users\\a001819\\.julia\\packages\\DIVAnd\\MV3j9\\src\\utils.jl:18\u001b[39m\n",
      "\u001b[36m\u001b[1m[ \u001b[22m\u001b[39m\u001b[36m\u001b[1mInfo: \u001b[22m\u001b[39mnumber of windows: 1\n"
     ]
    },
    {
     "name": "stdout",
     "output_type": "stream",
     "text": [
      "timeindex = 28\n"
     ]
    },
    {
     "name": "stderr",
     "output_type": "stream",
     "text": [
      "\u001b[36m\u001b[1m[ \u001b[22m\u001b[39m\u001b[36m\u001b[1mInfo: \u001b[22m\u001b[39mTime step 29 / 57\n",
      "\u001b[36m\u001b[1m[ \u001b[22m\u001b[39m\u001b[36m\u001b[1mInfo: \u001b[22m\u001b[39manalysis time index 29 uses the backgrond time index 154\n",
      "\u001b[36m\u001b[1m[ \u001b[22m\u001b[39m\u001b[36m\u001b[1mInfo: \u001b[22m\u001b[39mscaled correlation length (min,max) in dimension 1: (26002.33511528906, 77999.93927774779)\n",
      "\u001b[36m\u001b[1m[ \u001b[22m\u001b[39m\u001b[36m\u001b[1mInfo: \u001b[22m\u001b[39mscaled correlation length (min,max) in dimension 2: (26002.33511528906, 77999.93927774779)\n",
      "\u001b[36m\u001b[1m[ \u001b[22m\u001b[39m\u001b[36m\u001b[1mInfo: \u001b[22m\u001b[39mscaled correlation length (min,max) in dimension 3: (10.0, 50.0)\n",
      "\u001b[33m\u001b[1m┌ \u001b[22m\u001b[39m\u001b[33m\u001b[1mWarning: \u001b[22m\u001b[39mresolution (7.5) is too coarse for correlation length 10.0 in dimension 3 at indices CartesianIndex(47, 11, 6) (skipping further tests). It is recommended that the resolution is at least 2 times finer than the correlation length.\n",
      "\u001b[33m\u001b[1m└ \u001b[22m\u001b[39m\u001b[90m@ DIVAnd C:\\Users\\a001819\\.julia\\packages\\DIVAnd\\MV3j9\\src\\utils.jl:18\u001b[39m\n",
      "\u001b[36m\u001b[1m[ \u001b[22m\u001b[39m\u001b[36m\u001b[1mInfo: \u001b[22m\u001b[39mnumber of windows: 1\n"
     ]
    },
    {
     "name": "stdout",
     "output_type": "stream",
     "text": [
      "timeindex = 29\n"
     ]
    },
    {
     "name": "stderr",
     "output_type": "stream",
     "text": [
      "\u001b[36m\u001b[1m[ \u001b[22m\u001b[39m\u001b[36m\u001b[1mInfo: \u001b[22m\u001b[39mTime step 30 / 57\n",
      "\u001b[36m\u001b[1m[ \u001b[22m\u001b[39m\u001b[36m\u001b[1mInfo: \u001b[22m\u001b[39manalysis time index 30 uses the backgrond time index 158\n",
      "\u001b[36m\u001b[1m[ \u001b[22m\u001b[39m\u001b[36m\u001b[1mInfo: \u001b[22m\u001b[39mscaled correlation length (min,max) in dimension 1: (26002.33511528906, 77999.93927774779)\n",
      "\u001b[36m\u001b[1m[ \u001b[22m\u001b[39m\u001b[36m\u001b[1mInfo: \u001b[22m\u001b[39mscaled correlation length (min,max) in dimension 2: (26002.33511528906, 77999.93927774779)\n",
      "\u001b[36m\u001b[1m[ \u001b[22m\u001b[39m\u001b[36m\u001b[1mInfo: \u001b[22m\u001b[39mscaled correlation length (min,max) in dimension 3: (10.0, 50.0)\n",
      "\u001b[33m\u001b[1m┌ \u001b[22m\u001b[39m\u001b[33m\u001b[1mWarning: \u001b[22m\u001b[39mresolution (7.5) is too coarse for correlation length 10.0 in dimension 3 at indices CartesianIndex(47, 11, 6) (skipping further tests). It is recommended that the resolution is at least 2 times finer than the correlation length.\n",
      "\u001b[33m\u001b[1m└ \u001b[22m\u001b[39m\u001b[90m@ DIVAnd C:\\Users\\a001819\\.julia\\packages\\DIVAnd\\MV3j9\\src\\utils.jl:18\u001b[39m\n",
      "\u001b[36m\u001b[1m[ \u001b[22m\u001b[39m\u001b[36m\u001b[1mInfo: \u001b[22m\u001b[39mnumber of windows: 1\n"
     ]
    },
    {
     "name": "stdout",
     "output_type": "stream",
     "text": [
      "timeindex = 30\n"
     ]
    },
    {
     "name": "stderr",
     "output_type": "stream",
     "text": [
      "\u001b[36m\u001b[1m[ \u001b[22m\u001b[39m\u001b[36m\u001b[1mInfo: \u001b[22m\u001b[39mTime step 31 / 57\n",
      "\u001b[36m\u001b[1m[ \u001b[22m\u001b[39m\u001b[36m\u001b[1mInfo: \u001b[22m\u001b[39manalysis time index 31 uses the backgrond time index 162\n",
      "\u001b[36m\u001b[1m[ \u001b[22m\u001b[39m\u001b[36m\u001b[1mInfo: \u001b[22m\u001b[39mscaled correlation length (min,max) in dimension 1: (26002.33511528906, 77999.93927774779)\n",
      "\u001b[36m\u001b[1m[ \u001b[22m\u001b[39m\u001b[36m\u001b[1mInfo: \u001b[22m\u001b[39mscaled correlation length (min,max) in dimension 2: (26002.33511528906, 77999.93927774779)\n",
      "\u001b[36m\u001b[1m[ \u001b[22m\u001b[39m\u001b[36m\u001b[1mInfo: \u001b[22m\u001b[39mscaled correlation length (min,max) in dimension 3: (10.0, 50.0)\n",
      "\u001b[33m\u001b[1m┌ \u001b[22m\u001b[39m\u001b[33m\u001b[1mWarning: \u001b[22m\u001b[39mresolution (7.5) is too coarse for correlation length 10.0 in dimension 3 at indices CartesianIndex(47, 11, 6) (skipping further tests). It is recommended that the resolution is at least 2 times finer than the correlation length.\n",
      "\u001b[33m\u001b[1m└ \u001b[22m\u001b[39m\u001b[90m@ DIVAnd C:\\Users\\a001819\\.julia\\packages\\DIVAnd\\MV3j9\\src\\utils.jl:18\u001b[39m\n",
      "\u001b[36m\u001b[1m[ \u001b[22m\u001b[39m\u001b[36m\u001b[1mInfo: \u001b[22m\u001b[39mnumber of windows: 1\n"
     ]
    },
    {
     "name": "stdout",
     "output_type": "stream",
     "text": [
      "timeindex = 31\n"
     ]
    },
    {
     "name": "stderr",
     "output_type": "stream",
     "text": [
      "\u001b[36m\u001b[1m[ \u001b[22m\u001b[39m\u001b[36m\u001b[1mInfo: \u001b[22m\u001b[39mTime step 32 / 57\n",
      "\u001b[36m\u001b[1m[ \u001b[22m\u001b[39m\u001b[36m\u001b[1mInfo: \u001b[22m\u001b[39manalysis time index 32 uses the backgrond time index 166\n",
      "\u001b[36m\u001b[1m[ \u001b[22m\u001b[39m\u001b[36m\u001b[1mInfo: \u001b[22m\u001b[39mscaled correlation length (min,max) in dimension 1: (26002.33511528906, 77999.93927774779)\n",
      "\u001b[36m\u001b[1m[ \u001b[22m\u001b[39m\u001b[36m\u001b[1mInfo: \u001b[22m\u001b[39mscaled correlation length (min,max) in dimension 2: (26002.33511528906, 77999.93927774779)\n",
      "\u001b[36m\u001b[1m[ \u001b[22m\u001b[39m\u001b[36m\u001b[1mInfo: \u001b[22m\u001b[39mscaled correlation length (min,max) in dimension 3: (10.0, 50.0)\n",
      "\u001b[33m\u001b[1m┌ \u001b[22m\u001b[39m\u001b[33m\u001b[1mWarning: \u001b[22m\u001b[39mresolution (7.5) is too coarse for correlation length 10.0 in dimension 3 at indices CartesianIndex(47, 11, 6) (skipping further tests). It is recommended that the resolution is at least 2 times finer than the correlation length.\n",
      "\u001b[33m\u001b[1m└ \u001b[22m\u001b[39m\u001b[90m@ DIVAnd C:\\Users\\a001819\\.julia\\packages\\DIVAnd\\MV3j9\\src\\utils.jl:18\u001b[39m\n",
      "\u001b[36m\u001b[1m[ \u001b[22m\u001b[39m\u001b[36m\u001b[1mInfo: \u001b[22m\u001b[39mnumber of windows: 1\n"
     ]
    },
    {
     "name": "stdout",
     "output_type": "stream",
     "text": [
      "timeindex = 32\n"
     ]
    },
    {
     "name": "stderr",
     "output_type": "stream",
     "text": [
      "\u001b[36m\u001b[1m[ \u001b[22m\u001b[39m\u001b[36m\u001b[1mInfo: \u001b[22m\u001b[39mTime step 33 / 57\n",
      "\u001b[36m\u001b[1m[ \u001b[22m\u001b[39m\u001b[36m\u001b[1mInfo: \u001b[22m\u001b[39manalysis time index 33 uses the backgrond time index 170\n",
      "\u001b[36m\u001b[1m[ \u001b[22m\u001b[39m\u001b[36m\u001b[1mInfo: \u001b[22m\u001b[39mscaled correlation length (min,max) in dimension 1: (26002.33511528906, 77999.93927774779)\n",
      "\u001b[36m\u001b[1m[ \u001b[22m\u001b[39m\u001b[36m\u001b[1mInfo: \u001b[22m\u001b[39mscaled correlation length (min,max) in dimension 2: (26002.33511528906, 77999.93927774779)\n",
      "\u001b[36m\u001b[1m[ \u001b[22m\u001b[39m\u001b[36m\u001b[1mInfo: \u001b[22m\u001b[39mscaled correlation length (min,max) in dimension 3: (10.0, 50.0)\n",
      "\u001b[33m\u001b[1m┌ \u001b[22m\u001b[39m\u001b[33m\u001b[1mWarning: \u001b[22m\u001b[39mresolution (7.5) is too coarse for correlation length 10.0 in dimension 3 at indices CartesianIndex(47, 11, 6) (skipping further tests). It is recommended that the resolution is at least 2 times finer than the correlation length.\n",
      "\u001b[33m\u001b[1m└ \u001b[22m\u001b[39m\u001b[90m@ DIVAnd C:\\Users\\a001819\\.julia\\packages\\DIVAnd\\MV3j9\\src\\utils.jl:18\u001b[39m\n",
      "\u001b[36m\u001b[1m[ \u001b[22m\u001b[39m\u001b[36m\u001b[1mInfo: \u001b[22m\u001b[39mnumber of windows: 1\n"
     ]
    },
    {
     "name": "stdout",
     "output_type": "stream",
     "text": [
      "timeindex = 33\n"
     ]
    },
    {
     "name": "stderr",
     "output_type": "stream",
     "text": [
      "\u001b[36m\u001b[1m[ \u001b[22m\u001b[39m\u001b[36m\u001b[1mInfo: \u001b[22m\u001b[39mTime step 34 / 57\n",
      "\u001b[36m\u001b[1m[ \u001b[22m\u001b[39m\u001b[36m\u001b[1mInfo: \u001b[22m\u001b[39manalysis time index 34 uses the backgrond time index 174\n",
      "\u001b[36m\u001b[1m[ \u001b[22m\u001b[39m\u001b[36m\u001b[1mInfo: \u001b[22m\u001b[39mscaled correlation length (min,max) in dimension 1: (26002.33511528906, 77999.93927774779)\n",
      "\u001b[36m\u001b[1m[ \u001b[22m\u001b[39m\u001b[36m\u001b[1mInfo: \u001b[22m\u001b[39mscaled correlation length (min,max) in dimension 2: (26002.33511528906, 77999.93927774779)\n",
      "\u001b[36m\u001b[1m[ \u001b[22m\u001b[39m\u001b[36m\u001b[1mInfo: \u001b[22m\u001b[39mscaled correlation length (min,max) in dimension 3: (10.0, 50.0)\n",
      "\u001b[33m\u001b[1m┌ \u001b[22m\u001b[39m\u001b[33m\u001b[1mWarning: \u001b[22m\u001b[39mresolution (7.5) is too coarse for correlation length 10.0 in dimension 3 at indices CartesianIndex(47, 11, 6) (skipping further tests). It is recommended that the resolution is at least 2 times finer than the correlation length.\n",
      "\u001b[33m\u001b[1m└ \u001b[22m\u001b[39m\u001b[90m@ DIVAnd C:\\Users\\a001819\\.julia\\packages\\DIVAnd\\MV3j9\\src\\utils.jl:18\u001b[39m\n",
      "\u001b[36m\u001b[1m[ \u001b[22m\u001b[39m\u001b[36m\u001b[1mInfo: \u001b[22m\u001b[39mnumber of windows: 1\n"
     ]
    },
    {
     "name": "stdout",
     "output_type": "stream",
     "text": [
      "timeindex = 34\n"
     ]
    },
    {
     "name": "stderr",
     "output_type": "stream",
     "text": [
      "\u001b[36m\u001b[1m[ \u001b[22m\u001b[39m\u001b[36m\u001b[1mInfo: \u001b[22m\u001b[39mTime step 35 / 57\n",
      "\u001b[36m\u001b[1m[ \u001b[22m\u001b[39m\u001b[36m\u001b[1mInfo: \u001b[22m\u001b[39manalysis time index 35 uses the backgrond time index 178\n",
      "\u001b[36m\u001b[1m[ \u001b[22m\u001b[39m\u001b[36m\u001b[1mInfo: \u001b[22m\u001b[39mscaled correlation length (min,max) in dimension 1: (26002.33511528906, 77999.93927774779)\n",
      "\u001b[36m\u001b[1m[ \u001b[22m\u001b[39m\u001b[36m\u001b[1mInfo: \u001b[22m\u001b[39mscaled correlation length (min,max) in dimension 2: (26002.33511528906, 77999.93927774779)\n",
      "\u001b[36m\u001b[1m[ \u001b[22m\u001b[39m\u001b[36m\u001b[1mInfo: \u001b[22m\u001b[39mscaled correlation length (min,max) in dimension 3: (10.0, 50.0)\n",
      "\u001b[33m\u001b[1m┌ \u001b[22m\u001b[39m\u001b[33m\u001b[1mWarning: \u001b[22m\u001b[39mresolution (7.5) is too coarse for correlation length 10.0 in dimension 3 at indices CartesianIndex(47, 11, 6) (skipping further tests). It is recommended that the resolution is at least 2 times finer than the correlation length.\n",
      "\u001b[33m\u001b[1m└ \u001b[22m\u001b[39m\u001b[90m@ DIVAnd C:\\Users\\a001819\\.julia\\packages\\DIVAnd\\MV3j9\\src\\utils.jl:18\u001b[39m\n",
      "\u001b[36m\u001b[1m[ \u001b[22m\u001b[39m\u001b[36m\u001b[1mInfo: \u001b[22m\u001b[39mnumber of windows: 1\n"
     ]
    },
    {
     "name": "stdout",
     "output_type": "stream",
     "text": [
      "timeindex = 35\n"
     ]
    },
    {
     "name": "stderr",
     "output_type": "stream",
     "text": [
      "\u001b[36m\u001b[1m[ \u001b[22m\u001b[39m\u001b[36m\u001b[1mInfo: \u001b[22m\u001b[39mTime step 36 / 57\n",
      "\u001b[36m\u001b[1m[ \u001b[22m\u001b[39m\u001b[36m\u001b[1mInfo: \u001b[22m\u001b[39manalysis time index 36 uses the backgrond time index 182\n",
      "\u001b[36m\u001b[1m[ \u001b[22m\u001b[39m\u001b[36m\u001b[1mInfo: \u001b[22m\u001b[39mscaled correlation length (min,max) in dimension 1: (26002.33511528906, 77999.93927774779)\n",
      "\u001b[36m\u001b[1m[ \u001b[22m\u001b[39m\u001b[36m\u001b[1mInfo: \u001b[22m\u001b[39mscaled correlation length (min,max) in dimension 2: (26002.33511528906, 77999.93927774779)\n",
      "\u001b[36m\u001b[1m[ \u001b[22m\u001b[39m\u001b[36m\u001b[1mInfo: \u001b[22m\u001b[39mscaled correlation length (min,max) in dimension 3: (10.0, 50.0)\n",
      "\u001b[33m\u001b[1m┌ \u001b[22m\u001b[39m\u001b[33m\u001b[1mWarning: \u001b[22m\u001b[39mresolution (7.5) is too coarse for correlation length 10.0 in dimension 3 at indices CartesianIndex(47, 11, 6) (skipping further tests). It is recommended that the resolution is at least 2 times finer than the correlation length.\n",
      "\u001b[33m\u001b[1m└ \u001b[22m\u001b[39m\u001b[90m@ DIVAnd C:\\Users\\a001819\\.julia\\packages\\DIVAnd\\MV3j9\\src\\utils.jl:18\u001b[39m\n",
      "\u001b[36m\u001b[1m[ \u001b[22m\u001b[39m\u001b[36m\u001b[1mInfo: \u001b[22m\u001b[39mnumber of windows: 1\n"
     ]
    },
    {
     "name": "stdout",
     "output_type": "stream",
     "text": [
      "timeindex = 36\n"
     ]
    },
    {
     "name": "stderr",
     "output_type": "stream",
     "text": [
      "\u001b[36m\u001b[1m[ \u001b[22m\u001b[39m\u001b[36m\u001b[1mInfo: \u001b[22m\u001b[39mTime step 37 / 57\n",
      "\u001b[36m\u001b[1m[ \u001b[22m\u001b[39m\u001b[36m\u001b[1mInfo: \u001b[22m\u001b[39manalysis time index 37 uses the backgrond time index 186\n",
      "\u001b[36m\u001b[1m[ \u001b[22m\u001b[39m\u001b[36m\u001b[1mInfo: \u001b[22m\u001b[39mscaled correlation length (min,max) in dimension 1: (26002.33511528906, 77999.93927774779)\n",
      "\u001b[36m\u001b[1m[ \u001b[22m\u001b[39m\u001b[36m\u001b[1mInfo: \u001b[22m\u001b[39mscaled correlation length (min,max) in dimension 2: (26002.33511528906, 77999.93927774779)\n",
      "\u001b[36m\u001b[1m[ \u001b[22m\u001b[39m\u001b[36m\u001b[1mInfo: \u001b[22m\u001b[39mscaled correlation length (min,max) in dimension 3: (10.0, 50.0)\n",
      "\u001b[33m\u001b[1m┌ \u001b[22m\u001b[39m\u001b[33m\u001b[1mWarning: \u001b[22m\u001b[39mresolution (7.5) is too coarse for correlation length 10.0 in dimension 3 at indices CartesianIndex(47, 11, 6) (skipping further tests). It is recommended that the resolution is at least 2 times finer than the correlation length.\n",
      "\u001b[33m\u001b[1m└ \u001b[22m\u001b[39m\u001b[90m@ DIVAnd C:\\Users\\a001819\\.julia\\packages\\DIVAnd\\MV3j9\\src\\utils.jl:18\u001b[39m\n",
      "\u001b[36m\u001b[1m[ \u001b[22m\u001b[39m\u001b[36m\u001b[1mInfo: \u001b[22m\u001b[39mnumber of windows: 1\n"
     ]
    },
    {
     "name": "stdout",
     "output_type": "stream",
     "text": [
      "timeindex = 37\n"
     ]
    },
    {
     "name": "stderr",
     "output_type": "stream",
     "text": [
      "\u001b[36m\u001b[1m[ \u001b[22m\u001b[39m\u001b[36m\u001b[1mInfo: \u001b[22m\u001b[39mTime step 38 / 57\n",
      "\u001b[36m\u001b[1m[ \u001b[22m\u001b[39m\u001b[36m\u001b[1mInfo: \u001b[22m\u001b[39manalysis time index 38 uses the backgrond time index 190\n",
      "\u001b[36m\u001b[1m[ \u001b[22m\u001b[39m\u001b[36m\u001b[1mInfo: \u001b[22m\u001b[39mscaled correlation length (min,max) in dimension 1: (26002.33511528906, 77999.93927774779)\n",
      "\u001b[36m\u001b[1m[ \u001b[22m\u001b[39m\u001b[36m\u001b[1mInfo: \u001b[22m\u001b[39mscaled correlation length (min,max) in dimension 2: (26002.33511528906, 77999.93927774779)\n",
      "\u001b[36m\u001b[1m[ \u001b[22m\u001b[39m\u001b[36m\u001b[1mInfo: \u001b[22m\u001b[39mscaled correlation length (min,max) in dimension 3: (10.0, 50.0)\n",
      "\u001b[33m\u001b[1m┌ \u001b[22m\u001b[39m\u001b[33m\u001b[1mWarning: \u001b[22m\u001b[39mresolution (7.5) is too coarse for correlation length 10.0 in dimension 3 at indices CartesianIndex(47, 11, 6) (skipping further tests). It is recommended that the resolution is at least 2 times finer than the correlation length.\n",
      "\u001b[33m\u001b[1m└ \u001b[22m\u001b[39m\u001b[90m@ DIVAnd C:\\Users\\a001819\\.julia\\packages\\DIVAnd\\MV3j9\\src\\utils.jl:18\u001b[39m\n",
      "\u001b[36m\u001b[1m[ \u001b[22m\u001b[39m\u001b[36m\u001b[1mInfo: \u001b[22m\u001b[39mnumber of windows: 1\n"
     ]
    },
    {
     "name": "stdout",
     "output_type": "stream",
     "text": [
      "timeindex = 38\n"
     ]
    },
    {
     "name": "stderr",
     "output_type": "stream",
     "text": [
      "\u001b[36m\u001b[1m[ \u001b[22m\u001b[39m\u001b[36m\u001b[1mInfo: \u001b[22m\u001b[39mTime step 39 / 57\n",
      "\u001b[36m\u001b[1m[ \u001b[22m\u001b[39m\u001b[36m\u001b[1mInfo: \u001b[22m\u001b[39manalysis time index 39 uses the backgrond time index 194\n",
      "\u001b[36m\u001b[1m[ \u001b[22m\u001b[39m\u001b[36m\u001b[1mInfo: \u001b[22m\u001b[39mscaled correlation length (min,max) in dimension 1: (26002.33511528906, 77999.93927774779)\n",
      "\u001b[36m\u001b[1m[ \u001b[22m\u001b[39m\u001b[36m\u001b[1mInfo: \u001b[22m\u001b[39mscaled correlation length (min,max) in dimension 2: (26002.33511528906, 77999.93927774779)\n",
      "\u001b[36m\u001b[1m[ \u001b[22m\u001b[39m\u001b[36m\u001b[1mInfo: \u001b[22m\u001b[39mscaled correlation length (min,max) in dimension 3: (10.0, 50.0)\n",
      "\u001b[33m\u001b[1m┌ \u001b[22m\u001b[39m\u001b[33m\u001b[1mWarning: \u001b[22m\u001b[39mresolution (7.5) is too coarse for correlation length 10.0 in dimension 3 at indices CartesianIndex(47, 11, 6) (skipping further tests). It is recommended that the resolution is at least 2 times finer than the correlation length.\n",
      "\u001b[33m\u001b[1m└ \u001b[22m\u001b[39m\u001b[90m@ DIVAnd C:\\Users\\a001819\\.julia\\packages\\DIVAnd\\MV3j9\\src\\utils.jl:18\u001b[39m\n",
      "\u001b[36m\u001b[1m[ \u001b[22m\u001b[39m\u001b[36m\u001b[1mInfo: \u001b[22m\u001b[39mnumber of windows: 1\n"
     ]
    },
    {
     "name": "stdout",
     "output_type": "stream",
     "text": [
      "timeindex = 39\n"
     ]
    },
    {
     "name": "stderr",
     "output_type": "stream",
     "text": [
      "\u001b[36m\u001b[1m[ \u001b[22m\u001b[39m\u001b[36m\u001b[1mInfo: \u001b[22m\u001b[39mTime step 40 / 57\n",
      "\u001b[36m\u001b[1m[ \u001b[22m\u001b[39m\u001b[36m\u001b[1mInfo: \u001b[22m\u001b[39manalysis time index 40 uses the backgrond time index 198\n",
      "\u001b[36m\u001b[1m[ \u001b[22m\u001b[39m\u001b[36m\u001b[1mInfo: \u001b[22m\u001b[39mscaled correlation length (min,max) in dimension 1: (26002.33511528906, 77999.93927774779)\n",
      "\u001b[36m\u001b[1m[ \u001b[22m\u001b[39m\u001b[36m\u001b[1mInfo: \u001b[22m\u001b[39mscaled correlation length (min,max) in dimension 2: (26002.33511528906, 77999.93927774779)\n",
      "\u001b[36m\u001b[1m[ \u001b[22m\u001b[39m\u001b[36m\u001b[1mInfo: \u001b[22m\u001b[39mscaled correlation length (min,max) in dimension 3: (10.0, 50.0)\n",
      "\u001b[33m\u001b[1m┌ \u001b[22m\u001b[39m\u001b[33m\u001b[1mWarning: \u001b[22m\u001b[39mresolution (7.5) is too coarse for correlation length 10.0 in dimension 3 at indices CartesianIndex(47, 11, 6) (skipping further tests). It is recommended that the resolution is at least 2 times finer than the correlation length.\n",
      "\u001b[33m\u001b[1m└ \u001b[22m\u001b[39m\u001b[90m@ DIVAnd C:\\Users\\a001819\\.julia\\packages\\DIVAnd\\MV3j9\\src\\utils.jl:18\u001b[39m\n",
      "\u001b[36m\u001b[1m[ \u001b[22m\u001b[39m\u001b[36m\u001b[1mInfo: \u001b[22m\u001b[39mnumber of windows: 1\n"
     ]
    },
    {
     "name": "stdout",
     "output_type": "stream",
     "text": [
      "timeindex = 40\n"
     ]
    },
    {
     "name": "stderr",
     "output_type": "stream",
     "text": [
      "\u001b[36m\u001b[1m[ \u001b[22m\u001b[39m\u001b[36m\u001b[1mInfo: \u001b[22m\u001b[39mTime step 41 / 57\n",
      "\u001b[36m\u001b[1m[ \u001b[22m\u001b[39m\u001b[36m\u001b[1mInfo: \u001b[22m\u001b[39manalysis time index 41 uses the backgrond time index 202\n",
      "\u001b[36m\u001b[1m[ \u001b[22m\u001b[39m\u001b[36m\u001b[1mInfo: \u001b[22m\u001b[39mscaled correlation length (min,max) in dimension 1: (26002.33511528906, 77999.93927774779)\n",
      "\u001b[36m\u001b[1m[ \u001b[22m\u001b[39m\u001b[36m\u001b[1mInfo: \u001b[22m\u001b[39mscaled correlation length (min,max) in dimension 2: (26002.33511528906, 77999.93927774779)\n",
      "\u001b[36m\u001b[1m[ \u001b[22m\u001b[39m\u001b[36m\u001b[1mInfo: \u001b[22m\u001b[39mscaled correlation length (min,max) in dimension 3: (10.0, 50.0)\n",
      "\u001b[33m\u001b[1m┌ \u001b[22m\u001b[39m\u001b[33m\u001b[1mWarning: \u001b[22m\u001b[39mresolution (7.5) is too coarse for correlation length 10.0 in dimension 3 at indices CartesianIndex(47, 11, 6) (skipping further tests). It is recommended that the resolution is at least 2 times finer than the correlation length.\n",
      "\u001b[33m\u001b[1m└ \u001b[22m\u001b[39m\u001b[90m@ DIVAnd C:\\Users\\a001819\\.julia\\packages\\DIVAnd\\MV3j9\\src\\utils.jl:18\u001b[39m\n",
      "\u001b[36m\u001b[1m[ \u001b[22m\u001b[39m\u001b[36m\u001b[1mInfo: \u001b[22m\u001b[39mnumber of windows: 1\n"
     ]
    },
    {
     "name": "stdout",
     "output_type": "stream",
     "text": [
      "timeindex = 41\n"
     ]
    },
    {
     "name": "stderr",
     "output_type": "stream",
     "text": [
      "\u001b[36m\u001b[1m[ \u001b[22m\u001b[39m\u001b[36m\u001b[1mInfo: \u001b[22m\u001b[39mTime step 42 / 57\n",
      "\u001b[36m\u001b[1m[ \u001b[22m\u001b[39m\u001b[36m\u001b[1mInfo: \u001b[22m\u001b[39manalysis time index 42 uses the backgrond time index 206\n",
      "\u001b[36m\u001b[1m[ \u001b[22m\u001b[39m\u001b[36m\u001b[1mInfo: \u001b[22m\u001b[39mscaled correlation length (min,max) in dimension 1: (26002.33511528906, 77999.93927774779)\n",
      "\u001b[36m\u001b[1m[ \u001b[22m\u001b[39m\u001b[36m\u001b[1mInfo: \u001b[22m\u001b[39mscaled correlation length (min,max) in dimension 2: (26002.33511528906, 77999.93927774779)\n",
      "\u001b[36m\u001b[1m[ \u001b[22m\u001b[39m\u001b[36m\u001b[1mInfo: \u001b[22m\u001b[39mscaled correlation length (min,max) in dimension 3: (10.0, 50.0)\n",
      "\u001b[33m\u001b[1m┌ \u001b[22m\u001b[39m\u001b[33m\u001b[1mWarning: \u001b[22m\u001b[39mresolution (7.5) is too coarse for correlation length 10.0 in dimension 3 at indices CartesianIndex(47, 11, 6) (skipping further tests). It is recommended that the resolution is at least 2 times finer than the correlation length.\n",
      "\u001b[33m\u001b[1m└ \u001b[22m\u001b[39m\u001b[90m@ DIVAnd C:\\Users\\a001819\\.julia\\packages\\DIVAnd\\MV3j9\\src\\utils.jl:18\u001b[39m\n",
      "\u001b[36m\u001b[1m[ \u001b[22m\u001b[39m\u001b[36m\u001b[1mInfo: \u001b[22m\u001b[39mnumber of windows: 1\n"
     ]
    },
    {
     "name": "stdout",
     "output_type": "stream",
     "text": [
      "timeindex = 42\n"
     ]
    },
    {
     "name": "stderr",
     "output_type": "stream",
     "text": [
      "\u001b[36m\u001b[1m[ \u001b[22m\u001b[39m\u001b[36m\u001b[1mInfo: \u001b[22m\u001b[39mTime step 43 / 57\n",
      "\u001b[36m\u001b[1m[ \u001b[22m\u001b[39m\u001b[36m\u001b[1mInfo: \u001b[22m\u001b[39manalysis time index 43 uses the backgrond time index 210\n",
      "\u001b[36m\u001b[1m[ \u001b[22m\u001b[39m\u001b[36m\u001b[1mInfo: \u001b[22m\u001b[39mscaled correlation length (min,max) in dimension 1: (26002.33511528906, 77999.93927774779)\n",
      "\u001b[36m\u001b[1m[ \u001b[22m\u001b[39m\u001b[36m\u001b[1mInfo: \u001b[22m\u001b[39mscaled correlation length (min,max) in dimension 2: (26002.33511528906, 77999.93927774779)\n",
      "\u001b[36m\u001b[1m[ \u001b[22m\u001b[39m\u001b[36m\u001b[1mInfo: \u001b[22m\u001b[39mscaled correlation length (min,max) in dimension 3: (10.0, 50.0)\n",
      "\u001b[33m\u001b[1m┌ \u001b[22m\u001b[39m\u001b[33m\u001b[1mWarning: \u001b[22m\u001b[39mresolution (7.5) is too coarse for correlation length 10.0 in dimension 3 at indices CartesianIndex(47, 11, 6) (skipping further tests). It is recommended that the resolution is at least 2 times finer than the correlation length.\n",
      "\u001b[33m\u001b[1m└ \u001b[22m\u001b[39m\u001b[90m@ DIVAnd C:\\Users\\a001819\\.julia\\packages\\DIVAnd\\MV3j9\\src\\utils.jl:18\u001b[39m\n",
      "\u001b[36m\u001b[1m[ \u001b[22m\u001b[39m\u001b[36m\u001b[1mInfo: \u001b[22m\u001b[39mnumber of windows: 1\n"
     ]
    },
    {
     "name": "stdout",
     "output_type": "stream",
     "text": [
      "timeindex = 43\n"
     ]
    },
    {
     "name": "stderr",
     "output_type": "stream",
     "text": [
      "\u001b[36m\u001b[1m[ \u001b[22m\u001b[39m\u001b[36m\u001b[1mInfo: \u001b[22m\u001b[39mTime step 44 / 57\n",
      "\u001b[36m\u001b[1m[ \u001b[22m\u001b[39m\u001b[36m\u001b[1mInfo: \u001b[22m\u001b[39manalysis time index 44 uses the backgrond time index 214\n",
      "\u001b[36m\u001b[1m[ \u001b[22m\u001b[39m\u001b[36m\u001b[1mInfo: \u001b[22m\u001b[39mscaled correlation length (min,max) in dimension 1: (26002.33511528906, 77999.93927774779)\n",
      "\u001b[36m\u001b[1m[ \u001b[22m\u001b[39m\u001b[36m\u001b[1mInfo: \u001b[22m\u001b[39mscaled correlation length (min,max) in dimension 2: (26002.33511528906, 77999.93927774779)\n",
      "\u001b[36m\u001b[1m[ \u001b[22m\u001b[39m\u001b[36m\u001b[1mInfo: \u001b[22m\u001b[39mscaled correlation length (min,max) in dimension 3: (10.0, 50.0)\n",
      "\u001b[33m\u001b[1m┌ \u001b[22m\u001b[39m\u001b[33m\u001b[1mWarning: \u001b[22m\u001b[39mresolution (7.5) is too coarse for correlation length 10.0 in dimension 3 at indices CartesianIndex(47, 11, 6) (skipping further tests). It is recommended that the resolution is at least 2 times finer than the correlation length.\n",
      "\u001b[33m\u001b[1m└ \u001b[22m\u001b[39m\u001b[90m@ DIVAnd C:\\Users\\a001819\\.julia\\packages\\DIVAnd\\MV3j9\\src\\utils.jl:18\u001b[39m\n",
      "\u001b[36m\u001b[1m[ \u001b[22m\u001b[39m\u001b[36m\u001b[1mInfo: \u001b[22m\u001b[39mnumber of windows: 1\n"
     ]
    },
    {
     "name": "stdout",
     "output_type": "stream",
     "text": [
      "timeindex = 44\n"
     ]
    },
    {
     "name": "stderr",
     "output_type": "stream",
     "text": [
      "\u001b[36m\u001b[1m[ \u001b[22m\u001b[39m\u001b[36m\u001b[1mInfo: \u001b[22m\u001b[39mTime step 45 / 57\n",
      "\u001b[36m\u001b[1m[ \u001b[22m\u001b[39m\u001b[36m\u001b[1mInfo: \u001b[22m\u001b[39manalysis time index 45 uses the backgrond time index 218\n",
      "\u001b[36m\u001b[1m[ \u001b[22m\u001b[39m\u001b[36m\u001b[1mInfo: \u001b[22m\u001b[39mscaled correlation length (min,max) in dimension 1: (26002.33511528906, 77999.93927774779)\n",
      "\u001b[36m\u001b[1m[ \u001b[22m\u001b[39m\u001b[36m\u001b[1mInfo: \u001b[22m\u001b[39mscaled correlation length (min,max) in dimension 2: (26002.33511528906, 77999.93927774779)\n",
      "\u001b[36m\u001b[1m[ \u001b[22m\u001b[39m\u001b[36m\u001b[1mInfo: \u001b[22m\u001b[39mscaled correlation length (min,max) in dimension 3: (10.0, 50.0)\n",
      "\u001b[33m\u001b[1m┌ \u001b[22m\u001b[39m\u001b[33m\u001b[1mWarning: \u001b[22m\u001b[39mresolution (7.5) is too coarse for correlation length 10.0 in dimension 3 at indices CartesianIndex(47, 11, 6) (skipping further tests). It is recommended that the resolution is at least 2 times finer than the correlation length.\n",
      "\u001b[33m\u001b[1m└ \u001b[22m\u001b[39m\u001b[90m@ DIVAnd C:\\Users\\a001819\\.julia\\packages\\DIVAnd\\MV3j9\\src\\utils.jl:18\u001b[39m\n",
      "\u001b[36m\u001b[1m[ \u001b[22m\u001b[39m\u001b[36m\u001b[1mInfo: \u001b[22m\u001b[39mnumber of windows: 1\n"
     ]
    },
    {
     "name": "stdout",
     "output_type": "stream",
     "text": [
      "timeindex = 45\n"
     ]
    },
    {
     "name": "stderr",
     "output_type": "stream",
     "text": [
      "\u001b[36m\u001b[1m[ \u001b[22m\u001b[39m\u001b[36m\u001b[1mInfo: \u001b[22m\u001b[39mTime step 46 / 57\n",
      "\u001b[36m\u001b[1m[ \u001b[22m\u001b[39m\u001b[36m\u001b[1mInfo: \u001b[22m\u001b[39manalysis time index 46 uses the backgrond time index 222\n",
      "\u001b[36m\u001b[1m[ \u001b[22m\u001b[39m\u001b[36m\u001b[1mInfo: \u001b[22m\u001b[39mscaled correlation length (min,max) in dimension 1: (26002.33511528906, 77999.93927774779)\n",
      "\u001b[36m\u001b[1m[ \u001b[22m\u001b[39m\u001b[36m\u001b[1mInfo: \u001b[22m\u001b[39mscaled correlation length (min,max) in dimension 2: (26002.33511528906, 77999.93927774779)\n",
      "\u001b[36m\u001b[1m[ \u001b[22m\u001b[39m\u001b[36m\u001b[1mInfo: \u001b[22m\u001b[39mscaled correlation length (min,max) in dimension 3: (10.0, 50.0)\n",
      "\u001b[33m\u001b[1m┌ \u001b[22m\u001b[39m\u001b[33m\u001b[1mWarning: \u001b[22m\u001b[39mresolution (7.5) is too coarse for correlation length 10.0 in dimension 3 at indices CartesianIndex(47, 11, 6) (skipping further tests). It is recommended that the resolution is at least 2 times finer than the correlation length.\n",
      "\u001b[33m\u001b[1m└ \u001b[22m\u001b[39m\u001b[90m@ DIVAnd C:\\Users\\a001819\\.julia\\packages\\DIVAnd\\MV3j9\\src\\utils.jl:18\u001b[39m\n",
      "\u001b[36m\u001b[1m[ \u001b[22m\u001b[39m\u001b[36m\u001b[1mInfo: \u001b[22m\u001b[39mnumber of windows: 1\n"
     ]
    },
    {
     "name": "stdout",
     "output_type": "stream",
     "text": [
      "timeindex = 46\n"
     ]
    },
    {
     "name": "stderr",
     "output_type": "stream",
     "text": [
      "\u001b[36m\u001b[1m[ \u001b[22m\u001b[39m\u001b[36m\u001b[1mInfo: \u001b[22m\u001b[39mTime step 47 / 57\n",
      "\u001b[36m\u001b[1m[ \u001b[22m\u001b[39m\u001b[36m\u001b[1mInfo: \u001b[22m\u001b[39manalysis time index 47 uses the backgrond time index 226\n",
      "\u001b[36m\u001b[1m[ \u001b[22m\u001b[39m\u001b[36m\u001b[1mInfo: \u001b[22m\u001b[39mscaled correlation length (min,max) in dimension 1: (26002.33511528906, 77999.93927774779)\n",
      "\u001b[36m\u001b[1m[ \u001b[22m\u001b[39m\u001b[36m\u001b[1mInfo: \u001b[22m\u001b[39mscaled correlation length (min,max) in dimension 2: (26002.33511528906, 77999.93927774779)\n",
      "\u001b[36m\u001b[1m[ \u001b[22m\u001b[39m\u001b[36m\u001b[1mInfo: \u001b[22m\u001b[39mscaled correlation length (min,max) in dimension 3: (10.0, 50.0)\n",
      "\u001b[33m\u001b[1m┌ \u001b[22m\u001b[39m\u001b[33m\u001b[1mWarning: \u001b[22m\u001b[39mresolution (7.5) is too coarse for correlation length 10.0 in dimension 3 at indices CartesianIndex(47, 11, 6) (skipping further tests). It is recommended that the resolution is at least 2 times finer than the correlation length.\n",
      "\u001b[33m\u001b[1m└ \u001b[22m\u001b[39m\u001b[90m@ DIVAnd C:\\Users\\a001819\\.julia\\packages\\DIVAnd\\MV3j9\\src\\utils.jl:18\u001b[39m\n",
      "\u001b[36m\u001b[1m[ \u001b[22m\u001b[39m\u001b[36m\u001b[1mInfo: \u001b[22m\u001b[39mnumber of windows: 1\n"
     ]
    },
    {
     "name": "stdout",
     "output_type": "stream",
     "text": [
      "timeindex = 47\n"
     ]
    },
    {
     "name": "stderr",
     "output_type": "stream",
     "text": [
      "\u001b[36m\u001b[1m[ \u001b[22m\u001b[39m\u001b[36m\u001b[1mInfo: \u001b[22m\u001b[39mTime step 48 / 57\n",
      "\u001b[36m\u001b[1m[ \u001b[22m\u001b[39m\u001b[36m\u001b[1mInfo: \u001b[22m\u001b[39manalysis time index 48 uses the backgrond time index 230\n",
      "\u001b[36m\u001b[1m[ \u001b[22m\u001b[39m\u001b[36m\u001b[1mInfo: \u001b[22m\u001b[39mscaled correlation length (min,max) in dimension 1: (26002.33511528906, 77999.93927774779)\n",
      "\u001b[36m\u001b[1m[ \u001b[22m\u001b[39m\u001b[36m\u001b[1mInfo: \u001b[22m\u001b[39mscaled correlation length (min,max) in dimension 2: (26002.33511528906, 77999.93927774779)\n",
      "\u001b[36m\u001b[1m[ \u001b[22m\u001b[39m\u001b[36m\u001b[1mInfo: \u001b[22m\u001b[39mscaled correlation length (min,max) in dimension 3: (10.0, 50.0)\n",
      "\u001b[33m\u001b[1m┌ \u001b[22m\u001b[39m\u001b[33m\u001b[1mWarning: \u001b[22m\u001b[39mresolution (7.5) is too coarse for correlation length 10.0 in dimension 3 at indices CartesianIndex(47, 11, 6) (skipping further tests). It is recommended that the resolution is at least 2 times finer than the correlation length.\n",
      "\u001b[33m\u001b[1m└ \u001b[22m\u001b[39m\u001b[90m@ DIVAnd C:\\Users\\a001819\\.julia\\packages\\DIVAnd\\MV3j9\\src\\utils.jl:18\u001b[39m\n",
      "\u001b[36m\u001b[1m[ \u001b[22m\u001b[39m\u001b[36m\u001b[1mInfo: \u001b[22m\u001b[39mnumber of windows: 1\n"
     ]
    },
    {
     "name": "stdout",
     "output_type": "stream",
     "text": [
      "timeindex = 48\n"
     ]
    },
    {
     "name": "stderr",
     "output_type": "stream",
     "text": [
      "\u001b[36m\u001b[1m[ \u001b[22m\u001b[39m\u001b[36m\u001b[1mInfo: \u001b[22m\u001b[39mTime step 49 / 57\n",
      "\u001b[36m\u001b[1m[ \u001b[22m\u001b[39m\u001b[36m\u001b[1mInfo: \u001b[22m\u001b[39manalysis time index 49 uses the backgrond time index 234\n",
      "\u001b[36m\u001b[1m[ \u001b[22m\u001b[39m\u001b[36m\u001b[1mInfo: \u001b[22m\u001b[39mscaled correlation length (min,max) in dimension 1: (26002.33511528906, 77999.93927774779)\n",
      "\u001b[36m\u001b[1m[ \u001b[22m\u001b[39m\u001b[36m\u001b[1mInfo: \u001b[22m\u001b[39mscaled correlation length (min,max) in dimension 2: (26002.33511528906, 77999.93927774779)\n",
      "\u001b[36m\u001b[1m[ \u001b[22m\u001b[39m\u001b[36m\u001b[1mInfo: \u001b[22m\u001b[39mscaled correlation length (min,max) in dimension 3: (10.0, 50.0)\n",
      "\u001b[33m\u001b[1m┌ \u001b[22m\u001b[39m\u001b[33m\u001b[1mWarning: \u001b[22m\u001b[39mresolution (7.5) is too coarse for correlation length 10.0 in dimension 3 at indices CartesianIndex(47, 11, 6) (skipping further tests). It is recommended that the resolution is at least 2 times finer than the correlation length.\n",
      "\u001b[33m\u001b[1m└ \u001b[22m\u001b[39m\u001b[90m@ DIVAnd C:\\Users\\a001819\\.julia\\packages\\DIVAnd\\MV3j9\\src\\utils.jl:18\u001b[39m\n",
      "\u001b[36m\u001b[1m[ \u001b[22m\u001b[39m\u001b[36m\u001b[1mInfo: \u001b[22m\u001b[39mnumber of windows: 1\n"
     ]
    },
    {
     "name": "stdout",
     "output_type": "stream",
     "text": [
      "timeindex = 49\n"
     ]
    },
    {
     "name": "stderr",
     "output_type": "stream",
     "text": [
      "\u001b[36m\u001b[1m[ \u001b[22m\u001b[39m\u001b[36m\u001b[1mInfo: \u001b[22m\u001b[39mTime step 50 / 57\n",
      "\u001b[36m\u001b[1m[ \u001b[22m\u001b[39m\u001b[36m\u001b[1mInfo: \u001b[22m\u001b[39manalysis time index 50 uses the backgrond time index 238\n",
      "\u001b[36m\u001b[1m[ \u001b[22m\u001b[39m\u001b[36m\u001b[1mInfo: \u001b[22m\u001b[39mscaled correlation length (min,max) in dimension 1: (26002.33511528906, 77999.93927774779)\n",
      "\u001b[36m\u001b[1m[ \u001b[22m\u001b[39m\u001b[36m\u001b[1mInfo: \u001b[22m\u001b[39mscaled correlation length (min,max) in dimension 2: (26002.33511528906, 77999.93927774779)\n",
      "\u001b[36m\u001b[1m[ \u001b[22m\u001b[39m\u001b[36m\u001b[1mInfo: \u001b[22m\u001b[39mscaled correlation length (min,max) in dimension 3: (10.0, 50.0)\n",
      "\u001b[33m\u001b[1m┌ \u001b[22m\u001b[39m\u001b[33m\u001b[1mWarning: \u001b[22m\u001b[39mresolution (7.5) is too coarse for correlation length 10.0 in dimension 3 at indices CartesianIndex(47, 11, 6) (skipping further tests). It is recommended that the resolution is at least 2 times finer than the correlation length.\n",
      "\u001b[33m\u001b[1m└ \u001b[22m\u001b[39m\u001b[90m@ DIVAnd C:\\Users\\a001819\\.julia\\packages\\DIVAnd\\MV3j9\\src\\utils.jl:18\u001b[39m\n",
      "\u001b[36m\u001b[1m[ \u001b[22m\u001b[39m\u001b[36m\u001b[1mInfo: \u001b[22m\u001b[39mnumber of windows: 1\n"
     ]
    },
    {
     "name": "stdout",
     "output_type": "stream",
     "text": [
      "timeindex = 50\n"
     ]
    },
    {
     "name": "stderr",
     "output_type": "stream",
     "text": [
      "\u001b[36m\u001b[1m[ \u001b[22m\u001b[39m\u001b[36m\u001b[1mInfo: \u001b[22m\u001b[39mTime step 51 / 57\n",
      "\u001b[36m\u001b[1m[ \u001b[22m\u001b[39m\u001b[36m\u001b[1mInfo: \u001b[22m\u001b[39manalysis time index 51 uses the backgrond time index 242\n",
      "\u001b[36m\u001b[1m[ \u001b[22m\u001b[39m\u001b[36m\u001b[1mInfo: \u001b[22m\u001b[39mscaled correlation length (min,max) in dimension 1: (26002.33511528906, 77999.93927774779)\n",
      "\u001b[36m\u001b[1m[ \u001b[22m\u001b[39m\u001b[36m\u001b[1mInfo: \u001b[22m\u001b[39mscaled correlation length (min,max) in dimension 2: (26002.33511528906, 77999.93927774779)\n",
      "\u001b[36m\u001b[1m[ \u001b[22m\u001b[39m\u001b[36m\u001b[1mInfo: \u001b[22m\u001b[39mscaled correlation length (min,max) in dimension 3: (10.0, 50.0)\n",
      "\u001b[33m\u001b[1m┌ \u001b[22m\u001b[39m\u001b[33m\u001b[1mWarning: \u001b[22m\u001b[39mresolution (7.5) is too coarse for correlation length 10.0 in dimension 3 at indices CartesianIndex(47, 11, 6) (skipping further tests). It is recommended that the resolution is at least 2 times finer than the correlation length.\n",
      "\u001b[33m\u001b[1m└ \u001b[22m\u001b[39m\u001b[90m@ DIVAnd C:\\Users\\a001819\\.julia\\packages\\DIVAnd\\MV3j9\\src\\utils.jl:18\u001b[39m\n",
      "\u001b[36m\u001b[1m[ \u001b[22m\u001b[39m\u001b[36m\u001b[1mInfo: \u001b[22m\u001b[39mnumber of windows: 1\n"
     ]
    },
    {
     "name": "stdout",
     "output_type": "stream",
     "text": [
      "timeindex = 51\n"
     ]
    },
    {
     "name": "stderr",
     "output_type": "stream",
     "text": [
      "\u001b[36m\u001b[1m[ \u001b[22m\u001b[39m\u001b[36m\u001b[1mInfo: \u001b[22m\u001b[39mTime step 52 / 57\n",
      "\u001b[36m\u001b[1m[ \u001b[22m\u001b[39m\u001b[36m\u001b[1mInfo: \u001b[22m\u001b[39manalysis time index 52 uses the backgrond time index 246\n",
      "\u001b[36m\u001b[1m[ \u001b[22m\u001b[39m\u001b[36m\u001b[1mInfo: \u001b[22m\u001b[39mscaled correlation length (min,max) in dimension 1: (26002.33511528906, 77999.93927774779)\n",
      "\u001b[36m\u001b[1m[ \u001b[22m\u001b[39m\u001b[36m\u001b[1mInfo: \u001b[22m\u001b[39mscaled correlation length (min,max) in dimension 2: (26002.33511528906, 77999.93927774779)\n",
      "\u001b[36m\u001b[1m[ \u001b[22m\u001b[39m\u001b[36m\u001b[1mInfo: \u001b[22m\u001b[39mscaled correlation length (min,max) in dimension 3: (10.0, 50.0)\n",
      "\u001b[33m\u001b[1m┌ \u001b[22m\u001b[39m\u001b[33m\u001b[1mWarning: \u001b[22m\u001b[39mresolution (7.5) is too coarse for correlation length 10.0 in dimension 3 at indices CartesianIndex(47, 11, 6) (skipping further tests). It is recommended that the resolution is at least 2 times finer than the correlation length.\n",
      "\u001b[33m\u001b[1m└ \u001b[22m\u001b[39m\u001b[90m@ DIVAnd C:\\Users\\a001819\\.julia\\packages\\DIVAnd\\MV3j9\\src\\utils.jl:18\u001b[39m\n",
      "\u001b[36m\u001b[1m[ \u001b[22m\u001b[39m\u001b[36m\u001b[1mInfo: \u001b[22m\u001b[39mnumber of windows: 1\n"
     ]
    },
    {
     "name": "stdout",
     "output_type": "stream",
     "text": [
      "timeindex = 52\n"
     ]
    },
    {
     "name": "stderr",
     "output_type": "stream",
     "text": [
      "\u001b[36m\u001b[1m[ \u001b[22m\u001b[39m\u001b[36m\u001b[1mInfo: \u001b[22m\u001b[39mTime step 53 / 57\n",
      "\u001b[36m\u001b[1m[ \u001b[22m\u001b[39m\u001b[36m\u001b[1mInfo: \u001b[22m\u001b[39manalysis time index 53 uses the backgrond time index 250\n",
      "\u001b[36m\u001b[1m[ \u001b[22m\u001b[39m\u001b[36m\u001b[1mInfo: \u001b[22m\u001b[39mscaled correlation length (min,max) in dimension 1: (26002.33511528906, 77999.93927774779)\n",
      "\u001b[36m\u001b[1m[ \u001b[22m\u001b[39m\u001b[36m\u001b[1mInfo: \u001b[22m\u001b[39mscaled correlation length (min,max) in dimension 2: (26002.33511528906, 77999.93927774779)\n",
      "\u001b[36m\u001b[1m[ \u001b[22m\u001b[39m\u001b[36m\u001b[1mInfo: \u001b[22m\u001b[39mscaled correlation length (min,max) in dimension 3: (10.0, 50.0)\n",
      "\u001b[33m\u001b[1m┌ \u001b[22m\u001b[39m\u001b[33m\u001b[1mWarning: \u001b[22m\u001b[39mresolution (7.5) is too coarse for correlation length 10.0 in dimension 3 at indices CartesianIndex(47, 11, 6) (skipping further tests). It is recommended that the resolution is at least 2 times finer than the correlation length.\n",
      "\u001b[33m\u001b[1m└ \u001b[22m\u001b[39m\u001b[90m@ DIVAnd C:\\Users\\a001819\\.julia\\packages\\DIVAnd\\MV3j9\\src\\utils.jl:18\u001b[39m\n",
      "\u001b[36m\u001b[1m[ \u001b[22m\u001b[39m\u001b[36m\u001b[1mInfo: \u001b[22m\u001b[39mnumber of windows: 1\n"
     ]
    },
    {
     "name": "stdout",
     "output_type": "stream",
     "text": [
      "timeindex = 53\n"
     ]
    },
    {
     "name": "stderr",
     "output_type": "stream",
     "text": [
      "\u001b[36m\u001b[1m[ \u001b[22m\u001b[39m\u001b[36m\u001b[1mInfo: \u001b[22m\u001b[39mTime step 54 / 57\n",
      "\u001b[36m\u001b[1m[ \u001b[22m\u001b[39m\u001b[36m\u001b[1mInfo: \u001b[22m\u001b[39manalysis time index 54 uses the backgrond time index 254\n",
      "\u001b[36m\u001b[1m[ \u001b[22m\u001b[39m\u001b[36m\u001b[1mInfo: \u001b[22m\u001b[39mscaled correlation length (min,max) in dimension 1: (26002.33511528906, 77999.93927774779)\n",
      "\u001b[36m\u001b[1m[ \u001b[22m\u001b[39m\u001b[36m\u001b[1mInfo: \u001b[22m\u001b[39mscaled correlation length (min,max) in dimension 2: (26002.33511528906, 77999.93927774779)\n",
      "\u001b[36m\u001b[1m[ \u001b[22m\u001b[39m\u001b[36m\u001b[1mInfo: \u001b[22m\u001b[39mscaled correlation length (min,max) in dimension 3: (10.0, 50.0)\n",
      "\u001b[33m\u001b[1m┌ \u001b[22m\u001b[39m\u001b[33m\u001b[1mWarning: \u001b[22m\u001b[39mresolution (7.5) is too coarse for correlation length 10.0 in dimension 3 at indices CartesianIndex(47, 11, 6) (skipping further tests). It is recommended that the resolution is at least 2 times finer than the correlation length.\n",
      "\u001b[33m\u001b[1m└ \u001b[22m\u001b[39m\u001b[90m@ DIVAnd C:\\Users\\a001819\\.julia\\packages\\DIVAnd\\MV3j9\\src\\utils.jl:18\u001b[39m\n",
      "\u001b[36m\u001b[1m[ \u001b[22m\u001b[39m\u001b[36m\u001b[1mInfo: \u001b[22m\u001b[39mnumber of windows: 1\n"
     ]
    },
    {
     "name": "stdout",
     "output_type": "stream",
     "text": [
      "timeindex = 54\n"
     ]
    },
    {
     "name": "stderr",
     "output_type": "stream",
     "text": [
      "\u001b[36m\u001b[1m[ \u001b[22m\u001b[39m\u001b[36m\u001b[1mInfo: \u001b[22m\u001b[39mTime step 55 / 57\n",
      "\u001b[36m\u001b[1m[ \u001b[22m\u001b[39m\u001b[36m\u001b[1mInfo: \u001b[22m\u001b[39manalysis time index 55 uses the backgrond time index 258\n",
      "\u001b[36m\u001b[1m[ \u001b[22m\u001b[39m\u001b[36m\u001b[1mInfo: \u001b[22m\u001b[39mscaled correlation length (min,max) in dimension 1: (26002.33511528906, 77999.93927774779)\n",
      "\u001b[36m\u001b[1m[ \u001b[22m\u001b[39m\u001b[36m\u001b[1mInfo: \u001b[22m\u001b[39mscaled correlation length (min,max) in dimension 2: (26002.33511528906, 77999.93927774779)\n",
      "\u001b[36m\u001b[1m[ \u001b[22m\u001b[39m\u001b[36m\u001b[1mInfo: \u001b[22m\u001b[39mscaled correlation length (min,max) in dimension 3: (10.0, 50.0)\n",
      "\u001b[33m\u001b[1m┌ \u001b[22m\u001b[39m\u001b[33m\u001b[1mWarning: \u001b[22m\u001b[39mresolution (7.5) is too coarse for correlation length 10.0 in dimension 3 at indices CartesianIndex(47, 11, 6) (skipping further tests). It is recommended that the resolution is at least 2 times finer than the correlation length.\n",
      "\u001b[33m\u001b[1m└ \u001b[22m\u001b[39m\u001b[90m@ DIVAnd C:\\Users\\a001819\\.julia\\packages\\DIVAnd\\MV3j9\\src\\utils.jl:18\u001b[39m\n",
      "\u001b[36m\u001b[1m[ \u001b[22m\u001b[39m\u001b[36m\u001b[1mInfo: \u001b[22m\u001b[39mnumber of windows: 1\n"
     ]
    },
    {
     "name": "stdout",
     "output_type": "stream",
     "text": [
      "timeindex = 55\n"
     ]
    },
    {
     "name": "stderr",
     "output_type": "stream",
     "text": [
      "\u001b[36m\u001b[1m[ \u001b[22m\u001b[39m\u001b[36m\u001b[1mInfo: \u001b[22m\u001b[39mTime step 56 / 57\n",
      "\u001b[36m\u001b[1m[ \u001b[22m\u001b[39m\u001b[36m\u001b[1mInfo: \u001b[22m\u001b[39manalysis time index 56 uses the backgrond time index 262\n",
      "\u001b[36m\u001b[1m[ \u001b[22m\u001b[39m\u001b[36m\u001b[1mInfo: \u001b[22m\u001b[39mscaled correlation length (min,max) in dimension 1: (26002.33511528906, 77999.93927774779)\n",
      "\u001b[36m\u001b[1m[ \u001b[22m\u001b[39m\u001b[36m\u001b[1mInfo: \u001b[22m\u001b[39mscaled correlation length (min,max) in dimension 2: (26002.33511528906, 77999.93927774779)\n",
      "\u001b[36m\u001b[1m[ \u001b[22m\u001b[39m\u001b[36m\u001b[1mInfo: \u001b[22m\u001b[39mscaled correlation length (min,max) in dimension 3: (10.0, 50.0)\n",
      "\u001b[33m\u001b[1m┌ \u001b[22m\u001b[39m\u001b[33m\u001b[1mWarning: \u001b[22m\u001b[39mresolution (7.5) is too coarse for correlation length 10.0 in dimension 3 at indices CartesianIndex(47, 11, 6) (skipping further tests). It is recommended that the resolution is at least 2 times finer than the correlation length.\n",
      "\u001b[33m\u001b[1m└ \u001b[22m\u001b[39m\u001b[90m@ DIVAnd C:\\Users\\a001819\\.julia\\packages\\DIVAnd\\MV3j9\\src\\utils.jl:18\u001b[39m\n",
      "\u001b[36m\u001b[1m[ \u001b[22m\u001b[39m\u001b[36m\u001b[1mInfo: \u001b[22m\u001b[39mnumber of windows: 1\n"
     ]
    },
    {
     "name": "stdout",
     "output_type": "stream",
     "text": [
      "timeindex = 56\n"
     ]
    },
    {
     "name": "stderr",
     "output_type": "stream",
     "text": [
      "\u001b[36m\u001b[1m[ \u001b[22m\u001b[39m\u001b[36m\u001b[1mInfo: \u001b[22m\u001b[39mTime step 57 / 57\n",
      "\u001b[36m\u001b[1m[ \u001b[22m\u001b[39m\u001b[36m\u001b[1mInfo: \u001b[22m\u001b[39manalysis time index 57 uses the backgrond time index 266\n",
      "\u001b[36m\u001b[1m[ \u001b[22m\u001b[39m\u001b[36m\u001b[1mInfo: \u001b[22m\u001b[39mscaled correlation length (min,max) in dimension 1: (26002.33511528906, 77999.93927774779)\n",
      "\u001b[36m\u001b[1m[ \u001b[22m\u001b[39m\u001b[36m\u001b[1mInfo: \u001b[22m\u001b[39mscaled correlation length (min,max) in dimension 2: (26002.33511528906, 77999.93927774779)\n",
      "\u001b[36m\u001b[1m[ \u001b[22m\u001b[39m\u001b[36m\u001b[1mInfo: \u001b[22m\u001b[39mscaled correlation length (min,max) in dimension 3: (10.0, 50.0)\n",
      "\u001b[33m\u001b[1m┌ \u001b[22m\u001b[39m\u001b[33m\u001b[1mWarning: \u001b[22m\u001b[39mresolution (7.5) is too coarse for correlation length 10.0 in dimension 3 at indices CartesianIndex(47, 11, 6) (skipping further tests). It is recommended that the resolution is at least 2 times finer than the correlation length.\n",
      "\u001b[33m\u001b[1m└ \u001b[22m\u001b[39m\u001b[90m@ DIVAnd C:\\Users\\a001819\\.julia\\packages\\DIVAnd\\MV3j9\\src\\utils.jl:18\u001b[39m\n",
      "\u001b[36m\u001b[1m[ \u001b[22m\u001b[39m\u001b[36m\u001b[1mInfo: \u001b[22m\u001b[39mnumber of windows: 1\n"
     ]
    },
    {
     "name": "stdout",
     "output_type": "stream",
     "text": [
      "timeindex = 57\n",
      "3279.638122 seconds (1.42 G allocations: 657.185 GiB, 3.17% gc time, 0.00% compilation time)\n"
     ]
    },
    {
     "name": "stderr",
     "output_type": "stream",
     "text": [
      "\u001b[36m\u001b[1m[ \u001b[22m\u001b[39m\u001b[36m\u001b[1mInfo: \u001b[22m\u001b[39mCreating new variable Water body dissolved oxygen concentration_deepest\n",
      "\u001b[36m\u001b[1m[ \u001b[22m\u001b[39m\u001b[36m\u001b[1mInfo: \u001b[22m\u001b[39mWorking on 21 depth layers\n",
      "\u001b[36m\u001b[1m[ \u001b[22m\u001b[39m\u001b[36m\u001b[1mInfo: \u001b[22m\u001b[39msize = (217, 131, 21)\n",
      "\u001b[36m\u001b[1m[ \u001b[22m\u001b[39m\u001b[36m\u001b[1mInfo: \u001b[22m\u001b[39mCreating new variable Water body dissolved oxygen concentration_deepest_depth\n",
      "\u001b[36m\u001b[1m[ \u001b[22m\u001b[39m\u001b[36m\u001b[1mInfo: \u001b[22m\u001b[39mDepth index: 1\n",
      "\u001b[36m\u001b[1m[ \u001b[22m\u001b[39m\u001b[36m\u001b[1mInfo: \u001b[22m\u001b[39mFound 6696 non missing values for depth 0.0\n",
      "\u001b[36m\u001b[1m[ \u001b[22m\u001b[39m\u001b[36m\u001b[1mInfo: \u001b[22m\u001b[39mDepth index: 2\n",
      "\u001b[36m\u001b[1m[ \u001b[22m\u001b[39m\u001b[36m\u001b[1mInfo: \u001b[22m\u001b[39mFound 6284 non missing values for depth 5.0\n",
      "\u001b[36m\u001b[1m[ \u001b[22m\u001b[39m\u001b[36m\u001b[1mInfo: \u001b[22m\u001b[39mDepth index: 3\n",
      "\u001b[36m\u001b[1m[ \u001b[22m\u001b[39m\u001b[36m\u001b[1mInfo: \u001b[22m\u001b[39mFound 5764 non missing values for depth 10.0\n",
      "\u001b[36m\u001b[1m[ \u001b[22m\u001b[39m\u001b[36m\u001b[1mInfo: \u001b[22m\u001b[39mDepth index: 4\n",
      "\u001b[36m\u001b[1m[ \u001b[22m\u001b[39m\u001b[36m\u001b[1mInfo: \u001b[22m\u001b[39mFound 5273 non missing values for depth 15.0\n",
      "\u001b[36m\u001b[1m[ \u001b[22m\u001b[39m\u001b[36m\u001b[1mInfo: \u001b[22m\u001b[39mDepth index: 5\n",
      "\u001b[36m\u001b[1m[ \u001b[22m\u001b[39m\u001b[36m\u001b[1mInfo: \u001b[22m\u001b[39mFound 4762 non missing values for depth 20.0\n",
      "\u001b[36m\u001b[1m[ \u001b[22m\u001b[39m\u001b[36m\u001b[1mInfo: \u001b[22m\u001b[39mDepth index: 6\n",
      "\u001b[36m\u001b[1m[ \u001b[22m\u001b[39m\u001b[36m\u001b[1mInfo: \u001b[22m\u001b[39mFound 4004 non missing values for depth 30.0\n",
      "\u001b[36m\u001b[1m[ \u001b[22m\u001b[39m\u001b[36m\u001b[1mInfo: \u001b[22m\u001b[39mDepth index: 7\n",
      "\u001b[36m\u001b[1m[ \u001b[22m\u001b[39m\u001b[36m\u001b[1mInfo: \u001b[22m\u001b[39mFound 3379 non missing values for depth 40.0\n",
      "\u001b[36m\u001b[1m[ \u001b[22m\u001b[39m\u001b[36m\u001b[1mInfo: \u001b[22m\u001b[39mDepth index: 8\n",
      "\u001b[36m\u001b[1m[ \u001b[22m\u001b[39m\u001b[36m\u001b[1mInfo: \u001b[22m\u001b[39mFound 2833 non missing values for depth 50.0\n",
      "\u001b[36m\u001b[1m[ \u001b[22m\u001b[39m\u001b[36m\u001b[1mInfo: \u001b[22m\u001b[39mDepth index: 9\n",
      "\u001b[36m\u001b[1m[ \u001b[22m\u001b[39m\u001b[36m\u001b[1mInfo: \u001b[22m\u001b[39mFound 2393 non missing values for depth 60.0\n",
      "\u001b[36m\u001b[1m[ \u001b[22m\u001b[39m\u001b[36m\u001b[1mInfo: \u001b[22m\u001b[39mDepth index: 10\n",
      "\u001b[36m\u001b[1m[ \u001b[22m\u001b[39m\u001b[36m\u001b[1mInfo: \u001b[22m\u001b[39mFound 2012 non missing values for depth 70.0\n",
      "\u001b[36m\u001b[1m[ \u001b[22m\u001b[39m\u001b[36m\u001b[1mInfo: \u001b[22m\u001b[39mDepth index: 11\n",
      "\u001b[36m\u001b[1m[ \u001b[22m\u001b[39m\u001b[36m\u001b[1mInfo: \u001b[22m\u001b[39mFound 1620 non missing values for depth 80.0\n",
      "\u001b[36m\u001b[1m[ \u001b[22m\u001b[39m\u001b[36m\u001b[1mInfo: \u001b[22m\u001b[39mDepth index: 12\n",
      "\u001b[36m\u001b[1m[ \u001b[22m\u001b[39m\u001b[36m\u001b[1mInfo: \u001b[22m\u001b[39mFound 1216 non missing values for depth 90.0\n",
      "\u001b[36m\u001b[1m[ \u001b[22m\u001b[39m\u001b[36m\u001b[1mInfo: \u001b[22m\u001b[39mDepth index: 13\n",
      "\u001b[36m\u001b[1m[ \u001b[22m\u001b[39m\u001b[36m\u001b[1mInfo: \u001b[22m\u001b[39mFound 897 non missing values for depth 100.0\n",
      "\u001b[36m\u001b[1m[ \u001b[22m\u001b[39m\u001b[36m\u001b[1mInfo: \u001b[22m\u001b[39mDepth index: 14\n",
      "\u001b[36m\u001b[1m[ \u001b[22m\u001b[39m\u001b[36m\u001b[1mInfo: \u001b[22m\u001b[39mFound 481 non missing values for depth 125.0\n",
      "\u001b[36m\u001b[1m[ \u001b[22m\u001b[39m\u001b[36m\u001b[1mInfo: \u001b[22m\u001b[39mDepth index: 15\n",
      "\u001b[36m\u001b[1m[ \u001b[22m\u001b[39m\u001b[36m\u001b[1mInfo: \u001b[22m\u001b[39mFound 268 non missing values for depth 150.0\n",
      "\u001b[36m\u001b[1m[ \u001b[22m\u001b[39m\u001b[36m\u001b[1mInfo: \u001b[22m\u001b[39mDepth index: 16\n",
      "\u001b[36m\u001b[1m[ \u001b[22m\u001b[39m\u001b[36m\u001b[1mInfo: \u001b[22m\u001b[39mFound 160 non missing values for depth 175.0\n",
      "\u001b[36m\u001b[1m[ \u001b[22m\u001b[39m\u001b[36m\u001b[1mInfo: \u001b[22m\u001b[39mDepth index: 17\n",
      "\u001b[36m\u001b[1m[ \u001b[22m\u001b[39m\u001b[36m\u001b[1mInfo: \u001b[22m\u001b[39mFound 114 non missing values for depth 200.0\n",
      "\u001b[36m\u001b[1m[ \u001b[22m\u001b[39m\u001b[36m\u001b[1mInfo: \u001b[22m\u001b[39mDepth index: 18\n",
      "\u001b[36m\u001b[1m[ \u001b[22m\u001b[39m\u001b[36m\u001b[1mInfo: \u001b[22m\u001b[39mFound 90 non missing values for depth 225.0\n",
      "\u001b[36m\u001b[1m[ \u001b[22m\u001b[39m\u001b[36m\u001b[1mInfo: \u001b[22m\u001b[39mDepth index: 19\n",
      "\u001b[36m\u001b[1m[ \u001b[22m\u001b[39m\u001b[36m\u001b[1mInfo: \u001b[22m\u001b[39mFound 75 non missing values for depth 250.0\n",
      "\u001b[36m\u001b[1m[ \u001b[22m\u001b[39m\u001b[36m\u001b[1mInfo: \u001b[22m\u001b[39mDepth index: 20\n",
      "\u001b[36m\u001b[1m[ \u001b[22m\u001b[39m\u001b[36m\u001b[1mInfo: \u001b[22m\u001b[39mFound 70 non missing values for depth 275.0\n",
      "\u001b[36m\u001b[1m[ \u001b[22m\u001b[39m\u001b[36m\u001b[1mInfo: \u001b[22m\u001b[39mDepth index: 21\n",
      "\u001b[36m\u001b[1m[ \u001b[22m\u001b[39m\u001b[36m\u001b[1mInfo: \u001b[22m\u001b[39mFound 67 non missing values for depth 300.0\n",
      "\u001b[36m\u001b[1m[ \u001b[22m\u001b[39m\u001b[36m\u001b[1mInfo: \u001b[22m\u001b[39mWritten new variable deepest depth\n",
      "\u001b[36m\u001b[1m[ \u001b[22m\u001b[39m\u001b[36m\u001b[1mInfo: \u001b[22m\u001b[39mkeeping: 23158\n",
      "\u001b[36m\u001b[1m[ \u001b[22m\u001b[39m\u001b[36m\u001b[1mInfo: \u001b[22m\u001b[39mSlicing lon[(1:216,)]\n",
      "\u001b[36m\u001b[1m[ \u001b[22m\u001b[39m\u001b[36m\u001b[1mInfo: \u001b[22m\u001b[39mSlicing lat[(1:130,)]\n",
      "\u001b[36m\u001b[1m[ \u001b[22m\u001b[39m\u001b[36m\u001b[1mInfo: \u001b[22m\u001b[39mSlicing depth[(Colon(),)]\n",
      "\u001b[36m\u001b[1m[ \u001b[22m\u001b[39m\u001b[36m\u001b[1mInfo: \u001b[22m\u001b[39mSlicing time[(Colon(),)]\n",
      "\u001b[36m\u001b[1m[ \u001b[22m\u001b[39m\u001b[36m\u001b[1mInfo: \u001b[22m\u001b[39mSlicing climatology_bounds[(Colon(), Colon())]\n",
      "\u001b[36m\u001b[1m[ \u001b[22m\u001b[39m\u001b[36m\u001b[1mInfo: \u001b[22m\u001b[39mSlicing Water body dissolved oxygen concentration[(1:216, 1:130, Colon(), Colon())]\n",
      "\u001b[36m\u001b[1m[ \u001b[22m\u001b[39m\u001b[36m\u001b[1mInfo: \u001b[22m\u001b[39mSlicing Water body dissolved oxygen concentration_L1[(1:216, 1:130, Colon(), Colon())]\n",
      "\u001b[36m\u001b[1m[ \u001b[22m\u001b[39m\u001b[36m\u001b[1mInfo: \u001b[22m\u001b[39mSlicing Water body dissolved oxygen concentration_L2[(1:216, 1:130, Colon(), Colon())]\n",
      "\u001b[36m\u001b[1m[ \u001b[22m\u001b[39m\u001b[36m\u001b[1mInfo: \u001b[22m\u001b[39mSlicing Water body dissolved oxygen concentration_relerr[(1:216, 1:130, Colon(), Colon())]\n",
      "\u001b[36m\u001b[1m[ \u001b[22m\u001b[39m\u001b[36m\u001b[1mInfo: \u001b[22m\u001b[39mSlicing obslon[(Colon(),)]\n",
      "\u001b[36m\u001b[1m[ \u001b[22m\u001b[39m\u001b[36m\u001b[1mInfo: \u001b[22m\u001b[39mSlicing obslat[(Colon(),)]\n",
      "\u001b[36m\u001b[1m[ \u001b[22m\u001b[39m\u001b[36m\u001b[1mInfo: \u001b[22m\u001b[39mSlicing obstime[(Colon(),)]\n",
      "\u001b[36m\u001b[1m[ \u001b[22m\u001b[39m\u001b[36m\u001b[1mInfo: \u001b[22m\u001b[39mSlicing obsdepth[(Colon(),)]\n",
      "\u001b[36m\u001b[1m[ \u001b[22m\u001b[39m\u001b[36m\u001b[1mInfo: \u001b[22m\u001b[39mSlicing obsid[(Colon(), Colon())]\n",
      "\u001b[36m\u001b[1m[ \u001b[22m\u001b[39m\u001b[36m\u001b[1mInfo: \u001b[22m\u001b[39mSlicing Water body dissolved oxygen concentration_deepest[(1:216, 1:130, Colon())]\n",
      "\u001b[36m\u001b[1m[ \u001b[22m\u001b[39m\u001b[36m\u001b[1mInfo: \u001b[22m\u001b[39mSlicing Water body dissolved oxygen concentration_deepest_L1[(1:216, 1:130, Colon())]\n",
      "\u001b[36m\u001b[1m[ \u001b[22m\u001b[39m\u001b[36m\u001b[1mInfo: \u001b[22m\u001b[39mSlicing Water body dissolved oxygen concentration_deepest_L2[(1:216, 1:130, Colon())]\n",
      "\u001b[36m\u001b[1m[ \u001b[22m\u001b[39m\u001b[36m\u001b[1mInfo: \u001b[22m\u001b[39mSlicing Water body dissolved oxygen concentration_deepest_depth[(1:216, 1:130)]\n",
      "\u001b[36m\u001b[1m[ \u001b[22m\u001b[39m\u001b[36m\u001b[1mInfo: \u001b[22m\u001b[39mstarting DIVAnd computations for Summer\n",
      "\u001b[36m\u001b[1m[ \u001b[22m\u001b[39m\u001b[36m\u001b[1mInfo: \u001b[22m\u001b[39m2023-02-19T01:31:59.286\n",
      "\u001b[36m\u001b[1m[ \u001b[22m\u001b[39m\u001b[36m\u001b[1mInfo: \u001b[22m\u001b[39mWill write results in ./resultat/output/6y_back6y_3_xy/O2/Water_body_dissolved_oxygen_concentration_Summer_0.4Danl.nc\n",
      "\u001b[36m\u001b[1m[ \u001b[22m\u001b[39m\u001b[36m\u001b[1mInfo: \u001b[22m\u001b[39mCreating netCDF file ./resultat/output/6y_back6y_3_xy/O2/Water_body_dissolved_oxygen_concentration_Summer_0.4Danl.nc\n",
      "\u001b[36m\u001b[1m[ \u001b[22m\u001b[39m\u001b[36m\u001b[1mInfo: \u001b[22m\u001b[39mTime step 1 / 57\n",
      "\u001b[36m\u001b[1m[ \u001b[22m\u001b[39m\u001b[36m\u001b[1mInfo: \u001b[22m\u001b[39manalysis time index 1 uses the backgrond time index 43\n",
      "\u001b[36m\u001b[1m[ \u001b[22m\u001b[39m\u001b[36m\u001b[1mInfo: \u001b[22m\u001b[39mscaled correlation length (min,max) in dimension 1: (26002.33511528906, 77999.93927774779)\n",
      "\u001b[36m\u001b[1m[ \u001b[22m\u001b[39m\u001b[36m\u001b[1mInfo: \u001b[22m\u001b[39mscaled correlation length (min,max) in dimension 2: (26002.33511528906, 77999.93927774779)\n",
      "\u001b[36m\u001b[1m[ \u001b[22m\u001b[39m\u001b[36m\u001b[1mInfo: \u001b[22m\u001b[39mscaled correlation length (min,max) in dimension 3: (10.0, 50.0)\n",
      "\u001b[33m\u001b[1m┌ \u001b[22m\u001b[39m\u001b[33m\u001b[1mWarning: \u001b[22m\u001b[39mresolution (7.5) is too coarse for correlation length 10.0 in dimension 3 at indices CartesianIndex(47, 11, 6) (skipping further tests). It is recommended that the resolution is at least 2 times finer than the correlation length.\n",
      "\u001b[33m\u001b[1m└ \u001b[22m\u001b[39m\u001b[90m@ DIVAnd C:\\Users\\a001819\\.julia\\packages\\DIVAnd\\MV3j9\\src\\utils.jl:18\u001b[39m\n",
      "\u001b[36m\u001b[1m[ \u001b[22m\u001b[39m\u001b[36m\u001b[1mInfo: \u001b[22m\u001b[39mnumber of windows: 1\n"
     ]
    },
    {
     "name": "stdout",
     "output_type": "stream",
     "text": [
      "timeindex = 1\n"
     ]
    },
    {
     "name": "stderr",
     "output_type": "stream",
     "text": [
      "\u001b[36m\u001b[1m[ \u001b[22m\u001b[39m\u001b[36m\u001b[1mInfo: \u001b[22m\u001b[39mTime step 2 / 57\n",
      "\u001b[36m\u001b[1m[ \u001b[22m\u001b[39m\u001b[36m\u001b[1mInfo: \u001b[22m\u001b[39manalysis time index 2 uses the backgrond time index 47\n",
      "\u001b[36m\u001b[1m[ \u001b[22m\u001b[39m\u001b[36m\u001b[1mInfo: \u001b[22m\u001b[39mscaled correlation length (min,max) in dimension 1: (26002.33511528906, 77999.93927774779)\n",
      "\u001b[36m\u001b[1m[ \u001b[22m\u001b[39m\u001b[36m\u001b[1mInfo: \u001b[22m\u001b[39mscaled correlation length (min,max) in dimension 2: (26002.33511528906, 77999.93927774779)\n",
      "\u001b[36m\u001b[1m[ \u001b[22m\u001b[39m\u001b[36m\u001b[1mInfo: \u001b[22m\u001b[39mscaled correlation length (min,max) in dimension 3: (10.0, 50.0)\n",
      "\u001b[33m\u001b[1m┌ \u001b[22m\u001b[39m\u001b[33m\u001b[1mWarning: \u001b[22m\u001b[39mresolution (7.5) is too coarse for correlation length 10.0 in dimension 3 at indices CartesianIndex(47, 11, 6) (skipping further tests). It is recommended that the resolution is at least 2 times finer than the correlation length.\n",
      "\u001b[33m\u001b[1m└ \u001b[22m\u001b[39m\u001b[90m@ DIVAnd C:\\Users\\a001819\\.julia\\packages\\DIVAnd\\MV3j9\\src\\utils.jl:18\u001b[39m\n",
      "\u001b[36m\u001b[1m[ \u001b[22m\u001b[39m\u001b[36m\u001b[1mInfo: \u001b[22m\u001b[39mnumber of windows: 1\n"
     ]
    },
    {
     "name": "stdout",
     "output_type": "stream",
     "text": [
      "timeindex = 2\n"
     ]
    },
    {
     "name": "stderr",
     "output_type": "stream",
     "text": [
      "\u001b[36m\u001b[1m[ \u001b[22m\u001b[39m\u001b[36m\u001b[1mInfo: \u001b[22m\u001b[39mTime step 3 / 57\n",
      "\u001b[36m\u001b[1m[ \u001b[22m\u001b[39m\u001b[36m\u001b[1mInfo: \u001b[22m\u001b[39manalysis time index 3 uses the backgrond time index 51\n",
      "\u001b[36m\u001b[1m[ \u001b[22m\u001b[39m\u001b[36m\u001b[1mInfo: \u001b[22m\u001b[39mscaled correlation length (min,max) in dimension 1: (26002.33511528906, 77999.93927774779)\n",
      "\u001b[36m\u001b[1m[ \u001b[22m\u001b[39m\u001b[36m\u001b[1mInfo: \u001b[22m\u001b[39mscaled correlation length (min,max) in dimension 2: (26002.33511528906, 77999.93927774779)\n",
      "\u001b[36m\u001b[1m[ \u001b[22m\u001b[39m\u001b[36m\u001b[1mInfo: \u001b[22m\u001b[39mscaled correlation length (min,max) in dimension 3: (10.0, 50.0)\n",
      "\u001b[33m\u001b[1m┌ \u001b[22m\u001b[39m\u001b[33m\u001b[1mWarning: \u001b[22m\u001b[39mresolution (7.5) is too coarse for correlation length 10.0 in dimension 3 at indices CartesianIndex(47, 11, 6) (skipping further tests). It is recommended that the resolution is at least 2 times finer than the correlation length.\n",
      "\u001b[33m\u001b[1m└ \u001b[22m\u001b[39m\u001b[90m@ DIVAnd C:\\Users\\a001819\\.julia\\packages\\DIVAnd\\MV3j9\\src\\utils.jl:18\u001b[39m\n",
      "\u001b[36m\u001b[1m[ \u001b[22m\u001b[39m\u001b[36m\u001b[1mInfo: \u001b[22m\u001b[39mnumber of windows: 1\n"
     ]
    },
    {
     "name": "stdout",
     "output_type": "stream",
     "text": [
      "timeindex = 3\n"
     ]
    },
    {
     "name": "stderr",
     "output_type": "stream",
     "text": [
      "\u001b[36m\u001b[1m[ \u001b[22m\u001b[39m\u001b[36m\u001b[1mInfo: \u001b[22m\u001b[39mTime step 4 / 57\n",
      "\u001b[36m\u001b[1m[ \u001b[22m\u001b[39m\u001b[36m\u001b[1mInfo: \u001b[22m\u001b[39manalysis time index 4 uses the backgrond time index 55\n",
      "\u001b[36m\u001b[1m[ \u001b[22m\u001b[39m\u001b[36m\u001b[1mInfo: \u001b[22m\u001b[39mscaled correlation length (min,max) in dimension 1: (26002.33511528906, 77999.93927774779)\n",
      "\u001b[36m\u001b[1m[ \u001b[22m\u001b[39m\u001b[36m\u001b[1mInfo: \u001b[22m\u001b[39mscaled correlation length (min,max) in dimension 2: (26002.33511528906, 77999.93927774779)\n",
      "\u001b[36m\u001b[1m[ \u001b[22m\u001b[39m\u001b[36m\u001b[1mInfo: \u001b[22m\u001b[39mscaled correlation length (min,max) in dimension 3: (10.0, 50.0)\n",
      "\u001b[33m\u001b[1m┌ \u001b[22m\u001b[39m\u001b[33m\u001b[1mWarning: \u001b[22m\u001b[39mresolution (7.5) is too coarse for correlation length 10.0 in dimension 3 at indices CartesianIndex(47, 11, 6) (skipping further tests). It is recommended that the resolution is at least 2 times finer than the correlation length.\n",
      "\u001b[33m\u001b[1m└ \u001b[22m\u001b[39m\u001b[90m@ DIVAnd C:\\Users\\a001819\\.julia\\packages\\DIVAnd\\MV3j9\\src\\utils.jl:18\u001b[39m\n",
      "\u001b[36m\u001b[1m[ \u001b[22m\u001b[39m\u001b[36m\u001b[1mInfo: \u001b[22m\u001b[39mnumber of windows: 1\n"
     ]
    },
    {
     "name": "stdout",
     "output_type": "stream",
     "text": [
      "timeindex = 4\n"
     ]
    },
    {
     "name": "stderr",
     "output_type": "stream",
     "text": [
      "\u001b[36m\u001b[1m[ \u001b[22m\u001b[39m\u001b[36m\u001b[1mInfo: \u001b[22m\u001b[39mTime step 5 / 57\n",
      "\u001b[36m\u001b[1m[ \u001b[22m\u001b[39m\u001b[36m\u001b[1mInfo: \u001b[22m\u001b[39manalysis time index 5 uses the backgrond time index 59\n",
      "\u001b[36m\u001b[1m[ \u001b[22m\u001b[39m\u001b[36m\u001b[1mInfo: \u001b[22m\u001b[39mscaled correlation length (min,max) in dimension 1: (26002.33511528906, 77999.93927774779)\n",
      "\u001b[36m\u001b[1m[ \u001b[22m\u001b[39m\u001b[36m\u001b[1mInfo: \u001b[22m\u001b[39mscaled correlation length (min,max) in dimension 2: (26002.33511528906, 77999.93927774779)\n",
      "\u001b[36m\u001b[1m[ \u001b[22m\u001b[39m\u001b[36m\u001b[1mInfo: \u001b[22m\u001b[39mscaled correlation length (min,max) in dimension 3: (10.0, 50.0)\n",
      "\u001b[33m\u001b[1m┌ \u001b[22m\u001b[39m\u001b[33m\u001b[1mWarning: \u001b[22m\u001b[39mresolution (7.5) is too coarse for correlation length 10.0 in dimension 3 at indices CartesianIndex(47, 11, 6) (skipping further tests). It is recommended that the resolution is at least 2 times finer than the correlation length.\n",
      "\u001b[33m\u001b[1m└ \u001b[22m\u001b[39m\u001b[90m@ DIVAnd C:\\Users\\a001819\\.julia\\packages\\DIVAnd\\MV3j9\\src\\utils.jl:18\u001b[39m\n",
      "\u001b[36m\u001b[1m[ \u001b[22m\u001b[39m\u001b[36m\u001b[1mInfo: \u001b[22m\u001b[39mnumber of windows: 1\n"
     ]
    },
    {
     "name": "stdout",
     "output_type": "stream",
     "text": [
      "timeindex = 5\n"
     ]
    },
    {
     "name": "stderr",
     "output_type": "stream",
     "text": [
      "\u001b[36m\u001b[1m[ \u001b[22m\u001b[39m\u001b[36m\u001b[1mInfo: \u001b[22m\u001b[39mTime step 6 / 57\n",
      "\u001b[36m\u001b[1m[ \u001b[22m\u001b[39m\u001b[36m\u001b[1mInfo: \u001b[22m\u001b[39manalysis time index 6 uses the backgrond time index 63\n",
      "\u001b[36m\u001b[1m[ \u001b[22m\u001b[39m\u001b[36m\u001b[1mInfo: \u001b[22m\u001b[39mscaled correlation length (min,max) in dimension 1: (26002.33511528906, 77999.93927774779)\n",
      "\u001b[36m\u001b[1m[ \u001b[22m\u001b[39m\u001b[36m\u001b[1mInfo: \u001b[22m\u001b[39mscaled correlation length (min,max) in dimension 2: (26002.33511528906, 77999.93927774779)\n",
      "\u001b[36m\u001b[1m[ \u001b[22m\u001b[39m\u001b[36m\u001b[1mInfo: \u001b[22m\u001b[39mscaled correlation length (min,max) in dimension 3: (10.0, 50.0)\n",
      "\u001b[33m\u001b[1m┌ \u001b[22m\u001b[39m\u001b[33m\u001b[1mWarning: \u001b[22m\u001b[39mresolution (7.5) is too coarse for correlation length 10.0 in dimension 3 at indices CartesianIndex(47, 11, 6) (skipping further tests). It is recommended that the resolution is at least 2 times finer than the correlation length.\n",
      "\u001b[33m\u001b[1m└ \u001b[22m\u001b[39m\u001b[90m@ DIVAnd C:\\Users\\a001819\\.julia\\packages\\DIVAnd\\MV3j9\\src\\utils.jl:18\u001b[39m\n",
      "\u001b[36m\u001b[1m[ \u001b[22m\u001b[39m\u001b[36m\u001b[1mInfo: \u001b[22m\u001b[39mnumber of windows: 1\n"
     ]
    },
    {
     "name": "stdout",
     "output_type": "stream",
     "text": [
      "timeindex = 6\n"
     ]
    },
    {
     "name": "stderr",
     "output_type": "stream",
     "text": [
      "\u001b[36m\u001b[1m[ \u001b[22m\u001b[39m\u001b[36m\u001b[1mInfo: \u001b[22m\u001b[39mTime step 7 / 57\n",
      "\u001b[36m\u001b[1m[ \u001b[22m\u001b[39m\u001b[36m\u001b[1mInfo: \u001b[22m\u001b[39manalysis time index 7 uses the backgrond time index 67\n",
      "\u001b[36m\u001b[1m[ \u001b[22m\u001b[39m\u001b[36m\u001b[1mInfo: \u001b[22m\u001b[39mscaled correlation length (min,max) in dimension 1: (26002.33511528906, 77999.93927774779)\n",
      "\u001b[36m\u001b[1m[ \u001b[22m\u001b[39m\u001b[36m\u001b[1mInfo: \u001b[22m\u001b[39mscaled correlation length (min,max) in dimension 2: (26002.33511528906, 77999.93927774779)\n",
      "\u001b[36m\u001b[1m[ \u001b[22m\u001b[39m\u001b[36m\u001b[1mInfo: \u001b[22m\u001b[39mscaled correlation length (min,max) in dimension 3: (10.0, 50.0)\n",
      "\u001b[33m\u001b[1m┌ \u001b[22m\u001b[39m\u001b[33m\u001b[1mWarning: \u001b[22m\u001b[39mresolution (7.5) is too coarse for correlation length 10.0 in dimension 3 at indices CartesianIndex(47, 11, 6) (skipping further tests). It is recommended that the resolution is at least 2 times finer than the correlation length.\n",
      "\u001b[33m\u001b[1m└ \u001b[22m\u001b[39m\u001b[90m@ DIVAnd C:\\Users\\a001819\\.julia\\packages\\DIVAnd\\MV3j9\\src\\utils.jl:18\u001b[39m\n",
      "\u001b[36m\u001b[1m[ \u001b[22m\u001b[39m\u001b[36m\u001b[1mInfo: \u001b[22m\u001b[39mnumber of windows: 1\n"
     ]
    },
    {
     "name": "stdout",
     "output_type": "stream",
     "text": [
      "timeindex = 7\n"
     ]
    },
    {
     "name": "stderr",
     "output_type": "stream",
     "text": [
      "\u001b[36m\u001b[1m[ \u001b[22m\u001b[39m\u001b[36m\u001b[1mInfo: \u001b[22m\u001b[39mTime step 8 / 57\n",
      "\u001b[36m\u001b[1m[ \u001b[22m\u001b[39m\u001b[36m\u001b[1mInfo: \u001b[22m\u001b[39manalysis time index 8 uses the backgrond time index 71\n",
      "\u001b[36m\u001b[1m[ \u001b[22m\u001b[39m\u001b[36m\u001b[1mInfo: \u001b[22m\u001b[39mscaled correlation length (min,max) in dimension 1: (26002.33511528906, 77999.93927774779)\n",
      "\u001b[36m\u001b[1m[ \u001b[22m\u001b[39m\u001b[36m\u001b[1mInfo: \u001b[22m\u001b[39mscaled correlation length (min,max) in dimension 2: (26002.33511528906, 77999.93927774779)\n",
      "\u001b[36m\u001b[1m[ \u001b[22m\u001b[39m\u001b[36m\u001b[1mInfo: \u001b[22m\u001b[39mscaled correlation length (min,max) in dimension 3: (10.0, 50.0)\n",
      "\u001b[33m\u001b[1m┌ \u001b[22m\u001b[39m\u001b[33m\u001b[1mWarning: \u001b[22m\u001b[39mresolution (7.5) is too coarse for correlation length 10.0 in dimension 3 at indices CartesianIndex(47, 11, 6) (skipping further tests). It is recommended that the resolution is at least 2 times finer than the correlation length.\n",
      "\u001b[33m\u001b[1m└ \u001b[22m\u001b[39m\u001b[90m@ DIVAnd C:\\Users\\a001819\\.julia\\packages\\DIVAnd\\MV3j9\\src\\utils.jl:18\u001b[39m\n",
      "\u001b[36m\u001b[1m[ \u001b[22m\u001b[39m\u001b[36m\u001b[1mInfo: \u001b[22m\u001b[39mnumber of windows: 1\n"
     ]
    },
    {
     "name": "stdout",
     "output_type": "stream",
     "text": [
      "timeindex = 8\n"
     ]
    },
    {
     "name": "stderr",
     "output_type": "stream",
     "text": [
      "\u001b[36m\u001b[1m[ \u001b[22m\u001b[39m\u001b[36m\u001b[1mInfo: \u001b[22m\u001b[39mTime step 9 / 57\n",
      "\u001b[36m\u001b[1m[ \u001b[22m\u001b[39m\u001b[36m\u001b[1mInfo: \u001b[22m\u001b[39manalysis time index 9 uses the backgrond time index 75\n",
      "\u001b[36m\u001b[1m[ \u001b[22m\u001b[39m\u001b[36m\u001b[1mInfo: \u001b[22m\u001b[39mscaled correlation length (min,max) in dimension 1: (26002.33511528906, 77999.93927774779)\n",
      "\u001b[36m\u001b[1m[ \u001b[22m\u001b[39m\u001b[36m\u001b[1mInfo: \u001b[22m\u001b[39mscaled correlation length (min,max) in dimension 2: (26002.33511528906, 77999.93927774779)\n",
      "\u001b[36m\u001b[1m[ \u001b[22m\u001b[39m\u001b[36m\u001b[1mInfo: \u001b[22m\u001b[39mscaled correlation length (min,max) in dimension 3: (10.0, 50.0)\n",
      "\u001b[33m\u001b[1m┌ \u001b[22m\u001b[39m\u001b[33m\u001b[1mWarning: \u001b[22m\u001b[39mresolution (7.5) is too coarse for correlation length 10.0 in dimension 3 at indices CartesianIndex(47, 11, 6) (skipping further tests). It is recommended that the resolution is at least 2 times finer than the correlation length.\n",
      "\u001b[33m\u001b[1m└ \u001b[22m\u001b[39m\u001b[90m@ DIVAnd C:\\Users\\a001819\\.julia\\packages\\DIVAnd\\MV3j9\\src\\utils.jl:18\u001b[39m\n",
      "\u001b[36m\u001b[1m[ \u001b[22m\u001b[39m\u001b[36m\u001b[1mInfo: \u001b[22m\u001b[39mnumber of windows: 1\n"
     ]
    },
    {
     "name": "stdout",
     "output_type": "stream",
     "text": [
      "timeindex = 9\n"
     ]
    },
    {
     "name": "stderr",
     "output_type": "stream",
     "text": [
      "\u001b[36m\u001b[1m[ \u001b[22m\u001b[39m\u001b[36m\u001b[1mInfo: \u001b[22m\u001b[39mTime step 10 / 57\n",
      "\u001b[36m\u001b[1m[ \u001b[22m\u001b[39m\u001b[36m\u001b[1mInfo: \u001b[22m\u001b[39manalysis time index 10 uses the backgrond time index 79\n",
      "\u001b[36m\u001b[1m[ \u001b[22m\u001b[39m\u001b[36m\u001b[1mInfo: \u001b[22m\u001b[39mscaled correlation length (min,max) in dimension 1: (26002.33511528906, 77999.93927774779)\n",
      "\u001b[36m\u001b[1m[ \u001b[22m\u001b[39m\u001b[36m\u001b[1mInfo: \u001b[22m\u001b[39mscaled correlation length (min,max) in dimension 2: (26002.33511528906, 77999.93927774779)\n",
      "\u001b[36m\u001b[1m[ \u001b[22m\u001b[39m\u001b[36m\u001b[1mInfo: \u001b[22m\u001b[39mscaled correlation length (min,max) in dimension 3: (10.0, 50.0)\n",
      "\u001b[33m\u001b[1m┌ \u001b[22m\u001b[39m\u001b[33m\u001b[1mWarning: \u001b[22m\u001b[39mresolution (7.5) is too coarse for correlation length 10.0 in dimension 3 at indices CartesianIndex(47, 11, 6) (skipping further tests). It is recommended that the resolution is at least 2 times finer than the correlation length.\n",
      "\u001b[33m\u001b[1m└ \u001b[22m\u001b[39m\u001b[90m@ DIVAnd C:\\Users\\a001819\\.julia\\packages\\DIVAnd\\MV3j9\\src\\utils.jl:18\u001b[39m\n",
      "\u001b[36m\u001b[1m[ \u001b[22m\u001b[39m\u001b[36m\u001b[1mInfo: \u001b[22m\u001b[39mnumber of windows: 1\n"
     ]
    },
    {
     "name": "stdout",
     "output_type": "stream",
     "text": [
      "timeindex = 10\n"
     ]
    },
    {
     "name": "stderr",
     "output_type": "stream",
     "text": [
      "\u001b[36m\u001b[1m[ \u001b[22m\u001b[39m\u001b[36m\u001b[1mInfo: \u001b[22m\u001b[39mTime step 11 / 57\n",
      "\u001b[36m\u001b[1m[ \u001b[22m\u001b[39m\u001b[36m\u001b[1mInfo: \u001b[22m\u001b[39manalysis time index 11 uses the backgrond time index 83\n",
      "\u001b[36m\u001b[1m[ \u001b[22m\u001b[39m\u001b[36m\u001b[1mInfo: \u001b[22m\u001b[39mscaled correlation length (min,max) in dimension 1: (26002.33511528906, 77999.93927774779)\n",
      "\u001b[36m\u001b[1m[ \u001b[22m\u001b[39m\u001b[36m\u001b[1mInfo: \u001b[22m\u001b[39mscaled correlation length (min,max) in dimension 2: (26002.33511528906, 77999.93927774779)\n",
      "\u001b[36m\u001b[1m[ \u001b[22m\u001b[39m\u001b[36m\u001b[1mInfo: \u001b[22m\u001b[39mscaled correlation length (min,max) in dimension 3: (10.0, 50.0)\n",
      "\u001b[33m\u001b[1m┌ \u001b[22m\u001b[39m\u001b[33m\u001b[1mWarning: \u001b[22m\u001b[39mresolution (7.5) is too coarse for correlation length 10.0 in dimension 3 at indices CartesianIndex(47, 11, 6) (skipping further tests). It is recommended that the resolution is at least 2 times finer than the correlation length.\n",
      "\u001b[33m\u001b[1m└ \u001b[22m\u001b[39m\u001b[90m@ DIVAnd C:\\Users\\a001819\\.julia\\packages\\DIVAnd\\MV3j9\\src\\utils.jl:18\u001b[39m\n",
      "\u001b[36m\u001b[1m[ \u001b[22m\u001b[39m\u001b[36m\u001b[1mInfo: \u001b[22m\u001b[39mnumber of windows: 1\n"
     ]
    },
    {
     "name": "stdout",
     "output_type": "stream",
     "text": [
      "timeindex = 11\n"
     ]
    },
    {
     "name": "stderr",
     "output_type": "stream",
     "text": [
      "\u001b[36m\u001b[1m[ \u001b[22m\u001b[39m\u001b[36m\u001b[1mInfo: \u001b[22m\u001b[39mTime step 12 / 57\n",
      "\u001b[36m\u001b[1m[ \u001b[22m\u001b[39m\u001b[36m\u001b[1mInfo: \u001b[22m\u001b[39manalysis time index 12 uses the backgrond time index 87\n",
      "\u001b[36m\u001b[1m[ \u001b[22m\u001b[39m\u001b[36m\u001b[1mInfo: \u001b[22m\u001b[39mscaled correlation length (min,max) in dimension 1: (26002.33511528906, 77999.93927774779)\n",
      "\u001b[36m\u001b[1m[ \u001b[22m\u001b[39m\u001b[36m\u001b[1mInfo: \u001b[22m\u001b[39mscaled correlation length (min,max) in dimension 2: (26002.33511528906, 77999.93927774779)\n",
      "\u001b[36m\u001b[1m[ \u001b[22m\u001b[39m\u001b[36m\u001b[1mInfo: \u001b[22m\u001b[39mscaled correlation length (min,max) in dimension 3: (10.0, 50.0)\n",
      "\u001b[33m\u001b[1m┌ \u001b[22m\u001b[39m\u001b[33m\u001b[1mWarning: \u001b[22m\u001b[39mresolution (7.5) is too coarse for correlation length 10.0 in dimension 3 at indices CartesianIndex(47, 11, 6) (skipping further tests). It is recommended that the resolution is at least 2 times finer than the correlation length.\n",
      "\u001b[33m\u001b[1m└ \u001b[22m\u001b[39m\u001b[90m@ DIVAnd C:\\Users\\a001819\\.julia\\packages\\DIVAnd\\MV3j9\\src\\utils.jl:18\u001b[39m\n",
      "\u001b[36m\u001b[1m[ \u001b[22m\u001b[39m\u001b[36m\u001b[1mInfo: \u001b[22m\u001b[39mnumber of windows: 1\n"
     ]
    },
    {
     "name": "stdout",
     "output_type": "stream",
     "text": [
      "timeindex = 12\n"
     ]
    },
    {
     "name": "stderr",
     "output_type": "stream",
     "text": [
      "\u001b[36m\u001b[1m[ \u001b[22m\u001b[39m\u001b[36m\u001b[1mInfo: \u001b[22m\u001b[39mTime step 13 / 57\n",
      "\u001b[36m\u001b[1m[ \u001b[22m\u001b[39m\u001b[36m\u001b[1mInfo: \u001b[22m\u001b[39manalysis time index 13 uses the backgrond time index 91\n",
      "\u001b[36m\u001b[1m[ \u001b[22m\u001b[39m\u001b[36m\u001b[1mInfo: \u001b[22m\u001b[39mscaled correlation length (min,max) in dimension 1: (26002.33511528906, 77999.93927774779)\n",
      "\u001b[36m\u001b[1m[ \u001b[22m\u001b[39m\u001b[36m\u001b[1mInfo: \u001b[22m\u001b[39mscaled correlation length (min,max) in dimension 2: (26002.33511528906, 77999.93927774779)\n",
      "\u001b[36m\u001b[1m[ \u001b[22m\u001b[39m\u001b[36m\u001b[1mInfo: \u001b[22m\u001b[39mscaled correlation length (min,max) in dimension 3: (10.0, 50.0)\n",
      "\u001b[33m\u001b[1m┌ \u001b[22m\u001b[39m\u001b[33m\u001b[1mWarning: \u001b[22m\u001b[39mresolution (7.5) is too coarse for correlation length 10.0 in dimension 3 at indices CartesianIndex(47, 11, 6) (skipping further tests). It is recommended that the resolution is at least 2 times finer than the correlation length.\n",
      "\u001b[33m\u001b[1m└ \u001b[22m\u001b[39m\u001b[90m@ DIVAnd C:\\Users\\a001819\\.julia\\packages\\DIVAnd\\MV3j9\\src\\utils.jl:18\u001b[39m\n",
      "\u001b[36m\u001b[1m[ \u001b[22m\u001b[39m\u001b[36m\u001b[1mInfo: \u001b[22m\u001b[39mnumber of windows: 1\n"
     ]
    },
    {
     "name": "stdout",
     "output_type": "stream",
     "text": [
      "timeindex = 13\n"
     ]
    },
    {
     "name": "stderr",
     "output_type": "stream",
     "text": [
      "\u001b[36m\u001b[1m[ \u001b[22m\u001b[39m\u001b[36m\u001b[1mInfo: \u001b[22m\u001b[39mTime step 14 / 57\n",
      "\u001b[36m\u001b[1m[ \u001b[22m\u001b[39m\u001b[36m\u001b[1mInfo: \u001b[22m\u001b[39manalysis time index 14 uses the backgrond time index 95\n",
      "\u001b[36m\u001b[1m[ \u001b[22m\u001b[39m\u001b[36m\u001b[1mInfo: \u001b[22m\u001b[39mscaled correlation length (min,max) in dimension 1: (26002.33511528906, 77999.93927774779)\n",
      "\u001b[36m\u001b[1m[ \u001b[22m\u001b[39m\u001b[36m\u001b[1mInfo: \u001b[22m\u001b[39mscaled correlation length (min,max) in dimension 2: (26002.33511528906, 77999.93927774779)\n",
      "\u001b[36m\u001b[1m[ \u001b[22m\u001b[39m\u001b[36m\u001b[1mInfo: \u001b[22m\u001b[39mscaled correlation length (min,max) in dimension 3: (10.0, 50.0)\n",
      "\u001b[33m\u001b[1m┌ \u001b[22m\u001b[39m\u001b[33m\u001b[1mWarning: \u001b[22m\u001b[39mresolution (7.5) is too coarse for correlation length 10.0 in dimension 3 at indices CartesianIndex(47, 11, 6) (skipping further tests). It is recommended that the resolution is at least 2 times finer than the correlation length.\n",
      "\u001b[33m\u001b[1m└ \u001b[22m\u001b[39m\u001b[90m@ DIVAnd C:\\Users\\a001819\\.julia\\packages\\DIVAnd\\MV3j9\\src\\utils.jl:18\u001b[39m\n",
      "\u001b[36m\u001b[1m[ \u001b[22m\u001b[39m\u001b[36m\u001b[1mInfo: \u001b[22m\u001b[39mnumber of windows: 1\n"
     ]
    },
    {
     "name": "stdout",
     "output_type": "stream",
     "text": [
      "timeindex = 14\n"
     ]
    },
    {
     "name": "stderr",
     "output_type": "stream",
     "text": [
      "\u001b[36m\u001b[1m[ \u001b[22m\u001b[39m\u001b[36m\u001b[1mInfo: \u001b[22m\u001b[39mTime step 15 / 57\n",
      "\u001b[36m\u001b[1m[ \u001b[22m\u001b[39m\u001b[36m\u001b[1mInfo: \u001b[22m\u001b[39manalysis time index 15 uses the backgrond time index 99\n",
      "\u001b[36m\u001b[1m[ \u001b[22m\u001b[39m\u001b[36m\u001b[1mInfo: \u001b[22m\u001b[39mscaled correlation length (min,max) in dimension 1: (26002.33511528906, 77999.93927774779)\n",
      "\u001b[36m\u001b[1m[ \u001b[22m\u001b[39m\u001b[36m\u001b[1mInfo: \u001b[22m\u001b[39mscaled correlation length (min,max) in dimension 2: (26002.33511528906, 77999.93927774779)\n",
      "\u001b[36m\u001b[1m[ \u001b[22m\u001b[39m\u001b[36m\u001b[1mInfo: \u001b[22m\u001b[39mscaled correlation length (min,max) in dimension 3: (10.0, 50.0)\n",
      "\u001b[33m\u001b[1m┌ \u001b[22m\u001b[39m\u001b[33m\u001b[1mWarning: \u001b[22m\u001b[39mresolution (7.5) is too coarse for correlation length 10.0 in dimension 3 at indices CartesianIndex(47, 11, 6) (skipping further tests). It is recommended that the resolution is at least 2 times finer than the correlation length.\n",
      "\u001b[33m\u001b[1m└ \u001b[22m\u001b[39m\u001b[90m@ DIVAnd C:\\Users\\a001819\\.julia\\packages\\DIVAnd\\MV3j9\\src\\utils.jl:18\u001b[39m\n",
      "\u001b[36m\u001b[1m[ \u001b[22m\u001b[39m\u001b[36m\u001b[1mInfo: \u001b[22m\u001b[39mnumber of windows: 1\n"
     ]
    },
    {
     "name": "stdout",
     "output_type": "stream",
     "text": [
      "timeindex = 15\n"
     ]
    },
    {
     "name": "stderr",
     "output_type": "stream",
     "text": [
      "\u001b[36m\u001b[1m[ \u001b[22m\u001b[39m\u001b[36m\u001b[1mInfo: \u001b[22m\u001b[39mTime step 16 / 57\n",
      "\u001b[36m\u001b[1m[ \u001b[22m\u001b[39m\u001b[36m\u001b[1mInfo: \u001b[22m\u001b[39manalysis time index 16 uses the backgrond time index 103\n",
      "\u001b[36m\u001b[1m[ \u001b[22m\u001b[39m\u001b[36m\u001b[1mInfo: \u001b[22m\u001b[39mscaled correlation length (min,max) in dimension 1: (26002.33511528906, 77999.93927774779)\n",
      "\u001b[36m\u001b[1m[ \u001b[22m\u001b[39m\u001b[36m\u001b[1mInfo: \u001b[22m\u001b[39mscaled correlation length (min,max) in dimension 2: (26002.33511528906, 77999.93927774779)\n",
      "\u001b[36m\u001b[1m[ \u001b[22m\u001b[39m\u001b[36m\u001b[1mInfo: \u001b[22m\u001b[39mscaled correlation length (min,max) in dimension 3: (10.0, 50.0)\n",
      "\u001b[33m\u001b[1m┌ \u001b[22m\u001b[39m\u001b[33m\u001b[1mWarning: \u001b[22m\u001b[39mresolution (7.5) is too coarse for correlation length 10.0 in dimension 3 at indices CartesianIndex(47, 11, 6) (skipping further tests). It is recommended that the resolution is at least 2 times finer than the correlation length.\n",
      "\u001b[33m\u001b[1m└ \u001b[22m\u001b[39m\u001b[90m@ DIVAnd C:\\Users\\a001819\\.julia\\packages\\DIVAnd\\MV3j9\\src\\utils.jl:18\u001b[39m\n",
      "\u001b[36m\u001b[1m[ \u001b[22m\u001b[39m\u001b[36m\u001b[1mInfo: \u001b[22m\u001b[39mnumber of windows: 1\n"
     ]
    },
    {
     "name": "stdout",
     "output_type": "stream",
     "text": [
      "timeindex = 16\n"
     ]
    },
    {
     "name": "stderr",
     "output_type": "stream",
     "text": [
      "\u001b[36m\u001b[1m[ \u001b[22m\u001b[39m\u001b[36m\u001b[1mInfo: \u001b[22m\u001b[39mTime step 17 / 57\n",
      "\u001b[36m\u001b[1m[ \u001b[22m\u001b[39m\u001b[36m\u001b[1mInfo: \u001b[22m\u001b[39manalysis time index 17 uses the backgrond time index 107\n",
      "\u001b[36m\u001b[1m[ \u001b[22m\u001b[39m\u001b[36m\u001b[1mInfo: \u001b[22m\u001b[39mscaled correlation length (min,max) in dimension 1: (26002.33511528906, 77999.93927774779)\n",
      "\u001b[36m\u001b[1m[ \u001b[22m\u001b[39m\u001b[36m\u001b[1mInfo: \u001b[22m\u001b[39mscaled correlation length (min,max) in dimension 2: (26002.33511528906, 77999.93927774779)\n",
      "\u001b[36m\u001b[1m[ \u001b[22m\u001b[39m\u001b[36m\u001b[1mInfo: \u001b[22m\u001b[39mscaled correlation length (min,max) in dimension 3: (10.0, 50.0)\n",
      "\u001b[33m\u001b[1m┌ \u001b[22m\u001b[39m\u001b[33m\u001b[1mWarning: \u001b[22m\u001b[39mresolution (7.5) is too coarse for correlation length 10.0 in dimension 3 at indices CartesianIndex(47, 11, 6) (skipping further tests). It is recommended that the resolution is at least 2 times finer than the correlation length.\n",
      "\u001b[33m\u001b[1m└ \u001b[22m\u001b[39m\u001b[90m@ DIVAnd C:\\Users\\a001819\\.julia\\packages\\DIVAnd\\MV3j9\\src\\utils.jl:18\u001b[39m\n",
      "\u001b[36m\u001b[1m[ \u001b[22m\u001b[39m\u001b[36m\u001b[1mInfo: \u001b[22m\u001b[39mnumber of windows: 1\n"
     ]
    },
    {
     "name": "stdout",
     "output_type": "stream",
     "text": [
      "timeindex = 17\n"
     ]
    },
    {
     "name": "stderr",
     "output_type": "stream",
     "text": [
      "\u001b[36m\u001b[1m[ \u001b[22m\u001b[39m\u001b[36m\u001b[1mInfo: \u001b[22m\u001b[39mTime step 18 / 57\n",
      "\u001b[36m\u001b[1m[ \u001b[22m\u001b[39m\u001b[36m\u001b[1mInfo: \u001b[22m\u001b[39manalysis time index 18 uses the backgrond time index 111\n",
      "\u001b[36m\u001b[1m[ \u001b[22m\u001b[39m\u001b[36m\u001b[1mInfo: \u001b[22m\u001b[39mscaled correlation length (min,max) in dimension 1: (26002.33511528906, 77999.93927774779)\n",
      "\u001b[36m\u001b[1m[ \u001b[22m\u001b[39m\u001b[36m\u001b[1mInfo: \u001b[22m\u001b[39mscaled correlation length (min,max) in dimension 2: (26002.33511528906, 77999.93927774779)\n",
      "\u001b[36m\u001b[1m[ \u001b[22m\u001b[39m\u001b[36m\u001b[1mInfo: \u001b[22m\u001b[39mscaled correlation length (min,max) in dimension 3: (10.0, 50.0)\n",
      "\u001b[33m\u001b[1m┌ \u001b[22m\u001b[39m\u001b[33m\u001b[1mWarning: \u001b[22m\u001b[39mresolution (7.5) is too coarse for correlation length 10.0 in dimension 3 at indices CartesianIndex(47, 11, 6) (skipping further tests). It is recommended that the resolution is at least 2 times finer than the correlation length.\n",
      "\u001b[33m\u001b[1m└ \u001b[22m\u001b[39m\u001b[90m@ DIVAnd C:\\Users\\a001819\\.julia\\packages\\DIVAnd\\MV3j9\\src\\utils.jl:18\u001b[39m\n",
      "\u001b[36m\u001b[1m[ \u001b[22m\u001b[39m\u001b[36m\u001b[1mInfo: \u001b[22m\u001b[39mnumber of windows: 1\n"
     ]
    },
    {
     "name": "stdout",
     "output_type": "stream",
     "text": [
      "timeindex = 18\n"
     ]
    },
    {
     "name": "stderr",
     "output_type": "stream",
     "text": [
      "\u001b[36m\u001b[1m[ \u001b[22m\u001b[39m\u001b[36m\u001b[1mInfo: \u001b[22m\u001b[39mTime step 19 / 57\n",
      "\u001b[36m\u001b[1m[ \u001b[22m\u001b[39m\u001b[36m\u001b[1mInfo: \u001b[22m\u001b[39manalysis time index 19 uses the backgrond time index 115\n",
      "\u001b[36m\u001b[1m[ \u001b[22m\u001b[39m\u001b[36m\u001b[1mInfo: \u001b[22m\u001b[39mscaled correlation length (min,max) in dimension 1: (26002.33511528906, 77999.93927774779)\n",
      "\u001b[36m\u001b[1m[ \u001b[22m\u001b[39m\u001b[36m\u001b[1mInfo: \u001b[22m\u001b[39mscaled correlation length (min,max) in dimension 2: (26002.33511528906, 77999.93927774779)\n",
      "\u001b[36m\u001b[1m[ \u001b[22m\u001b[39m\u001b[36m\u001b[1mInfo: \u001b[22m\u001b[39mscaled correlation length (min,max) in dimension 3: (10.0, 50.0)\n",
      "\u001b[33m\u001b[1m┌ \u001b[22m\u001b[39m\u001b[33m\u001b[1mWarning: \u001b[22m\u001b[39mresolution (7.5) is too coarse for correlation length 10.0 in dimension 3 at indices CartesianIndex(47, 11, 6) (skipping further tests). It is recommended that the resolution is at least 2 times finer than the correlation length.\n",
      "\u001b[33m\u001b[1m└ \u001b[22m\u001b[39m\u001b[90m@ DIVAnd C:\\Users\\a001819\\.julia\\packages\\DIVAnd\\MV3j9\\src\\utils.jl:18\u001b[39m\n",
      "\u001b[36m\u001b[1m[ \u001b[22m\u001b[39m\u001b[36m\u001b[1mInfo: \u001b[22m\u001b[39mnumber of windows: 1\n"
     ]
    },
    {
     "name": "stdout",
     "output_type": "stream",
     "text": [
      "timeindex = 19\n"
     ]
    },
    {
     "name": "stderr",
     "output_type": "stream",
     "text": [
      "\u001b[36m\u001b[1m[ \u001b[22m\u001b[39m\u001b[36m\u001b[1mInfo: \u001b[22m\u001b[39mTime step 20 / 57\n",
      "\u001b[36m\u001b[1m[ \u001b[22m\u001b[39m\u001b[36m\u001b[1mInfo: \u001b[22m\u001b[39manalysis time index 20 uses the backgrond time index 119\n",
      "\u001b[36m\u001b[1m[ \u001b[22m\u001b[39m\u001b[36m\u001b[1mInfo: \u001b[22m\u001b[39mscaled correlation length (min,max) in dimension 1: (26002.33511528906, 77999.93927774779)\n",
      "\u001b[36m\u001b[1m[ \u001b[22m\u001b[39m\u001b[36m\u001b[1mInfo: \u001b[22m\u001b[39mscaled correlation length (min,max) in dimension 2: (26002.33511528906, 77999.93927774779)\n",
      "\u001b[36m\u001b[1m[ \u001b[22m\u001b[39m\u001b[36m\u001b[1mInfo: \u001b[22m\u001b[39mscaled correlation length (min,max) in dimension 3: (10.0, 50.0)\n",
      "\u001b[33m\u001b[1m┌ \u001b[22m\u001b[39m\u001b[33m\u001b[1mWarning: \u001b[22m\u001b[39mresolution (7.5) is too coarse for correlation length 10.0 in dimension 3 at indices CartesianIndex(47, 11, 6) (skipping further tests). It is recommended that the resolution is at least 2 times finer than the correlation length.\n",
      "\u001b[33m\u001b[1m└ \u001b[22m\u001b[39m\u001b[90m@ DIVAnd C:\\Users\\a001819\\.julia\\packages\\DIVAnd\\MV3j9\\src\\utils.jl:18\u001b[39m\n",
      "\u001b[36m\u001b[1m[ \u001b[22m\u001b[39m\u001b[36m\u001b[1mInfo: \u001b[22m\u001b[39mnumber of windows: 1\n"
     ]
    },
    {
     "name": "stdout",
     "output_type": "stream",
     "text": [
      "timeindex = 20\n"
     ]
    },
    {
     "name": "stderr",
     "output_type": "stream",
     "text": [
      "\u001b[36m\u001b[1m[ \u001b[22m\u001b[39m\u001b[36m\u001b[1mInfo: \u001b[22m\u001b[39mTime step 21 / 57\n",
      "\u001b[36m\u001b[1m[ \u001b[22m\u001b[39m\u001b[36m\u001b[1mInfo: \u001b[22m\u001b[39manalysis time index 21 uses the backgrond time index 123\n",
      "\u001b[36m\u001b[1m[ \u001b[22m\u001b[39m\u001b[36m\u001b[1mInfo: \u001b[22m\u001b[39mscaled correlation length (min,max) in dimension 1: (26002.33511528906, 77999.93927774779)\n",
      "\u001b[36m\u001b[1m[ \u001b[22m\u001b[39m\u001b[36m\u001b[1mInfo: \u001b[22m\u001b[39mscaled correlation length (min,max) in dimension 2: (26002.33511528906, 77999.93927774779)\n",
      "\u001b[36m\u001b[1m[ \u001b[22m\u001b[39m\u001b[36m\u001b[1mInfo: \u001b[22m\u001b[39mscaled correlation length (min,max) in dimension 3: (10.0, 50.0)\n",
      "\u001b[33m\u001b[1m┌ \u001b[22m\u001b[39m\u001b[33m\u001b[1mWarning: \u001b[22m\u001b[39mresolution (7.5) is too coarse for correlation length 10.0 in dimension 3 at indices CartesianIndex(47, 11, 6) (skipping further tests). It is recommended that the resolution is at least 2 times finer than the correlation length.\n",
      "\u001b[33m\u001b[1m└ \u001b[22m\u001b[39m\u001b[90m@ DIVAnd C:\\Users\\a001819\\.julia\\packages\\DIVAnd\\MV3j9\\src\\utils.jl:18\u001b[39m\n",
      "\u001b[36m\u001b[1m[ \u001b[22m\u001b[39m\u001b[36m\u001b[1mInfo: \u001b[22m\u001b[39mnumber of windows: 1\n"
     ]
    },
    {
     "name": "stdout",
     "output_type": "stream",
     "text": [
      "timeindex = 21\n"
     ]
    },
    {
     "name": "stderr",
     "output_type": "stream",
     "text": [
      "\u001b[36m\u001b[1m[ \u001b[22m\u001b[39m\u001b[36m\u001b[1mInfo: \u001b[22m\u001b[39mTime step 22 / 57\n",
      "\u001b[36m\u001b[1m[ \u001b[22m\u001b[39m\u001b[36m\u001b[1mInfo: \u001b[22m\u001b[39manalysis time index 22 uses the backgrond time index 127\n",
      "\u001b[36m\u001b[1m[ \u001b[22m\u001b[39m\u001b[36m\u001b[1mInfo: \u001b[22m\u001b[39mscaled correlation length (min,max) in dimension 1: (26002.33511528906, 77999.93927774779)\n",
      "\u001b[36m\u001b[1m[ \u001b[22m\u001b[39m\u001b[36m\u001b[1mInfo: \u001b[22m\u001b[39mscaled correlation length (min,max) in dimension 2: (26002.33511528906, 77999.93927774779)\n",
      "\u001b[36m\u001b[1m[ \u001b[22m\u001b[39m\u001b[36m\u001b[1mInfo: \u001b[22m\u001b[39mscaled correlation length (min,max) in dimension 3: (10.0, 50.0)\n",
      "\u001b[33m\u001b[1m┌ \u001b[22m\u001b[39m\u001b[33m\u001b[1mWarning: \u001b[22m\u001b[39mresolution (7.5) is too coarse for correlation length 10.0 in dimension 3 at indices CartesianIndex(47, 11, 6) (skipping further tests). It is recommended that the resolution is at least 2 times finer than the correlation length.\n",
      "\u001b[33m\u001b[1m└ \u001b[22m\u001b[39m\u001b[90m@ DIVAnd C:\\Users\\a001819\\.julia\\packages\\DIVAnd\\MV3j9\\src\\utils.jl:18\u001b[39m\n",
      "\u001b[36m\u001b[1m[ \u001b[22m\u001b[39m\u001b[36m\u001b[1mInfo: \u001b[22m\u001b[39mnumber of windows: 1\n"
     ]
    },
    {
     "name": "stdout",
     "output_type": "stream",
     "text": [
      "timeindex = 22\n"
     ]
    },
    {
     "name": "stderr",
     "output_type": "stream",
     "text": [
      "\u001b[36m\u001b[1m[ \u001b[22m\u001b[39m\u001b[36m\u001b[1mInfo: \u001b[22m\u001b[39mTime step 23 / 57\n",
      "\u001b[36m\u001b[1m[ \u001b[22m\u001b[39m\u001b[36m\u001b[1mInfo: \u001b[22m\u001b[39manalysis time index 23 uses the backgrond time index 131\n",
      "\u001b[36m\u001b[1m[ \u001b[22m\u001b[39m\u001b[36m\u001b[1mInfo: \u001b[22m\u001b[39mscaled correlation length (min,max) in dimension 1: (26002.33511528906, 77999.93927774779)\n",
      "\u001b[36m\u001b[1m[ \u001b[22m\u001b[39m\u001b[36m\u001b[1mInfo: \u001b[22m\u001b[39mscaled correlation length (min,max) in dimension 2: (26002.33511528906, 77999.93927774779)\n",
      "\u001b[36m\u001b[1m[ \u001b[22m\u001b[39m\u001b[36m\u001b[1mInfo: \u001b[22m\u001b[39mscaled correlation length (min,max) in dimension 3: (10.0, 50.0)\n",
      "\u001b[33m\u001b[1m┌ \u001b[22m\u001b[39m\u001b[33m\u001b[1mWarning: \u001b[22m\u001b[39mresolution (7.5) is too coarse for correlation length 10.0 in dimension 3 at indices CartesianIndex(47, 11, 6) (skipping further tests). It is recommended that the resolution is at least 2 times finer than the correlation length.\n",
      "\u001b[33m\u001b[1m└ \u001b[22m\u001b[39m\u001b[90m@ DIVAnd C:\\Users\\a001819\\.julia\\packages\\DIVAnd\\MV3j9\\src\\utils.jl:18\u001b[39m\n",
      "\u001b[36m\u001b[1m[ \u001b[22m\u001b[39m\u001b[36m\u001b[1mInfo: \u001b[22m\u001b[39mnumber of windows: 1\n"
     ]
    },
    {
     "name": "stdout",
     "output_type": "stream",
     "text": [
      "timeindex = 23\n"
     ]
    },
    {
     "name": "stderr",
     "output_type": "stream",
     "text": [
      "\u001b[36m\u001b[1m[ \u001b[22m\u001b[39m\u001b[36m\u001b[1mInfo: \u001b[22m\u001b[39mTime step 24 / 57\n",
      "\u001b[36m\u001b[1m[ \u001b[22m\u001b[39m\u001b[36m\u001b[1mInfo: \u001b[22m\u001b[39manalysis time index 24 uses the backgrond time index 135\n",
      "\u001b[36m\u001b[1m[ \u001b[22m\u001b[39m\u001b[36m\u001b[1mInfo: \u001b[22m\u001b[39mscaled correlation length (min,max) in dimension 1: (26002.33511528906, 77999.93927774779)\n",
      "\u001b[36m\u001b[1m[ \u001b[22m\u001b[39m\u001b[36m\u001b[1mInfo: \u001b[22m\u001b[39mscaled correlation length (min,max) in dimension 2: (26002.33511528906, 77999.93927774779)\n",
      "\u001b[36m\u001b[1m[ \u001b[22m\u001b[39m\u001b[36m\u001b[1mInfo: \u001b[22m\u001b[39mscaled correlation length (min,max) in dimension 3: (10.0, 50.0)\n",
      "\u001b[33m\u001b[1m┌ \u001b[22m\u001b[39m\u001b[33m\u001b[1mWarning: \u001b[22m\u001b[39mresolution (7.5) is too coarse for correlation length 10.0 in dimension 3 at indices CartesianIndex(47, 11, 6) (skipping further tests). It is recommended that the resolution is at least 2 times finer than the correlation length.\n",
      "\u001b[33m\u001b[1m└ \u001b[22m\u001b[39m\u001b[90m@ DIVAnd C:\\Users\\a001819\\.julia\\packages\\DIVAnd\\MV3j9\\src\\utils.jl:18\u001b[39m\n",
      "\u001b[36m\u001b[1m[ \u001b[22m\u001b[39m\u001b[36m\u001b[1mInfo: \u001b[22m\u001b[39mnumber of windows: 1\n"
     ]
    },
    {
     "name": "stdout",
     "output_type": "stream",
     "text": [
      "timeindex = 24\n"
     ]
    },
    {
     "name": "stderr",
     "output_type": "stream",
     "text": [
      "\u001b[36m\u001b[1m[ \u001b[22m\u001b[39m\u001b[36m\u001b[1mInfo: \u001b[22m\u001b[39mTime step 25 / 57\n",
      "\u001b[36m\u001b[1m[ \u001b[22m\u001b[39m\u001b[36m\u001b[1mInfo: \u001b[22m\u001b[39manalysis time index 25 uses the backgrond time index 139\n",
      "\u001b[36m\u001b[1m[ \u001b[22m\u001b[39m\u001b[36m\u001b[1mInfo: \u001b[22m\u001b[39mscaled correlation length (min,max) in dimension 1: (26002.33511528906, 77999.93927774779)\n",
      "\u001b[36m\u001b[1m[ \u001b[22m\u001b[39m\u001b[36m\u001b[1mInfo: \u001b[22m\u001b[39mscaled correlation length (min,max) in dimension 2: (26002.33511528906, 77999.93927774779)\n",
      "\u001b[36m\u001b[1m[ \u001b[22m\u001b[39m\u001b[36m\u001b[1mInfo: \u001b[22m\u001b[39mscaled correlation length (min,max) in dimension 3: (10.0, 50.0)\n",
      "\u001b[33m\u001b[1m┌ \u001b[22m\u001b[39m\u001b[33m\u001b[1mWarning: \u001b[22m\u001b[39mresolution (7.5) is too coarse for correlation length 10.0 in dimension 3 at indices CartesianIndex(47, 11, 6) (skipping further tests). It is recommended that the resolution is at least 2 times finer than the correlation length.\n",
      "\u001b[33m\u001b[1m└ \u001b[22m\u001b[39m\u001b[90m@ DIVAnd C:\\Users\\a001819\\.julia\\packages\\DIVAnd\\MV3j9\\src\\utils.jl:18\u001b[39m\n",
      "\u001b[36m\u001b[1m[ \u001b[22m\u001b[39m\u001b[36m\u001b[1mInfo: \u001b[22m\u001b[39mnumber of windows: 1\n"
     ]
    },
    {
     "name": "stdout",
     "output_type": "stream",
     "text": [
      "timeindex = 25\n"
     ]
    },
    {
     "name": "stderr",
     "output_type": "stream",
     "text": [
      "\u001b[36m\u001b[1m[ \u001b[22m\u001b[39m\u001b[36m\u001b[1mInfo: \u001b[22m\u001b[39mTime step 26 / 57\n",
      "\u001b[36m\u001b[1m[ \u001b[22m\u001b[39m\u001b[36m\u001b[1mInfo: \u001b[22m\u001b[39manalysis time index 26 uses the backgrond time index 143\n",
      "\u001b[36m\u001b[1m[ \u001b[22m\u001b[39m\u001b[36m\u001b[1mInfo: \u001b[22m\u001b[39mscaled correlation length (min,max) in dimension 1: (26002.33511528906, 77999.93927774779)\n",
      "\u001b[36m\u001b[1m[ \u001b[22m\u001b[39m\u001b[36m\u001b[1mInfo: \u001b[22m\u001b[39mscaled correlation length (min,max) in dimension 2: (26002.33511528906, 77999.93927774779)\n",
      "\u001b[36m\u001b[1m[ \u001b[22m\u001b[39m\u001b[36m\u001b[1mInfo: \u001b[22m\u001b[39mscaled correlation length (min,max) in dimension 3: (10.0, 50.0)\n",
      "\u001b[33m\u001b[1m┌ \u001b[22m\u001b[39m\u001b[33m\u001b[1mWarning: \u001b[22m\u001b[39mresolution (7.5) is too coarse for correlation length 10.0 in dimension 3 at indices CartesianIndex(47, 11, 6) (skipping further tests). It is recommended that the resolution is at least 2 times finer than the correlation length.\n",
      "\u001b[33m\u001b[1m└ \u001b[22m\u001b[39m\u001b[90m@ DIVAnd C:\\Users\\a001819\\.julia\\packages\\DIVAnd\\MV3j9\\src\\utils.jl:18\u001b[39m\n",
      "\u001b[36m\u001b[1m[ \u001b[22m\u001b[39m\u001b[36m\u001b[1mInfo: \u001b[22m\u001b[39mnumber of windows: 1\n"
     ]
    },
    {
     "name": "stdout",
     "output_type": "stream",
     "text": [
      "timeindex = 26\n"
     ]
    },
    {
     "name": "stderr",
     "output_type": "stream",
     "text": [
      "\u001b[36m\u001b[1m[ \u001b[22m\u001b[39m\u001b[36m\u001b[1mInfo: \u001b[22m\u001b[39mTime step 27 / 57\n",
      "\u001b[36m\u001b[1m[ \u001b[22m\u001b[39m\u001b[36m\u001b[1mInfo: \u001b[22m\u001b[39manalysis time index 27 uses the backgrond time index 147\n",
      "\u001b[36m\u001b[1m[ \u001b[22m\u001b[39m\u001b[36m\u001b[1mInfo: \u001b[22m\u001b[39mscaled correlation length (min,max) in dimension 1: (26002.33511528906, 77999.93927774779)\n",
      "\u001b[36m\u001b[1m[ \u001b[22m\u001b[39m\u001b[36m\u001b[1mInfo: \u001b[22m\u001b[39mscaled correlation length (min,max) in dimension 2: (26002.33511528906, 77999.93927774779)\n",
      "\u001b[36m\u001b[1m[ \u001b[22m\u001b[39m\u001b[36m\u001b[1mInfo: \u001b[22m\u001b[39mscaled correlation length (min,max) in dimension 3: (10.0, 50.0)\n",
      "\u001b[33m\u001b[1m┌ \u001b[22m\u001b[39m\u001b[33m\u001b[1mWarning: \u001b[22m\u001b[39mresolution (7.5) is too coarse for correlation length 10.0 in dimension 3 at indices CartesianIndex(47, 11, 6) (skipping further tests). It is recommended that the resolution is at least 2 times finer than the correlation length.\n",
      "\u001b[33m\u001b[1m└ \u001b[22m\u001b[39m\u001b[90m@ DIVAnd C:\\Users\\a001819\\.julia\\packages\\DIVAnd\\MV3j9\\src\\utils.jl:18\u001b[39m\n",
      "\u001b[36m\u001b[1m[ \u001b[22m\u001b[39m\u001b[36m\u001b[1mInfo: \u001b[22m\u001b[39mnumber of windows: 1\n"
     ]
    },
    {
     "name": "stdout",
     "output_type": "stream",
     "text": [
      "timeindex = 27\n"
     ]
    },
    {
     "name": "stderr",
     "output_type": "stream",
     "text": [
      "\u001b[36m\u001b[1m[ \u001b[22m\u001b[39m\u001b[36m\u001b[1mInfo: \u001b[22m\u001b[39mTime step 28 / 57\n",
      "\u001b[36m\u001b[1m[ \u001b[22m\u001b[39m\u001b[36m\u001b[1mInfo: \u001b[22m\u001b[39manalysis time index 28 uses the backgrond time index 151\n",
      "\u001b[36m\u001b[1m[ \u001b[22m\u001b[39m\u001b[36m\u001b[1mInfo: \u001b[22m\u001b[39mscaled correlation length (min,max) in dimension 1: (26002.33511528906, 77999.93927774779)\n",
      "\u001b[36m\u001b[1m[ \u001b[22m\u001b[39m\u001b[36m\u001b[1mInfo: \u001b[22m\u001b[39mscaled correlation length (min,max) in dimension 2: (26002.33511528906, 77999.93927774779)\n",
      "\u001b[36m\u001b[1m[ \u001b[22m\u001b[39m\u001b[36m\u001b[1mInfo: \u001b[22m\u001b[39mscaled correlation length (min,max) in dimension 3: (10.0, 50.0)\n",
      "\u001b[33m\u001b[1m┌ \u001b[22m\u001b[39m\u001b[33m\u001b[1mWarning: \u001b[22m\u001b[39mresolution (7.5) is too coarse for correlation length 10.0 in dimension 3 at indices CartesianIndex(47, 11, 6) (skipping further tests). It is recommended that the resolution is at least 2 times finer than the correlation length.\n",
      "\u001b[33m\u001b[1m└ \u001b[22m\u001b[39m\u001b[90m@ DIVAnd C:\\Users\\a001819\\.julia\\packages\\DIVAnd\\MV3j9\\src\\utils.jl:18\u001b[39m\n",
      "\u001b[36m\u001b[1m[ \u001b[22m\u001b[39m\u001b[36m\u001b[1mInfo: \u001b[22m\u001b[39mnumber of windows: 1\n"
     ]
    },
    {
     "name": "stdout",
     "output_type": "stream",
     "text": [
      "timeindex = 28\n"
     ]
    },
    {
     "name": "stderr",
     "output_type": "stream",
     "text": [
      "\u001b[36m\u001b[1m[ \u001b[22m\u001b[39m\u001b[36m\u001b[1mInfo: \u001b[22m\u001b[39mTime step 29 / 57\n",
      "\u001b[36m\u001b[1m[ \u001b[22m\u001b[39m\u001b[36m\u001b[1mInfo: \u001b[22m\u001b[39manalysis time index 29 uses the backgrond time index 155\n",
      "\u001b[36m\u001b[1m[ \u001b[22m\u001b[39m\u001b[36m\u001b[1mInfo: \u001b[22m\u001b[39mscaled correlation length (min,max) in dimension 1: (26002.33511528906, 77999.93927774779)\n",
      "\u001b[36m\u001b[1m[ \u001b[22m\u001b[39m\u001b[36m\u001b[1mInfo: \u001b[22m\u001b[39mscaled correlation length (min,max) in dimension 2: (26002.33511528906, 77999.93927774779)\n",
      "\u001b[36m\u001b[1m[ \u001b[22m\u001b[39m\u001b[36m\u001b[1mInfo: \u001b[22m\u001b[39mscaled correlation length (min,max) in dimension 3: (10.0, 50.0)\n",
      "\u001b[33m\u001b[1m┌ \u001b[22m\u001b[39m\u001b[33m\u001b[1mWarning: \u001b[22m\u001b[39mresolution (7.5) is too coarse for correlation length 10.0 in dimension 3 at indices CartesianIndex(47, 11, 6) (skipping further tests). It is recommended that the resolution is at least 2 times finer than the correlation length.\n",
      "\u001b[33m\u001b[1m└ \u001b[22m\u001b[39m\u001b[90m@ DIVAnd C:\\Users\\a001819\\.julia\\packages\\DIVAnd\\MV3j9\\src\\utils.jl:18\u001b[39m\n",
      "\u001b[36m\u001b[1m[ \u001b[22m\u001b[39m\u001b[36m\u001b[1mInfo: \u001b[22m\u001b[39mnumber of windows: 1\n"
     ]
    },
    {
     "name": "stdout",
     "output_type": "stream",
     "text": [
      "timeindex = 29\n"
     ]
    },
    {
     "name": "stderr",
     "output_type": "stream",
     "text": [
      "\u001b[36m\u001b[1m[ \u001b[22m\u001b[39m\u001b[36m\u001b[1mInfo: \u001b[22m\u001b[39mTime step 30 / 57\n",
      "\u001b[36m\u001b[1m[ \u001b[22m\u001b[39m\u001b[36m\u001b[1mInfo: \u001b[22m\u001b[39manalysis time index 30 uses the backgrond time index 159\n",
      "\u001b[36m\u001b[1m[ \u001b[22m\u001b[39m\u001b[36m\u001b[1mInfo: \u001b[22m\u001b[39mscaled correlation length (min,max) in dimension 1: (26002.33511528906, 77999.93927774779)\n",
      "\u001b[36m\u001b[1m[ \u001b[22m\u001b[39m\u001b[36m\u001b[1mInfo: \u001b[22m\u001b[39mscaled correlation length (min,max) in dimension 2: (26002.33511528906, 77999.93927774779)\n",
      "\u001b[36m\u001b[1m[ \u001b[22m\u001b[39m\u001b[36m\u001b[1mInfo: \u001b[22m\u001b[39mscaled correlation length (min,max) in dimension 3: (10.0, 50.0)\n",
      "\u001b[33m\u001b[1m┌ \u001b[22m\u001b[39m\u001b[33m\u001b[1mWarning: \u001b[22m\u001b[39mresolution (7.5) is too coarse for correlation length 10.0 in dimension 3 at indices CartesianIndex(47, 11, 6) (skipping further tests). It is recommended that the resolution is at least 2 times finer than the correlation length.\n",
      "\u001b[33m\u001b[1m└ \u001b[22m\u001b[39m\u001b[90m@ DIVAnd C:\\Users\\a001819\\.julia\\packages\\DIVAnd\\MV3j9\\src\\utils.jl:18\u001b[39m\n",
      "\u001b[36m\u001b[1m[ \u001b[22m\u001b[39m\u001b[36m\u001b[1mInfo: \u001b[22m\u001b[39mnumber of windows: 1\n"
     ]
    },
    {
     "name": "stdout",
     "output_type": "stream",
     "text": [
      "timeindex = 30\n"
     ]
    },
    {
     "name": "stderr",
     "output_type": "stream",
     "text": [
      "\u001b[36m\u001b[1m[ \u001b[22m\u001b[39m\u001b[36m\u001b[1mInfo: \u001b[22m\u001b[39mTime step 31 / 57\n",
      "\u001b[36m\u001b[1m[ \u001b[22m\u001b[39m\u001b[36m\u001b[1mInfo: \u001b[22m\u001b[39manalysis time index 31 uses the backgrond time index 163\n",
      "\u001b[36m\u001b[1m[ \u001b[22m\u001b[39m\u001b[36m\u001b[1mInfo: \u001b[22m\u001b[39mscaled correlation length (min,max) in dimension 1: (26002.33511528906, 77999.93927774779)\n",
      "\u001b[36m\u001b[1m[ \u001b[22m\u001b[39m\u001b[36m\u001b[1mInfo: \u001b[22m\u001b[39mscaled correlation length (min,max) in dimension 2: (26002.33511528906, 77999.93927774779)\n",
      "\u001b[36m\u001b[1m[ \u001b[22m\u001b[39m\u001b[36m\u001b[1mInfo: \u001b[22m\u001b[39mscaled correlation length (min,max) in dimension 3: (10.0, 50.0)\n",
      "\u001b[33m\u001b[1m┌ \u001b[22m\u001b[39m\u001b[33m\u001b[1mWarning: \u001b[22m\u001b[39mresolution (7.5) is too coarse for correlation length 10.0 in dimension 3 at indices CartesianIndex(47, 11, 6) (skipping further tests). It is recommended that the resolution is at least 2 times finer than the correlation length.\n",
      "\u001b[33m\u001b[1m└ \u001b[22m\u001b[39m\u001b[90m@ DIVAnd C:\\Users\\a001819\\.julia\\packages\\DIVAnd\\MV3j9\\src\\utils.jl:18\u001b[39m\n",
      "\u001b[36m\u001b[1m[ \u001b[22m\u001b[39m\u001b[36m\u001b[1mInfo: \u001b[22m\u001b[39mnumber of windows: 1\n"
     ]
    },
    {
     "name": "stdout",
     "output_type": "stream",
     "text": [
      "timeindex = 31\n"
     ]
    },
    {
     "name": "stderr",
     "output_type": "stream",
     "text": [
      "\u001b[36m\u001b[1m[ \u001b[22m\u001b[39m\u001b[36m\u001b[1mInfo: \u001b[22m\u001b[39mTime step 32 / 57\n",
      "\u001b[36m\u001b[1m[ \u001b[22m\u001b[39m\u001b[36m\u001b[1mInfo: \u001b[22m\u001b[39manalysis time index 32 uses the backgrond time index 167\n",
      "\u001b[36m\u001b[1m[ \u001b[22m\u001b[39m\u001b[36m\u001b[1mInfo: \u001b[22m\u001b[39mscaled correlation length (min,max) in dimension 1: (26002.33511528906, 77999.93927774779)\n",
      "\u001b[36m\u001b[1m[ \u001b[22m\u001b[39m\u001b[36m\u001b[1mInfo: \u001b[22m\u001b[39mscaled correlation length (min,max) in dimension 2: (26002.33511528906, 77999.93927774779)\n",
      "\u001b[36m\u001b[1m[ \u001b[22m\u001b[39m\u001b[36m\u001b[1mInfo: \u001b[22m\u001b[39mscaled correlation length (min,max) in dimension 3: (10.0, 50.0)\n",
      "\u001b[33m\u001b[1m┌ \u001b[22m\u001b[39m\u001b[33m\u001b[1mWarning: \u001b[22m\u001b[39mresolution (7.5) is too coarse for correlation length 10.0 in dimension 3 at indices CartesianIndex(47, 11, 6) (skipping further tests). It is recommended that the resolution is at least 2 times finer than the correlation length.\n",
      "\u001b[33m\u001b[1m└ \u001b[22m\u001b[39m\u001b[90m@ DIVAnd C:\\Users\\a001819\\.julia\\packages\\DIVAnd\\MV3j9\\src\\utils.jl:18\u001b[39m\n",
      "\u001b[36m\u001b[1m[ \u001b[22m\u001b[39m\u001b[36m\u001b[1mInfo: \u001b[22m\u001b[39mnumber of windows: 1\n"
     ]
    },
    {
     "name": "stdout",
     "output_type": "stream",
     "text": [
      "timeindex = 32\n"
     ]
    },
    {
     "name": "stderr",
     "output_type": "stream",
     "text": [
      "\u001b[36m\u001b[1m[ \u001b[22m\u001b[39m\u001b[36m\u001b[1mInfo: \u001b[22m\u001b[39mTime step 33 / 57\n",
      "\u001b[36m\u001b[1m[ \u001b[22m\u001b[39m\u001b[36m\u001b[1mInfo: \u001b[22m\u001b[39manalysis time index 33 uses the backgrond time index 171\n",
      "\u001b[36m\u001b[1m[ \u001b[22m\u001b[39m\u001b[36m\u001b[1mInfo: \u001b[22m\u001b[39mscaled correlation length (min,max) in dimension 1: (26002.33511528906, 77999.93927774779)\n",
      "\u001b[36m\u001b[1m[ \u001b[22m\u001b[39m\u001b[36m\u001b[1mInfo: \u001b[22m\u001b[39mscaled correlation length (min,max) in dimension 2: (26002.33511528906, 77999.93927774779)\n",
      "\u001b[36m\u001b[1m[ \u001b[22m\u001b[39m\u001b[36m\u001b[1mInfo: \u001b[22m\u001b[39mscaled correlation length (min,max) in dimension 3: (10.0, 50.0)\n",
      "\u001b[33m\u001b[1m┌ \u001b[22m\u001b[39m\u001b[33m\u001b[1mWarning: \u001b[22m\u001b[39mresolution (7.5) is too coarse for correlation length 10.0 in dimension 3 at indices CartesianIndex(47, 11, 6) (skipping further tests). It is recommended that the resolution is at least 2 times finer than the correlation length.\n",
      "\u001b[33m\u001b[1m└ \u001b[22m\u001b[39m\u001b[90m@ DIVAnd C:\\Users\\a001819\\.julia\\packages\\DIVAnd\\MV3j9\\src\\utils.jl:18\u001b[39m\n",
      "\u001b[36m\u001b[1m[ \u001b[22m\u001b[39m\u001b[36m\u001b[1mInfo: \u001b[22m\u001b[39mnumber of windows: 1\n"
     ]
    },
    {
     "name": "stdout",
     "output_type": "stream",
     "text": [
      "timeindex = 33\n"
     ]
    },
    {
     "name": "stderr",
     "output_type": "stream",
     "text": [
      "\u001b[36m\u001b[1m[ \u001b[22m\u001b[39m\u001b[36m\u001b[1mInfo: \u001b[22m\u001b[39mTime step 34 / 57\n",
      "\u001b[36m\u001b[1m[ \u001b[22m\u001b[39m\u001b[36m\u001b[1mInfo: \u001b[22m\u001b[39manalysis time index 34 uses the backgrond time index 175\n",
      "\u001b[36m\u001b[1m[ \u001b[22m\u001b[39m\u001b[36m\u001b[1mInfo: \u001b[22m\u001b[39mscaled correlation length (min,max) in dimension 1: (26002.33511528906, 77999.93927774779)\n",
      "\u001b[36m\u001b[1m[ \u001b[22m\u001b[39m\u001b[36m\u001b[1mInfo: \u001b[22m\u001b[39mscaled correlation length (min,max) in dimension 2: (26002.33511528906, 77999.93927774779)\n",
      "\u001b[36m\u001b[1m[ \u001b[22m\u001b[39m\u001b[36m\u001b[1mInfo: \u001b[22m\u001b[39mscaled correlation length (min,max) in dimension 3: (10.0, 50.0)\n",
      "\u001b[33m\u001b[1m┌ \u001b[22m\u001b[39m\u001b[33m\u001b[1mWarning: \u001b[22m\u001b[39mresolution (7.5) is too coarse for correlation length 10.0 in dimension 3 at indices CartesianIndex(47, 11, 6) (skipping further tests). It is recommended that the resolution is at least 2 times finer than the correlation length.\n",
      "\u001b[33m\u001b[1m└ \u001b[22m\u001b[39m\u001b[90m@ DIVAnd C:\\Users\\a001819\\.julia\\packages\\DIVAnd\\MV3j9\\src\\utils.jl:18\u001b[39m\n",
      "\u001b[36m\u001b[1m[ \u001b[22m\u001b[39m\u001b[36m\u001b[1mInfo: \u001b[22m\u001b[39mnumber of windows: 1\n"
     ]
    },
    {
     "name": "stdout",
     "output_type": "stream",
     "text": [
      "timeindex = 34\n"
     ]
    },
    {
     "name": "stderr",
     "output_type": "stream",
     "text": [
      "\u001b[36m\u001b[1m[ \u001b[22m\u001b[39m\u001b[36m\u001b[1mInfo: \u001b[22m\u001b[39mTime step 35 / 57\n",
      "\u001b[36m\u001b[1m[ \u001b[22m\u001b[39m\u001b[36m\u001b[1mInfo: \u001b[22m\u001b[39manalysis time index 35 uses the backgrond time index 179\n",
      "\u001b[36m\u001b[1m[ \u001b[22m\u001b[39m\u001b[36m\u001b[1mInfo: \u001b[22m\u001b[39mscaled correlation length (min,max) in dimension 1: (26002.33511528906, 77999.93927774779)\n",
      "\u001b[36m\u001b[1m[ \u001b[22m\u001b[39m\u001b[36m\u001b[1mInfo: \u001b[22m\u001b[39mscaled correlation length (min,max) in dimension 2: (26002.33511528906, 77999.93927774779)\n",
      "\u001b[36m\u001b[1m[ \u001b[22m\u001b[39m\u001b[36m\u001b[1mInfo: \u001b[22m\u001b[39mscaled correlation length (min,max) in dimension 3: (10.0, 50.0)\n",
      "\u001b[33m\u001b[1m┌ \u001b[22m\u001b[39m\u001b[33m\u001b[1mWarning: \u001b[22m\u001b[39mresolution (7.5) is too coarse for correlation length 10.0 in dimension 3 at indices CartesianIndex(47, 11, 6) (skipping further tests). It is recommended that the resolution is at least 2 times finer than the correlation length.\n",
      "\u001b[33m\u001b[1m└ \u001b[22m\u001b[39m\u001b[90m@ DIVAnd C:\\Users\\a001819\\.julia\\packages\\DIVAnd\\MV3j9\\src\\utils.jl:18\u001b[39m\n",
      "\u001b[36m\u001b[1m[ \u001b[22m\u001b[39m\u001b[36m\u001b[1mInfo: \u001b[22m\u001b[39mnumber of windows: 1\n"
     ]
    },
    {
     "name": "stdout",
     "output_type": "stream",
     "text": [
      "timeindex = 35\n"
     ]
    },
    {
     "name": "stderr",
     "output_type": "stream",
     "text": [
      "\u001b[36m\u001b[1m[ \u001b[22m\u001b[39m\u001b[36m\u001b[1mInfo: \u001b[22m\u001b[39mTime step 36 / 57\n",
      "\u001b[36m\u001b[1m[ \u001b[22m\u001b[39m\u001b[36m\u001b[1mInfo: \u001b[22m\u001b[39manalysis time index 36 uses the backgrond time index 183\n",
      "\u001b[36m\u001b[1m[ \u001b[22m\u001b[39m\u001b[36m\u001b[1mInfo: \u001b[22m\u001b[39mscaled correlation length (min,max) in dimension 1: (26002.33511528906, 77999.93927774779)\n",
      "\u001b[36m\u001b[1m[ \u001b[22m\u001b[39m\u001b[36m\u001b[1mInfo: \u001b[22m\u001b[39mscaled correlation length (min,max) in dimension 2: (26002.33511528906, 77999.93927774779)\n",
      "\u001b[36m\u001b[1m[ \u001b[22m\u001b[39m\u001b[36m\u001b[1mInfo: \u001b[22m\u001b[39mscaled correlation length (min,max) in dimension 3: (10.0, 50.0)\n",
      "\u001b[33m\u001b[1m┌ \u001b[22m\u001b[39m\u001b[33m\u001b[1mWarning: \u001b[22m\u001b[39mresolution (7.5) is too coarse for correlation length 10.0 in dimension 3 at indices CartesianIndex(47, 11, 6) (skipping further tests). It is recommended that the resolution is at least 2 times finer than the correlation length.\n",
      "\u001b[33m\u001b[1m└ \u001b[22m\u001b[39m\u001b[90m@ DIVAnd C:\\Users\\a001819\\.julia\\packages\\DIVAnd\\MV3j9\\src\\utils.jl:18\u001b[39m\n",
      "\u001b[36m\u001b[1m[ \u001b[22m\u001b[39m\u001b[36m\u001b[1mInfo: \u001b[22m\u001b[39mnumber of windows: 1\n"
     ]
    },
    {
     "name": "stdout",
     "output_type": "stream",
     "text": [
      "timeindex = 36\n"
     ]
    },
    {
     "name": "stderr",
     "output_type": "stream",
     "text": [
      "\u001b[36m\u001b[1m[ \u001b[22m\u001b[39m\u001b[36m\u001b[1mInfo: \u001b[22m\u001b[39mTime step 37 / 57\n",
      "\u001b[36m\u001b[1m[ \u001b[22m\u001b[39m\u001b[36m\u001b[1mInfo: \u001b[22m\u001b[39manalysis time index 37 uses the backgrond time index 187\n",
      "\u001b[36m\u001b[1m[ \u001b[22m\u001b[39m\u001b[36m\u001b[1mInfo: \u001b[22m\u001b[39mscaled correlation length (min,max) in dimension 1: (26002.33511528906, 77999.93927774779)\n",
      "\u001b[36m\u001b[1m[ \u001b[22m\u001b[39m\u001b[36m\u001b[1mInfo: \u001b[22m\u001b[39mscaled correlation length (min,max) in dimension 2: (26002.33511528906, 77999.93927774779)\n",
      "\u001b[36m\u001b[1m[ \u001b[22m\u001b[39m\u001b[36m\u001b[1mInfo: \u001b[22m\u001b[39mscaled correlation length (min,max) in dimension 3: (10.0, 50.0)\n",
      "\u001b[33m\u001b[1m┌ \u001b[22m\u001b[39m\u001b[33m\u001b[1mWarning: \u001b[22m\u001b[39mresolution (7.5) is too coarse for correlation length 10.0 in dimension 3 at indices CartesianIndex(47, 11, 6) (skipping further tests). It is recommended that the resolution is at least 2 times finer than the correlation length.\n",
      "\u001b[33m\u001b[1m└ \u001b[22m\u001b[39m\u001b[90m@ DIVAnd C:\\Users\\a001819\\.julia\\packages\\DIVAnd\\MV3j9\\src\\utils.jl:18\u001b[39m\n",
      "\u001b[36m\u001b[1m[ \u001b[22m\u001b[39m\u001b[36m\u001b[1mInfo: \u001b[22m\u001b[39mnumber of windows: 1\n"
     ]
    },
    {
     "name": "stdout",
     "output_type": "stream",
     "text": [
      "timeindex = 37\n"
     ]
    },
    {
     "name": "stderr",
     "output_type": "stream",
     "text": [
      "\u001b[36m\u001b[1m[ \u001b[22m\u001b[39m\u001b[36m\u001b[1mInfo: \u001b[22m\u001b[39mTime step 38 / 57\n",
      "\u001b[36m\u001b[1m[ \u001b[22m\u001b[39m\u001b[36m\u001b[1mInfo: \u001b[22m\u001b[39manalysis time index 38 uses the backgrond time index 191\n",
      "\u001b[36m\u001b[1m[ \u001b[22m\u001b[39m\u001b[36m\u001b[1mInfo: \u001b[22m\u001b[39mscaled correlation length (min,max) in dimension 1: (26002.33511528906, 77999.93927774779)\n",
      "\u001b[36m\u001b[1m[ \u001b[22m\u001b[39m\u001b[36m\u001b[1mInfo: \u001b[22m\u001b[39mscaled correlation length (min,max) in dimension 2: (26002.33511528906, 77999.93927774779)\n",
      "\u001b[36m\u001b[1m[ \u001b[22m\u001b[39m\u001b[36m\u001b[1mInfo: \u001b[22m\u001b[39mscaled correlation length (min,max) in dimension 3: (10.0, 50.0)\n",
      "\u001b[33m\u001b[1m┌ \u001b[22m\u001b[39m\u001b[33m\u001b[1mWarning: \u001b[22m\u001b[39mresolution (7.5) is too coarse for correlation length 10.0 in dimension 3 at indices CartesianIndex(47, 11, 6) (skipping further tests). It is recommended that the resolution is at least 2 times finer than the correlation length.\n",
      "\u001b[33m\u001b[1m└ \u001b[22m\u001b[39m\u001b[90m@ DIVAnd C:\\Users\\a001819\\.julia\\packages\\DIVAnd\\MV3j9\\src\\utils.jl:18\u001b[39m\n",
      "\u001b[36m\u001b[1m[ \u001b[22m\u001b[39m\u001b[36m\u001b[1mInfo: \u001b[22m\u001b[39mnumber of windows: 1\n"
     ]
    },
    {
     "name": "stdout",
     "output_type": "stream",
     "text": [
      "timeindex = 38\n"
     ]
    },
    {
     "name": "stderr",
     "output_type": "stream",
     "text": [
      "\u001b[36m\u001b[1m[ \u001b[22m\u001b[39m\u001b[36m\u001b[1mInfo: \u001b[22m\u001b[39mTime step 39 / 57\n",
      "\u001b[36m\u001b[1m[ \u001b[22m\u001b[39m\u001b[36m\u001b[1mInfo: \u001b[22m\u001b[39manalysis time index 39 uses the backgrond time index 195\n",
      "\u001b[36m\u001b[1m[ \u001b[22m\u001b[39m\u001b[36m\u001b[1mInfo: \u001b[22m\u001b[39mscaled correlation length (min,max) in dimension 1: (26002.33511528906, 77999.93927774779)\n",
      "\u001b[36m\u001b[1m[ \u001b[22m\u001b[39m\u001b[36m\u001b[1mInfo: \u001b[22m\u001b[39mscaled correlation length (min,max) in dimension 2: (26002.33511528906, 77999.93927774779)\n",
      "\u001b[36m\u001b[1m[ \u001b[22m\u001b[39m\u001b[36m\u001b[1mInfo: \u001b[22m\u001b[39mscaled correlation length (min,max) in dimension 3: (10.0, 50.0)\n",
      "\u001b[33m\u001b[1m┌ \u001b[22m\u001b[39m\u001b[33m\u001b[1mWarning: \u001b[22m\u001b[39mresolution (7.5) is too coarse for correlation length 10.0 in dimension 3 at indices CartesianIndex(47, 11, 6) (skipping further tests). It is recommended that the resolution is at least 2 times finer than the correlation length.\n",
      "\u001b[33m\u001b[1m└ \u001b[22m\u001b[39m\u001b[90m@ DIVAnd C:\\Users\\a001819\\.julia\\packages\\DIVAnd\\MV3j9\\src\\utils.jl:18\u001b[39m\n",
      "\u001b[36m\u001b[1m[ \u001b[22m\u001b[39m\u001b[36m\u001b[1mInfo: \u001b[22m\u001b[39mnumber of windows: 1\n"
     ]
    },
    {
     "name": "stdout",
     "output_type": "stream",
     "text": [
      "timeindex = 39\n"
     ]
    },
    {
     "name": "stderr",
     "output_type": "stream",
     "text": [
      "\u001b[36m\u001b[1m[ \u001b[22m\u001b[39m\u001b[36m\u001b[1mInfo: \u001b[22m\u001b[39mTime step 40 / 57\n",
      "\u001b[36m\u001b[1m[ \u001b[22m\u001b[39m\u001b[36m\u001b[1mInfo: \u001b[22m\u001b[39manalysis time index 40 uses the backgrond time index 199\n",
      "\u001b[36m\u001b[1m[ \u001b[22m\u001b[39m\u001b[36m\u001b[1mInfo: \u001b[22m\u001b[39mscaled correlation length (min,max) in dimension 1: (26002.33511528906, 77999.93927774779)\n",
      "\u001b[36m\u001b[1m[ \u001b[22m\u001b[39m\u001b[36m\u001b[1mInfo: \u001b[22m\u001b[39mscaled correlation length (min,max) in dimension 2: (26002.33511528906, 77999.93927774779)\n",
      "\u001b[36m\u001b[1m[ \u001b[22m\u001b[39m\u001b[36m\u001b[1mInfo: \u001b[22m\u001b[39mscaled correlation length (min,max) in dimension 3: (10.0, 50.0)\n",
      "\u001b[33m\u001b[1m┌ \u001b[22m\u001b[39m\u001b[33m\u001b[1mWarning: \u001b[22m\u001b[39mresolution (7.5) is too coarse for correlation length 10.0 in dimension 3 at indices CartesianIndex(47, 11, 6) (skipping further tests). It is recommended that the resolution is at least 2 times finer than the correlation length.\n",
      "\u001b[33m\u001b[1m└ \u001b[22m\u001b[39m\u001b[90m@ DIVAnd C:\\Users\\a001819\\.julia\\packages\\DIVAnd\\MV3j9\\src\\utils.jl:18\u001b[39m\n",
      "\u001b[36m\u001b[1m[ \u001b[22m\u001b[39m\u001b[36m\u001b[1mInfo: \u001b[22m\u001b[39mnumber of windows: 1\n"
     ]
    },
    {
     "name": "stdout",
     "output_type": "stream",
     "text": [
      "timeindex = 40\n"
     ]
    },
    {
     "name": "stderr",
     "output_type": "stream",
     "text": [
      "\u001b[36m\u001b[1m[ \u001b[22m\u001b[39m\u001b[36m\u001b[1mInfo: \u001b[22m\u001b[39mTime step 41 / 57\n",
      "\u001b[36m\u001b[1m[ \u001b[22m\u001b[39m\u001b[36m\u001b[1mInfo: \u001b[22m\u001b[39manalysis time index 41 uses the backgrond time index 203\n",
      "\u001b[36m\u001b[1m[ \u001b[22m\u001b[39m\u001b[36m\u001b[1mInfo: \u001b[22m\u001b[39mscaled correlation length (min,max) in dimension 1: (26002.33511528906, 77999.93927774779)\n",
      "\u001b[36m\u001b[1m[ \u001b[22m\u001b[39m\u001b[36m\u001b[1mInfo: \u001b[22m\u001b[39mscaled correlation length (min,max) in dimension 2: (26002.33511528906, 77999.93927774779)\n",
      "\u001b[36m\u001b[1m[ \u001b[22m\u001b[39m\u001b[36m\u001b[1mInfo: \u001b[22m\u001b[39mscaled correlation length (min,max) in dimension 3: (10.0, 50.0)\n",
      "\u001b[33m\u001b[1m┌ \u001b[22m\u001b[39m\u001b[33m\u001b[1mWarning: \u001b[22m\u001b[39mresolution (7.5) is too coarse for correlation length 10.0 in dimension 3 at indices CartesianIndex(47, 11, 6) (skipping further tests). It is recommended that the resolution is at least 2 times finer than the correlation length.\n",
      "\u001b[33m\u001b[1m└ \u001b[22m\u001b[39m\u001b[90m@ DIVAnd C:\\Users\\a001819\\.julia\\packages\\DIVAnd\\MV3j9\\src\\utils.jl:18\u001b[39m\n",
      "\u001b[36m\u001b[1m[ \u001b[22m\u001b[39m\u001b[36m\u001b[1mInfo: \u001b[22m\u001b[39mnumber of windows: 1\n"
     ]
    },
    {
     "name": "stdout",
     "output_type": "stream",
     "text": [
      "timeindex = 41\n"
     ]
    },
    {
     "name": "stderr",
     "output_type": "stream",
     "text": [
      "\u001b[36m\u001b[1m[ \u001b[22m\u001b[39m\u001b[36m\u001b[1mInfo: \u001b[22m\u001b[39mTime step 42 / 57\n",
      "\u001b[36m\u001b[1m[ \u001b[22m\u001b[39m\u001b[36m\u001b[1mInfo: \u001b[22m\u001b[39manalysis time index 42 uses the backgrond time index 207\n",
      "\u001b[36m\u001b[1m[ \u001b[22m\u001b[39m\u001b[36m\u001b[1mInfo: \u001b[22m\u001b[39mscaled correlation length (min,max) in dimension 1: (26002.33511528906, 77999.93927774779)\n",
      "\u001b[36m\u001b[1m[ \u001b[22m\u001b[39m\u001b[36m\u001b[1mInfo: \u001b[22m\u001b[39mscaled correlation length (min,max) in dimension 2: (26002.33511528906, 77999.93927774779)\n",
      "\u001b[36m\u001b[1m[ \u001b[22m\u001b[39m\u001b[36m\u001b[1mInfo: \u001b[22m\u001b[39mscaled correlation length (min,max) in dimension 3: (10.0, 50.0)\n",
      "\u001b[33m\u001b[1m┌ \u001b[22m\u001b[39m\u001b[33m\u001b[1mWarning: \u001b[22m\u001b[39mresolution (7.5) is too coarse for correlation length 10.0 in dimension 3 at indices CartesianIndex(47, 11, 6) (skipping further tests). It is recommended that the resolution is at least 2 times finer than the correlation length.\n",
      "\u001b[33m\u001b[1m└ \u001b[22m\u001b[39m\u001b[90m@ DIVAnd C:\\Users\\a001819\\.julia\\packages\\DIVAnd\\MV3j9\\src\\utils.jl:18\u001b[39m\n",
      "\u001b[36m\u001b[1m[ \u001b[22m\u001b[39m\u001b[36m\u001b[1mInfo: \u001b[22m\u001b[39mnumber of windows: 1\n"
     ]
    },
    {
     "name": "stdout",
     "output_type": "stream",
     "text": [
      "timeindex = 42\n"
     ]
    },
    {
     "name": "stderr",
     "output_type": "stream",
     "text": [
      "\u001b[36m\u001b[1m[ \u001b[22m\u001b[39m\u001b[36m\u001b[1mInfo: \u001b[22m\u001b[39mTime step 43 / 57\n",
      "\u001b[36m\u001b[1m[ \u001b[22m\u001b[39m\u001b[36m\u001b[1mInfo: \u001b[22m\u001b[39manalysis time index 43 uses the backgrond time index 211\n",
      "\u001b[36m\u001b[1m[ \u001b[22m\u001b[39m\u001b[36m\u001b[1mInfo: \u001b[22m\u001b[39mscaled correlation length (min,max) in dimension 1: (26002.33511528906, 77999.93927774779)\n",
      "\u001b[36m\u001b[1m[ \u001b[22m\u001b[39m\u001b[36m\u001b[1mInfo: \u001b[22m\u001b[39mscaled correlation length (min,max) in dimension 2: (26002.33511528906, 77999.93927774779)\n",
      "\u001b[36m\u001b[1m[ \u001b[22m\u001b[39m\u001b[36m\u001b[1mInfo: \u001b[22m\u001b[39mscaled correlation length (min,max) in dimension 3: (10.0, 50.0)\n",
      "\u001b[33m\u001b[1m┌ \u001b[22m\u001b[39m\u001b[33m\u001b[1mWarning: \u001b[22m\u001b[39mresolution (7.5) is too coarse for correlation length 10.0 in dimension 3 at indices CartesianIndex(47, 11, 6) (skipping further tests). It is recommended that the resolution is at least 2 times finer than the correlation length.\n",
      "\u001b[33m\u001b[1m└ \u001b[22m\u001b[39m\u001b[90m@ DIVAnd C:\\Users\\a001819\\.julia\\packages\\DIVAnd\\MV3j9\\src\\utils.jl:18\u001b[39m\n",
      "\u001b[36m\u001b[1m[ \u001b[22m\u001b[39m\u001b[36m\u001b[1mInfo: \u001b[22m\u001b[39mnumber of windows: 1\n"
     ]
    },
    {
     "name": "stdout",
     "output_type": "stream",
     "text": [
      "timeindex = 43\n"
     ]
    },
    {
     "name": "stderr",
     "output_type": "stream",
     "text": [
      "\u001b[36m\u001b[1m[ \u001b[22m\u001b[39m\u001b[36m\u001b[1mInfo: \u001b[22m\u001b[39mTime step 44 / 57\n",
      "\u001b[36m\u001b[1m[ \u001b[22m\u001b[39m\u001b[36m\u001b[1mInfo: \u001b[22m\u001b[39manalysis time index 44 uses the backgrond time index 215\n",
      "\u001b[36m\u001b[1m[ \u001b[22m\u001b[39m\u001b[36m\u001b[1mInfo: \u001b[22m\u001b[39mscaled correlation length (min,max) in dimension 1: (26002.33511528906, 77999.93927774779)\n",
      "\u001b[36m\u001b[1m[ \u001b[22m\u001b[39m\u001b[36m\u001b[1mInfo: \u001b[22m\u001b[39mscaled correlation length (min,max) in dimension 2: (26002.33511528906, 77999.93927774779)\n",
      "\u001b[36m\u001b[1m[ \u001b[22m\u001b[39m\u001b[36m\u001b[1mInfo: \u001b[22m\u001b[39mscaled correlation length (min,max) in dimension 3: (10.0, 50.0)\n",
      "\u001b[33m\u001b[1m┌ \u001b[22m\u001b[39m\u001b[33m\u001b[1mWarning: \u001b[22m\u001b[39mresolution (7.5) is too coarse for correlation length 10.0 in dimension 3 at indices CartesianIndex(47, 11, 6) (skipping further tests). It is recommended that the resolution is at least 2 times finer than the correlation length.\n",
      "\u001b[33m\u001b[1m└ \u001b[22m\u001b[39m\u001b[90m@ DIVAnd C:\\Users\\a001819\\.julia\\packages\\DIVAnd\\MV3j9\\src\\utils.jl:18\u001b[39m\n",
      "\u001b[36m\u001b[1m[ \u001b[22m\u001b[39m\u001b[36m\u001b[1mInfo: \u001b[22m\u001b[39mnumber of windows: 1\n"
     ]
    },
    {
     "name": "stdout",
     "output_type": "stream",
     "text": [
      "timeindex = 44\n"
     ]
    },
    {
     "name": "stderr",
     "output_type": "stream",
     "text": [
      "\u001b[36m\u001b[1m[ \u001b[22m\u001b[39m\u001b[36m\u001b[1mInfo: \u001b[22m\u001b[39mTime step 45 / 57\n",
      "\u001b[36m\u001b[1m[ \u001b[22m\u001b[39m\u001b[36m\u001b[1mInfo: \u001b[22m\u001b[39manalysis time index 45 uses the backgrond time index 219\n",
      "\u001b[36m\u001b[1m[ \u001b[22m\u001b[39m\u001b[36m\u001b[1mInfo: \u001b[22m\u001b[39mscaled correlation length (min,max) in dimension 1: (26002.33511528906, 77999.93927774779)\n",
      "\u001b[36m\u001b[1m[ \u001b[22m\u001b[39m\u001b[36m\u001b[1mInfo: \u001b[22m\u001b[39mscaled correlation length (min,max) in dimension 2: (26002.33511528906, 77999.93927774779)\n",
      "\u001b[36m\u001b[1m[ \u001b[22m\u001b[39m\u001b[36m\u001b[1mInfo: \u001b[22m\u001b[39mscaled correlation length (min,max) in dimension 3: (10.0, 50.0)\n",
      "\u001b[33m\u001b[1m┌ \u001b[22m\u001b[39m\u001b[33m\u001b[1mWarning: \u001b[22m\u001b[39mresolution (7.5) is too coarse for correlation length 10.0 in dimension 3 at indices CartesianIndex(47, 11, 6) (skipping further tests). It is recommended that the resolution is at least 2 times finer than the correlation length.\n",
      "\u001b[33m\u001b[1m└ \u001b[22m\u001b[39m\u001b[90m@ DIVAnd C:\\Users\\a001819\\.julia\\packages\\DIVAnd\\MV3j9\\src\\utils.jl:18\u001b[39m\n",
      "\u001b[36m\u001b[1m[ \u001b[22m\u001b[39m\u001b[36m\u001b[1mInfo: \u001b[22m\u001b[39mnumber of windows: 1\n"
     ]
    },
    {
     "name": "stdout",
     "output_type": "stream",
     "text": [
      "timeindex = 45\n"
     ]
    },
    {
     "name": "stderr",
     "output_type": "stream",
     "text": [
      "\u001b[36m\u001b[1m[ \u001b[22m\u001b[39m\u001b[36m\u001b[1mInfo: \u001b[22m\u001b[39mTime step 46 / 57\n",
      "\u001b[36m\u001b[1m[ \u001b[22m\u001b[39m\u001b[36m\u001b[1mInfo: \u001b[22m\u001b[39manalysis time index 46 uses the backgrond time index 223\n",
      "\u001b[36m\u001b[1m[ \u001b[22m\u001b[39m\u001b[36m\u001b[1mInfo: \u001b[22m\u001b[39mscaled correlation length (min,max) in dimension 1: (26002.33511528906, 77999.93927774779)\n",
      "\u001b[36m\u001b[1m[ \u001b[22m\u001b[39m\u001b[36m\u001b[1mInfo: \u001b[22m\u001b[39mscaled correlation length (min,max) in dimension 2: (26002.33511528906, 77999.93927774779)\n",
      "\u001b[36m\u001b[1m[ \u001b[22m\u001b[39m\u001b[36m\u001b[1mInfo: \u001b[22m\u001b[39mscaled correlation length (min,max) in dimension 3: (10.0, 50.0)\n",
      "\u001b[33m\u001b[1m┌ \u001b[22m\u001b[39m\u001b[33m\u001b[1mWarning: \u001b[22m\u001b[39mresolution (7.5) is too coarse for correlation length 10.0 in dimension 3 at indices CartesianIndex(47, 11, 6) (skipping further tests). It is recommended that the resolution is at least 2 times finer than the correlation length.\n",
      "\u001b[33m\u001b[1m└ \u001b[22m\u001b[39m\u001b[90m@ DIVAnd C:\\Users\\a001819\\.julia\\packages\\DIVAnd\\MV3j9\\src\\utils.jl:18\u001b[39m\n",
      "\u001b[36m\u001b[1m[ \u001b[22m\u001b[39m\u001b[36m\u001b[1mInfo: \u001b[22m\u001b[39mnumber of windows: 1\n"
     ]
    },
    {
     "name": "stdout",
     "output_type": "stream",
     "text": [
      "timeindex = 46\n"
     ]
    },
    {
     "name": "stderr",
     "output_type": "stream",
     "text": [
      "\u001b[36m\u001b[1m[ \u001b[22m\u001b[39m\u001b[36m\u001b[1mInfo: \u001b[22m\u001b[39mTime step 47 / 57\n",
      "\u001b[36m\u001b[1m[ \u001b[22m\u001b[39m\u001b[36m\u001b[1mInfo: \u001b[22m\u001b[39manalysis time index 47 uses the backgrond time index 227\n",
      "\u001b[36m\u001b[1m[ \u001b[22m\u001b[39m\u001b[36m\u001b[1mInfo: \u001b[22m\u001b[39mscaled correlation length (min,max) in dimension 1: (26002.33511528906, 77999.93927774779)\n",
      "\u001b[36m\u001b[1m[ \u001b[22m\u001b[39m\u001b[36m\u001b[1mInfo: \u001b[22m\u001b[39mscaled correlation length (min,max) in dimension 2: (26002.33511528906, 77999.93927774779)\n",
      "\u001b[36m\u001b[1m[ \u001b[22m\u001b[39m\u001b[36m\u001b[1mInfo: \u001b[22m\u001b[39mscaled correlation length (min,max) in dimension 3: (10.0, 50.0)\n",
      "\u001b[33m\u001b[1m┌ \u001b[22m\u001b[39m\u001b[33m\u001b[1mWarning: \u001b[22m\u001b[39mresolution (7.5) is too coarse for correlation length 10.0 in dimension 3 at indices CartesianIndex(47, 11, 6) (skipping further tests). It is recommended that the resolution is at least 2 times finer than the correlation length.\n",
      "\u001b[33m\u001b[1m└ \u001b[22m\u001b[39m\u001b[90m@ DIVAnd C:\\Users\\a001819\\.julia\\packages\\DIVAnd\\MV3j9\\src\\utils.jl:18\u001b[39m\n",
      "\u001b[36m\u001b[1m[ \u001b[22m\u001b[39m\u001b[36m\u001b[1mInfo: \u001b[22m\u001b[39mnumber of windows: 1\n"
     ]
    },
    {
     "name": "stdout",
     "output_type": "stream",
     "text": [
      "timeindex = 47\n"
     ]
    },
    {
     "name": "stderr",
     "output_type": "stream",
     "text": [
      "\u001b[36m\u001b[1m[ \u001b[22m\u001b[39m\u001b[36m\u001b[1mInfo: \u001b[22m\u001b[39mTime step 48 / 57\n",
      "\u001b[36m\u001b[1m[ \u001b[22m\u001b[39m\u001b[36m\u001b[1mInfo: \u001b[22m\u001b[39manalysis time index 48 uses the backgrond time index 231\n",
      "\u001b[36m\u001b[1m[ \u001b[22m\u001b[39m\u001b[36m\u001b[1mInfo: \u001b[22m\u001b[39mscaled correlation length (min,max) in dimension 1: (26002.33511528906, 77999.93927774779)\n",
      "\u001b[36m\u001b[1m[ \u001b[22m\u001b[39m\u001b[36m\u001b[1mInfo: \u001b[22m\u001b[39mscaled correlation length (min,max) in dimension 2: (26002.33511528906, 77999.93927774779)\n",
      "\u001b[36m\u001b[1m[ \u001b[22m\u001b[39m\u001b[36m\u001b[1mInfo: \u001b[22m\u001b[39mscaled correlation length (min,max) in dimension 3: (10.0, 50.0)\n",
      "\u001b[33m\u001b[1m┌ \u001b[22m\u001b[39m\u001b[33m\u001b[1mWarning: \u001b[22m\u001b[39mresolution (7.5) is too coarse for correlation length 10.0 in dimension 3 at indices CartesianIndex(47, 11, 6) (skipping further tests). It is recommended that the resolution is at least 2 times finer than the correlation length.\n",
      "\u001b[33m\u001b[1m└ \u001b[22m\u001b[39m\u001b[90m@ DIVAnd C:\\Users\\a001819\\.julia\\packages\\DIVAnd\\MV3j9\\src\\utils.jl:18\u001b[39m\n",
      "\u001b[36m\u001b[1m[ \u001b[22m\u001b[39m\u001b[36m\u001b[1mInfo: \u001b[22m\u001b[39mnumber of windows: 1\n"
     ]
    },
    {
     "name": "stdout",
     "output_type": "stream",
     "text": [
      "timeindex = 48\n"
     ]
    },
    {
     "name": "stderr",
     "output_type": "stream",
     "text": [
      "\u001b[36m\u001b[1m[ \u001b[22m\u001b[39m\u001b[36m\u001b[1mInfo: \u001b[22m\u001b[39mTime step 49 / 57\n",
      "\u001b[36m\u001b[1m[ \u001b[22m\u001b[39m\u001b[36m\u001b[1mInfo: \u001b[22m\u001b[39manalysis time index 49 uses the backgrond time index 235\n",
      "\u001b[36m\u001b[1m[ \u001b[22m\u001b[39m\u001b[36m\u001b[1mInfo: \u001b[22m\u001b[39mscaled correlation length (min,max) in dimension 1: (26002.33511528906, 77999.93927774779)\n",
      "\u001b[36m\u001b[1m[ \u001b[22m\u001b[39m\u001b[36m\u001b[1mInfo: \u001b[22m\u001b[39mscaled correlation length (min,max) in dimension 2: (26002.33511528906, 77999.93927774779)\n",
      "\u001b[36m\u001b[1m[ \u001b[22m\u001b[39m\u001b[36m\u001b[1mInfo: \u001b[22m\u001b[39mscaled correlation length (min,max) in dimension 3: (10.0, 50.0)\n",
      "\u001b[33m\u001b[1m┌ \u001b[22m\u001b[39m\u001b[33m\u001b[1mWarning: \u001b[22m\u001b[39mresolution (7.5) is too coarse for correlation length 10.0 in dimension 3 at indices CartesianIndex(47, 11, 6) (skipping further tests). It is recommended that the resolution is at least 2 times finer than the correlation length.\n",
      "\u001b[33m\u001b[1m└ \u001b[22m\u001b[39m\u001b[90m@ DIVAnd C:\\Users\\a001819\\.julia\\packages\\DIVAnd\\MV3j9\\src\\utils.jl:18\u001b[39m\n",
      "\u001b[36m\u001b[1m[ \u001b[22m\u001b[39m\u001b[36m\u001b[1mInfo: \u001b[22m\u001b[39mnumber of windows: 1\n"
     ]
    },
    {
     "name": "stdout",
     "output_type": "stream",
     "text": [
      "timeindex = 49\n"
     ]
    },
    {
     "name": "stderr",
     "output_type": "stream",
     "text": [
      "\u001b[36m\u001b[1m[ \u001b[22m\u001b[39m\u001b[36m\u001b[1mInfo: \u001b[22m\u001b[39mTime step 50 / 57\n",
      "\u001b[36m\u001b[1m[ \u001b[22m\u001b[39m\u001b[36m\u001b[1mInfo: \u001b[22m\u001b[39manalysis time index 50 uses the backgrond time index 239\n",
      "\u001b[36m\u001b[1m[ \u001b[22m\u001b[39m\u001b[36m\u001b[1mInfo: \u001b[22m\u001b[39mscaled correlation length (min,max) in dimension 1: (26002.33511528906, 77999.93927774779)\n",
      "\u001b[36m\u001b[1m[ \u001b[22m\u001b[39m\u001b[36m\u001b[1mInfo: \u001b[22m\u001b[39mscaled correlation length (min,max) in dimension 2: (26002.33511528906, 77999.93927774779)\n",
      "\u001b[36m\u001b[1m[ \u001b[22m\u001b[39m\u001b[36m\u001b[1mInfo: \u001b[22m\u001b[39mscaled correlation length (min,max) in dimension 3: (10.0, 50.0)\n",
      "\u001b[33m\u001b[1m┌ \u001b[22m\u001b[39m\u001b[33m\u001b[1mWarning: \u001b[22m\u001b[39mresolution (7.5) is too coarse for correlation length 10.0 in dimension 3 at indices CartesianIndex(47, 11, 6) (skipping further tests). It is recommended that the resolution is at least 2 times finer than the correlation length.\n",
      "\u001b[33m\u001b[1m└ \u001b[22m\u001b[39m\u001b[90m@ DIVAnd C:\\Users\\a001819\\.julia\\packages\\DIVAnd\\MV3j9\\src\\utils.jl:18\u001b[39m\n",
      "\u001b[36m\u001b[1m[ \u001b[22m\u001b[39m\u001b[36m\u001b[1mInfo: \u001b[22m\u001b[39mnumber of windows: 1\n"
     ]
    },
    {
     "name": "stdout",
     "output_type": "stream",
     "text": [
      "timeindex = 50\n"
     ]
    },
    {
     "name": "stderr",
     "output_type": "stream",
     "text": [
      "\u001b[36m\u001b[1m[ \u001b[22m\u001b[39m\u001b[36m\u001b[1mInfo: \u001b[22m\u001b[39mTime step 51 / 57\n",
      "\u001b[36m\u001b[1m[ \u001b[22m\u001b[39m\u001b[36m\u001b[1mInfo: \u001b[22m\u001b[39manalysis time index 51 uses the backgrond time index 243\n",
      "\u001b[36m\u001b[1m[ \u001b[22m\u001b[39m\u001b[36m\u001b[1mInfo: \u001b[22m\u001b[39mscaled correlation length (min,max) in dimension 1: (26002.33511528906, 77999.93927774779)\n",
      "\u001b[36m\u001b[1m[ \u001b[22m\u001b[39m\u001b[36m\u001b[1mInfo: \u001b[22m\u001b[39mscaled correlation length (min,max) in dimension 2: (26002.33511528906, 77999.93927774779)\n",
      "\u001b[36m\u001b[1m[ \u001b[22m\u001b[39m\u001b[36m\u001b[1mInfo: \u001b[22m\u001b[39mscaled correlation length (min,max) in dimension 3: (10.0, 50.0)\n",
      "\u001b[33m\u001b[1m┌ \u001b[22m\u001b[39m\u001b[33m\u001b[1mWarning: \u001b[22m\u001b[39mresolution (7.5) is too coarse for correlation length 10.0 in dimension 3 at indices CartesianIndex(47, 11, 6) (skipping further tests). It is recommended that the resolution is at least 2 times finer than the correlation length.\n",
      "\u001b[33m\u001b[1m└ \u001b[22m\u001b[39m\u001b[90m@ DIVAnd C:\\Users\\a001819\\.julia\\packages\\DIVAnd\\MV3j9\\src\\utils.jl:18\u001b[39m\n",
      "\u001b[36m\u001b[1m[ \u001b[22m\u001b[39m\u001b[36m\u001b[1mInfo: \u001b[22m\u001b[39mnumber of windows: 1\n"
     ]
    },
    {
     "name": "stdout",
     "output_type": "stream",
     "text": [
      "timeindex = 51\n"
     ]
    },
    {
     "name": "stderr",
     "output_type": "stream",
     "text": [
      "\u001b[36m\u001b[1m[ \u001b[22m\u001b[39m\u001b[36m\u001b[1mInfo: \u001b[22m\u001b[39mTime step 52 / 57\n",
      "\u001b[36m\u001b[1m[ \u001b[22m\u001b[39m\u001b[36m\u001b[1mInfo: \u001b[22m\u001b[39manalysis time index 52 uses the backgrond time index 247\n",
      "\u001b[36m\u001b[1m[ \u001b[22m\u001b[39m\u001b[36m\u001b[1mInfo: \u001b[22m\u001b[39mscaled correlation length (min,max) in dimension 1: (26002.33511528906, 77999.93927774779)\n",
      "\u001b[36m\u001b[1m[ \u001b[22m\u001b[39m\u001b[36m\u001b[1mInfo: \u001b[22m\u001b[39mscaled correlation length (min,max) in dimension 2: (26002.33511528906, 77999.93927774779)\n",
      "\u001b[36m\u001b[1m[ \u001b[22m\u001b[39m\u001b[36m\u001b[1mInfo: \u001b[22m\u001b[39mscaled correlation length (min,max) in dimension 3: (10.0, 50.0)\n",
      "\u001b[33m\u001b[1m┌ \u001b[22m\u001b[39m\u001b[33m\u001b[1mWarning: \u001b[22m\u001b[39mresolution (7.5) is too coarse for correlation length 10.0 in dimension 3 at indices CartesianIndex(47, 11, 6) (skipping further tests). It is recommended that the resolution is at least 2 times finer than the correlation length.\n",
      "\u001b[33m\u001b[1m└ \u001b[22m\u001b[39m\u001b[90m@ DIVAnd C:\\Users\\a001819\\.julia\\packages\\DIVAnd\\MV3j9\\src\\utils.jl:18\u001b[39m\n",
      "\u001b[36m\u001b[1m[ \u001b[22m\u001b[39m\u001b[36m\u001b[1mInfo: \u001b[22m\u001b[39mnumber of windows: 1\n"
     ]
    },
    {
     "name": "stdout",
     "output_type": "stream",
     "text": [
      "timeindex = 52\n"
     ]
    },
    {
     "name": "stderr",
     "output_type": "stream",
     "text": [
      "\u001b[36m\u001b[1m[ \u001b[22m\u001b[39m\u001b[36m\u001b[1mInfo: \u001b[22m\u001b[39mTime step 53 / 57\n",
      "\u001b[36m\u001b[1m[ \u001b[22m\u001b[39m\u001b[36m\u001b[1mInfo: \u001b[22m\u001b[39manalysis time index 53 uses the backgrond time index 251\n",
      "\u001b[36m\u001b[1m[ \u001b[22m\u001b[39m\u001b[36m\u001b[1mInfo: \u001b[22m\u001b[39mscaled correlation length (min,max) in dimension 1: (26002.33511528906, 77999.93927774779)\n",
      "\u001b[36m\u001b[1m[ \u001b[22m\u001b[39m\u001b[36m\u001b[1mInfo: \u001b[22m\u001b[39mscaled correlation length (min,max) in dimension 2: (26002.33511528906, 77999.93927774779)\n",
      "\u001b[36m\u001b[1m[ \u001b[22m\u001b[39m\u001b[36m\u001b[1mInfo: \u001b[22m\u001b[39mscaled correlation length (min,max) in dimension 3: (10.0, 50.0)\n",
      "\u001b[33m\u001b[1m┌ \u001b[22m\u001b[39m\u001b[33m\u001b[1mWarning: \u001b[22m\u001b[39mresolution (7.5) is too coarse for correlation length 10.0 in dimension 3 at indices CartesianIndex(47, 11, 6) (skipping further tests). It is recommended that the resolution is at least 2 times finer than the correlation length.\n",
      "\u001b[33m\u001b[1m└ \u001b[22m\u001b[39m\u001b[90m@ DIVAnd C:\\Users\\a001819\\.julia\\packages\\DIVAnd\\MV3j9\\src\\utils.jl:18\u001b[39m\n",
      "\u001b[36m\u001b[1m[ \u001b[22m\u001b[39m\u001b[36m\u001b[1mInfo: \u001b[22m\u001b[39mnumber of windows: 1\n"
     ]
    },
    {
     "name": "stdout",
     "output_type": "stream",
     "text": [
      "timeindex = 53\n"
     ]
    },
    {
     "name": "stderr",
     "output_type": "stream",
     "text": [
      "\u001b[36m\u001b[1m[ \u001b[22m\u001b[39m\u001b[36m\u001b[1mInfo: \u001b[22m\u001b[39mTime step 54 / 57\n",
      "\u001b[36m\u001b[1m[ \u001b[22m\u001b[39m\u001b[36m\u001b[1mInfo: \u001b[22m\u001b[39manalysis time index 54 uses the backgrond time index 255\n",
      "\u001b[36m\u001b[1m[ \u001b[22m\u001b[39m\u001b[36m\u001b[1mInfo: \u001b[22m\u001b[39mscaled correlation length (min,max) in dimension 1: (26002.33511528906, 77999.93927774779)\n",
      "\u001b[36m\u001b[1m[ \u001b[22m\u001b[39m\u001b[36m\u001b[1mInfo: \u001b[22m\u001b[39mscaled correlation length (min,max) in dimension 2: (26002.33511528906, 77999.93927774779)\n",
      "\u001b[36m\u001b[1m[ \u001b[22m\u001b[39m\u001b[36m\u001b[1mInfo: \u001b[22m\u001b[39mscaled correlation length (min,max) in dimension 3: (10.0, 50.0)\n",
      "\u001b[33m\u001b[1m┌ \u001b[22m\u001b[39m\u001b[33m\u001b[1mWarning: \u001b[22m\u001b[39mresolution (7.5) is too coarse for correlation length 10.0 in dimension 3 at indices CartesianIndex(47, 11, 6) (skipping further tests). It is recommended that the resolution is at least 2 times finer than the correlation length.\n",
      "\u001b[33m\u001b[1m└ \u001b[22m\u001b[39m\u001b[90m@ DIVAnd C:\\Users\\a001819\\.julia\\packages\\DIVAnd\\MV3j9\\src\\utils.jl:18\u001b[39m\n",
      "\u001b[36m\u001b[1m[ \u001b[22m\u001b[39m\u001b[36m\u001b[1mInfo: \u001b[22m\u001b[39mnumber of windows: 1\n"
     ]
    },
    {
     "name": "stdout",
     "output_type": "stream",
     "text": [
      "timeindex = 54\n"
     ]
    },
    {
     "name": "stderr",
     "output_type": "stream",
     "text": [
      "\u001b[36m\u001b[1m[ \u001b[22m\u001b[39m\u001b[36m\u001b[1mInfo: \u001b[22m\u001b[39mTime step 55 / 57\n",
      "\u001b[36m\u001b[1m[ \u001b[22m\u001b[39m\u001b[36m\u001b[1mInfo: \u001b[22m\u001b[39manalysis time index 55 uses the backgrond time index 259\n",
      "\u001b[36m\u001b[1m[ \u001b[22m\u001b[39m\u001b[36m\u001b[1mInfo: \u001b[22m\u001b[39mscaled correlation length (min,max) in dimension 1: (26002.33511528906, 77999.93927774779)\n",
      "\u001b[36m\u001b[1m[ \u001b[22m\u001b[39m\u001b[36m\u001b[1mInfo: \u001b[22m\u001b[39mscaled correlation length (min,max) in dimension 2: (26002.33511528906, 77999.93927774779)\n",
      "\u001b[36m\u001b[1m[ \u001b[22m\u001b[39m\u001b[36m\u001b[1mInfo: \u001b[22m\u001b[39mscaled correlation length (min,max) in dimension 3: (10.0, 50.0)\n",
      "\u001b[33m\u001b[1m┌ \u001b[22m\u001b[39m\u001b[33m\u001b[1mWarning: \u001b[22m\u001b[39mresolution (7.5) is too coarse for correlation length 10.0 in dimension 3 at indices CartesianIndex(47, 11, 6) (skipping further tests). It is recommended that the resolution is at least 2 times finer than the correlation length.\n",
      "\u001b[33m\u001b[1m└ \u001b[22m\u001b[39m\u001b[90m@ DIVAnd C:\\Users\\a001819\\.julia\\packages\\DIVAnd\\MV3j9\\src\\utils.jl:18\u001b[39m\n",
      "\u001b[36m\u001b[1m[ \u001b[22m\u001b[39m\u001b[36m\u001b[1mInfo: \u001b[22m\u001b[39mnumber of windows: 1\n"
     ]
    },
    {
     "name": "stdout",
     "output_type": "stream",
     "text": [
      "timeindex = 55\n"
     ]
    },
    {
     "name": "stderr",
     "output_type": "stream",
     "text": [
      "\u001b[36m\u001b[1m[ \u001b[22m\u001b[39m\u001b[36m\u001b[1mInfo: \u001b[22m\u001b[39mTime step 56 / 57\n",
      "\u001b[36m\u001b[1m[ \u001b[22m\u001b[39m\u001b[36m\u001b[1mInfo: \u001b[22m\u001b[39manalysis time index 56 uses the backgrond time index 263\n",
      "\u001b[36m\u001b[1m[ \u001b[22m\u001b[39m\u001b[36m\u001b[1mInfo: \u001b[22m\u001b[39mscaled correlation length (min,max) in dimension 1: (26002.33511528906, 77999.93927774779)\n",
      "\u001b[36m\u001b[1m[ \u001b[22m\u001b[39m\u001b[36m\u001b[1mInfo: \u001b[22m\u001b[39mscaled correlation length (min,max) in dimension 2: (26002.33511528906, 77999.93927774779)\n",
      "\u001b[36m\u001b[1m[ \u001b[22m\u001b[39m\u001b[36m\u001b[1mInfo: \u001b[22m\u001b[39mscaled correlation length (min,max) in dimension 3: (10.0, 50.0)\n",
      "\u001b[33m\u001b[1m┌ \u001b[22m\u001b[39m\u001b[33m\u001b[1mWarning: \u001b[22m\u001b[39mresolution (7.5) is too coarse for correlation length 10.0 in dimension 3 at indices CartesianIndex(47, 11, 6) (skipping further tests). It is recommended that the resolution is at least 2 times finer than the correlation length.\n",
      "\u001b[33m\u001b[1m└ \u001b[22m\u001b[39m\u001b[90m@ DIVAnd C:\\Users\\a001819\\.julia\\packages\\DIVAnd\\MV3j9\\src\\utils.jl:18\u001b[39m\n",
      "\u001b[36m\u001b[1m[ \u001b[22m\u001b[39m\u001b[36m\u001b[1mInfo: \u001b[22m\u001b[39mnumber of windows: 1\n"
     ]
    },
    {
     "name": "stdout",
     "output_type": "stream",
     "text": [
      "timeindex = 56\n"
     ]
    },
    {
     "name": "stderr",
     "output_type": "stream",
     "text": [
      "\u001b[36m\u001b[1m[ \u001b[22m\u001b[39m\u001b[36m\u001b[1mInfo: \u001b[22m\u001b[39mTime step 57 / 57\n",
      "\u001b[36m\u001b[1m[ \u001b[22m\u001b[39m\u001b[36m\u001b[1mInfo: \u001b[22m\u001b[39manalysis time index 57 uses the backgrond time index 267\n",
      "\u001b[36m\u001b[1m[ \u001b[22m\u001b[39m\u001b[36m\u001b[1mInfo: \u001b[22m\u001b[39mscaled correlation length (min,max) in dimension 1: (26002.33511528906, 77999.93927774779)\n",
      "\u001b[36m\u001b[1m[ \u001b[22m\u001b[39m\u001b[36m\u001b[1mInfo: \u001b[22m\u001b[39mscaled correlation length (min,max) in dimension 2: (26002.33511528906, 77999.93927774779)\n",
      "\u001b[36m\u001b[1m[ \u001b[22m\u001b[39m\u001b[36m\u001b[1mInfo: \u001b[22m\u001b[39mscaled correlation length (min,max) in dimension 3: (10.0, 50.0)\n",
      "\u001b[33m\u001b[1m┌ \u001b[22m\u001b[39m\u001b[33m\u001b[1mWarning: \u001b[22m\u001b[39mresolution (7.5) is too coarse for correlation length 10.0 in dimension 3 at indices CartesianIndex(47, 11, 6) (skipping further tests). It is recommended that the resolution is at least 2 times finer than the correlation length.\n",
      "\u001b[33m\u001b[1m└ \u001b[22m\u001b[39m\u001b[90m@ DIVAnd C:\\Users\\a001819\\.julia\\packages\\DIVAnd\\MV3j9\\src\\utils.jl:18\u001b[39m\n",
      "\u001b[36m\u001b[1m[ \u001b[22m\u001b[39m\u001b[36m\u001b[1mInfo: \u001b[22m\u001b[39mnumber of windows: 1\n"
     ]
    },
    {
     "name": "stdout",
     "output_type": "stream",
     "text": [
      "timeindex = 57\n",
      "3235.816897 seconds (1.44 G allocations: 665.508 GiB, 3.16% gc time)\n"
     ]
    },
    {
     "name": "stderr",
     "output_type": "stream",
     "text": [
      "\u001b[36m\u001b[1m[ \u001b[22m\u001b[39m\u001b[36m\u001b[1mInfo: \u001b[22m\u001b[39mCreating new variable Water body dissolved oxygen concentration_deepest\n",
      "\u001b[36m\u001b[1m[ \u001b[22m\u001b[39m\u001b[36m\u001b[1mInfo: \u001b[22m\u001b[39mWorking on 21 depth layers\n",
      "\u001b[36m\u001b[1m[ \u001b[22m\u001b[39m\u001b[36m\u001b[1mInfo: \u001b[22m\u001b[39msize = (217, 131, 21)\n",
      "\u001b[36m\u001b[1m[ \u001b[22m\u001b[39m\u001b[36m\u001b[1mInfo: \u001b[22m\u001b[39mCreating new variable Water body dissolved oxygen concentration_deepest_depth\n",
      "\u001b[36m\u001b[1m[ \u001b[22m\u001b[39m\u001b[36m\u001b[1mInfo: \u001b[22m\u001b[39mDepth index: 1\n",
      "\u001b[36m\u001b[1m[ \u001b[22m\u001b[39m\u001b[36m\u001b[1mInfo: \u001b[22m\u001b[39mFound 6696 non missing values for depth 0.0\n",
      "\u001b[36m\u001b[1m[ \u001b[22m\u001b[39m\u001b[36m\u001b[1mInfo: \u001b[22m\u001b[39mDepth index: 2\n",
      "\u001b[36m\u001b[1m[ \u001b[22m\u001b[39m\u001b[36m\u001b[1mInfo: \u001b[22m\u001b[39mFound 6284 non missing values for depth 5.0\n",
      "\u001b[36m\u001b[1m[ \u001b[22m\u001b[39m\u001b[36m\u001b[1mInfo: \u001b[22m\u001b[39mDepth index: 3\n",
      "\u001b[36m\u001b[1m[ \u001b[22m\u001b[39m\u001b[36m\u001b[1mInfo: \u001b[22m\u001b[39mFound 5764 non missing values for depth 10.0\n",
      "\u001b[36m\u001b[1m[ \u001b[22m\u001b[39m\u001b[36m\u001b[1mInfo: \u001b[22m\u001b[39mDepth index: 4\n",
      "\u001b[36m\u001b[1m[ \u001b[22m\u001b[39m\u001b[36m\u001b[1mInfo: \u001b[22m\u001b[39mFound 5273 non missing values for depth 15.0\n",
      "\u001b[36m\u001b[1m[ \u001b[22m\u001b[39m\u001b[36m\u001b[1mInfo: \u001b[22m\u001b[39mDepth index: 5\n",
      "\u001b[36m\u001b[1m[ \u001b[22m\u001b[39m\u001b[36m\u001b[1mInfo: \u001b[22m\u001b[39mFound 4762 non missing values for depth 20.0\n",
      "\u001b[36m\u001b[1m[ \u001b[22m\u001b[39m\u001b[36m\u001b[1mInfo: \u001b[22m\u001b[39mDepth index: 6\n",
      "\u001b[36m\u001b[1m[ \u001b[22m\u001b[39m\u001b[36m\u001b[1mInfo: \u001b[22m\u001b[39mFound 4004 non missing values for depth 30.0\n",
      "\u001b[36m\u001b[1m[ \u001b[22m\u001b[39m\u001b[36m\u001b[1mInfo: \u001b[22m\u001b[39mDepth index: 7\n",
      "\u001b[36m\u001b[1m[ \u001b[22m\u001b[39m\u001b[36m\u001b[1mInfo: \u001b[22m\u001b[39mFound 3379 non missing values for depth 40.0\n",
      "\u001b[36m\u001b[1m[ \u001b[22m\u001b[39m\u001b[36m\u001b[1mInfo: \u001b[22m\u001b[39mDepth index: 8\n",
      "\u001b[36m\u001b[1m[ \u001b[22m\u001b[39m\u001b[36m\u001b[1mInfo: \u001b[22m\u001b[39mFound 2833 non missing values for depth 50.0\n",
      "\u001b[36m\u001b[1m[ \u001b[22m\u001b[39m\u001b[36m\u001b[1mInfo: \u001b[22m\u001b[39mDepth index: 9\n",
      "\u001b[36m\u001b[1m[ \u001b[22m\u001b[39m\u001b[36m\u001b[1mInfo: \u001b[22m\u001b[39mFound 2393 non missing values for depth 60.0\n",
      "\u001b[36m\u001b[1m[ \u001b[22m\u001b[39m\u001b[36m\u001b[1mInfo: \u001b[22m\u001b[39mDepth index: 10\n",
      "\u001b[36m\u001b[1m[ \u001b[22m\u001b[39m\u001b[36m\u001b[1mInfo: \u001b[22m\u001b[39mFound 2012 non missing values for depth 70.0\n",
      "\u001b[36m\u001b[1m[ \u001b[22m\u001b[39m\u001b[36m\u001b[1mInfo: \u001b[22m\u001b[39mDepth index: 11\n",
      "\u001b[36m\u001b[1m[ \u001b[22m\u001b[39m\u001b[36m\u001b[1mInfo: \u001b[22m\u001b[39mFound 1620 non missing values for depth 80.0\n",
      "\u001b[36m\u001b[1m[ \u001b[22m\u001b[39m\u001b[36m\u001b[1mInfo: \u001b[22m\u001b[39mDepth index: 12\n",
      "\u001b[36m\u001b[1m[ \u001b[22m\u001b[39m\u001b[36m\u001b[1mInfo: \u001b[22m\u001b[39mFound 1216 non missing values for depth 90.0\n",
      "\u001b[36m\u001b[1m[ \u001b[22m\u001b[39m\u001b[36m\u001b[1mInfo: \u001b[22m\u001b[39mDepth index: 13\n",
      "\u001b[36m\u001b[1m[ \u001b[22m\u001b[39m\u001b[36m\u001b[1mInfo: \u001b[22m\u001b[39mFound 897 non missing values for depth 100.0\n",
      "\u001b[36m\u001b[1m[ \u001b[22m\u001b[39m\u001b[36m\u001b[1mInfo: \u001b[22m\u001b[39mDepth index: 14\n",
      "\u001b[36m\u001b[1m[ \u001b[22m\u001b[39m\u001b[36m\u001b[1mInfo: \u001b[22m\u001b[39mFound 481 non missing values for depth 125.0\n",
      "\u001b[36m\u001b[1m[ \u001b[22m\u001b[39m\u001b[36m\u001b[1mInfo: \u001b[22m\u001b[39mDepth index: 15\n",
      "\u001b[36m\u001b[1m[ \u001b[22m\u001b[39m\u001b[36m\u001b[1mInfo: \u001b[22m\u001b[39mFound 268 non missing values for depth 150.0\n",
      "\u001b[36m\u001b[1m[ \u001b[22m\u001b[39m\u001b[36m\u001b[1mInfo: \u001b[22m\u001b[39mDepth index: 16\n",
      "\u001b[36m\u001b[1m[ \u001b[22m\u001b[39m\u001b[36m\u001b[1mInfo: \u001b[22m\u001b[39mFound 160 non missing values for depth 175.0\n",
      "\u001b[36m\u001b[1m[ \u001b[22m\u001b[39m\u001b[36m\u001b[1mInfo: \u001b[22m\u001b[39mDepth index: 17\n",
      "\u001b[36m\u001b[1m[ \u001b[22m\u001b[39m\u001b[36m\u001b[1mInfo: \u001b[22m\u001b[39mFound 114 non missing values for depth 200.0\n",
      "\u001b[36m\u001b[1m[ \u001b[22m\u001b[39m\u001b[36m\u001b[1mInfo: \u001b[22m\u001b[39mDepth index: 18\n",
      "\u001b[36m\u001b[1m[ \u001b[22m\u001b[39m\u001b[36m\u001b[1mInfo: \u001b[22m\u001b[39mFound 90 non missing values for depth 225.0\n",
      "\u001b[36m\u001b[1m[ \u001b[22m\u001b[39m\u001b[36m\u001b[1mInfo: \u001b[22m\u001b[39mDepth index: 19\n",
      "\u001b[36m\u001b[1m[ \u001b[22m\u001b[39m\u001b[36m\u001b[1mInfo: \u001b[22m\u001b[39mFound 75 non missing values for depth 250.0\n",
      "\u001b[36m\u001b[1m[ \u001b[22m\u001b[39m\u001b[36m\u001b[1mInfo: \u001b[22m\u001b[39mDepth index: 20\n",
      "\u001b[36m\u001b[1m[ \u001b[22m\u001b[39m\u001b[36m\u001b[1mInfo: \u001b[22m\u001b[39mFound 70 non missing values for depth 275.0\n",
      "\u001b[36m\u001b[1m[ \u001b[22m\u001b[39m\u001b[36m\u001b[1mInfo: \u001b[22m\u001b[39mDepth index: 21\n",
      "\u001b[36m\u001b[1m[ \u001b[22m\u001b[39m\u001b[36m\u001b[1mInfo: \u001b[22m\u001b[39mFound 67 non missing values for depth 300.0\n",
      "\u001b[36m\u001b[1m[ \u001b[22m\u001b[39m\u001b[36m\u001b[1mInfo: \u001b[22m\u001b[39mWritten new variable deepest depth\n",
      "\u001b[36m\u001b[1m[ \u001b[22m\u001b[39m\u001b[36m\u001b[1mInfo: \u001b[22m\u001b[39mkeeping: 23158\n",
      "\u001b[36m\u001b[1m[ \u001b[22m\u001b[39m\u001b[36m\u001b[1mInfo: \u001b[22m\u001b[39mSlicing lon[(1:216,)]\n",
      "\u001b[36m\u001b[1m[ \u001b[22m\u001b[39m\u001b[36m\u001b[1mInfo: \u001b[22m\u001b[39mSlicing lat[(1:130,)]\n",
      "\u001b[36m\u001b[1m[ \u001b[22m\u001b[39m\u001b[36m\u001b[1mInfo: \u001b[22m\u001b[39mSlicing depth[(Colon(),)]\n",
      "\u001b[36m\u001b[1m[ \u001b[22m\u001b[39m\u001b[36m\u001b[1mInfo: \u001b[22m\u001b[39mSlicing time[(Colon(),)]\n",
      "\u001b[36m\u001b[1m[ \u001b[22m\u001b[39m\u001b[36m\u001b[1mInfo: \u001b[22m\u001b[39mSlicing climatology_bounds[(Colon(), Colon())]\n",
      "\u001b[36m\u001b[1m[ \u001b[22m\u001b[39m\u001b[36m\u001b[1mInfo: \u001b[22m\u001b[39mSlicing Water body dissolved oxygen concentration[(1:216, 1:130, Colon(), Colon())]\n",
      "\u001b[36m\u001b[1m[ \u001b[22m\u001b[39m\u001b[36m\u001b[1mInfo: \u001b[22m\u001b[39mSlicing Water body dissolved oxygen concentration_L1[(1:216, 1:130, Colon(), Colon())]\n",
      "\u001b[36m\u001b[1m[ \u001b[22m\u001b[39m\u001b[36m\u001b[1mInfo: \u001b[22m\u001b[39mSlicing Water body dissolved oxygen concentration_L2[(1:216, 1:130, Colon(), Colon())]\n",
      "\u001b[36m\u001b[1m[ \u001b[22m\u001b[39m\u001b[36m\u001b[1mInfo: \u001b[22m\u001b[39mSlicing Water body dissolved oxygen concentration_relerr[(1:216, 1:130, Colon(), Colon())]\n",
      "\u001b[36m\u001b[1m[ \u001b[22m\u001b[39m\u001b[36m\u001b[1mInfo: \u001b[22m\u001b[39mSlicing obslon[(Colon(),)]\n",
      "\u001b[36m\u001b[1m[ \u001b[22m\u001b[39m\u001b[36m\u001b[1mInfo: \u001b[22m\u001b[39mSlicing obslat[(Colon(),)]\n",
      "\u001b[36m\u001b[1m[ \u001b[22m\u001b[39m\u001b[36m\u001b[1mInfo: \u001b[22m\u001b[39mSlicing obstime[(Colon(),)]\n",
      "\u001b[36m\u001b[1m[ \u001b[22m\u001b[39m\u001b[36m\u001b[1mInfo: \u001b[22m\u001b[39mSlicing obsdepth[(Colon(),)]\n",
      "\u001b[36m\u001b[1m[ \u001b[22m\u001b[39m\u001b[36m\u001b[1mInfo: \u001b[22m\u001b[39mSlicing obsid[(Colon(), Colon())]\n",
      "\u001b[36m\u001b[1m[ \u001b[22m\u001b[39m\u001b[36m\u001b[1mInfo: \u001b[22m\u001b[39mSlicing Water body dissolved oxygen concentration_deepest[(1:216, 1:130, Colon())]\n",
      "\u001b[36m\u001b[1m[ \u001b[22m\u001b[39m\u001b[36m\u001b[1mInfo: \u001b[22m\u001b[39mSlicing Water body dissolved oxygen concentration_deepest_L1[(1:216, 1:130, Colon())]\n",
      "\u001b[36m\u001b[1m[ \u001b[22m\u001b[39m\u001b[36m\u001b[1mInfo: \u001b[22m\u001b[39mSlicing Water body dissolved oxygen concentration_deepest_L2[(1:216, 1:130, Colon())]\n",
      "\u001b[36m\u001b[1m[ \u001b[22m\u001b[39m\u001b[36m\u001b[1mInfo: \u001b[22m\u001b[39mSlicing Water body dissolved oxygen concentration_deepest_depth[(1:216, 1:130)]\n",
      "\u001b[36m\u001b[1m[ \u001b[22m\u001b[39m\u001b[36m\u001b[1mInfo: \u001b[22m\u001b[39mstarting DIVAnd computations for Autumn\n",
      "\u001b[36m\u001b[1m[ \u001b[22m\u001b[39m\u001b[36m\u001b[1mInfo: \u001b[22m\u001b[39m2023-02-19T02:26:23.334\n",
      "\u001b[36m\u001b[1m[ \u001b[22m\u001b[39m\u001b[36m\u001b[1mInfo: \u001b[22m\u001b[39mWill write results in ./resultat/output/6y_back6y_3_xy/O2/Water_body_dissolved_oxygen_concentration_Autumn_0.4Danl.nc\n",
      "\u001b[36m\u001b[1m[ \u001b[22m\u001b[39m\u001b[36m\u001b[1mInfo: \u001b[22m\u001b[39mCreating netCDF file ./resultat/output/6y_back6y_3_xy/O2/Water_body_dissolved_oxygen_concentration_Autumn_0.4Danl.nc\n",
      "\u001b[36m\u001b[1m[ \u001b[22m\u001b[39m\u001b[36m\u001b[1mInfo: \u001b[22m\u001b[39mTime step 1 / 57\n",
      "\u001b[36m\u001b[1m[ \u001b[22m\u001b[39m\u001b[36m\u001b[1mInfo: \u001b[22m\u001b[39manalysis time index 1 uses the backgrond time index 44\n",
      "\u001b[36m\u001b[1m[ \u001b[22m\u001b[39m\u001b[36m\u001b[1mInfo: \u001b[22m\u001b[39mscaled correlation length (min,max) in dimension 1: (26002.33511528906, 77999.93927774779)\n",
      "\u001b[36m\u001b[1m[ \u001b[22m\u001b[39m\u001b[36m\u001b[1mInfo: \u001b[22m\u001b[39mscaled correlation length (min,max) in dimension 2: (26002.33511528906, 77999.93927774779)\n",
      "\u001b[36m\u001b[1m[ \u001b[22m\u001b[39m\u001b[36m\u001b[1mInfo: \u001b[22m\u001b[39mscaled correlation length (min,max) in dimension 3: (10.0, 50.0)\n",
      "\u001b[33m\u001b[1m┌ \u001b[22m\u001b[39m\u001b[33m\u001b[1mWarning: \u001b[22m\u001b[39mresolution (7.5) is too coarse for correlation length 10.0 in dimension 3 at indices CartesianIndex(47, 11, 6) (skipping further tests). It is recommended that the resolution is at least 2 times finer than the correlation length.\n",
      "\u001b[33m\u001b[1m└ \u001b[22m\u001b[39m\u001b[90m@ DIVAnd C:\\Users\\a001819\\.julia\\packages\\DIVAnd\\MV3j9\\src\\utils.jl:18\u001b[39m\n",
      "\u001b[36m\u001b[1m[ \u001b[22m\u001b[39m\u001b[36m\u001b[1mInfo: \u001b[22m\u001b[39mnumber of windows: 1\n"
     ]
    },
    {
     "name": "stdout",
     "output_type": "stream",
     "text": [
      "timeindex = 1\n"
     ]
    },
    {
     "name": "stderr",
     "output_type": "stream",
     "text": [
      "\u001b[36m\u001b[1m[ \u001b[22m\u001b[39m\u001b[36m\u001b[1mInfo: \u001b[22m\u001b[39mTime step 2 / 57\n",
      "\u001b[36m\u001b[1m[ \u001b[22m\u001b[39m\u001b[36m\u001b[1mInfo: \u001b[22m\u001b[39manalysis time index 2 uses the backgrond time index 48\n",
      "\u001b[36m\u001b[1m[ \u001b[22m\u001b[39m\u001b[36m\u001b[1mInfo: \u001b[22m\u001b[39mscaled correlation length (min,max) in dimension 1: (26002.33511528906, 77999.93927774779)\n",
      "\u001b[36m\u001b[1m[ \u001b[22m\u001b[39m\u001b[36m\u001b[1mInfo: \u001b[22m\u001b[39mscaled correlation length (min,max) in dimension 2: (26002.33511528906, 77999.93927774779)\n",
      "\u001b[36m\u001b[1m[ \u001b[22m\u001b[39m\u001b[36m\u001b[1mInfo: \u001b[22m\u001b[39mscaled correlation length (min,max) in dimension 3: (10.0, 50.0)\n",
      "\u001b[33m\u001b[1m┌ \u001b[22m\u001b[39m\u001b[33m\u001b[1mWarning: \u001b[22m\u001b[39mresolution (7.5) is too coarse for correlation length 10.0 in dimension 3 at indices CartesianIndex(47, 11, 6) (skipping further tests). It is recommended that the resolution is at least 2 times finer than the correlation length.\n",
      "\u001b[33m\u001b[1m└ \u001b[22m\u001b[39m\u001b[90m@ DIVAnd C:\\Users\\a001819\\.julia\\packages\\DIVAnd\\MV3j9\\src\\utils.jl:18\u001b[39m\n",
      "\u001b[36m\u001b[1m[ \u001b[22m\u001b[39m\u001b[36m\u001b[1mInfo: \u001b[22m\u001b[39mnumber of windows: 1\n"
     ]
    },
    {
     "name": "stdout",
     "output_type": "stream",
     "text": [
      "timeindex = 2\n"
     ]
    },
    {
     "name": "stderr",
     "output_type": "stream",
     "text": [
      "\u001b[36m\u001b[1m[ \u001b[22m\u001b[39m\u001b[36m\u001b[1mInfo: \u001b[22m\u001b[39mTime step 3 / 57\n",
      "\u001b[36m\u001b[1m[ \u001b[22m\u001b[39m\u001b[36m\u001b[1mInfo: \u001b[22m\u001b[39manalysis time index 3 uses the backgrond time index 52\n",
      "\u001b[36m\u001b[1m[ \u001b[22m\u001b[39m\u001b[36m\u001b[1mInfo: \u001b[22m\u001b[39mscaled correlation length (min,max) in dimension 1: (26002.33511528906, 77999.93927774779)\n",
      "\u001b[36m\u001b[1m[ \u001b[22m\u001b[39m\u001b[36m\u001b[1mInfo: \u001b[22m\u001b[39mscaled correlation length (min,max) in dimension 2: (26002.33511528906, 77999.93927774779)\n",
      "\u001b[36m\u001b[1m[ \u001b[22m\u001b[39m\u001b[36m\u001b[1mInfo: \u001b[22m\u001b[39mscaled correlation length (min,max) in dimension 3: (10.0, 50.0)\n",
      "\u001b[33m\u001b[1m┌ \u001b[22m\u001b[39m\u001b[33m\u001b[1mWarning: \u001b[22m\u001b[39mresolution (7.5) is too coarse for correlation length 10.0 in dimension 3 at indices CartesianIndex(47, 11, 6) (skipping further tests). It is recommended that the resolution is at least 2 times finer than the correlation length.\n",
      "\u001b[33m\u001b[1m└ \u001b[22m\u001b[39m\u001b[90m@ DIVAnd C:\\Users\\a001819\\.julia\\packages\\DIVAnd\\MV3j9\\src\\utils.jl:18\u001b[39m\n",
      "\u001b[36m\u001b[1m[ \u001b[22m\u001b[39m\u001b[36m\u001b[1mInfo: \u001b[22m\u001b[39mnumber of windows: 1\n"
     ]
    },
    {
     "name": "stdout",
     "output_type": "stream",
     "text": [
      "timeindex = 3\n"
     ]
    },
    {
     "name": "stderr",
     "output_type": "stream",
     "text": [
      "\u001b[36m\u001b[1m[ \u001b[22m\u001b[39m\u001b[36m\u001b[1mInfo: \u001b[22m\u001b[39mTime step 4 / 57\n",
      "\u001b[36m\u001b[1m[ \u001b[22m\u001b[39m\u001b[36m\u001b[1mInfo: \u001b[22m\u001b[39manalysis time index 4 uses the backgrond time index 56\n",
      "\u001b[36m\u001b[1m[ \u001b[22m\u001b[39m\u001b[36m\u001b[1mInfo: \u001b[22m\u001b[39mscaled correlation length (min,max) in dimension 1: (26002.33511528906, 77999.93927774779)\n",
      "\u001b[36m\u001b[1m[ \u001b[22m\u001b[39m\u001b[36m\u001b[1mInfo: \u001b[22m\u001b[39mscaled correlation length (min,max) in dimension 2: (26002.33511528906, 77999.93927774779)\n",
      "\u001b[36m\u001b[1m[ \u001b[22m\u001b[39m\u001b[36m\u001b[1mInfo: \u001b[22m\u001b[39mscaled correlation length (min,max) in dimension 3: (10.0, 50.0)\n",
      "\u001b[33m\u001b[1m┌ \u001b[22m\u001b[39m\u001b[33m\u001b[1mWarning: \u001b[22m\u001b[39mresolution (7.5) is too coarse for correlation length 10.0 in dimension 3 at indices CartesianIndex(47, 11, 6) (skipping further tests). It is recommended that the resolution is at least 2 times finer than the correlation length.\n",
      "\u001b[33m\u001b[1m└ \u001b[22m\u001b[39m\u001b[90m@ DIVAnd C:\\Users\\a001819\\.julia\\packages\\DIVAnd\\MV3j9\\src\\utils.jl:18\u001b[39m\n",
      "\u001b[36m\u001b[1m[ \u001b[22m\u001b[39m\u001b[36m\u001b[1mInfo: \u001b[22m\u001b[39mnumber of windows: 1\n"
     ]
    },
    {
     "name": "stdout",
     "output_type": "stream",
     "text": [
      "timeindex = 4\n"
     ]
    },
    {
     "name": "stderr",
     "output_type": "stream",
     "text": [
      "\u001b[36m\u001b[1m[ \u001b[22m\u001b[39m\u001b[36m\u001b[1mInfo: \u001b[22m\u001b[39mTime step 5 / 57\n",
      "\u001b[36m\u001b[1m[ \u001b[22m\u001b[39m\u001b[36m\u001b[1mInfo: \u001b[22m\u001b[39manalysis time index 5 uses the backgrond time index 60\n",
      "\u001b[36m\u001b[1m[ \u001b[22m\u001b[39m\u001b[36m\u001b[1mInfo: \u001b[22m\u001b[39mscaled correlation length (min,max) in dimension 1: (26002.33511528906, 77999.93927774779)\n",
      "\u001b[36m\u001b[1m[ \u001b[22m\u001b[39m\u001b[36m\u001b[1mInfo: \u001b[22m\u001b[39mscaled correlation length (min,max) in dimension 2: (26002.33511528906, 77999.93927774779)\n",
      "\u001b[36m\u001b[1m[ \u001b[22m\u001b[39m\u001b[36m\u001b[1mInfo: \u001b[22m\u001b[39mscaled correlation length (min,max) in dimension 3: (10.0, 50.0)\n",
      "\u001b[33m\u001b[1m┌ \u001b[22m\u001b[39m\u001b[33m\u001b[1mWarning: \u001b[22m\u001b[39mresolution (7.5) is too coarse for correlation length 10.0 in dimension 3 at indices CartesianIndex(47, 11, 6) (skipping further tests). It is recommended that the resolution is at least 2 times finer than the correlation length.\n",
      "\u001b[33m\u001b[1m└ \u001b[22m\u001b[39m\u001b[90m@ DIVAnd C:\\Users\\a001819\\.julia\\packages\\DIVAnd\\MV3j9\\src\\utils.jl:18\u001b[39m\n",
      "\u001b[36m\u001b[1m[ \u001b[22m\u001b[39m\u001b[36m\u001b[1mInfo: \u001b[22m\u001b[39mnumber of windows: 1\n"
     ]
    },
    {
     "name": "stdout",
     "output_type": "stream",
     "text": [
      "timeindex = 5\n"
     ]
    },
    {
     "name": "stderr",
     "output_type": "stream",
     "text": [
      "\u001b[36m\u001b[1m[ \u001b[22m\u001b[39m\u001b[36m\u001b[1mInfo: \u001b[22m\u001b[39mTime step 6 / 57\n",
      "\u001b[36m\u001b[1m[ \u001b[22m\u001b[39m\u001b[36m\u001b[1mInfo: \u001b[22m\u001b[39manalysis time index 6 uses the backgrond time index 64\n",
      "\u001b[36m\u001b[1m[ \u001b[22m\u001b[39m\u001b[36m\u001b[1mInfo: \u001b[22m\u001b[39mscaled correlation length (min,max) in dimension 1: (26002.33511528906, 77999.93927774779)\n",
      "\u001b[36m\u001b[1m[ \u001b[22m\u001b[39m\u001b[36m\u001b[1mInfo: \u001b[22m\u001b[39mscaled correlation length (min,max) in dimension 2: (26002.33511528906, 77999.93927774779)\n",
      "\u001b[36m\u001b[1m[ \u001b[22m\u001b[39m\u001b[36m\u001b[1mInfo: \u001b[22m\u001b[39mscaled correlation length (min,max) in dimension 3: (10.0, 50.0)\n",
      "\u001b[33m\u001b[1m┌ \u001b[22m\u001b[39m\u001b[33m\u001b[1mWarning: \u001b[22m\u001b[39mresolution (7.5) is too coarse for correlation length 10.0 in dimension 3 at indices CartesianIndex(47, 11, 6) (skipping further tests). It is recommended that the resolution is at least 2 times finer than the correlation length.\n",
      "\u001b[33m\u001b[1m└ \u001b[22m\u001b[39m\u001b[90m@ DIVAnd C:\\Users\\a001819\\.julia\\packages\\DIVAnd\\MV3j9\\src\\utils.jl:18\u001b[39m\n",
      "\u001b[36m\u001b[1m[ \u001b[22m\u001b[39m\u001b[36m\u001b[1mInfo: \u001b[22m\u001b[39mnumber of windows: 1\n"
     ]
    },
    {
     "name": "stdout",
     "output_type": "stream",
     "text": [
      "timeindex = 6\n"
     ]
    },
    {
     "name": "stderr",
     "output_type": "stream",
     "text": [
      "\u001b[36m\u001b[1m[ \u001b[22m\u001b[39m\u001b[36m\u001b[1mInfo: \u001b[22m\u001b[39mTime step 7 / 57\n",
      "\u001b[36m\u001b[1m[ \u001b[22m\u001b[39m\u001b[36m\u001b[1mInfo: \u001b[22m\u001b[39manalysis time index 7 uses the backgrond time index 68\n",
      "\u001b[36m\u001b[1m[ \u001b[22m\u001b[39m\u001b[36m\u001b[1mInfo: \u001b[22m\u001b[39mscaled correlation length (min,max) in dimension 1: (26002.33511528906, 77999.93927774779)\n",
      "\u001b[36m\u001b[1m[ \u001b[22m\u001b[39m\u001b[36m\u001b[1mInfo: \u001b[22m\u001b[39mscaled correlation length (min,max) in dimension 2: (26002.33511528906, 77999.93927774779)\n",
      "\u001b[36m\u001b[1m[ \u001b[22m\u001b[39m\u001b[36m\u001b[1mInfo: \u001b[22m\u001b[39mscaled correlation length (min,max) in dimension 3: (10.0, 50.0)\n",
      "\u001b[33m\u001b[1m┌ \u001b[22m\u001b[39m\u001b[33m\u001b[1mWarning: \u001b[22m\u001b[39mresolution (7.5) is too coarse for correlation length 10.0 in dimension 3 at indices CartesianIndex(47, 11, 6) (skipping further tests). It is recommended that the resolution is at least 2 times finer than the correlation length.\n",
      "\u001b[33m\u001b[1m└ \u001b[22m\u001b[39m\u001b[90m@ DIVAnd C:\\Users\\a001819\\.julia\\packages\\DIVAnd\\MV3j9\\src\\utils.jl:18\u001b[39m\n",
      "\u001b[36m\u001b[1m[ \u001b[22m\u001b[39m\u001b[36m\u001b[1mInfo: \u001b[22m\u001b[39mnumber of windows: 1\n"
     ]
    },
    {
     "name": "stdout",
     "output_type": "stream",
     "text": [
      "timeindex = 7\n"
     ]
    },
    {
     "name": "stderr",
     "output_type": "stream",
     "text": [
      "\u001b[36m\u001b[1m[ \u001b[22m\u001b[39m\u001b[36m\u001b[1mInfo: \u001b[22m\u001b[39mTime step 8 / 57\n",
      "\u001b[36m\u001b[1m[ \u001b[22m\u001b[39m\u001b[36m\u001b[1mInfo: \u001b[22m\u001b[39manalysis time index 8 uses the backgrond time index 72\n",
      "\u001b[36m\u001b[1m[ \u001b[22m\u001b[39m\u001b[36m\u001b[1mInfo: \u001b[22m\u001b[39mscaled correlation length (min,max) in dimension 1: (26002.33511528906, 77999.93927774779)\n",
      "\u001b[36m\u001b[1m[ \u001b[22m\u001b[39m\u001b[36m\u001b[1mInfo: \u001b[22m\u001b[39mscaled correlation length (min,max) in dimension 2: (26002.33511528906, 77999.93927774779)\n",
      "\u001b[36m\u001b[1m[ \u001b[22m\u001b[39m\u001b[36m\u001b[1mInfo: \u001b[22m\u001b[39mscaled correlation length (min,max) in dimension 3: (10.0, 50.0)\n",
      "\u001b[33m\u001b[1m┌ \u001b[22m\u001b[39m\u001b[33m\u001b[1mWarning: \u001b[22m\u001b[39mresolution (7.5) is too coarse for correlation length 10.0 in dimension 3 at indices CartesianIndex(47, 11, 6) (skipping further tests). It is recommended that the resolution is at least 2 times finer than the correlation length.\n",
      "\u001b[33m\u001b[1m└ \u001b[22m\u001b[39m\u001b[90m@ DIVAnd C:\\Users\\a001819\\.julia\\packages\\DIVAnd\\MV3j9\\src\\utils.jl:18\u001b[39m\n",
      "\u001b[36m\u001b[1m[ \u001b[22m\u001b[39m\u001b[36m\u001b[1mInfo: \u001b[22m\u001b[39mnumber of windows: 1\n"
     ]
    },
    {
     "name": "stdout",
     "output_type": "stream",
     "text": [
      "timeindex = 8\n"
     ]
    },
    {
     "name": "stderr",
     "output_type": "stream",
     "text": [
      "\u001b[36m\u001b[1m[ \u001b[22m\u001b[39m\u001b[36m\u001b[1mInfo: \u001b[22m\u001b[39mTime step 9 / 57\n",
      "\u001b[36m\u001b[1m[ \u001b[22m\u001b[39m\u001b[36m\u001b[1mInfo: \u001b[22m\u001b[39manalysis time index 9 uses the backgrond time index 76\n",
      "\u001b[36m\u001b[1m[ \u001b[22m\u001b[39m\u001b[36m\u001b[1mInfo: \u001b[22m\u001b[39mscaled correlation length (min,max) in dimension 1: (26002.33511528906, 77999.93927774779)\n",
      "\u001b[36m\u001b[1m[ \u001b[22m\u001b[39m\u001b[36m\u001b[1mInfo: \u001b[22m\u001b[39mscaled correlation length (min,max) in dimension 2: (26002.33511528906, 77999.93927774779)\n",
      "\u001b[36m\u001b[1m[ \u001b[22m\u001b[39m\u001b[36m\u001b[1mInfo: \u001b[22m\u001b[39mscaled correlation length (min,max) in dimension 3: (10.0, 50.0)\n",
      "\u001b[33m\u001b[1m┌ \u001b[22m\u001b[39m\u001b[33m\u001b[1mWarning: \u001b[22m\u001b[39mresolution (7.5) is too coarse for correlation length 10.0 in dimension 3 at indices CartesianIndex(47, 11, 6) (skipping further tests). It is recommended that the resolution is at least 2 times finer than the correlation length.\n",
      "\u001b[33m\u001b[1m└ \u001b[22m\u001b[39m\u001b[90m@ DIVAnd C:\\Users\\a001819\\.julia\\packages\\DIVAnd\\MV3j9\\src\\utils.jl:18\u001b[39m\n",
      "\u001b[36m\u001b[1m[ \u001b[22m\u001b[39m\u001b[36m\u001b[1mInfo: \u001b[22m\u001b[39mnumber of windows: 1\n"
     ]
    },
    {
     "name": "stdout",
     "output_type": "stream",
     "text": [
      "timeindex = 9\n"
     ]
    },
    {
     "name": "stderr",
     "output_type": "stream",
     "text": [
      "\u001b[36m\u001b[1m[ \u001b[22m\u001b[39m\u001b[36m\u001b[1mInfo: \u001b[22m\u001b[39mTime step 10 / 57\n",
      "\u001b[36m\u001b[1m[ \u001b[22m\u001b[39m\u001b[36m\u001b[1mInfo: \u001b[22m\u001b[39manalysis time index 10 uses the backgrond time index 80\n",
      "\u001b[36m\u001b[1m[ \u001b[22m\u001b[39m\u001b[36m\u001b[1mInfo: \u001b[22m\u001b[39mscaled correlation length (min,max) in dimension 1: (26002.33511528906, 77999.93927774779)\n",
      "\u001b[36m\u001b[1m[ \u001b[22m\u001b[39m\u001b[36m\u001b[1mInfo: \u001b[22m\u001b[39mscaled correlation length (min,max) in dimension 2: (26002.33511528906, 77999.93927774779)\n",
      "\u001b[36m\u001b[1m[ \u001b[22m\u001b[39m\u001b[36m\u001b[1mInfo: \u001b[22m\u001b[39mscaled correlation length (min,max) in dimension 3: (10.0, 50.0)\n",
      "\u001b[33m\u001b[1m┌ \u001b[22m\u001b[39m\u001b[33m\u001b[1mWarning: \u001b[22m\u001b[39mresolution (7.5) is too coarse for correlation length 10.0 in dimension 3 at indices CartesianIndex(47, 11, 6) (skipping further tests). It is recommended that the resolution is at least 2 times finer than the correlation length.\n",
      "\u001b[33m\u001b[1m└ \u001b[22m\u001b[39m\u001b[90m@ DIVAnd C:\\Users\\a001819\\.julia\\packages\\DIVAnd\\MV3j9\\src\\utils.jl:18\u001b[39m\n",
      "\u001b[36m\u001b[1m[ \u001b[22m\u001b[39m\u001b[36m\u001b[1mInfo: \u001b[22m\u001b[39mnumber of windows: 1\n"
     ]
    },
    {
     "name": "stdout",
     "output_type": "stream",
     "text": [
      "timeindex = 10\n"
     ]
    },
    {
     "name": "stderr",
     "output_type": "stream",
     "text": [
      "\u001b[36m\u001b[1m[ \u001b[22m\u001b[39m\u001b[36m\u001b[1mInfo: \u001b[22m\u001b[39mTime step 11 / 57\n",
      "\u001b[36m\u001b[1m[ \u001b[22m\u001b[39m\u001b[36m\u001b[1mInfo: \u001b[22m\u001b[39manalysis time index 11 uses the backgrond time index 84\n",
      "\u001b[36m\u001b[1m[ \u001b[22m\u001b[39m\u001b[36m\u001b[1mInfo: \u001b[22m\u001b[39mscaled correlation length (min,max) in dimension 1: (26002.33511528906, 77999.93927774779)\n",
      "\u001b[36m\u001b[1m[ \u001b[22m\u001b[39m\u001b[36m\u001b[1mInfo: \u001b[22m\u001b[39mscaled correlation length (min,max) in dimension 2: (26002.33511528906, 77999.93927774779)\n",
      "\u001b[36m\u001b[1m[ \u001b[22m\u001b[39m\u001b[36m\u001b[1mInfo: \u001b[22m\u001b[39mscaled correlation length (min,max) in dimension 3: (10.0, 50.0)\n",
      "\u001b[33m\u001b[1m┌ \u001b[22m\u001b[39m\u001b[33m\u001b[1mWarning: \u001b[22m\u001b[39mresolution (7.5) is too coarse for correlation length 10.0 in dimension 3 at indices CartesianIndex(47, 11, 6) (skipping further tests). It is recommended that the resolution is at least 2 times finer than the correlation length.\n",
      "\u001b[33m\u001b[1m└ \u001b[22m\u001b[39m\u001b[90m@ DIVAnd C:\\Users\\a001819\\.julia\\packages\\DIVAnd\\MV3j9\\src\\utils.jl:18\u001b[39m\n",
      "\u001b[36m\u001b[1m[ \u001b[22m\u001b[39m\u001b[36m\u001b[1mInfo: \u001b[22m\u001b[39mnumber of windows: 1\n"
     ]
    },
    {
     "name": "stdout",
     "output_type": "stream",
     "text": [
      "timeindex = 11\n"
     ]
    },
    {
     "name": "stderr",
     "output_type": "stream",
     "text": [
      "\u001b[36m\u001b[1m[ \u001b[22m\u001b[39m\u001b[36m\u001b[1mInfo: \u001b[22m\u001b[39mTime step 12 / 57\n",
      "\u001b[36m\u001b[1m[ \u001b[22m\u001b[39m\u001b[36m\u001b[1mInfo: \u001b[22m\u001b[39manalysis time index 12 uses the backgrond time index 88\n",
      "\u001b[36m\u001b[1m[ \u001b[22m\u001b[39m\u001b[36m\u001b[1mInfo: \u001b[22m\u001b[39mscaled correlation length (min,max) in dimension 1: (26002.33511528906, 77999.93927774779)\n",
      "\u001b[36m\u001b[1m[ \u001b[22m\u001b[39m\u001b[36m\u001b[1mInfo: \u001b[22m\u001b[39mscaled correlation length (min,max) in dimension 2: (26002.33511528906, 77999.93927774779)\n",
      "\u001b[36m\u001b[1m[ \u001b[22m\u001b[39m\u001b[36m\u001b[1mInfo: \u001b[22m\u001b[39mscaled correlation length (min,max) in dimension 3: (10.0, 50.0)\n",
      "\u001b[33m\u001b[1m┌ \u001b[22m\u001b[39m\u001b[33m\u001b[1mWarning: \u001b[22m\u001b[39mresolution (7.5) is too coarse for correlation length 10.0 in dimension 3 at indices CartesianIndex(47, 11, 6) (skipping further tests). It is recommended that the resolution is at least 2 times finer than the correlation length.\n",
      "\u001b[33m\u001b[1m└ \u001b[22m\u001b[39m\u001b[90m@ DIVAnd C:\\Users\\a001819\\.julia\\packages\\DIVAnd\\MV3j9\\src\\utils.jl:18\u001b[39m\n",
      "\u001b[36m\u001b[1m[ \u001b[22m\u001b[39m\u001b[36m\u001b[1mInfo: \u001b[22m\u001b[39mnumber of windows: 1\n"
     ]
    },
    {
     "name": "stdout",
     "output_type": "stream",
     "text": [
      "timeindex = 12\n"
     ]
    },
    {
     "name": "stderr",
     "output_type": "stream",
     "text": [
      "\u001b[36m\u001b[1m[ \u001b[22m\u001b[39m\u001b[36m\u001b[1mInfo: \u001b[22m\u001b[39mTime step 13 / 57\n",
      "\u001b[36m\u001b[1m[ \u001b[22m\u001b[39m\u001b[36m\u001b[1mInfo: \u001b[22m\u001b[39manalysis time index 13 uses the backgrond time index 92\n",
      "\u001b[36m\u001b[1m[ \u001b[22m\u001b[39m\u001b[36m\u001b[1mInfo: \u001b[22m\u001b[39mscaled correlation length (min,max) in dimension 1: (26002.33511528906, 77999.93927774779)\n",
      "\u001b[36m\u001b[1m[ \u001b[22m\u001b[39m\u001b[36m\u001b[1mInfo: \u001b[22m\u001b[39mscaled correlation length (min,max) in dimension 2: (26002.33511528906, 77999.93927774779)\n",
      "\u001b[36m\u001b[1m[ \u001b[22m\u001b[39m\u001b[36m\u001b[1mInfo: \u001b[22m\u001b[39mscaled correlation length (min,max) in dimension 3: (10.0, 50.0)\n",
      "\u001b[33m\u001b[1m┌ \u001b[22m\u001b[39m\u001b[33m\u001b[1mWarning: \u001b[22m\u001b[39mresolution (7.5) is too coarse for correlation length 10.0 in dimension 3 at indices CartesianIndex(47, 11, 6) (skipping further tests). It is recommended that the resolution is at least 2 times finer than the correlation length.\n",
      "\u001b[33m\u001b[1m└ \u001b[22m\u001b[39m\u001b[90m@ DIVAnd C:\\Users\\a001819\\.julia\\packages\\DIVAnd\\MV3j9\\src\\utils.jl:18\u001b[39m\n",
      "\u001b[36m\u001b[1m[ \u001b[22m\u001b[39m\u001b[36m\u001b[1mInfo: \u001b[22m\u001b[39mnumber of windows: 1\n"
     ]
    },
    {
     "name": "stdout",
     "output_type": "stream",
     "text": [
      "timeindex = 13\n"
     ]
    },
    {
     "name": "stderr",
     "output_type": "stream",
     "text": [
      "\u001b[36m\u001b[1m[ \u001b[22m\u001b[39m\u001b[36m\u001b[1mInfo: \u001b[22m\u001b[39mTime step 14 / 57\n",
      "\u001b[36m\u001b[1m[ \u001b[22m\u001b[39m\u001b[36m\u001b[1mInfo: \u001b[22m\u001b[39manalysis time index 14 uses the backgrond time index 96\n",
      "\u001b[36m\u001b[1m[ \u001b[22m\u001b[39m\u001b[36m\u001b[1mInfo: \u001b[22m\u001b[39mscaled correlation length (min,max) in dimension 1: (26002.33511528906, 77999.93927774779)\n",
      "\u001b[36m\u001b[1m[ \u001b[22m\u001b[39m\u001b[36m\u001b[1mInfo: \u001b[22m\u001b[39mscaled correlation length (min,max) in dimension 2: (26002.33511528906, 77999.93927774779)\n",
      "\u001b[36m\u001b[1m[ \u001b[22m\u001b[39m\u001b[36m\u001b[1mInfo: \u001b[22m\u001b[39mscaled correlation length (min,max) in dimension 3: (10.0, 50.0)\n",
      "\u001b[33m\u001b[1m┌ \u001b[22m\u001b[39m\u001b[33m\u001b[1mWarning: \u001b[22m\u001b[39mresolution (7.5) is too coarse for correlation length 10.0 in dimension 3 at indices CartesianIndex(47, 11, 6) (skipping further tests). It is recommended that the resolution is at least 2 times finer than the correlation length.\n",
      "\u001b[33m\u001b[1m└ \u001b[22m\u001b[39m\u001b[90m@ DIVAnd C:\\Users\\a001819\\.julia\\packages\\DIVAnd\\MV3j9\\src\\utils.jl:18\u001b[39m\n",
      "\u001b[36m\u001b[1m[ \u001b[22m\u001b[39m\u001b[36m\u001b[1mInfo: \u001b[22m\u001b[39mnumber of windows: 1\n"
     ]
    },
    {
     "name": "stdout",
     "output_type": "stream",
     "text": [
      "timeindex = 14\n"
     ]
    },
    {
     "name": "stderr",
     "output_type": "stream",
     "text": [
      "\u001b[36m\u001b[1m[ \u001b[22m\u001b[39m\u001b[36m\u001b[1mInfo: \u001b[22m\u001b[39mTime step 15 / 57\n",
      "\u001b[36m\u001b[1m[ \u001b[22m\u001b[39m\u001b[36m\u001b[1mInfo: \u001b[22m\u001b[39manalysis time index 15 uses the backgrond time index 100\n",
      "\u001b[36m\u001b[1m[ \u001b[22m\u001b[39m\u001b[36m\u001b[1mInfo: \u001b[22m\u001b[39mscaled correlation length (min,max) in dimension 1: (26002.33511528906, 77999.93927774779)\n",
      "\u001b[36m\u001b[1m[ \u001b[22m\u001b[39m\u001b[36m\u001b[1mInfo: \u001b[22m\u001b[39mscaled correlation length (min,max) in dimension 2: (26002.33511528906, 77999.93927774779)\n",
      "\u001b[36m\u001b[1m[ \u001b[22m\u001b[39m\u001b[36m\u001b[1mInfo: \u001b[22m\u001b[39mscaled correlation length (min,max) in dimension 3: (10.0, 50.0)\n",
      "\u001b[33m\u001b[1m┌ \u001b[22m\u001b[39m\u001b[33m\u001b[1mWarning: \u001b[22m\u001b[39mresolution (7.5) is too coarse for correlation length 10.0 in dimension 3 at indices CartesianIndex(47, 11, 6) (skipping further tests). It is recommended that the resolution is at least 2 times finer than the correlation length.\n",
      "\u001b[33m\u001b[1m└ \u001b[22m\u001b[39m\u001b[90m@ DIVAnd C:\\Users\\a001819\\.julia\\packages\\DIVAnd\\MV3j9\\src\\utils.jl:18\u001b[39m\n",
      "\u001b[36m\u001b[1m[ \u001b[22m\u001b[39m\u001b[36m\u001b[1mInfo: \u001b[22m\u001b[39mnumber of windows: 1\n"
     ]
    },
    {
     "name": "stdout",
     "output_type": "stream",
     "text": [
      "timeindex = 15\n"
     ]
    },
    {
     "name": "stderr",
     "output_type": "stream",
     "text": [
      "\u001b[36m\u001b[1m[ \u001b[22m\u001b[39m\u001b[36m\u001b[1mInfo: \u001b[22m\u001b[39mTime step 16 / 57\n",
      "\u001b[36m\u001b[1m[ \u001b[22m\u001b[39m\u001b[36m\u001b[1mInfo: \u001b[22m\u001b[39manalysis time index 16 uses the backgrond time index 104\n",
      "\u001b[36m\u001b[1m[ \u001b[22m\u001b[39m\u001b[36m\u001b[1mInfo: \u001b[22m\u001b[39mscaled correlation length (min,max) in dimension 1: (26002.33511528906, 77999.93927774779)\n",
      "\u001b[36m\u001b[1m[ \u001b[22m\u001b[39m\u001b[36m\u001b[1mInfo: \u001b[22m\u001b[39mscaled correlation length (min,max) in dimension 2: (26002.33511528906, 77999.93927774779)\n",
      "\u001b[36m\u001b[1m[ \u001b[22m\u001b[39m\u001b[36m\u001b[1mInfo: \u001b[22m\u001b[39mscaled correlation length (min,max) in dimension 3: (10.0, 50.0)\n",
      "\u001b[33m\u001b[1m┌ \u001b[22m\u001b[39m\u001b[33m\u001b[1mWarning: \u001b[22m\u001b[39mresolution (7.5) is too coarse for correlation length 10.0 in dimension 3 at indices CartesianIndex(47, 11, 6) (skipping further tests). It is recommended that the resolution is at least 2 times finer than the correlation length.\n",
      "\u001b[33m\u001b[1m└ \u001b[22m\u001b[39m\u001b[90m@ DIVAnd C:\\Users\\a001819\\.julia\\packages\\DIVAnd\\MV3j9\\src\\utils.jl:18\u001b[39m\n",
      "\u001b[36m\u001b[1m[ \u001b[22m\u001b[39m\u001b[36m\u001b[1mInfo: \u001b[22m\u001b[39mnumber of windows: 1\n"
     ]
    },
    {
     "name": "stdout",
     "output_type": "stream",
     "text": [
      "timeindex = 16\n"
     ]
    },
    {
     "name": "stderr",
     "output_type": "stream",
     "text": [
      "\u001b[36m\u001b[1m[ \u001b[22m\u001b[39m\u001b[36m\u001b[1mInfo: \u001b[22m\u001b[39mTime step 17 / 57\n",
      "\u001b[36m\u001b[1m[ \u001b[22m\u001b[39m\u001b[36m\u001b[1mInfo: \u001b[22m\u001b[39manalysis time index 17 uses the backgrond time index 108\n",
      "\u001b[36m\u001b[1m[ \u001b[22m\u001b[39m\u001b[36m\u001b[1mInfo: \u001b[22m\u001b[39mscaled correlation length (min,max) in dimension 1: (26002.33511528906, 77999.93927774779)\n",
      "\u001b[36m\u001b[1m[ \u001b[22m\u001b[39m\u001b[36m\u001b[1mInfo: \u001b[22m\u001b[39mscaled correlation length (min,max) in dimension 2: (26002.33511528906, 77999.93927774779)\n",
      "\u001b[36m\u001b[1m[ \u001b[22m\u001b[39m\u001b[36m\u001b[1mInfo: \u001b[22m\u001b[39mscaled correlation length (min,max) in dimension 3: (10.0, 50.0)\n",
      "\u001b[33m\u001b[1m┌ \u001b[22m\u001b[39m\u001b[33m\u001b[1mWarning: \u001b[22m\u001b[39mresolution (7.5) is too coarse for correlation length 10.0 in dimension 3 at indices CartesianIndex(47, 11, 6) (skipping further tests). It is recommended that the resolution is at least 2 times finer than the correlation length.\n",
      "\u001b[33m\u001b[1m└ \u001b[22m\u001b[39m\u001b[90m@ DIVAnd C:\\Users\\a001819\\.julia\\packages\\DIVAnd\\MV3j9\\src\\utils.jl:18\u001b[39m\n",
      "\u001b[36m\u001b[1m[ \u001b[22m\u001b[39m\u001b[36m\u001b[1mInfo: \u001b[22m\u001b[39mnumber of windows: 1\n"
     ]
    },
    {
     "name": "stdout",
     "output_type": "stream",
     "text": [
      "timeindex = 17\n"
     ]
    },
    {
     "name": "stderr",
     "output_type": "stream",
     "text": [
      "\u001b[36m\u001b[1m[ \u001b[22m\u001b[39m\u001b[36m\u001b[1mInfo: \u001b[22m\u001b[39mTime step 18 / 57\n",
      "\u001b[36m\u001b[1m[ \u001b[22m\u001b[39m\u001b[36m\u001b[1mInfo: \u001b[22m\u001b[39manalysis time index 18 uses the backgrond time index 112\n",
      "\u001b[36m\u001b[1m[ \u001b[22m\u001b[39m\u001b[36m\u001b[1mInfo: \u001b[22m\u001b[39mscaled correlation length (min,max) in dimension 1: (26002.33511528906, 77999.93927774779)\n",
      "\u001b[36m\u001b[1m[ \u001b[22m\u001b[39m\u001b[36m\u001b[1mInfo: \u001b[22m\u001b[39mscaled correlation length (min,max) in dimension 2: (26002.33511528906, 77999.93927774779)\n",
      "\u001b[36m\u001b[1m[ \u001b[22m\u001b[39m\u001b[36m\u001b[1mInfo: \u001b[22m\u001b[39mscaled correlation length (min,max) in dimension 3: (10.0, 50.0)\n",
      "\u001b[33m\u001b[1m┌ \u001b[22m\u001b[39m\u001b[33m\u001b[1mWarning: \u001b[22m\u001b[39mresolution (7.5) is too coarse for correlation length 10.0 in dimension 3 at indices CartesianIndex(47, 11, 6) (skipping further tests). It is recommended that the resolution is at least 2 times finer than the correlation length.\n",
      "\u001b[33m\u001b[1m└ \u001b[22m\u001b[39m\u001b[90m@ DIVAnd C:\\Users\\a001819\\.julia\\packages\\DIVAnd\\MV3j9\\src\\utils.jl:18\u001b[39m\n",
      "\u001b[36m\u001b[1m[ \u001b[22m\u001b[39m\u001b[36m\u001b[1mInfo: \u001b[22m\u001b[39mnumber of windows: 1\n"
     ]
    },
    {
     "name": "stdout",
     "output_type": "stream",
     "text": [
      "timeindex = 18\n"
     ]
    },
    {
     "name": "stderr",
     "output_type": "stream",
     "text": [
      "\u001b[36m\u001b[1m[ \u001b[22m\u001b[39m\u001b[36m\u001b[1mInfo: \u001b[22m\u001b[39mTime step 19 / 57\n",
      "\u001b[36m\u001b[1m[ \u001b[22m\u001b[39m\u001b[36m\u001b[1mInfo: \u001b[22m\u001b[39manalysis time index 19 uses the backgrond time index 116\n",
      "\u001b[36m\u001b[1m[ \u001b[22m\u001b[39m\u001b[36m\u001b[1mInfo: \u001b[22m\u001b[39mscaled correlation length (min,max) in dimension 1: (26002.33511528906, 77999.93927774779)\n",
      "\u001b[36m\u001b[1m[ \u001b[22m\u001b[39m\u001b[36m\u001b[1mInfo: \u001b[22m\u001b[39mscaled correlation length (min,max) in dimension 2: (26002.33511528906, 77999.93927774779)\n",
      "\u001b[36m\u001b[1m[ \u001b[22m\u001b[39m\u001b[36m\u001b[1mInfo: \u001b[22m\u001b[39mscaled correlation length (min,max) in dimension 3: (10.0, 50.0)\n",
      "\u001b[33m\u001b[1m┌ \u001b[22m\u001b[39m\u001b[33m\u001b[1mWarning: \u001b[22m\u001b[39mresolution (7.5) is too coarse for correlation length 10.0 in dimension 3 at indices CartesianIndex(47, 11, 6) (skipping further tests). It is recommended that the resolution is at least 2 times finer than the correlation length.\n",
      "\u001b[33m\u001b[1m└ \u001b[22m\u001b[39m\u001b[90m@ DIVAnd C:\\Users\\a001819\\.julia\\packages\\DIVAnd\\MV3j9\\src\\utils.jl:18\u001b[39m\n",
      "\u001b[36m\u001b[1m[ \u001b[22m\u001b[39m\u001b[36m\u001b[1mInfo: \u001b[22m\u001b[39mnumber of windows: 1\n"
     ]
    },
    {
     "name": "stdout",
     "output_type": "stream",
     "text": [
      "timeindex = 19\n"
     ]
    },
    {
     "name": "stderr",
     "output_type": "stream",
     "text": [
      "\u001b[36m\u001b[1m[ \u001b[22m\u001b[39m\u001b[36m\u001b[1mInfo: \u001b[22m\u001b[39mTime step 20 / 57\n",
      "\u001b[36m\u001b[1m[ \u001b[22m\u001b[39m\u001b[36m\u001b[1mInfo: \u001b[22m\u001b[39manalysis time index 20 uses the backgrond time index 120\n",
      "\u001b[36m\u001b[1m[ \u001b[22m\u001b[39m\u001b[36m\u001b[1mInfo: \u001b[22m\u001b[39mscaled correlation length (min,max) in dimension 1: (26002.33511528906, 77999.93927774779)\n",
      "\u001b[36m\u001b[1m[ \u001b[22m\u001b[39m\u001b[36m\u001b[1mInfo: \u001b[22m\u001b[39mscaled correlation length (min,max) in dimension 2: (26002.33511528906, 77999.93927774779)\n",
      "\u001b[36m\u001b[1m[ \u001b[22m\u001b[39m\u001b[36m\u001b[1mInfo: \u001b[22m\u001b[39mscaled correlation length (min,max) in dimension 3: (10.0, 50.0)\n",
      "\u001b[33m\u001b[1m┌ \u001b[22m\u001b[39m\u001b[33m\u001b[1mWarning: \u001b[22m\u001b[39mresolution (7.5) is too coarse for correlation length 10.0 in dimension 3 at indices CartesianIndex(47, 11, 6) (skipping further tests). It is recommended that the resolution is at least 2 times finer than the correlation length.\n",
      "\u001b[33m\u001b[1m└ \u001b[22m\u001b[39m\u001b[90m@ DIVAnd C:\\Users\\a001819\\.julia\\packages\\DIVAnd\\MV3j9\\src\\utils.jl:18\u001b[39m\n",
      "\u001b[36m\u001b[1m[ \u001b[22m\u001b[39m\u001b[36m\u001b[1mInfo: \u001b[22m\u001b[39mnumber of windows: 1\n"
     ]
    },
    {
     "name": "stdout",
     "output_type": "stream",
     "text": [
      "timeindex = 20\n"
     ]
    },
    {
     "name": "stderr",
     "output_type": "stream",
     "text": [
      "\u001b[36m\u001b[1m[ \u001b[22m\u001b[39m\u001b[36m\u001b[1mInfo: \u001b[22m\u001b[39mTime step 21 / 57\n",
      "\u001b[36m\u001b[1m[ \u001b[22m\u001b[39m\u001b[36m\u001b[1mInfo: \u001b[22m\u001b[39manalysis time index 21 uses the backgrond time index 124\n",
      "\u001b[36m\u001b[1m[ \u001b[22m\u001b[39m\u001b[36m\u001b[1mInfo: \u001b[22m\u001b[39mscaled correlation length (min,max) in dimension 1: (26002.33511528906, 77999.93927774779)\n",
      "\u001b[36m\u001b[1m[ \u001b[22m\u001b[39m\u001b[36m\u001b[1mInfo: \u001b[22m\u001b[39mscaled correlation length (min,max) in dimension 2: (26002.33511528906, 77999.93927774779)\n",
      "\u001b[36m\u001b[1m[ \u001b[22m\u001b[39m\u001b[36m\u001b[1mInfo: \u001b[22m\u001b[39mscaled correlation length (min,max) in dimension 3: (10.0, 50.0)\n",
      "\u001b[33m\u001b[1m┌ \u001b[22m\u001b[39m\u001b[33m\u001b[1mWarning: \u001b[22m\u001b[39mresolution (7.5) is too coarse for correlation length 10.0 in dimension 3 at indices CartesianIndex(47, 11, 6) (skipping further tests). It is recommended that the resolution is at least 2 times finer than the correlation length.\n",
      "\u001b[33m\u001b[1m└ \u001b[22m\u001b[39m\u001b[90m@ DIVAnd C:\\Users\\a001819\\.julia\\packages\\DIVAnd\\MV3j9\\src\\utils.jl:18\u001b[39m\n",
      "\u001b[36m\u001b[1m[ \u001b[22m\u001b[39m\u001b[36m\u001b[1mInfo: \u001b[22m\u001b[39mnumber of windows: 1\n"
     ]
    },
    {
     "name": "stdout",
     "output_type": "stream",
     "text": [
      "timeindex = 21\n"
     ]
    },
    {
     "name": "stderr",
     "output_type": "stream",
     "text": [
      "\u001b[36m\u001b[1m[ \u001b[22m\u001b[39m\u001b[36m\u001b[1mInfo: \u001b[22m\u001b[39mTime step 22 / 57\n",
      "\u001b[36m\u001b[1m[ \u001b[22m\u001b[39m\u001b[36m\u001b[1mInfo: \u001b[22m\u001b[39manalysis time index 22 uses the backgrond time index 128\n",
      "\u001b[36m\u001b[1m[ \u001b[22m\u001b[39m\u001b[36m\u001b[1mInfo: \u001b[22m\u001b[39mscaled correlation length (min,max) in dimension 1: (26002.33511528906, 77999.93927774779)\n",
      "\u001b[36m\u001b[1m[ \u001b[22m\u001b[39m\u001b[36m\u001b[1mInfo: \u001b[22m\u001b[39mscaled correlation length (min,max) in dimension 2: (26002.33511528906, 77999.93927774779)\n",
      "\u001b[36m\u001b[1m[ \u001b[22m\u001b[39m\u001b[36m\u001b[1mInfo: \u001b[22m\u001b[39mscaled correlation length (min,max) in dimension 3: (10.0, 50.0)\n",
      "\u001b[33m\u001b[1m┌ \u001b[22m\u001b[39m\u001b[33m\u001b[1mWarning: \u001b[22m\u001b[39mresolution (7.5) is too coarse for correlation length 10.0 in dimension 3 at indices CartesianIndex(47, 11, 6) (skipping further tests). It is recommended that the resolution is at least 2 times finer than the correlation length.\n",
      "\u001b[33m\u001b[1m└ \u001b[22m\u001b[39m\u001b[90m@ DIVAnd C:\\Users\\a001819\\.julia\\packages\\DIVAnd\\MV3j9\\src\\utils.jl:18\u001b[39m\n",
      "\u001b[36m\u001b[1m[ \u001b[22m\u001b[39m\u001b[36m\u001b[1mInfo: \u001b[22m\u001b[39mnumber of windows: 1\n"
     ]
    },
    {
     "name": "stdout",
     "output_type": "stream",
     "text": [
      "timeindex = 22\n"
     ]
    },
    {
     "name": "stderr",
     "output_type": "stream",
     "text": [
      "\u001b[36m\u001b[1m[ \u001b[22m\u001b[39m\u001b[36m\u001b[1mInfo: \u001b[22m\u001b[39mTime step 23 / 57\n",
      "\u001b[36m\u001b[1m[ \u001b[22m\u001b[39m\u001b[36m\u001b[1mInfo: \u001b[22m\u001b[39manalysis time index 23 uses the backgrond time index 132\n",
      "\u001b[36m\u001b[1m[ \u001b[22m\u001b[39m\u001b[36m\u001b[1mInfo: \u001b[22m\u001b[39mscaled correlation length (min,max) in dimension 1: (26002.33511528906, 77999.93927774779)\n",
      "\u001b[36m\u001b[1m[ \u001b[22m\u001b[39m\u001b[36m\u001b[1mInfo: \u001b[22m\u001b[39mscaled correlation length (min,max) in dimension 2: (26002.33511528906, 77999.93927774779)\n",
      "\u001b[36m\u001b[1m[ \u001b[22m\u001b[39m\u001b[36m\u001b[1mInfo: \u001b[22m\u001b[39mscaled correlation length (min,max) in dimension 3: (10.0, 50.0)\n",
      "\u001b[33m\u001b[1m┌ \u001b[22m\u001b[39m\u001b[33m\u001b[1mWarning: \u001b[22m\u001b[39mresolution (7.5) is too coarse for correlation length 10.0 in dimension 3 at indices CartesianIndex(47, 11, 6) (skipping further tests). It is recommended that the resolution is at least 2 times finer than the correlation length.\n",
      "\u001b[33m\u001b[1m└ \u001b[22m\u001b[39m\u001b[90m@ DIVAnd C:\\Users\\a001819\\.julia\\packages\\DIVAnd\\MV3j9\\src\\utils.jl:18\u001b[39m\n",
      "\u001b[36m\u001b[1m[ \u001b[22m\u001b[39m\u001b[36m\u001b[1mInfo: \u001b[22m\u001b[39mnumber of windows: 1\n"
     ]
    },
    {
     "name": "stdout",
     "output_type": "stream",
     "text": [
      "timeindex = 23\n"
     ]
    },
    {
     "name": "stderr",
     "output_type": "stream",
     "text": [
      "\u001b[36m\u001b[1m[ \u001b[22m\u001b[39m\u001b[36m\u001b[1mInfo: \u001b[22m\u001b[39mTime step 24 / 57\n",
      "\u001b[36m\u001b[1m[ \u001b[22m\u001b[39m\u001b[36m\u001b[1mInfo: \u001b[22m\u001b[39manalysis time index 24 uses the backgrond time index 136\n",
      "\u001b[36m\u001b[1m[ \u001b[22m\u001b[39m\u001b[36m\u001b[1mInfo: \u001b[22m\u001b[39mscaled correlation length (min,max) in dimension 1: (26002.33511528906, 77999.93927774779)\n",
      "\u001b[36m\u001b[1m[ \u001b[22m\u001b[39m\u001b[36m\u001b[1mInfo: \u001b[22m\u001b[39mscaled correlation length (min,max) in dimension 2: (26002.33511528906, 77999.93927774779)\n",
      "\u001b[36m\u001b[1m[ \u001b[22m\u001b[39m\u001b[36m\u001b[1mInfo: \u001b[22m\u001b[39mscaled correlation length (min,max) in dimension 3: (10.0, 50.0)\n",
      "\u001b[33m\u001b[1m┌ \u001b[22m\u001b[39m\u001b[33m\u001b[1mWarning: \u001b[22m\u001b[39mresolution (7.5) is too coarse for correlation length 10.0 in dimension 3 at indices CartesianIndex(47, 11, 6) (skipping further tests). It is recommended that the resolution is at least 2 times finer than the correlation length.\n",
      "\u001b[33m\u001b[1m└ \u001b[22m\u001b[39m\u001b[90m@ DIVAnd C:\\Users\\a001819\\.julia\\packages\\DIVAnd\\MV3j9\\src\\utils.jl:18\u001b[39m\n",
      "\u001b[36m\u001b[1m[ \u001b[22m\u001b[39m\u001b[36m\u001b[1mInfo: \u001b[22m\u001b[39mnumber of windows: 1\n"
     ]
    },
    {
     "name": "stdout",
     "output_type": "stream",
     "text": [
      "timeindex = 24\n"
     ]
    },
    {
     "name": "stderr",
     "output_type": "stream",
     "text": [
      "\u001b[36m\u001b[1m[ \u001b[22m\u001b[39m\u001b[36m\u001b[1mInfo: \u001b[22m\u001b[39mTime step 25 / 57\n",
      "\u001b[36m\u001b[1m[ \u001b[22m\u001b[39m\u001b[36m\u001b[1mInfo: \u001b[22m\u001b[39manalysis time index 25 uses the backgrond time index 140\n",
      "\u001b[36m\u001b[1m[ \u001b[22m\u001b[39m\u001b[36m\u001b[1mInfo: \u001b[22m\u001b[39mscaled correlation length (min,max) in dimension 1: (26002.33511528906, 77999.93927774779)\n",
      "\u001b[36m\u001b[1m[ \u001b[22m\u001b[39m\u001b[36m\u001b[1mInfo: \u001b[22m\u001b[39mscaled correlation length (min,max) in dimension 2: (26002.33511528906, 77999.93927774779)\n",
      "\u001b[36m\u001b[1m[ \u001b[22m\u001b[39m\u001b[36m\u001b[1mInfo: \u001b[22m\u001b[39mscaled correlation length (min,max) in dimension 3: (10.0, 50.0)\n",
      "\u001b[33m\u001b[1m┌ \u001b[22m\u001b[39m\u001b[33m\u001b[1mWarning: \u001b[22m\u001b[39mresolution (7.5) is too coarse for correlation length 10.0 in dimension 3 at indices CartesianIndex(47, 11, 6) (skipping further tests). It is recommended that the resolution is at least 2 times finer than the correlation length.\n",
      "\u001b[33m\u001b[1m└ \u001b[22m\u001b[39m\u001b[90m@ DIVAnd C:\\Users\\a001819\\.julia\\packages\\DIVAnd\\MV3j9\\src\\utils.jl:18\u001b[39m\n",
      "\u001b[36m\u001b[1m[ \u001b[22m\u001b[39m\u001b[36m\u001b[1mInfo: \u001b[22m\u001b[39mnumber of windows: 1\n"
     ]
    },
    {
     "name": "stdout",
     "output_type": "stream",
     "text": [
      "timeindex = 25\n"
     ]
    },
    {
     "name": "stderr",
     "output_type": "stream",
     "text": [
      "\u001b[36m\u001b[1m[ \u001b[22m\u001b[39m\u001b[36m\u001b[1mInfo: \u001b[22m\u001b[39mTime step 26 / 57\n",
      "\u001b[36m\u001b[1m[ \u001b[22m\u001b[39m\u001b[36m\u001b[1mInfo: \u001b[22m\u001b[39manalysis time index 26 uses the backgrond time index 144\n",
      "\u001b[36m\u001b[1m[ \u001b[22m\u001b[39m\u001b[36m\u001b[1mInfo: \u001b[22m\u001b[39mscaled correlation length (min,max) in dimension 1: (26002.33511528906, 77999.93927774779)\n",
      "\u001b[36m\u001b[1m[ \u001b[22m\u001b[39m\u001b[36m\u001b[1mInfo: \u001b[22m\u001b[39mscaled correlation length (min,max) in dimension 2: (26002.33511528906, 77999.93927774779)\n",
      "\u001b[36m\u001b[1m[ \u001b[22m\u001b[39m\u001b[36m\u001b[1mInfo: \u001b[22m\u001b[39mscaled correlation length (min,max) in dimension 3: (10.0, 50.0)\n",
      "\u001b[33m\u001b[1m┌ \u001b[22m\u001b[39m\u001b[33m\u001b[1mWarning: \u001b[22m\u001b[39mresolution (7.5) is too coarse for correlation length 10.0 in dimension 3 at indices CartesianIndex(47, 11, 6) (skipping further tests). It is recommended that the resolution is at least 2 times finer than the correlation length.\n",
      "\u001b[33m\u001b[1m└ \u001b[22m\u001b[39m\u001b[90m@ DIVAnd C:\\Users\\a001819\\.julia\\packages\\DIVAnd\\MV3j9\\src\\utils.jl:18\u001b[39m\n",
      "\u001b[36m\u001b[1m[ \u001b[22m\u001b[39m\u001b[36m\u001b[1mInfo: \u001b[22m\u001b[39mnumber of windows: 1\n"
     ]
    },
    {
     "name": "stdout",
     "output_type": "stream",
     "text": [
      "timeindex = 26\n"
     ]
    },
    {
     "name": "stderr",
     "output_type": "stream",
     "text": [
      "\u001b[36m\u001b[1m[ \u001b[22m\u001b[39m\u001b[36m\u001b[1mInfo: \u001b[22m\u001b[39mTime step 27 / 57\n",
      "\u001b[36m\u001b[1m[ \u001b[22m\u001b[39m\u001b[36m\u001b[1mInfo: \u001b[22m\u001b[39manalysis time index 27 uses the backgrond time index 148\n",
      "\u001b[36m\u001b[1m[ \u001b[22m\u001b[39m\u001b[36m\u001b[1mInfo: \u001b[22m\u001b[39mscaled correlation length (min,max) in dimension 1: (26002.33511528906, 77999.93927774779)\n",
      "\u001b[36m\u001b[1m[ \u001b[22m\u001b[39m\u001b[36m\u001b[1mInfo: \u001b[22m\u001b[39mscaled correlation length (min,max) in dimension 2: (26002.33511528906, 77999.93927774779)\n",
      "\u001b[36m\u001b[1m[ \u001b[22m\u001b[39m\u001b[36m\u001b[1mInfo: \u001b[22m\u001b[39mscaled correlation length (min,max) in dimension 3: (10.0, 50.0)\n",
      "\u001b[33m\u001b[1m┌ \u001b[22m\u001b[39m\u001b[33m\u001b[1mWarning: \u001b[22m\u001b[39mresolution (7.5) is too coarse for correlation length 10.0 in dimension 3 at indices CartesianIndex(47, 11, 6) (skipping further tests). It is recommended that the resolution is at least 2 times finer than the correlation length.\n",
      "\u001b[33m\u001b[1m└ \u001b[22m\u001b[39m\u001b[90m@ DIVAnd C:\\Users\\a001819\\.julia\\packages\\DIVAnd\\MV3j9\\src\\utils.jl:18\u001b[39m\n",
      "\u001b[36m\u001b[1m[ \u001b[22m\u001b[39m\u001b[36m\u001b[1mInfo: \u001b[22m\u001b[39mnumber of windows: 1\n"
     ]
    },
    {
     "name": "stdout",
     "output_type": "stream",
     "text": [
      "timeindex = 27\n"
     ]
    },
    {
     "name": "stderr",
     "output_type": "stream",
     "text": [
      "\u001b[36m\u001b[1m[ \u001b[22m\u001b[39m\u001b[36m\u001b[1mInfo: \u001b[22m\u001b[39mTime step 28 / 57\n",
      "\u001b[36m\u001b[1m[ \u001b[22m\u001b[39m\u001b[36m\u001b[1mInfo: \u001b[22m\u001b[39manalysis time index 28 uses the backgrond time index 152\n",
      "\u001b[36m\u001b[1m[ \u001b[22m\u001b[39m\u001b[36m\u001b[1mInfo: \u001b[22m\u001b[39mscaled correlation length (min,max) in dimension 1: (26002.33511528906, 77999.93927774779)\n",
      "\u001b[36m\u001b[1m[ \u001b[22m\u001b[39m\u001b[36m\u001b[1mInfo: \u001b[22m\u001b[39mscaled correlation length (min,max) in dimension 2: (26002.33511528906, 77999.93927774779)\n",
      "\u001b[36m\u001b[1m[ \u001b[22m\u001b[39m\u001b[36m\u001b[1mInfo: \u001b[22m\u001b[39mscaled correlation length (min,max) in dimension 3: (10.0, 50.0)\n",
      "\u001b[33m\u001b[1m┌ \u001b[22m\u001b[39m\u001b[33m\u001b[1mWarning: \u001b[22m\u001b[39mresolution (7.5) is too coarse for correlation length 10.0 in dimension 3 at indices CartesianIndex(47, 11, 6) (skipping further tests). It is recommended that the resolution is at least 2 times finer than the correlation length.\n",
      "\u001b[33m\u001b[1m└ \u001b[22m\u001b[39m\u001b[90m@ DIVAnd C:\\Users\\a001819\\.julia\\packages\\DIVAnd\\MV3j9\\src\\utils.jl:18\u001b[39m\n",
      "\u001b[36m\u001b[1m[ \u001b[22m\u001b[39m\u001b[36m\u001b[1mInfo: \u001b[22m\u001b[39mnumber of windows: 1\n"
     ]
    },
    {
     "name": "stdout",
     "output_type": "stream",
     "text": [
      "timeindex = 28\n"
     ]
    },
    {
     "name": "stderr",
     "output_type": "stream",
     "text": [
      "\u001b[36m\u001b[1m[ \u001b[22m\u001b[39m\u001b[36m\u001b[1mInfo: \u001b[22m\u001b[39mTime step 29 / 57\n",
      "\u001b[36m\u001b[1m[ \u001b[22m\u001b[39m\u001b[36m\u001b[1mInfo: \u001b[22m\u001b[39manalysis time index 29 uses the backgrond time index 156\n",
      "\u001b[36m\u001b[1m[ \u001b[22m\u001b[39m\u001b[36m\u001b[1mInfo: \u001b[22m\u001b[39mscaled correlation length (min,max) in dimension 1: (26002.33511528906, 77999.93927774779)\n",
      "\u001b[36m\u001b[1m[ \u001b[22m\u001b[39m\u001b[36m\u001b[1mInfo: \u001b[22m\u001b[39mscaled correlation length (min,max) in dimension 2: (26002.33511528906, 77999.93927774779)\n",
      "\u001b[36m\u001b[1m[ \u001b[22m\u001b[39m\u001b[36m\u001b[1mInfo: \u001b[22m\u001b[39mscaled correlation length (min,max) in dimension 3: (10.0, 50.0)\n",
      "\u001b[33m\u001b[1m┌ \u001b[22m\u001b[39m\u001b[33m\u001b[1mWarning: \u001b[22m\u001b[39mresolution (7.5) is too coarse for correlation length 10.0 in dimension 3 at indices CartesianIndex(47, 11, 6) (skipping further tests). It is recommended that the resolution is at least 2 times finer than the correlation length.\n",
      "\u001b[33m\u001b[1m└ \u001b[22m\u001b[39m\u001b[90m@ DIVAnd C:\\Users\\a001819\\.julia\\packages\\DIVAnd\\MV3j9\\src\\utils.jl:18\u001b[39m\n",
      "\u001b[36m\u001b[1m[ \u001b[22m\u001b[39m\u001b[36m\u001b[1mInfo: \u001b[22m\u001b[39mnumber of windows: 1\n"
     ]
    },
    {
     "name": "stdout",
     "output_type": "stream",
     "text": [
      "timeindex = 29\n"
     ]
    },
    {
     "name": "stderr",
     "output_type": "stream",
     "text": [
      "\u001b[36m\u001b[1m[ \u001b[22m\u001b[39m\u001b[36m\u001b[1mInfo: \u001b[22m\u001b[39mTime step 30 / 57\n",
      "\u001b[36m\u001b[1m[ \u001b[22m\u001b[39m\u001b[36m\u001b[1mInfo: \u001b[22m\u001b[39manalysis time index 30 uses the backgrond time index 160\n",
      "\u001b[36m\u001b[1m[ \u001b[22m\u001b[39m\u001b[36m\u001b[1mInfo: \u001b[22m\u001b[39mscaled correlation length (min,max) in dimension 1: (26002.33511528906, 77999.93927774779)\n",
      "\u001b[36m\u001b[1m[ \u001b[22m\u001b[39m\u001b[36m\u001b[1mInfo: \u001b[22m\u001b[39mscaled correlation length (min,max) in dimension 2: (26002.33511528906, 77999.93927774779)\n",
      "\u001b[36m\u001b[1m[ \u001b[22m\u001b[39m\u001b[36m\u001b[1mInfo: \u001b[22m\u001b[39mscaled correlation length (min,max) in dimension 3: (10.0, 50.0)\n",
      "\u001b[33m\u001b[1m┌ \u001b[22m\u001b[39m\u001b[33m\u001b[1mWarning: \u001b[22m\u001b[39mresolution (7.5) is too coarse for correlation length 10.0 in dimension 3 at indices CartesianIndex(47, 11, 6) (skipping further tests). It is recommended that the resolution is at least 2 times finer than the correlation length.\n",
      "\u001b[33m\u001b[1m└ \u001b[22m\u001b[39m\u001b[90m@ DIVAnd C:\\Users\\a001819\\.julia\\packages\\DIVAnd\\MV3j9\\src\\utils.jl:18\u001b[39m\n",
      "\u001b[36m\u001b[1m[ \u001b[22m\u001b[39m\u001b[36m\u001b[1mInfo: \u001b[22m\u001b[39mnumber of windows: 1\n"
     ]
    },
    {
     "name": "stdout",
     "output_type": "stream",
     "text": [
      "timeindex = 30\n"
     ]
    },
    {
     "name": "stderr",
     "output_type": "stream",
     "text": [
      "\u001b[36m\u001b[1m[ \u001b[22m\u001b[39m\u001b[36m\u001b[1mInfo: \u001b[22m\u001b[39mTime step 31 / 57\n",
      "\u001b[36m\u001b[1m[ \u001b[22m\u001b[39m\u001b[36m\u001b[1mInfo: \u001b[22m\u001b[39manalysis time index 31 uses the backgrond time index 164\n",
      "\u001b[36m\u001b[1m[ \u001b[22m\u001b[39m\u001b[36m\u001b[1mInfo: \u001b[22m\u001b[39mscaled correlation length (min,max) in dimension 1: (26002.33511528906, 77999.93927774779)\n",
      "\u001b[36m\u001b[1m[ \u001b[22m\u001b[39m\u001b[36m\u001b[1mInfo: \u001b[22m\u001b[39mscaled correlation length (min,max) in dimension 2: (26002.33511528906, 77999.93927774779)\n",
      "\u001b[36m\u001b[1m[ \u001b[22m\u001b[39m\u001b[36m\u001b[1mInfo: \u001b[22m\u001b[39mscaled correlation length (min,max) in dimension 3: (10.0, 50.0)\n",
      "\u001b[33m\u001b[1m┌ \u001b[22m\u001b[39m\u001b[33m\u001b[1mWarning: \u001b[22m\u001b[39mresolution (7.5) is too coarse for correlation length 10.0 in dimension 3 at indices CartesianIndex(47, 11, 6) (skipping further tests). It is recommended that the resolution is at least 2 times finer than the correlation length.\n",
      "\u001b[33m\u001b[1m└ \u001b[22m\u001b[39m\u001b[90m@ DIVAnd C:\\Users\\a001819\\.julia\\packages\\DIVAnd\\MV3j9\\src\\utils.jl:18\u001b[39m\n",
      "\u001b[36m\u001b[1m[ \u001b[22m\u001b[39m\u001b[36m\u001b[1mInfo: \u001b[22m\u001b[39mnumber of windows: 1\n"
     ]
    },
    {
     "name": "stdout",
     "output_type": "stream",
     "text": [
      "timeindex = 31\n"
     ]
    },
    {
     "name": "stderr",
     "output_type": "stream",
     "text": [
      "\u001b[36m\u001b[1m[ \u001b[22m\u001b[39m\u001b[36m\u001b[1mInfo: \u001b[22m\u001b[39mTime step 32 / 57\n",
      "\u001b[36m\u001b[1m[ \u001b[22m\u001b[39m\u001b[36m\u001b[1mInfo: \u001b[22m\u001b[39manalysis time index 32 uses the backgrond time index 168\n",
      "\u001b[36m\u001b[1m[ \u001b[22m\u001b[39m\u001b[36m\u001b[1mInfo: \u001b[22m\u001b[39mscaled correlation length (min,max) in dimension 1: (26002.33511528906, 77999.93927774779)\n",
      "\u001b[36m\u001b[1m[ \u001b[22m\u001b[39m\u001b[36m\u001b[1mInfo: \u001b[22m\u001b[39mscaled correlation length (min,max) in dimension 2: (26002.33511528906, 77999.93927774779)\n",
      "\u001b[36m\u001b[1m[ \u001b[22m\u001b[39m\u001b[36m\u001b[1mInfo: \u001b[22m\u001b[39mscaled correlation length (min,max) in dimension 3: (10.0, 50.0)\n",
      "\u001b[33m\u001b[1m┌ \u001b[22m\u001b[39m\u001b[33m\u001b[1mWarning: \u001b[22m\u001b[39mresolution (7.5) is too coarse for correlation length 10.0 in dimension 3 at indices CartesianIndex(47, 11, 6) (skipping further tests). It is recommended that the resolution is at least 2 times finer than the correlation length.\n",
      "\u001b[33m\u001b[1m└ \u001b[22m\u001b[39m\u001b[90m@ DIVAnd C:\\Users\\a001819\\.julia\\packages\\DIVAnd\\MV3j9\\src\\utils.jl:18\u001b[39m\n",
      "\u001b[36m\u001b[1m[ \u001b[22m\u001b[39m\u001b[36m\u001b[1mInfo: \u001b[22m\u001b[39mnumber of windows: 1\n"
     ]
    },
    {
     "name": "stdout",
     "output_type": "stream",
     "text": [
      "timeindex = 32\n"
     ]
    },
    {
     "name": "stderr",
     "output_type": "stream",
     "text": [
      "\u001b[36m\u001b[1m[ \u001b[22m\u001b[39m\u001b[36m\u001b[1mInfo: \u001b[22m\u001b[39mTime step 33 / 57\n",
      "\u001b[36m\u001b[1m[ \u001b[22m\u001b[39m\u001b[36m\u001b[1mInfo: \u001b[22m\u001b[39manalysis time index 33 uses the backgrond time index 172\n",
      "\u001b[36m\u001b[1m[ \u001b[22m\u001b[39m\u001b[36m\u001b[1mInfo: \u001b[22m\u001b[39mscaled correlation length (min,max) in dimension 1: (26002.33511528906, 77999.93927774779)\n",
      "\u001b[36m\u001b[1m[ \u001b[22m\u001b[39m\u001b[36m\u001b[1mInfo: \u001b[22m\u001b[39mscaled correlation length (min,max) in dimension 2: (26002.33511528906, 77999.93927774779)\n",
      "\u001b[36m\u001b[1m[ \u001b[22m\u001b[39m\u001b[36m\u001b[1mInfo: \u001b[22m\u001b[39mscaled correlation length (min,max) in dimension 3: (10.0, 50.0)\n",
      "\u001b[33m\u001b[1m┌ \u001b[22m\u001b[39m\u001b[33m\u001b[1mWarning: \u001b[22m\u001b[39mresolution (7.5) is too coarse for correlation length 10.0 in dimension 3 at indices CartesianIndex(47, 11, 6) (skipping further tests). It is recommended that the resolution is at least 2 times finer than the correlation length.\n",
      "\u001b[33m\u001b[1m└ \u001b[22m\u001b[39m\u001b[90m@ DIVAnd C:\\Users\\a001819\\.julia\\packages\\DIVAnd\\MV3j9\\src\\utils.jl:18\u001b[39m\n",
      "\u001b[36m\u001b[1m[ \u001b[22m\u001b[39m\u001b[36m\u001b[1mInfo: \u001b[22m\u001b[39mnumber of windows: 1\n"
     ]
    },
    {
     "name": "stdout",
     "output_type": "stream",
     "text": [
      "timeindex = 33\n"
     ]
    },
    {
     "name": "stderr",
     "output_type": "stream",
     "text": [
      "\u001b[36m\u001b[1m[ \u001b[22m\u001b[39m\u001b[36m\u001b[1mInfo: \u001b[22m\u001b[39mTime step 34 / 57\n",
      "\u001b[36m\u001b[1m[ \u001b[22m\u001b[39m\u001b[36m\u001b[1mInfo: \u001b[22m\u001b[39manalysis time index 34 uses the backgrond time index 176\n",
      "\u001b[36m\u001b[1m[ \u001b[22m\u001b[39m\u001b[36m\u001b[1mInfo: \u001b[22m\u001b[39mscaled correlation length (min,max) in dimension 1: (26002.33511528906, 77999.93927774779)\n",
      "\u001b[36m\u001b[1m[ \u001b[22m\u001b[39m\u001b[36m\u001b[1mInfo: \u001b[22m\u001b[39mscaled correlation length (min,max) in dimension 2: (26002.33511528906, 77999.93927774779)\n",
      "\u001b[36m\u001b[1m[ \u001b[22m\u001b[39m\u001b[36m\u001b[1mInfo: \u001b[22m\u001b[39mscaled correlation length (min,max) in dimension 3: (10.0, 50.0)\n",
      "\u001b[33m\u001b[1m┌ \u001b[22m\u001b[39m\u001b[33m\u001b[1mWarning: \u001b[22m\u001b[39mresolution (7.5) is too coarse for correlation length 10.0 in dimension 3 at indices CartesianIndex(47, 11, 6) (skipping further tests). It is recommended that the resolution is at least 2 times finer than the correlation length.\n",
      "\u001b[33m\u001b[1m└ \u001b[22m\u001b[39m\u001b[90m@ DIVAnd C:\\Users\\a001819\\.julia\\packages\\DIVAnd\\MV3j9\\src\\utils.jl:18\u001b[39m\n",
      "\u001b[36m\u001b[1m[ \u001b[22m\u001b[39m\u001b[36m\u001b[1mInfo: \u001b[22m\u001b[39mnumber of windows: 1\n"
     ]
    },
    {
     "name": "stdout",
     "output_type": "stream",
     "text": [
      "timeindex = 34\n"
     ]
    },
    {
     "name": "stderr",
     "output_type": "stream",
     "text": [
      "\u001b[36m\u001b[1m[ \u001b[22m\u001b[39m\u001b[36m\u001b[1mInfo: \u001b[22m\u001b[39mTime step 35 / 57\n",
      "\u001b[36m\u001b[1m[ \u001b[22m\u001b[39m\u001b[36m\u001b[1mInfo: \u001b[22m\u001b[39manalysis time index 35 uses the backgrond time index 180\n",
      "\u001b[36m\u001b[1m[ \u001b[22m\u001b[39m\u001b[36m\u001b[1mInfo: \u001b[22m\u001b[39mscaled correlation length (min,max) in dimension 1: (26002.33511528906, 77999.93927774779)\n",
      "\u001b[36m\u001b[1m[ \u001b[22m\u001b[39m\u001b[36m\u001b[1mInfo: \u001b[22m\u001b[39mscaled correlation length (min,max) in dimension 2: (26002.33511528906, 77999.93927774779)\n",
      "\u001b[36m\u001b[1m[ \u001b[22m\u001b[39m\u001b[36m\u001b[1mInfo: \u001b[22m\u001b[39mscaled correlation length (min,max) in dimension 3: (10.0, 50.0)\n",
      "\u001b[33m\u001b[1m┌ \u001b[22m\u001b[39m\u001b[33m\u001b[1mWarning: \u001b[22m\u001b[39mresolution (7.5) is too coarse for correlation length 10.0 in dimension 3 at indices CartesianIndex(47, 11, 6) (skipping further tests). It is recommended that the resolution is at least 2 times finer than the correlation length.\n",
      "\u001b[33m\u001b[1m└ \u001b[22m\u001b[39m\u001b[90m@ DIVAnd C:\\Users\\a001819\\.julia\\packages\\DIVAnd\\MV3j9\\src\\utils.jl:18\u001b[39m\n",
      "\u001b[36m\u001b[1m[ \u001b[22m\u001b[39m\u001b[36m\u001b[1mInfo: \u001b[22m\u001b[39mnumber of windows: 1\n"
     ]
    },
    {
     "name": "stdout",
     "output_type": "stream",
     "text": [
      "timeindex = 35\n"
     ]
    },
    {
     "name": "stderr",
     "output_type": "stream",
     "text": [
      "\u001b[36m\u001b[1m[ \u001b[22m\u001b[39m\u001b[36m\u001b[1mInfo: \u001b[22m\u001b[39mTime step 36 / 57\n",
      "\u001b[36m\u001b[1m[ \u001b[22m\u001b[39m\u001b[36m\u001b[1mInfo: \u001b[22m\u001b[39manalysis time index 36 uses the backgrond time index 184\n",
      "\u001b[36m\u001b[1m[ \u001b[22m\u001b[39m\u001b[36m\u001b[1mInfo: \u001b[22m\u001b[39mscaled correlation length (min,max) in dimension 1: (26002.33511528906, 77999.93927774779)\n",
      "\u001b[36m\u001b[1m[ \u001b[22m\u001b[39m\u001b[36m\u001b[1mInfo: \u001b[22m\u001b[39mscaled correlation length (min,max) in dimension 2: (26002.33511528906, 77999.93927774779)\n",
      "\u001b[36m\u001b[1m[ \u001b[22m\u001b[39m\u001b[36m\u001b[1mInfo: \u001b[22m\u001b[39mscaled correlation length (min,max) in dimension 3: (10.0, 50.0)\n",
      "\u001b[33m\u001b[1m┌ \u001b[22m\u001b[39m\u001b[33m\u001b[1mWarning: \u001b[22m\u001b[39mresolution (7.5) is too coarse for correlation length 10.0 in dimension 3 at indices CartesianIndex(47, 11, 6) (skipping further tests). It is recommended that the resolution is at least 2 times finer than the correlation length.\n",
      "\u001b[33m\u001b[1m└ \u001b[22m\u001b[39m\u001b[90m@ DIVAnd C:\\Users\\a001819\\.julia\\packages\\DIVAnd\\MV3j9\\src\\utils.jl:18\u001b[39m\n",
      "\u001b[36m\u001b[1m[ \u001b[22m\u001b[39m\u001b[36m\u001b[1mInfo: \u001b[22m\u001b[39mnumber of windows: 1\n"
     ]
    },
    {
     "name": "stdout",
     "output_type": "stream",
     "text": [
      "timeindex = 36\n"
     ]
    },
    {
     "name": "stderr",
     "output_type": "stream",
     "text": [
      "\u001b[36m\u001b[1m[ \u001b[22m\u001b[39m\u001b[36m\u001b[1mInfo: \u001b[22m\u001b[39mTime step 37 / 57\n",
      "\u001b[36m\u001b[1m[ \u001b[22m\u001b[39m\u001b[36m\u001b[1mInfo: \u001b[22m\u001b[39manalysis time index 37 uses the backgrond time index 188\n",
      "\u001b[36m\u001b[1m[ \u001b[22m\u001b[39m\u001b[36m\u001b[1mInfo: \u001b[22m\u001b[39mscaled correlation length (min,max) in dimension 1: (26002.33511528906, 77999.93927774779)\n",
      "\u001b[36m\u001b[1m[ \u001b[22m\u001b[39m\u001b[36m\u001b[1mInfo: \u001b[22m\u001b[39mscaled correlation length (min,max) in dimension 2: (26002.33511528906, 77999.93927774779)\n",
      "\u001b[36m\u001b[1m[ \u001b[22m\u001b[39m\u001b[36m\u001b[1mInfo: \u001b[22m\u001b[39mscaled correlation length (min,max) in dimension 3: (10.0, 50.0)\n",
      "\u001b[33m\u001b[1m┌ \u001b[22m\u001b[39m\u001b[33m\u001b[1mWarning: \u001b[22m\u001b[39mresolution (7.5) is too coarse for correlation length 10.0 in dimension 3 at indices CartesianIndex(47, 11, 6) (skipping further tests). It is recommended that the resolution is at least 2 times finer than the correlation length.\n",
      "\u001b[33m\u001b[1m└ \u001b[22m\u001b[39m\u001b[90m@ DIVAnd C:\\Users\\a001819\\.julia\\packages\\DIVAnd\\MV3j9\\src\\utils.jl:18\u001b[39m\n",
      "\u001b[36m\u001b[1m[ \u001b[22m\u001b[39m\u001b[36m\u001b[1mInfo: \u001b[22m\u001b[39mnumber of windows: 1\n"
     ]
    },
    {
     "name": "stdout",
     "output_type": "stream",
     "text": [
      "timeindex = 37\n"
     ]
    },
    {
     "name": "stderr",
     "output_type": "stream",
     "text": [
      "\u001b[36m\u001b[1m[ \u001b[22m\u001b[39m\u001b[36m\u001b[1mInfo: \u001b[22m\u001b[39mTime step 38 / 57\n",
      "\u001b[36m\u001b[1m[ \u001b[22m\u001b[39m\u001b[36m\u001b[1mInfo: \u001b[22m\u001b[39manalysis time index 38 uses the backgrond time index 192\n",
      "\u001b[36m\u001b[1m[ \u001b[22m\u001b[39m\u001b[36m\u001b[1mInfo: \u001b[22m\u001b[39mscaled correlation length (min,max) in dimension 1: (26002.33511528906, 77999.93927774779)\n",
      "\u001b[36m\u001b[1m[ \u001b[22m\u001b[39m\u001b[36m\u001b[1mInfo: \u001b[22m\u001b[39mscaled correlation length (min,max) in dimension 2: (26002.33511528906, 77999.93927774779)\n",
      "\u001b[36m\u001b[1m[ \u001b[22m\u001b[39m\u001b[36m\u001b[1mInfo: \u001b[22m\u001b[39mscaled correlation length (min,max) in dimension 3: (10.0, 50.0)\n",
      "\u001b[33m\u001b[1m┌ \u001b[22m\u001b[39m\u001b[33m\u001b[1mWarning: \u001b[22m\u001b[39mresolution (7.5) is too coarse for correlation length 10.0 in dimension 3 at indices CartesianIndex(47, 11, 6) (skipping further tests). It is recommended that the resolution is at least 2 times finer than the correlation length.\n",
      "\u001b[33m\u001b[1m└ \u001b[22m\u001b[39m\u001b[90m@ DIVAnd C:\\Users\\a001819\\.julia\\packages\\DIVAnd\\MV3j9\\src\\utils.jl:18\u001b[39m\n",
      "\u001b[36m\u001b[1m[ \u001b[22m\u001b[39m\u001b[36m\u001b[1mInfo: \u001b[22m\u001b[39mnumber of windows: 1\n"
     ]
    },
    {
     "name": "stdout",
     "output_type": "stream",
     "text": [
      "timeindex = 38\n"
     ]
    },
    {
     "name": "stderr",
     "output_type": "stream",
     "text": [
      "\u001b[36m\u001b[1m[ \u001b[22m\u001b[39m\u001b[36m\u001b[1mInfo: \u001b[22m\u001b[39mTime step 39 / 57\n",
      "\u001b[36m\u001b[1m[ \u001b[22m\u001b[39m\u001b[36m\u001b[1mInfo: \u001b[22m\u001b[39manalysis time index 39 uses the backgrond time index 196\n",
      "\u001b[36m\u001b[1m[ \u001b[22m\u001b[39m\u001b[36m\u001b[1mInfo: \u001b[22m\u001b[39mscaled correlation length (min,max) in dimension 1: (26002.33511528906, 77999.93927774779)\n",
      "\u001b[36m\u001b[1m[ \u001b[22m\u001b[39m\u001b[36m\u001b[1mInfo: \u001b[22m\u001b[39mscaled correlation length (min,max) in dimension 2: (26002.33511528906, 77999.93927774779)\n",
      "\u001b[36m\u001b[1m[ \u001b[22m\u001b[39m\u001b[36m\u001b[1mInfo: \u001b[22m\u001b[39mscaled correlation length (min,max) in dimension 3: (10.0, 50.0)\n",
      "\u001b[33m\u001b[1m┌ \u001b[22m\u001b[39m\u001b[33m\u001b[1mWarning: \u001b[22m\u001b[39mresolution (7.5) is too coarse for correlation length 10.0 in dimension 3 at indices CartesianIndex(47, 11, 6) (skipping further tests). It is recommended that the resolution is at least 2 times finer than the correlation length.\n",
      "\u001b[33m\u001b[1m└ \u001b[22m\u001b[39m\u001b[90m@ DIVAnd C:\\Users\\a001819\\.julia\\packages\\DIVAnd\\MV3j9\\src\\utils.jl:18\u001b[39m\n",
      "\u001b[36m\u001b[1m[ \u001b[22m\u001b[39m\u001b[36m\u001b[1mInfo: \u001b[22m\u001b[39mnumber of windows: 1\n"
     ]
    },
    {
     "name": "stdout",
     "output_type": "stream",
     "text": [
      "timeindex = 39\n"
     ]
    },
    {
     "name": "stderr",
     "output_type": "stream",
     "text": [
      "\u001b[36m\u001b[1m[ \u001b[22m\u001b[39m\u001b[36m\u001b[1mInfo: \u001b[22m\u001b[39mTime step 40 / 57\n",
      "\u001b[36m\u001b[1m[ \u001b[22m\u001b[39m\u001b[36m\u001b[1mInfo: \u001b[22m\u001b[39manalysis time index 40 uses the backgrond time index 200\n",
      "\u001b[36m\u001b[1m[ \u001b[22m\u001b[39m\u001b[36m\u001b[1mInfo: \u001b[22m\u001b[39mscaled correlation length (min,max) in dimension 1: (26002.33511528906, 77999.93927774779)\n",
      "\u001b[36m\u001b[1m[ \u001b[22m\u001b[39m\u001b[36m\u001b[1mInfo: \u001b[22m\u001b[39mscaled correlation length (min,max) in dimension 2: (26002.33511528906, 77999.93927774779)\n",
      "\u001b[36m\u001b[1m[ \u001b[22m\u001b[39m\u001b[36m\u001b[1mInfo: \u001b[22m\u001b[39mscaled correlation length (min,max) in dimension 3: (10.0, 50.0)\n",
      "\u001b[33m\u001b[1m┌ \u001b[22m\u001b[39m\u001b[33m\u001b[1mWarning: \u001b[22m\u001b[39mresolution (7.5) is too coarse for correlation length 10.0 in dimension 3 at indices CartesianIndex(47, 11, 6) (skipping further tests). It is recommended that the resolution is at least 2 times finer than the correlation length.\n",
      "\u001b[33m\u001b[1m└ \u001b[22m\u001b[39m\u001b[90m@ DIVAnd C:\\Users\\a001819\\.julia\\packages\\DIVAnd\\MV3j9\\src\\utils.jl:18\u001b[39m\n",
      "\u001b[36m\u001b[1m[ \u001b[22m\u001b[39m\u001b[36m\u001b[1mInfo: \u001b[22m\u001b[39mnumber of windows: 1\n"
     ]
    },
    {
     "name": "stdout",
     "output_type": "stream",
     "text": [
      "timeindex = 40\n"
     ]
    },
    {
     "name": "stderr",
     "output_type": "stream",
     "text": [
      "\u001b[36m\u001b[1m[ \u001b[22m\u001b[39m\u001b[36m\u001b[1mInfo: \u001b[22m\u001b[39mTime step 41 / 57\n",
      "\u001b[36m\u001b[1m[ \u001b[22m\u001b[39m\u001b[36m\u001b[1mInfo: \u001b[22m\u001b[39manalysis time index 41 uses the backgrond time index 204\n",
      "\u001b[36m\u001b[1m[ \u001b[22m\u001b[39m\u001b[36m\u001b[1mInfo: \u001b[22m\u001b[39mscaled correlation length (min,max) in dimension 1: (26002.33511528906, 77999.93927774779)\n",
      "\u001b[36m\u001b[1m[ \u001b[22m\u001b[39m\u001b[36m\u001b[1mInfo: \u001b[22m\u001b[39mscaled correlation length (min,max) in dimension 2: (26002.33511528906, 77999.93927774779)\n",
      "\u001b[36m\u001b[1m[ \u001b[22m\u001b[39m\u001b[36m\u001b[1mInfo: \u001b[22m\u001b[39mscaled correlation length (min,max) in dimension 3: (10.0, 50.0)\n",
      "\u001b[33m\u001b[1m┌ \u001b[22m\u001b[39m\u001b[33m\u001b[1mWarning: \u001b[22m\u001b[39mresolution (7.5) is too coarse for correlation length 10.0 in dimension 3 at indices CartesianIndex(47, 11, 6) (skipping further tests). It is recommended that the resolution is at least 2 times finer than the correlation length.\n",
      "\u001b[33m\u001b[1m└ \u001b[22m\u001b[39m\u001b[90m@ DIVAnd C:\\Users\\a001819\\.julia\\packages\\DIVAnd\\MV3j9\\src\\utils.jl:18\u001b[39m\n",
      "\u001b[36m\u001b[1m[ \u001b[22m\u001b[39m\u001b[36m\u001b[1mInfo: \u001b[22m\u001b[39mnumber of windows: 1\n"
     ]
    },
    {
     "name": "stdout",
     "output_type": "stream",
     "text": [
      "timeindex = 41\n"
     ]
    },
    {
     "name": "stderr",
     "output_type": "stream",
     "text": [
      "\u001b[36m\u001b[1m[ \u001b[22m\u001b[39m\u001b[36m\u001b[1mInfo: \u001b[22m\u001b[39mTime step 42 / 57\n",
      "\u001b[36m\u001b[1m[ \u001b[22m\u001b[39m\u001b[36m\u001b[1mInfo: \u001b[22m\u001b[39manalysis time index 42 uses the backgrond time index 208\n",
      "\u001b[36m\u001b[1m[ \u001b[22m\u001b[39m\u001b[36m\u001b[1mInfo: \u001b[22m\u001b[39mscaled correlation length (min,max) in dimension 1: (26002.33511528906, 77999.93927774779)\n",
      "\u001b[36m\u001b[1m[ \u001b[22m\u001b[39m\u001b[36m\u001b[1mInfo: \u001b[22m\u001b[39mscaled correlation length (min,max) in dimension 2: (26002.33511528906, 77999.93927774779)\n",
      "\u001b[36m\u001b[1m[ \u001b[22m\u001b[39m\u001b[36m\u001b[1mInfo: \u001b[22m\u001b[39mscaled correlation length (min,max) in dimension 3: (10.0, 50.0)\n",
      "\u001b[33m\u001b[1m┌ \u001b[22m\u001b[39m\u001b[33m\u001b[1mWarning: \u001b[22m\u001b[39mresolution (7.5) is too coarse for correlation length 10.0 in dimension 3 at indices CartesianIndex(47, 11, 6) (skipping further tests). It is recommended that the resolution is at least 2 times finer than the correlation length.\n",
      "\u001b[33m\u001b[1m└ \u001b[22m\u001b[39m\u001b[90m@ DIVAnd C:\\Users\\a001819\\.julia\\packages\\DIVAnd\\MV3j9\\src\\utils.jl:18\u001b[39m\n",
      "\u001b[36m\u001b[1m[ \u001b[22m\u001b[39m\u001b[36m\u001b[1mInfo: \u001b[22m\u001b[39mnumber of windows: 1\n"
     ]
    },
    {
     "name": "stdout",
     "output_type": "stream",
     "text": [
      "timeindex = 42\n"
     ]
    },
    {
     "name": "stderr",
     "output_type": "stream",
     "text": [
      "\u001b[36m\u001b[1m[ \u001b[22m\u001b[39m\u001b[36m\u001b[1mInfo: \u001b[22m\u001b[39mTime step 43 / 57\n",
      "\u001b[36m\u001b[1m[ \u001b[22m\u001b[39m\u001b[36m\u001b[1mInfo: \u001b[22m\u001b[39manalysis time index 43 uses the backgrond time index 212\n",
      "\u001b[36m\u001b[1m[ \u001b[22m\u001b[39m\u001b[36m\u001b[1mInfo: \u001b[22m\u001b[39mscaled correlation length (min,max) in dimension 1: (26002.33511528906, 77999.93927774779)\n",
      "\u001b[36m\u001b[1m[ \u001b[22m\u001b[39m\u001b[36m\u001b[1mInfo: \u001b[22m\u001b[39mscaled correlation length (min,max) in dimension 2: (26002.33511528906, 77999.93927774779)\n",
      "\u001b[36m\u001b[1m[ \u001b[22m\u001b[39m\u001b[36m\u001b[1mInfo: \u001b[22m\u001b[39mscaled correlation length (min,max) in dimension 3: (10.0, 50.0)\n",
      "\u001b[33m\u001b[1m┌ \u001b[22m\u001b[39m\u001b[33m\u001b[1mWarning: \u001b[22m\u001b[39mresolution (7.5) is too coarse for correlation length 10.0 in dimension 3 at indices CartesianIndex(47, 11, 6) (skipping further tests). It is recommended that the resolution is at least 2 times finer than the correlation length.\n",
      "\u001b[33m\u001b[1m└ \u001b[22m\u001b[39m\u001b[90m@ DIVAnd C:\\Users\\a001819\\.julia\\packages\\DIVAnd\\MV3j9\\src\\utils.jl:18\u001b[39m\n",
      "\u001b[36m\u001b[1m[ \u001b[22m\u001b[39m\u001b[36m\u001b[1mInfo: \u001b[22m\u001b[39mnumber of windows: 1\n"
     ]
    },
    {
     "name": "stdout",
     "output_type": "stream",
     "text": [
      "timeindex = 43\n"
     ]
    },
    {
     "name": "stderr",
     "output_type": "stream",
     "text": [
      "\u001b[36m\u001b[1m[ \u001b[22m\u001b[39m\u001b[36m\u001b[1mInfo: \u001b[22m\u001b[39mTime step 44 / 57\n",
      "\u001b[36m\u001b[1m[ \u001b[22m\u001b[39m\u001b[36m\u001b[1mInfo: \u001b[22m\u001b[39manalysis time index 44 uses the backgrond time index 216\n",
      "\u001b[36m\u001b[1m[ \u001b[22m\u001b[39m\u001b[36m\u001b[1mInfo: \u001b[22m\u001b[39mscaled correlation length (min,max) in dimension 1: (26002.33511528906, 77999.93927774779)\n",
      "\u001b[36m\u001b[1m[ \u001b[22m\u001b[39m\u001b[36m\u001b[1mInfo: \u001b[22m\u001b[39mscaled correlation length (min,max) in dimension 2: (26002.33511528906, 77999.93927774779)\n",
      "\u001b[36m\u001b[1m[ \u001b[22m\u001b[39m\u001b[36m\u001b[1mInfo: \u001b[22m\u001b[39mscaled correlation length (min,max) in dimension 3: (10.0, 50.0)\n",
      "\u001b[33m\u001b[1m┌ \u001b[22m\u001b[39m\u001b[33m\u001b[1mWarning: \u001b[22m\u001b[39mresolution (7.5) is too coarse for correlation length 10.0 in dimension 3 at indices CartesianIndex(47, 11, 6) (skipping further tests). It is recommended that the resolution is at least 2 times finer than the correlation length.\n",
      "\u001b[33m\u001b[1m└ \u001b[22m\u001b[39m\u001b[90m@ DIVAnd C:\\Users\\a001819\\.julia\\packages\\DIVAnd\\MV3j9\\src\\utils.jl:18\u001b[39m\n",
      "\u001b[36m\u001b[1m[ \u001b[22m\u001b[39m\u001b[36m\u001b[1mInfo: \u001b[22m\u001b[39mnumber of windows: 1\n"
     ]
    },
    {
     "name": "stdout",
     "output_type": "stream",
     "text": [
      "timeindex = 44\n"
     ]
    },
    {
     "name": "stderr",
     "output_type": "stream",
     "text": [
      "\u001b[36m\u001b[1m[ \u001b[22m\u001b[39m\u001b[36m\u001b[1mInfo: \u001b[22m\u001b[39mTime step 45 / 57\n",
      "\u001b[36m\u001b[1m[ \u001b[22m\u001b[39m\u001b[36m\u001b[1mInfo: \u001b[22m\u001b[39manalysis time index 45 uses the backgrond time index 220\n",
      "\u001b[36m\u001b[1m[ \u001b[22m\u001b[39m\u001b[36m\u001b[1mInfo: \u001b[22m\u001b[39mscaled correlation length (min,max) in dimension 1: (26002.33511528906, 77999.93927774779)\n",
      "\u001b[36m\u001b[1m[ \u001b[22m\u001b[39m\u001b[36m\u001b[1mInfo: \u001b[22m\u001b[39mscaled correlation length (min,max) in dimension 2: (26002.33511528906, 77999.93927774779)\n",
      "\u001b[36m\u001b[1m[ \u001b[22m\u001b[39m\u001b[36m\u001b[1mInfo: \u001b[22m\u001b[39mscaled correlation length (min,max) in dimension 3: (10.0, 50.0)\n",
      "\u001b[33m\u001b[1m┌ \u001b[22m\u001b[39m\u001b[33m\u001b[1mWarning: \u001b[22m\u001b[39mresolution (7.5) is too coarse for correlation length 10.0 in dimension 3 at indices CartesianIndex(47, 11, 6) (skipping further tests). It is recommended that the resolution is at least 2 times finer than the correlation length.\n",
      "\u001b[33m\u001b[1m└ \u001b[22m\u001b[39m\u001b[90m@ DIVAnd C:\\Users\\a001819\\.julia\\packages\\DIVAnd\\MV3j9\\src\\utils.jl:18\u001b[39m\n",
      "\u001b[36m\u001b[1m[ \u001b[22m\u001b[39m\u001b[36m\u001b[1mInfo: \u001b[22m\u001b[39mnumber of windows: 1\n"
     ]
    },
    {
     "name": "stdout",
     "output_type": "stream",
     "text": [
      "timeindex = 45\n"
     ]
    },
    {
     "name": "stderr",
     "output_type": "stream",
     "text": [
      "\u001b[36m\u001b[1m[ \u001b[22m\u001b[39m\u001b[36m\u001b[1mInfo: \u001b[22m\u001b[39mTime step 46 / 57\n",
      "\u001b[36m\u001b[1m[ \u001b[22m\u001b[39m\u001b[36m\u001b[1mInfo: \u001b[22m\u001b[39manalysis time index 46 uses the backgrond time index 224\n",
      "\u001b[36m\u001b[1m[ \u001b[22m\u001b[39m\u001b[36m\u001b[1mInfo: \u001b[22m\u001b[39mscaled correlation length (min,max) in dimension 1: (26002.33511528906, 77999.93927774779)\n",
      "\u001b[36m\u001b[1m[ \u001b[22m\u001b[39m\u001b[36m\u001b[1mInfo: \u001b[22m\u001b[39mscaled correlation length (min,max) in dimension 2: (26002.33511528906, 77999.93927774779)\n",
      "\u001b[36m\u001b[1m[ \u001b[22m\u001b[39m\u001b[36m\u001b[1mInfo: \u001b[22m\u001b[39mscaled correlation length (min,max) in dimension 3: (10.0, 50.0)\n",
      "\u001b[33m\u001b[1m┌ \u001b[22m\u001b[39m\u001b[33m\u001b[1mWarning: \u001b[22m\u001b[39mresolution (7.5) is too coarse for correlation length 10.0 in dimension 3 at indices CartesianIndex(47, 11, 6) (skipping further tests). It is recommended that the resolution is at least 2 times finer than the correlation length.\n",
      "\u001b[33m\u001b[1m└ \u001b[22m\u001b[39m\u001b[90m@ DIVAnd C:\\Users\\a001819\\.julia\\packages\\DIVAnd\\MV3j9\\src\\utils.jl:18\u001b[39m\n",
      "\u001b[36m\u001b[1m[ \u001b[22m\u001b[39m\u001b[36m\u001b[1mInfo: \u001b[22m\u001b[39mnumber of windows: 1\n"
     ]
    },
    {
     "name": "stdout",
     "output_type": "stream",
     "text": [
      "timeindex = 46\n"
     ]
    },
    {
     "name": "stderr",
     "output_type": "stream",
     "text": [
      "\u001b[36m\u001b[1m[ \u001b[22m\u001b[39m\u001b[36m\u001b[1mInfo: \u001b[22m\u001b[39mTime step 47 / 57\n",
      "\u001b[36m\u001b[1m[ \u001b[22m\u001b[39m\u001b[36m\u001b[1mInfo: \u001b[22m\u001b[39manalysis time index 47 uses the backgrond time index 228\n",
      "\u001b[36m\u001b[1m[ \u001b[22m\u001b[39m\u001b[36m\u001b[1mInfo: \u001b[22m\u001b[39mscaled correlation length (min,max) in dimension 1: (26002.33511528906, 77999.93927774779)\n",
      "\u001b[36m\u001b[1m[ \u001b[22m\u001b[39m\u001b[36m\u001b[1mInfo: \u001b[22m\u001b[39mscaled correlation length (min,max) in dimension 2: (26002.33511528906, 77999.93927774779)\n",
      "\u001b[36m\u001b[1m[ \u001b[22m\u001b[39m\u001b[36m\u001b[1mInfo: \u001b[22m\u001b[39mscaled correlation length (min,max) in dimension 3: (10.0, 50.0)\n",
      "\u001b[33m\u001b[1m┌ \u001b[22m\u001b[39m\u001b[33m\u001b[1mWarning: \u001b[22m\u001b[39mresolution (7.5) is too coarse for correlation length 10.0 in dimension 3 at indices CartesianIndex(47, 11, 6) (skipping further tests). It is recommended that the resolution is at least 2 times finer than the correlation length.\n",
      "\u001b[33m\u001b[1m└ \u001b[22m\u001b[39m\u001b[90m@ DIVAnd C:\\Users\\a001819\\.julia\\packages\\DIVAnd\\MV3j9\\src\\utils.jl:18\u001b[39m\n",
      "\u001b[36m\u001b[1m[ \u001b[22m\u001b[39m\u001b[36m\u001b[1mInfo: \u001b[22m\u001b[39mnumber of windows: 1\n"
     ]
    },
    {
     "name": "stdout",
     "output_type": "stream",
     "text": [
      "timeindex = 47\n"
     ]
    },
    {
     "name": "stderr",
     "output_type": "stream",
     "text": [
      "\u001b[36m\u001b[1m[ \u001b[22m\u001b[39m\u001b[36m\u001b[1mInfo: \u001b[22m\u001b[39mTime step 48 / 57\n",
      "\u001b[36m\u001b[1m[ \u001b[22m\u001b[39m\u001b[36m\u001b[1mInfo: \u001b[22m\u001b[39manalysis time index 48 uses the backgrond time index 232\n",
      "\u001b[36m\u001b[1m[ \u001b[22m\u001b[39m\u001b[36m\u001b[1mInfo: \u001b[22m\u001b[39mscaled correlation length (min,max) in dimension 1: (26002.33511528906, 77999.93927774779)\n",
      "\u001b[36m\u001b[1m[ \u001b[22m\u001b[39m\u001b[36m\u001b[1mInfo: \u001b[22m\u001b[39mscaled correlation length (min,max) in dimension 2: (26002.33511528906, 77999.93927774779)\n",
      "\u001b[36m\u001b[1m[ \u001b[22m\u001b[39m\u001b[36m\u001b[1mInfo: \u001b[22m\u001b[39mscaled correlation length (min,max) in dimension 3: (10.0, 50.0)\n",
      "\u001b[33m\u001b[1m┌ \u001b[22m\u001b[39m\u001b[33m\u001b[1mWarning: \u001b[22m\u001b[39mresolution (7.5) is too coarse for correlation length 10.0 in dimension 3 at indices CartesianIndex(47, 11, 6) (skipping further tests). It is recommended that the resolution is at least 2 times finer than the correlation length.\n",
      "\u001b[33m\u001b[1m└ \u001b[22m\u001b[39m\u001b[90m@ DIVAnd C:\\Users\\a001819\\.julia\\packages\\DIVAnd\\MV3j9\\src\\utils.jl:18\u001b[39m\n",
      "\u001b[36m\u001b[1m[ \u001b[22m\u001b[39m\u001b[36m\u001b[1mInfo: \u001b[22m\u001b[39mnumber of windows: 1\n"
     ]
    },
    {
     "name": "stdout",
     "output_type": "stream",
     "text": [
      "timeindex = 48\n"
     ]
    },
    {
     "name": "stderr",
     "output_type": "stream",
     "text": [
      "\u001b[36m\u001b[1m[ \u001b[22m\u001b[39m\u001b[36m\u001b[1mInfo: \u001b[22m\u001b[39mTime step 49 / 57\n",
      "\u001b[36m\u001b[1m[ \u001b[22m\u001b[39m\u001b[36m\u001b[1mInfo: \u001b[22m\u001b[39manalysis time index 49 uses the backgrond time index 236\n",
      "\u001b[36m\u001b[1m[ \u001b[22m\u001b[39m\u001b[36m\u001b[1mInfo: \u001b[22m\u001b[39mscaled correlation length (min,max) in dimension 1: (26002.33511528906, 77999.93927774779)\n",
      "\u001b[36m\u001b[1m[ \u001b[22m\u001b[39m\u001b[36m\u001b[1mInfo: \u001b[22m\u001b[39mscaled correlation length (min,max) in dimension 2: (26002.33511528906, 77999.93927774779)\n",
      "\u001b[36m\u001b[1m[ \u001b[22m\u001b[39m\u001b[36m\u001b[1mInfo: \u001b[22m\u001b[39mscaled correlation length (min,max) in dimension 3: (10.0, 50.0)\n",
      "\u001b[33m\u001b[1m┌ \u001b[22m\u001b[39m\u001b[33m\u001b[1mWarning: \u001b[22m\u001b[39mresolution (7.5) is too coarse for correlation length 10.0 in dimension 3 at indices CartesianIndex(47, 11, 6) (skipping further tests). It is recommended that the resolution is at least 2 times finer than the correlation length.\n",
      "\u001b[33m\u001b[1m└ \u001b[22m\u001b[39m\u001b[90m@ DIVAnd C:\\Users\\a001819\\.julia\\packages\\DIVAnd\\MV3j9\\src\\utils.jl:18\u001b[39m\n",
      "\u001b[36m\u001b[1m[ \u001b[22m\u001b[39m\u001b[36m\u001b[1mInfo: \u001b[22m\u001b[39mnumber of windows: 1\n"
     ]
    },
    {
     "name": "stdout",
     "output_type": "stream",
     "text": [
      "timeindex = 49\n"
     ]
    },
    {
     "name": "stderr",
     "output_type": "stream",
     "text": [
      "\u001b[36m\u001b[1m[ \u001b[22m\u001b[39m\u001b[36m\u001b[1mInfo: \u001b[22m\u001b[39mTime step 50 / 57\n",
      "\u001b[36m\u001b[1m[ \u001b[22m\u001b[39m\u001b[36m\u001b[1mInfo: \u001b[22m\u001b[39manalysis time index 50 uses the backgrond time index 240\n",
      "\u001b[36m\u001b[1m[ \u001b[22m\u001b[39m\u001b[36m\u001b[1mInfo: \u001b[22m\u001b[39mscaled correlation length (min,max) in dimension 1: (26002.33511528906, 77999.93927774779)\n",
      "\u001b[36m\u001b[1m[ \u001b[22m\u001b[39m\u001b[36m\u001b[1mInfo: \u001b[22m\u001b[39mscaled correlation length (min,max) in dimension 2: (26002.33511528906, 77999.93927774779)\n",
      "\u001b[36m\u001b[1m[ \u001b[22m\u001b[39m\u001b[36m\u001b[1mInfo: \u001b[22m\u001b[39mscaled correlation length (min,max) in dimension 3: (10.0, 50.0)\n",
      "\u001b[33m\u001b[1m┌ \u001b[22m\u001b[39m\u001b[33m\u001b[1mWarning: \u001b[22m\u001b[39mresolution (7.5) is too coarse for correlation length 10.0 in dimension 3 at indices CartesianIndex(47, 11, 6) (skipping further tests). It is recommended that the resolution is at least 2 times finer than the correlation length.\n",
      "\u001b[33m\u001b[1m└ \u001b[22m\u001b[39m\u001b[90m@ DIVAnd C:\\Users\\a001819\\.julia\\packages\\DIVAnd\\MV3j9\\src\\utils.jl:18\u001b[39m\n",
      "\u001b[36m\u001b[1m[ \u001b[22m\u001b[39m\u001b[36m\u001b[1mInfo: \u001b[22m\u001b[39mnumber of windows: 1\n"
     ]
    },
    {
     "name": "stdout",
     "output_type": "stream",
     "text": [
      "timeindex = 50\n"
     ]
    },
    {
     "name": "stderr",
     "output_type": "stream",
     "text": [
      "\u001b[36m\u001b[1m[ \u001b[22m\u001b[39m\u001b[36m\u001b[1mInfo: \u001b[22m\u001b[39mTime step 51 / 57\n",
      "\u001b[36m\u001b[1m[ \u001b[22m\u001b[39m\u001b[36m\u001b[1mInfo: \u001b[22m\u001b[39manalysis time index 51 uses the backgrond time index 244\n",
      "\u001b[36m\u001b[1m[ \u001b[22m\u001b[39m\u001b[36m\u001b[1mInfo: \u001b[22m\u001b[39mscaled correlation length (min,max) in dimension 1: (26002.33511528906, 77999.93927774779)\n",
      "\u001b[36m\u001b[1m[ \u001b[22m\u001b[39m\u001b[36m\u001b[1mInfo: \u001b[22m\u001b[39mscaled correlation length (min,max) in dimension 2: (26002.33511528906, 77999.93927774779)\n",
      "\u001b[36m\u001b[1m[ \u001b[22m\u001b[39m\u001b[36m\u001b[1mInfo: \u001b[22m\u001b[39mscaled correlation length (min,max) in dimension 3: (10.0, 50.0)\n",
      "\u001b[33m\u001b[1m┌ \u001b[22m\u001b[39m\u001b[33m\u001b[1mWarning: \u001b[22m\u001b[39mresolution (7.5) is too coarse for correlation length 10.0 in dimension 3 at indices CartesianIndex(47, 11, 6) (skipping further tests). It is recommended that the resolution is at least 2 times finer than the correlation length.\n",
      "\u001b[33m\u001b[1m└ \u001b[22m\u001b[39m\u001b[90m@ DIVAnd C:\\Users\\a001819\\.julia\\packages\\DIVAnd\\MV3j9\\src\\utils.jl:18\u001b[39m\n",
      "\u001b[36m\u001b[1m[ \u001b[22m\u001b[39m\u001b[36m\u001b[1mInfo: \u001b[22m\u001b[39mnumber of windows: 1\n"
     ]
    },
    {
     "name": "stdout",
     "output_type": "stream",
     "text": [
      "timeindex = 51\n"
     ]
    },
    {
     "name": "stderr",
     "output_type": "stream",
     "text": [
      "\u001b[36m\u001b[1m[ \u001b[22m\u001b[39m\u001b[36m\u001b[1mInfo: \u001b[22m\u001b[39mTime step 52 / 57\n",
      "\u001b[36m\u001b[1m[ \u001b[22m\u001b[39m\u001b[36m\u001b[1mInfo: \u001b[22m\u001b[39manalysis time index 52 uses the backgrond time index 248\n",
      "\u001b[36m\u001b[1m[ \u001b[22m\u001b[39m\u001b[36m\u001b[1mInfo: \u001b[22m\u001b[39mscaled correlation length (min,max) in dimension 1: (26002.33511528906, 77999.93927774779)\n",
      "\u001b[36m\u001b[1m[ \u001b[22m\u001b[39m\u001b[36m\u001b[1mInfo: \u001b[22m\u001b[39mscaled correlation length (min,max) in dimension 2: (26002.33511528906, 77999.93927774779)\n",
      "\u001b[36m\u001b[1m[ \u001b[22m\u001b[39m\u001b[36m\u001b[1mInfo: \u001b[22m\u001b[39mscaled correlation length (min,max) in dimension 3: (10.0, 50.0)\n",
      "\u001b[33m\u001b[1m┌ \u001b[22m\u001b[39m\u001b[33m\u001b[1mWarning: \u001b[22m\u001b[39mresolution (7.5) is too coarse for correlation length 10.0 in dimension 3 at indices CartesianIndex(47, 11, 6) (skipping further tests). It is recommended that the resolution is at least 2 times finer than the correlation length.\n",
      "\u001b[33m\u001b[1m└ \u001b[22m\u001b[39m\u001b[90m@ DIVAnd C:\\Users\\a001819\\.julia\\packages\\DIVAnd\\MV3j9\\src\\utils.jl:18\u001b[39m\n",
      "\u001b[36m\u001b[1m[ \u001b[22m\u001b[39m\u001b[36m\u001b[1mInfo: \u001b[22m\u001b[39mnumber of windows: 1\n"
     ]
    },
    {
     "name": "stdout",
     "output_type": "stream",
     "text": [
      "timeindex = 52\n"
     ]
    },
    {
     "name": "stderr",
     "output_type": "stream",
     "text": [
      "\u001b[36m\u001b[1m[ \u001b[22m\u001b[39m\u001b[36m\u001b[1mInfo: \u001b[22m\u001b[39mTime step 53 / 57\n",
      "\u001b[36m\u001b[1m[ \u001b[22m\u001b[39m\u001b[36m\u001b[1mInfo: \u001b[22m\u001b[39manalysis time index 53 uses the backgrond time index 252\n",
      "\u001b[36m\u001b[1m[ \u001b[22m\u001b[39m\u001b[36m\u001b[1mInfo: \u001b[22m\u001b[39mscaled correlation length (min,max) in dimension 1: (26002.33511528906, 77999.93927774779)\n",
      "\u001b[36m\u001b[1m[ \u001b[22m\u001b[39m\u001b[36m\u001b[1mInfo: \u001b[22m\u001b[39mscaled correlation length (min,max) in dimension 2: (26002.33511528906, 77999.93927774779)\n",
      "\u001b[36m\u001b[1m[ \u001b[22m\u001b[39m\u001b[36m\u001b[1mInfo: \u001b[22m\u001b[39mscaled correlation length (min,max) in dimension 3: (10.0, 50.0)\n",
      "\u001b[33m\u001b[1m┌ \u001b[22m\u001b[39m\u001b[33m\u001b[1mWarning: \u001b[22m\u001b[39mresolution (7.5) is too coarse for correlation length 10.0 in dimension 3 at indices CartesianIndex(47, 11, 6) (skipping further tests). It is recommended that the resolution is at least 2 times finer than the correlation length.\n",
      "\u001b[33m\u001b[1m└ \u001b[22m\u001b[39m\u001b[90m@ DIVAnd C:\\Users\\a001819\\.julia\\packages\\DIVAnd\\MV3j9\\src\\utils.jl:18\u001b[39m\n",
      "\u001b[36m\u001b[1m[ \u001b[22m\u001b[39m\u001b[36m\u001b[1mInfo: \u001b[22m\u001b[39mnumber of windows: 1\n"
     ]
    },
    {
     "name": "stdout",
     "output_type": "stream",
     "text": [
      "timeindex = 53\n"
     ]
    },
    {
     "name": "stderr",
     "output_type": "stream",
     "text": [
      "\u001b[36m\u001b[1m[ \u001b[22m\u001b[39m\u001b[36m\u001b[1mInfo: \u001b[22m\u001b[39mTime step 54 / 57\n",
      "\u001b[36m\u001b[1m[ \u001b[22m\u001b[39m\u001b[36m\u001b[1mInfo: \u001b[22m\u001b[39manalysis time index 54 uses the backgrond time index 256\n",
      "\u001b[36m\u001b[1m[ \u001b[22m\u001b[39m\u001b[36m\u001b[1mInfo: \u001b[22m\u001b[39mscaled correlation length (min,max) in dimension 1: (26002.33511528906, 77999.93927774779)\n",
      "\u001b[36m\u001b[1m[ \u001b[22m\u001b[39m\u001b[36m\u001b[1mInfo: \u001b[22m\u001b[39mscaled correlation length (min,max) in dimension 2: (26002.33511528906, 77999.93927774779)\n",
      "\u001b[36m\u001b[1m[ \u001b[22m\u001b[39m\u001b[36m\u001b[1mInfo: \u001b[22m\u001b[39mscaled correlation length (min,max) in dimension 3: (10.0, 50.0)\n",
      "\u001b[33m\u001b[1m┌ \u001b[22m\u001b[39m\u001b[33m\u001b[1mWarning: \u001b[22m\u001b[39mresolution (7.5) is too coarse for correlation length 10.0 in dimension 3 at indices CartesianIndex(47, 11, 6) (skipping further tests). It is recommended that the resolution is at least 2 times finer than the correlation length.\n",
      "\u001b[33m\u001b[1m└ \u001b[22m\u001b[39m\u001b[90m@ DIVAnd C:\\Users\\a001819\\.julia\\packages\\DIVAnd\\MV3j9\\src\\utils.jl:18\u001b[39m\n",
      "\u001b[36m\u001b[1m[ \u001b[22m\u001b[39m\u001b[36m\u001b[1mInfo: \u001b[22m\u001b[39mnumber of windows: 1\n"
     ]
    },
    {
     "name": "stdout",
     "output_type": "stream",
     "text": [
      "timeindex = 54\n"
     ]
    },
    {
     "name": "stderr",
     "output_type": "stream",
     "text": [
      "\u001b[36m\u001b[1m[ \u001b[22m\u001b[39m\u001b[36m\u001b[1mInfo: \u001b[22m\u001b[39mTime step 55 / 57\n",
      "\u001b[36m\u001b[1m[ \u001b[22m\u001b[39m\u001b[36m\u001b[1mInfo: \u001b[22m\u001b[39manalysis time index 55 uses the backgrond time index 260\n",
      "\u001b[36m\u001b[1m[ \u001b[22m\u001b[39m\u001b[36m\u001b[1mInfo: \u001b[22m\u001b[39mscaled correlation length (min,max) in dimension 1: (26002.33511528906, 77999.93927774779)\n",
      "\u001b[36m\u001b[1m[ \u001b[22m\u001b[39m\u001b[36m\u001b[1mInfo: \u001b[22m\u001b[39mscaled correlation length (min,max) in dimension 2: (26002.33511528906, 77999.93927774779)\n",
      "\u001b[36m\u001b[1m[ \u001b[22m\u001b[39m\u001b[36m\u001b[1mInfo: \u001b[22m\u001b[39mscaled correlation length (min,max) in dimension 3: (10.0, 50.0)\n",
      "\u001b[33m\u001b[1m┌ \u001b[22m\u001b[39m\u001b[33m\u001b[1mWarning: \u001b[22m\u001b[39mresolution (7.5) is too coarse for correlation length 10.0 in dimension 3 at indices CartesianIndex(47, 11, 6) (skipping further tests). It is recommended that the resolution is at least 2 times finer than the correlation length.\n",
      "\u001b[33m\u001b[1m└ \u001b[22m\u001b[39m\u001b[90m@ DIVAnd C:\\Users\\a001819\\.julia\\packages\\DIVAnd\\MV3j9\\src\\utils.jl:18\u001b[39m\n",
      "\u001b[36m\u001b[1m[ \u001b[22m\u001b[39m\u001b[36m\u001b[1mInfo: \u001b[22m\u001b[39mnumber of windows: 1\n"
     ]
    },
    {
     "name": "stdout",
     "output_type": "stream",
     "text": [
      "timeindex = 55\n"
     ]
    },
    {
     "name": "stderr",
     "output_type": "stream",
     "text": [
      "\u001b[36m\u001b[1m[ \u001b[22m\u001b[39m\u001b[36m\u001b[1mInfo: \u001b[22m\u001b[39mTime step 56 / 57\n",
      "\u001b[36m\u001b[1m[ \u001b[22m\u001b[39m\u001b[36m\u001b[1mInfo: \u001b[22m\u001b[39manalysis time index 56 uses the backgrond time index 264\n",
      "\u001b[36m\u001b[1m[ \u001b[22m\u001b[39m\u001b[36m\u001b[1mInfo: \u001b[22m\u001b[39mscaled correlation length (min,max) in dimension 1: (26002.33511528906, 77999.93927774779)\n",
      "\u001b[36m\u001b[1m[ \u001b[22m\u001b[39m\u001b[36m\u001b[1mInfo: \u001b[22m\u001b[39mscaled correlation length (min,max) in dimension 2: (26002.33511528906, 77999.93927774779)\n",
      "\u001b[36m\u001b[1m[ \u001b[22m\u001b[39m\u001b[36m\u001b[1mInfo: \u001b[22m\u001b[39mscaled correlation length (min,max) in dimension 3: (10.0, 50.0)\n",
      "\u001b[33m\u001b[1m┌ \u001b[22m\u001b[39m\u001b[33m\u001b[1mWarning: \u001b[22m\u001b[39mresolution (7.5) is too coarse for correlation length 10.0 in dimension 3 at indices CartesianIndex(47, 11, 6) (skipping further tests). It is recommended that the resolution is at least 2 times finer than the correlation length.\n",
      "\u001b[33m\u001b[1m└ \u001b[22m\u001b[39m\u001b[90m@ DIVAnd C:\\Users\\a001819\\.julia\\packages\\DIVAnd\\MV3j9\\src\\utils.jl:18\u001b[39m\n",
      "\u001b[36m\u001b[1m[ \u001b[22m\u001b[39m\u001b[36m\u001b[1mInfo: \u001b[22m\u001b[39mnumber of windows: 1\n"
     ]
    },
    {
     "name": "stdout",
     "output_type": "stream",
     "text": [
      "timeindex = 56\n"
     ]
    },
    {
     "name": "stderr",
     "output_type": "stream",
     "text": [
      "\u001b[36m\u001b[1m[ \u001b[22m\u001b[39m\u001b[36m\u001b[1mInfo: \u001b[22m\u001b[39mTime step 57 / 57\n",
      "\u001b[36m\u001b[1m[ \u001b[22m\u001b[39m\u001b[36m\u001b[1mInfo: \u001b[22m\u001b[39manalysis time index 57 uses the backgrond time index 268\n",
      "\u001b[36m\u001b[1m[ \u001b[22m\u001b[39m\u001b[36m\u001b[1mInfo: \u001b[22m\u001b[39mscaled correlation length (min,max) in dimension 1: (26002.33511528906, 77999.93927774779)\n",
      "\u001b[36m\u001b[1m[ \u001b[22m\u001b[39m\u001b[36m\u001b[1mInfo: \u001b[22m\u001b[39mscaled correlation length (min,max) in dimension 2: (26002.33511528906, 77999.93927774779)\n",
      "\u001b[36m\u001b[1m[ \u001b[22m\u001b[39m\u001b[36m\u001b[1mInfo: \u001b[22m\u001b[39mscaled correlation length (min,max) in dimension 3: (10.0, 50.0)\n",
      "\u001b[33m\u001b[1m┌ \u001b[22m\u001b[39m\u001b[33m\u001b[1mWarning: \u001b[22m\u001b[39mresolution (7.5) is too coarse for correlation length 10.0 in dimension 3 at indices CartesianIndex(47, 11, 6) (skipping further tests). It is recommended that the resolution is at least 2 times finer than the correlation length.\n",
      "\u001b[33m\u001b[1m└ \u001b[22m\u001b[39m\u001b[90m@ DIVAnd C:\\Users\\a001819\\.julia\\packages\\DIVAnd\\MV3j9\\src\\utils.jl:18\u001b[39m\n",
      "\u001b[36m\u001b[1m[ \u001b[22m\u001b[39m\u001b[36m\u001b[1mInfo: \u001b[22m\u001b[39mnumber of windows: 1\n"
     ]
    },
    {
     "name": "stdout",
     "output_type": "stream",
     "text": [
      "timeindex = 57\n",
      "3241.293703 seconds (1.44 G allocations: 664.944 GiB, 3.08% gc time)\n"
     ]
    },
    {
     "name": "stderr",
     "output_type": "stream",
     "text": [
      "\u001b[36m\u001b[1m[ \u001b[22m\u001b[39m\u001b[36m\u001b[1mInfo: \u001b[22m\u001b[39mCreating new variable Water body dissolved oxygen concentration_deepest\n",
      "\u001b[36m\u001b[1m[ \u001b[22m\u001b[39m\u001b[36m\u001b[1mInfo: \u001b[22m\u001b[39mWorking on 21 depth layers\n",
      "\u001b[36m\u001b[1m[ \u001b[22m\u001b[39m\u001b[36m\u001b[1mInfo: \u001b[22m\u001b[39msize = (217, 131, 21)\n",
      "\u001b[36m\u001b[1m[ \u001b[22m\u001b[39m\u001b[36m\u001b[1mInfo: \u001b[22m\u001b[39mCreating new variable Water body dissolved oxygen concentration_deepest_depth\n",
      "\u001b[36m\u001b[1m[ \u001b[22m\u001b[39m\u001b[36m\u001b[1mInfo: \u001b[22m\u001b[39mDepth index: 1\n",
      "\u001b[36m\u001b[1m[ \u001b[22m\u001b[39m\u001b[36m\u001b[1mInfo: \u001b[22m\u001b[39mFound 6696 non missing values for depth 0.0\n",
      "\u001b[36m\u001b[1m[ \u001b[22m\u001b[39m\u001b[36m\u001b[1mInfo: \u001b[22m\u001b[39mDepth index: 2\n",
      "\u001b[36m\u001b[1m[ \u001b[22m\u001b[39m\u001b[36m\u001b[1mInfo: \u001b[22m\u001b[39mFound 6284 non missing values for depth 5.0\n",
      "\u001b[36m\u001b[1m[ \u001b[22m\u001b[39m\u001b[36m\u001b[1mInfo: \u001b[22m\u001b[39mDepth index: 3\n",
      "\u001b[36m\u001b[1m[ \u001b[22m\u001b[39m\u001b[36m\u001b[1mInfo: \u001b[22m\u001b[39mFound 5764 non missing values for depth 10.0\n",
      "\u001b[36m\u001b[1m[ \u001b[22m\u001b[39m\u001b[36m\u001b[1mInfo: \u001b[22m\u001b[39mDepth index: 4\n",
      "\u001b[36m\u001b[1m[ \u001b[22m\u001b[39m\u001b[36m\u001b[1mInfo: \u001b[22m\u001b[39mFound 5273 non missing values for depth 15.0\n",
      "\u001b[36m\u001b[1m[ \u001b[22m\u001b[39m\u001b[36m\u001b[1mInfo: \u001b[22m\u001b[39mDepth index: 5\n",
      "\u001b[36m\u001b[1m[ \u001b[22m\u001b[39m\u001b[36m\u001b[1mInfo: \u001b[22m\u001b[39mFound 4762 non missing values for depth 20.0\n",
      "\u001b[36m\u001b[1m[ \u001b[22m\u001b[39m\u001b[36m\u001b[1mInfo: \u001b[22m\u001b[39mDepth index: 6\n",
      "\u001b[36m\u001b[1m[ \u001b[22m\u001b[39m\u001b[36m\u001b[1mInfo: \u001b[22m\u001b[39mFound 4004 non missing values for depth 30.0\n",
      "\u001b[36m\u001b[1m[ \u001b[22m\u001b[39m\u001b[36m\u001b[1mInfo: \u001b[22m\u001b[39mDepth index: 7\n",
      "\u001b[36m\u001b[1m[ \u001b[22m\u001b[39m\u001b[36m\u001b[1mInfo: \u001b[22m\u001b[39mFound 3379 non missing values for depth 40.0\n",
      "\u001b[36m\u001b[1m[ \u001b[22m\u001b[39m\u001b[36m\u001b[1mInfo: \u001b[22m\u001b[39mDepth index: 8\n",
      "\u001b[36m\u001b[1m[ \u001b[22m\u001b[39m\u001b[36m\u001b[1mInfo: \u001b[22m\u001b[39mFound 2833 non missing values for depth 50.0\n",
      "\u001b[36m\u001b[1m[ \u001b[22m\u001b[39m\u001b[36m\u001b[1mInfo: \u001b[22m\u001b[39mDepth index: 9\n",
      "\u001b[36m\u001b[1m[ \u001b[22m\u001b[39m\u001b[36m\u001b[1mInfo: \u001b[22m\u001b[39mFound 2393 non missing values for depth 60.0\n",
      "\u001b[36m\u001b[1m[ \u001b[22m\u001b[39m\u001b[36m\u001b[1mInfo: \u001b[22m\u001b[39mDepth index: 10\n",
      "\u001b[36m\u001b[1m[ \u001b[22m\u001b[39m\u001b[36m\u001b[1mInfo: \u001b[22m\u001b[39mFound 2012 non missing values for depth 70.0\n",
      "\u001b[36m\u001b[1m[ \u001b[22m\u001b[39m\u001b[36m\u001b[1mInfo: \u001b[22m\u001b[39mDepth index: 11\n",
      "\u001b[36m\u001b[1m[ \u001b[22m\u001b[39m\u001b[36m\u001b[1mInfo: \u001b[22m\u001b[39mFound 1620 non missing values for depth 80.0\n",
      "\u001b[36m\u001b[1m[ \u001b[22m\u001b[39m\u001b[36m\u001b[1mInfo: \u001b[22m\u001b[39mDepth index: 12\n",
      "\u001b[36m\u001b[1m[ \u001b[22m\u001b[39m\u001b[36m\u001b[1mInfo: \u001b[22m\u001b[39mFound 1216 non missing values for depth 90.0\n",
      "\u001b[36m\u001b[1m[ \u001b[22m\u001b[39m\u001b[36m\u001b[1mInfo: \u001b[22m\u001b[39mDepth index: 13\n",
      "\u001b[36m\u001b[1m[ \u001b[22m\u001b[39m\u001b[36m\u001b[1mInfo: \u001b[22m\u001b[39mFound 897 non missing values for depth 100.0\n",
      "\u001b[36m\u001b[1m[ \u001b[22m\u001b[39m\u001b[36m\u001b[1mInfo: \u001b[22m\u001b[39mDepth index: 14\n",
      "\u001b[36m\u001b[1m[ \u001b[22m\u001b[39m\u001b[36m\u001b[1mInfo: \u001b[22m\u001b[39mFound 481 non missing values for depth 125.0\n",
      "\u001b[36m\u001b[1m[ \u001b[22m\u001b[39m\u001b[36m\u001b[1mInfo: \u001b[22m\u001b[39mDepth index: 15\n",
      "\u001b[36m\u001b[1m[ \u001b[22m\u001b[39m\u001b[36m\u001b[1mInfo: \u001b[22m\u001b[39mFound 268 non missing values for depth 150.0\n",
      "\u001b[36m\u001b[1m[ \u001b[22m\u001b[39m\u001b[36m\u001b[1mInfo: \u001b[22m\u001b[39mDepth index: 16\n",
      "\u001b[36m\u001b[1m[ \u001b[22m\u001b[39m\u001b[36m\u001b[1mInfo: \u001b[22m\u001b[39mFound 160 non missing values for depth 175.0\n",
      "\u001b[36m\u001b[1m[ \u001b[22m\u001b[39m\u001b[36m\u001b[1mInfo: \u001b[22m\u001b[39mDepth index: 17\n",
      "\u001b[36m\u001b[1m[ \u001b[22m\u001b[39m\u001b[36m\u001b[1mInfo: \u001b[22m\u001b[39mFound 114 non missing values for depth 200.0\n",
      "\u001b[36m\u001b[1m[ \u001b[22m\u001b[39m\u001b[36m\u001b[1mInfo: \u001b[22m\u001b[39mDepth index: 18\n",
      "\u001b[36m\u001b[1m[ \u001b[22m\u001b[39m\u001b[36m\u001b[1mInfo: \u001b[22m\u001b[39mFound 90 non missing values for depth 225.0\n",
      "\u001b[36m\u001b[1m[ \u001b[22m\u001b[39m\u001b[36m\u001b[1mInfo: \u001b[22m\u001b[39mDepth index: 19\n",
      "\u001b[36m\u001b[1m[ \u001b[22m\u001b[39m\u001b[36m\u001b[1mInfo: \u001b[22m\u001b[39mFound 75 non missing values for depth 250.0\n",
      "\u001b[36m\u001b[1m[ \u001b[22m\u001b[39m\u001b[36m\u001b[1mInfo: \u001b[22m\u001b[39mDepth index: 20\n",
      "\u001b[36m\u001b[1m[ \u001b[22m\u001b[39m\u001b[36m\u001b[1mInfo: \u001b[22m\u001b[39mFound 70 non missing values for depth 275.0\n",
      "\u001b[36m\u001b[1m[ \u001b[22m\u001b[39m\u001b[36m\u001b[1mInfo: \u001b[22m\u001b[39mDepth index: 21\n",
      "\u001b[36m\u001b[1m[ \u001b[22m\u001b[39m\u001b[36m\u001b[1mInfo: \u001b[22m\u001b[39mFound 67 non missing values for depth 300.0\n",
      "\u001b[36m\u001b[1m[ \u001b[22m\u001b[39m\u001b[36m\u001b[1mInfo: \u001b[22m\u001b[39mWritten new variable deepest depth\n",
      "\u001b[36m\u001b[1m[ \u001b[22m\u001b[39m\u001b[36m\u001b[1mInfo: \u001b[22m\u001b[39mkeeping: 23158\n",
      "\u001b[36m\u001b[1m[ \u001b[22m\u001b[39m\u001b[36m\u001b[1mInfo: \u001b[22m\u001b[39mSlicing lon[(1:216,)]\n",
      "\u001b[36m\u001b[1m[ \u001b[22m\u001b[39m\u001b[36m\u001b[1mInfo: \u001b[22m\u001b[39mSlicing lat[(1:130,)]\n",
      "\u001b[36m\u001b[1m[ \u001b[22m\u001b[39m\u001b[36m\u001b[1mInfo: \u001b[22m\u001b[39mSlicing depth[(Colon(),)]\n",
      "\u001b[36m\u001b[1m[ \u001b[22m\u001b[39m\u001b[36m\u001b[1mInfo: \u001b[22m\u001b[39mSlicing time[(Colon(),)]\n",
      "\u001b[36m\u001b[1m[ \u001b[22m\u001b[39m\u001b[36m\u001b[1mInfo: \u001b[22m\u001b[39mSlicing climatology_bounds[(Colon(), Colon())]\n",
      "\u001b[36m\u001b[1m[ \u001b[22m\u001b[39m\u001b[36m\u001b[1mInfo: \u001b[22m\u001b[39mSlicing Water body dissolved oxygen concentration[(1:216, 1:130, Colon(), Colon())]\n",
      "\u001b[36m\u001b[1m[ \u001b[22m\u001b[39m\u001b[36m\u001b[1mInfo: \u001b[22m\u001b[39mSlicing Water body dissolved oxygen concentration_L1[(1:216, 1:130, Colon(), Colon())]\n",
      "\u001b[36m\u001b[1m[ \u001b[22m\u001b[39m\u001b[36m\u001b[1mInfo: \u001b[22m\u001b[39mSlicing Water body dissolved oxygen concentration_L2[(1:216, 1:130, Colon(), Colon())]\n",
      "\u001b[36m\u001b[1m[ \u001b[22m\u001b[39m\u001b[36m\u001b[1mInfo: \u001b[22m\u001b[39mSlicing Water body dissolved oxygen concentration_relerr[(1:216, 1:130, Colon(), Colon())]\n",
      "\u001b[36m\u001b[1m[ \u001b[22m\u001b[39m\u001b[36m\u001b[1mInfo: \u001b[22m\u001b[39mSlicing obslon[(Colon(),)]\n",
      "\u001b[36m\u001b[1m[ \u001b[22m\u001b[39m\u001b[36m\u001b[1mInfo: \u001b[22m\u001b[39mSlicing obslat[(Colon(),)]\n",
      "\u001b[36m\u001b[1m[ \u001b[22m\u001b[39m\u001b[36m\u001b[1mInfo: \u001b[22m\u001b[39mSlicing obstime[(Colon(),)]\n",
      "\u001b[36m\u001b[1m[ \u001b[22m\u001b[39m\u001b[36m\u001b[1mInfo: \u001b[22m\u001b[39mSlicing obsdepth[(Colon(),)]\n",
      "\u001b[36m\u001b[1m[ \u001b[22m\u001b[39m\u001b[36m\u001b[1mInfo: \u001b[22m\u001b[39mSlicing obsid[(Colon(), Colon())]\n",
      "\u001b[36m\u001b[1m[ \u001b[22m\u001b[39m\u001b[36m\u001b[1mInfo: \u001b[22m\u001b[39mSlicing Water body dissolved oxygen concentration_deepest[(1:216, 1:130, Colon())]\n",
      "\u001b[36m\u001b[1m[ \u001b[22m\u001b[39m\u001b[36m\u001b[1mInfo: \u001b[22m\u001b[39mSlicing Water body dissolved oxygen concentration_deepest_L1[(1:216, 1:130, Colon())]\n",
      "\u001b[36m\u001b[1m[ \u001b[22m\u001b[39m\u001b[36m\u001b[1mInfo: \u001b[22m\u001b[39mSlicing Water body dissolved oxygen concentration_deepest_L2[(1:216, 1:130, Colon())]\n",
      "\u001b[36m\u001b[1m[ \u001b[22m\u001b[39m\u001b[36m\u001b[1mInfo: \u001b[22m\u001b[39mSlicing Water body dissolved oxygen concentration_deepest_depth[(1:216, 1:130)]\n"
     ]
    }
   ],
   "source": [
    "for i in 1:length(monthlist)\n",
    "    \n",
    "    @info(\"starting DIVAnd computations for $(seasons[i])\")\n",
    "    @info(Dates.now())\n",
    "    \n",
    "    function plotres(timeindex,sel,fit,erri)\n",
    "        @show timeindex\n",
    "        tmp = copy(fit)\n",
    "        tmp[erri .> .5] .= NaN;\n",
    "        figure(figsize = (10,8))\n",
    "        subplot(2,1,1)\n",
    "        title(\"$(yearlist[timeindex]),$(seasons[i]) - surface\")\n",
    "\n",
    "        # select the data near the surface\n",
    "        selsurface = sel .& (obsdepth .< 5)\n",
    "        #vmin = vmin_ #minimum(obsval[selsurface])\n",
    "        #vmax = vmax #maximum(obsval[selsurface])\n",
    "\n",
    "        # plot the data\n",
    "        \n",
    "        xlim(minimum(lonr),maximum(lonr))\n",
    "        ylim(minimum(latr),maximum(latr))\n",
    "        contourf(bx,by,permutedims(b,[2,1]), levels = [-1e5,0],colors = [[.5,.5,.5]])\n",
    "        gca().set_aspect(aspect_ratio)\n",
    "        scatter(obslon[selsurface],obslat[selsurface],10,obsval[selsurface];\n",
    "                vmin = vmin_, vmax = vmax_, cmap=\"jet\")  #\"PuBuGn\",\"viridis\"\n",
    "        colorbar(extend=\"max\")\n",
    "\n",
    "        # plot the analysis\n",
    "        subplot(2,1,2)\n",
    "        #title(\"L=$(L)[m], lenx=$(lx)[m], leny=$(ly)[m]\")\n",
    "        pcolor(lonr,latr,permutedims(tmp[:,:,1],[2,1]);\n",
    "               vmin = vmin_, vmax = vmax_, cmap=\"jet\")\n",
    "        colorbar(extend=\"max\")\n",
    "        contourf(bx,by,permutedims(b,[2,1]), levels = [-1e5,0],colors = [[.5,.5,.5]])\n",
    "        gca().set_aspect(aspect_ratio)\n",
    "\n",
    "        # save the figure\n",
    "        figname = savevar * @sprintf(\"_surface_\") *  seasons[i] * @sprintf(\"_%03d.png\",timeindex)\n",
    "        PyPlot.savefig(joinpath(figdir, figname), dpi=300, bbox_inches=\"tight\");\n",
    "        PyPlot.close_figs()    \n",
    "    end\n",
    "    \n",
    "    \n",
    "    # Time selection for the analyse\n",
    "    TS = DIVAnd.TimeSelectorYearListMonthList(yearlist,monthlist[i:i])\n",
    "    \n",
    "    # File name based on the variable (but all spaces are replaced by _)  \n",
    "    filename = joinpath(outputdir, \"$(replace(varname,' '=>'_'))_$(seasons[i])_0.4Danl.nc\")\n",
    "                \n",
    "    if isfile(filename)\n",
    "       rm(filename) # delete the previous analysis\n",
    "    end\n",
    "    \n",
    "    @info(\"Will write results in $filename\")\n",
    "    \n",
    "    # create attributes for the netcdf file (need an internet connexion)\n",
    "    ncglobalattrib,ncvarattrib = SDNMetadata(metadata[i],filename,varname,lonr,latr)\n",
    "        \n",
    "    \n",
    "    @time dbinfo = diva3d((lonr,latr,depthr,TS),\n",
    "              (obslon,obslat,obsdepth,obstime_shifted),\n",
    "              obsval,\n",
    "              (lenx,leny,lenz),\n",
    "              epsilon2,\n",
    "              filename,varname,\n",
    "              bathname = bathname,\n",
    "              bathisglobal = bathisglobal,\n",
    "              plotres = plotres,\n",
    "              ncvarattrib = ncvarattrib,\n",
    "              ncglobalattrib = ncglobalattrib,\n",
    "              timeorigin = timeorigin,\n",
    "              transform = Anam.loglin(epsilon),   \n",
    "              mask = new_mask,\n",
    "              background = background,\n",
    "              solver = solver,\n",
    "              niter_e = 1,\n",
    "              error_thresholds = error_thresholds,\n",
    "              surfextend = true,\n",
    "              alphabc = 0,\n",
    "              MEMTOFIT = 120\n",
    "       );\n",
    "    \n",
    "    # Save the observation metadata in the NetCDF file\n",
    "    DIVAnd.saveobs(filename,(obslon,obslat,obsdepth,obstime),obsid,used = dbinfo[:used])\n",
    "    \n",
    "    ## Deepest value\n",
    "    deep_filename = joinpath(outputdir, \"$(replace(varname,' '=>'_'))_$(seasons[i])_deep.4Danl.nc\")\n",
    "    DIVAnd.derived(filename,varname,deep_filename,error_thresholds = error_thresholds)\n",
    "     \n",
    "    ## cut net cdf\n",
    "    cut_filename = joinpath(outputdir, \"$(replace(varname,' '=>'_'))_$(seasons[i]).4Danl.nc\")\n",
    "    DIVAnd.cut(deep_filename,varname,cut_filename,polygon_lon,polygon_lat)\n",
    "       \n",
    "    #residual = dbinfo[:residuals]\n",
    "    #res = get(dbinfo, :residuals, 0)\n",
    "    #@show extrema(res);\n",
    "    #dataresiduals=divand_residualobs(s,fi)\n",
    "        \n",
    "end\n"
   ]
  },
  {
   "cell_type": "raw",
   "metadata": {},
   "source": [
    "cdilist = \"./CDI-list-export.zip\"\n",
    "if !isfile(cdilist)\n",
    "    download(\"http://emodnet-chemistry.maris2.nl/download/export.zip\", cdilist)\n",
    "end"
   ]
  },
  {
   "cell_type": "raw",
   "metadata": {},
   "source": [
    "# Produce XML file for Sextant\n",
    "files = [\n",
    "         joinpath(outputdir, \"$(replace(varname,' '=>'_'))_$(seasons[1]).4Danl.nc\"),\n",
    "         joinpath(outputdir, \"$(replace(varname,' '=>'_'))_$(seasons[2]).4Danl.nc\"),\n",
    "         joinpath(outputdir, \"$(replace(varname,' '=>'_'))_$(seasons[3]).4Danl.nc\"),\n",
    "         joinpath(outputdir, \"$(replace(varname,' '=>'_'))_$(seasons[4]).4Danl.nc\")\n",
    "         ];\n",
    "\n",
    "# Infomation needed for generating XML files \n",
    "project = \"EMODNET-chemistry\";\n",
    "\n",
    "xmlfilename = joinpath(outputdir, \"$(replace(varname,' '=>'_')).4Danl.xml\")\n",
    "DIVAnd.divadoxml(files,varname,project,cdilist,xmlfilename,\n",
    "    ignore_errors = true,\n",
    "    #additionalvars = Dict(\"abstract\" => \"Here goes the abstract\"),\n",
    "    WMSlayername = [\"winter\",\"spring\",\"summer\",\"autumn\"]\n",
    ")"
   ]
  },
  {
   "cell_type": "code",
   "execution_count": 37,
   "metadata": {},
   "outputs": [
    {
     "name": "stdout",
     "output_type": "stream",
     "text": [
      "file = \"./resultat/output/6y_back6y_3_xy/O2/Water_body_dissolved_oxygen_concentration_Winter.4Danl.nc\"\n"
     ]
    },
    {
     "data": {
      "image/png": "[encoded data removed]",
      "text/plain": [
       "Figure(PyObject <Figure size 640x480 with 1 Axes>)"
      ]
     },
     "metadata": {},
     "output_type": "display_data"
    },
    {
     "data": {
      "text/plain": [
       "\"./resultat/output/6y_back6y_3_xy/O2/Water_body_dissolved_oxygen_concentration_Winter.4Danl.nc\""
      ]
     },
     "execution_count": 37,
     "metadata": {},
     "output_type": "execute_result"
    }
   ],
   "source": [
    "s = 1\n",
    "file = joinpath(outputdir, \"$(replace(varname,' '=>'_'))_$(seasons[s]).4Danl.nc\")\n",
    "ds = Dataset(file)\n",
    "ds_name =  (\"$(varname)_L2\") \n",
    "#ds_name = varname\n",
    "#sel = NCDatasets.@select(ds[ds_name], lon == 20.2 && lat == 57.)\n",
    "#sel = NCDatasets.@select(ds[ds_name], lon == 19.5 && lat == 57.)\n",
    "sel = NCDatasets.@select(ds[ds_name], lon == 20. && lat == 57.3)\n",
    "#sel = NCDatasets.@select(ds[ds_name], lon == 20. && lat == 61.3)\n",
    "for k=1:length(yearlist)\n",
    "    toplo = nomissing(sel[:,:,:,k],NaN)\n",
    "    toplot = vec(toplo)\n",
    "    plot(toplot,-depthr,label=string(yearlist[k]))\n",
    "end\n",
    "ylim(-175,5)\n",
    "legend();\n",
    "grid(\"on\")\n",
    "#title(\"$(yearlist[k][1]):$(yearlist[k][end])\")\n",
    "title(\"$(savevar) $(seasons[s])\")\n",
    "close(ds)\n",
    "@show file"
   ]
  },
  {
   "cell_type": "code",
   "execution_count": 38,
   "metadata": {},
   "outputs": [
    {
     "name": "stdout",
     "output_type": "stream",
     "text": [
      "\u001b[32m\u001b[1mStatus\u001b[22m\u001b[39m `C:\\Users\\a001819\\.julia\\environments\\v1.8\\Project.toml`\n",
      " \u001b[90m [efc8151c] \u001b[39mDIVAnd v2.7.9\n",
      " \u001b[90m [864edb3b] \u001b[39mDataStructures v0.18.13\n",
      " \u001b[90m [7073ff75] \u001b[39mIJulia v1.24.0\n",
      " \u001b[90m [e1d29d7a] \u001b[39mMissings v1.1.0\n",
      "\u001b[32m⌃\u001b[39m\u001b[90m [85f8d34a] \u001b[39mNCDatasets v0.12.11\n",
      " \u001b[90m [d330b81b] \u001b[39mPyPlot v2.11.0\n",
      " \u001b[90m [44cfe95a] \u001b[39mPkg v1.8.0\n",
      "\u001b[36m\u001b[1mInfo\u001b[22m\u001b[39m Packages marked with \u001b[32m⌃\u001b[39m have new versions available and may be upgradable.\n"
     ]
    }
   ],
   "source": [
    "using Pkg\n",
    "Pkg.status()"
   ]
  },
  {
   "cell_type": "code",
   "execution_count": null,
   "metadata": {},
   "outputs": [],
   "source": []
  }
 ],
 "metadata": {
  "kernelspec": {
   "display_name": "Julia 1.8.4",
   "language": "julia",
   "name": "julia-1.8"
  },
  "language_info": {
   "file_extension": ".jl",
   "mimetype": "application/julia",
   "name": "julia",
   "version": "1.8.4"
  }
 },
 "nbformat": 4,
 "nbformat_minor": 2
}
